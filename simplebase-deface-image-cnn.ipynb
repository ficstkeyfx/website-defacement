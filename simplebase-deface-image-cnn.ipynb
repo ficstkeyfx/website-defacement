{
 "cells": [
  {
   "cell_type": "code",
   "execution_count": 1,
   "id": "1b5638dc",
   "metadata": {
    "_cell_guid": "b1076dfc-b9ad-4769-8c92-a6c4dae69d19",
    "_uuid": "8f2839f25d086af736a60e9eeb907d3b93b6e0e5",
    "execution": {
     "iopub.execute_input": "2023-02-09T06:23:51.887925Z",
     "iopub.status.busy": "2023-02-09T06:23:51.886030Z",
     "iopub.status.idle": "2023-02-09T06:23:59.119090Z",
     "shell.execute_reply": "2023-02-09T06:23:59.118225Z",
     "shell.execute_reply.started": "2023-02-08T15:38:03.857354Z"
    },
    "papermill": {
     "duration": 7.248161,
     "end_time": "2023-02-09T06:23:59.119300",
     "exception": false,
     "start_time": "2023-02-09T06:23:51.871139",
     "status": "completed"
    },
    "tags": []
   },
   "outputs": [
    {
     "name": "stderr",
     "output_type": "stream",
     "text": [
      "2023-02-09 06:23:52.679682: W tensorflow/stream_executor/platform/default/dso_loader.cc:60] Could not load dynamic library 'libcudart.so.11.0'; dlerror: libcudart.so.11.0: cannot open shared object file: No such file or directory; LD_LIBRARY_PATH: /opt/conda/lib\n",
      "2023-02-09 06:23:52.679808: I tensorflow/stream_executor/cuda/cudart_stub.cc:29] Ignore above cudart dlerror if you do not have a GPU set up on your machine.\n"
     ]
    }
   ],
   "source": [
    "import numpy as np\n",
    "import pandas as pd\n",
    "import tensorflow as tf\n",
    "from matplotlib import pyplot as plt\n",
    "from kaggle_datasets import KaggleDatasets\n",
    "from kaggle_secrets import UserSecretsClient\n",
    "from glob import glob\n",
    "from tqdm.notebook import tqdm\n",
    "from multiprocessing import cpu_count\n",
    "from joblib import Parallel, delayed\n",
    "from tensorflow.keras.models import Sequential\n",
    "from tensorflow.keras import layers as L\n",
    "from tensorflow.keras.utils import to_categorical\n",
    "from tensorflow.keras.callbacks import LearningRateScheduler, ModelCheckpoint\n",
    "from sklearn.model_selection import train_test_split\n",
    "from sklearn import metrics\n",
    "\n",
    "%matplotlib inline"
   ]
  },
  {
   "cell_type": "code",
   "execution_count": 2,
   "id": "e8ea2031",
   "metadata": {
    "execution": {
     "iopub.execute_input": "2023-02-09T06:23:59.164886Z",
     "iopub.status.busy": "2023-02-09T06:23:59.164037Z",
     "iopub.status.idle": "2023-02-09T06:24:05.852317Z",
     "shell.execute_reply": "2023-02-09T06:24:05.851509Z",
     "shell.execute_reply.started": "2023-02-08T15:38:14.336132Z"
    },
    "papermill": {
     "duration": 6.723839,
     "end_time": "2023-02-09T06:24:05.852482",
     "exception": false,
     "start_time": "2023-02-09T06:23:59.128643",
     "status": "completed"
    },
    "tags": []
   },
   "outputs": [
    {
     "name": "stdout",
     "output_type": "stream",
     "text": [
      "Running on TPU: grpc://10.0.0.2:8470\n"
     ]
    },
    {
     "name": "stderr",
     "output_type": "stream",
     "text": [
      "2023-02-09 06:23:59.148118: I tensorflow/compiler/jit/xla_cpu_device.cc:41] Not creating XLA devices, tf_xla_enable_xla_devices not set\n",
      "2023-02-09 06:23:59.151044: W tensorflow/stream_executor/platform/default/dso_loader.cc:60] Could not load dynamic library 'libcuda.so.1'; dlerror: libcuda.so.1: cannot open shared object file: No such file or directory; LD_LIBRARY_PATH: /opt/conda/lib\n",
      "2023-02-09 06:23:59.151086: W tensorflow/stream_executor/cuda/cuda_driver.cc:326] failed call to cuInit: UNKNOWN ERROR (303)\n",
      "2023-02-09 06:23:59.151113: I tensorflow/stream_executor/cuda/cuda_diagnostics.cc:156] kernel driver does not appear to be running on this host (de71cc4d36fa): /proc/driver/nvidia/version does not exist\n",
      "2023-02-09 06:23:59.155489: I tensorflow/core/platform/cpu_feature_guard.cc:142] This TensorFlow binary is optimized with oneAPI Deep Neural Network Library (oneDNN) to use the following CPU instructions in performance-critical operations:  AVX2 FMA\n",
      "To enable them in other operations, rebuild TensorFlow with the appropriate compiler flags.\n",
      "2023-02-09 06:23:59.157578: I tensorflow/compiler/jit/xla_gpu_device.cc:99] Not creating XLA devices, tf_xla_enable_xla_devices not set\n",
      "2023-02-09 06:23:59.164832: I tensorflow/compiler/jit/xla_gpu_device.cc:99] Not creating XLA devices, tf_xla_enable_xla_devices not set\n",
      "2023-02-09 06:23:59.195467: I tensorflow/core/distributed_runtime/rpc/grpc_channel.cc:301] Initialize GrpcChannelCache for job worker -> {0 -> 10.0.0.2:8470}\n",
      "2023-02-09 06:23:59.195529: I tensorflow/core/distributed_runtime/rpc/grpc_channel.cc:301] Initialize GrpcChannelCache for job localhost -> {0 -> localhost:30019}\n",
      "2023-02-09 06:23:59.221166: I tensorflow/core/distributed_runtime/rpc/grpc_channel.cc:301] Initialize GrpcChannelCache for job worker -> {0 -> 10.0.0.2:8470}\n",
      "2023-02-09 06:23:59.221221: I tensorflow/core/distributed_runtime/rpc/grpc_channel.cc:301] Initialize GrpcChannelCache for job localhost -> {0 -> localhost:30019}\n",
      "2023-02-09 06:23:59.222954: I tensorflow/core/distributed_runtime/rpc/grpc_server_lib.cc:411] Started server with target: grpc://localhost:30019\n"
     ]
    },
    {
     "name": "stdout",
     "output_type": "stream",
     "text": [
      "N_JOBS: 4\n",
      "Batch size: 64\n",
      "GCS_DS_PATH: gs://kds-49faf06699ed9969fab2373b31133488200b2d328b3f3c02b2338c33\n"
     ]
    }
   ],
   "source": [
    "try:\n",
    "    tpu = tf.distribute.cluster_resolver.TPUClusterResolver()\n",
    "    print('Running on TPU:', tpu.master())\n",
    "except ValueError:\n",
    "    tpu = None\n",
    "\n",
    "if tpu:\n",
    "    tf.config.experimental_connect_to_cluster(tpu)\n",
    "    tf.tpu.experimental.initialize_tpu_system(tpu)\n",
    "    strategy = tf.distribute.experimental.TPUStrategy(tpu)\n",
    "else:\n",
    "    strategy = tf.distribute.get_strategy()\n",
    "\n",
    "user_secrets = UserSecretsClient()\n",
    "user_credential = user_secrets.get_gcloud_credential()\n",
    "user_secrets.set_tensorflow_credential(user_credential)\n",
    "GCS_DS_PATH = KaggleDatasets().get_gcs_path('website-defacement')\n",
    "\n",
    "AUTO = tf.data.experimental.AUTOTUNE\n",
    "BATCH_SIZE = 8 * strategy.num_replicas_in_sync\n",
    "N_JOBS = cpu_count()\n",
    "\n",
    "IMG_SIZE = 224\n",
    "EPOCHS = 50\n",
    "\n",
    "print('N_JOBS:', N_JOBS)\n",
    "print('Batch size:', BATCH_SIZE)\n",
    "print('GCS_DS_PATH:', GCS_DS_PATH)"
   ]
  },
  {
   "cell_type": "code",
   "execution_count": 3,
   "id": "413fb14d",
   "metadata": {
    "execution": {
     "iopub.execute_input": "2023-02-09T06:24:05.882202Z",
     "iopub.status.busy": "2023-02-09T06:24:05.881448Z",
     "iopub.status.idle": "2023-02-09T06:25:09.131811Z",
     "shell.execute_reply": "2023-02-09T06:25:09.131250Z",
     "shell.execute_reply.started": "2023-02-08T15:38:38.115336Z"
    },
    "papermill": {
     "duration": 63.2696,
     "end_time": "2023-02-09T06:25:09.132032",
     "exception": false,
     "start_time": "2023-02-09T06:24:05.862432",
     "status": "completed"
    },
    "tags": []
   },
   "outputs": [
    {
     "data": {
      "application/vnd.jupyter.widget-view+json": {
       "model_id": "c8e78bcad2fb4b31925c0f80bb6929f0",
       "version_major": 2,
       "version_minor": 0
      },
      "text/plain": [
       "  0%|          | 0/96234 [00:00<?, ?it/s]"
      ]
     },
     "metadata": {},
     "output_type": "display_data"
    },
    {
     "name": "stdout",
     "output_type": "stream",
     "text": [
      "57740 19247 19247\n"
     ]
    }
   ],
   "source": [
    "dataset_path = '../input/website-defacement/'\n",
    "img_paths = glob(dataset_path + 'image/*/*')\n",
    "txt_paths = glob(dataset_path + 'text/*/*')\n",
    "img_names = [path.split('/')[-1][:-4] for path in img_paths]\n",
    "txt_names = [path.split('/')[-1][:-4] for path in txt_paths]\n",
    "names = list(set(img_names).intersection(txt_names))\n",
    "\n",
    "def prepare_data(name):\n",
    "    if glob(dataset_path + f'image/defaced/{name}.png'):\n",
    "        return (f'{GCS_DS_PATH}/image/defaced/{name}.png', 1)\n",
    "    else:\n",
    "        return (f'{GCS_DS_PATH}/image/benign/{name}.png', 0)\n",
    "\n",
    "output = Parallel(n_jobs=N_JOBS)(delayed(prepare_data)(name) for name in tqdm(names))\n",
    "X, y = zip(*output)\n",
    "\n",
    "X_train, X_test, y_train, y_test = train_test_split(X, y, test_size=0.2, random_state=42)\n",
    "y_train = to_categorical(y_train, num_classes=2)\n",
    "X_train, X_valid, y_train, y_valid = train_test_split(X_train, y_train, test_size=0.25, \n",
    "                                                      random_state=42)\n",
    "\n",
    "print(len(X_train), len(X_valid), len(X_test))"
   ]
  },
  {
   "cell_type": "code",
   "execution_count": 4,
   "id": "5dda0eae",
   "metadata": {
    "execution": {
     "iopub.execute_input": "2023-02-09T06:25:09.159526Z",
     "iopub.status.busy": "2023-02-09T06:25:09.158436Z",
     "iopub.status.idle": "2023-02-09T06:25:09.764830Z",
     "shell.execute_reply": "2023-02-09T06:25:09.765707Z",
     "shell.execute_reply.started": "2023-02-08T15:39:48.041966Z"
    },
    "papermill": {
     "duration": 0.622731,
     "end_time": "2023-02-09T06:25:09.765919",
     "exception": false,
     "start_time": "2023-02-09T06:25:09.143188",
     "status": "completed"
    },
    "tags": []
   },
   "outputs": [],
   "source": [
    "def decode_image(filename, label=None):\n",
    "    bits = tf.io.read_file(filename)\n",
    "    image = tf.image.decode_png(bits, channels=3)\n",
    "    image = tf.cast(image, tf.float32) / 255.0\n",
    "    image = tf.image.resize(image, (IMG_SIZE, IMG_SIZE))\n",
    "#     image = tf.reshape(image, (IMG_SIZE, IMG_SIZE))\n",
    "    \n",
    "    if label is None:\n",
    "        return image\n",
    "    else:\n",
    "        return image, label\n",
    "\n",
    "train_dataset = (\n",
    "    tf.data.TFRecordDataset\n",
    "    .from_tensor_slices((X_train, y_train))\n",
    "    .shuffle(100000)\n",
    "    .map(decode_image, num_parallel_calls=AUTO)\n",
    "    .cache()\n",
    "    .repeat()\n",
    "    .batch(BATCH_SIZE)\n",
    "    .prefetch(AUTO)\n",
    ")\n",
    "\n",
    "test_dataset = (\n",
    "    tf.data.TFRecordDataset\n",
    "    .from_tensor_slices(X_test)\n",
    "    .map(decode_image, num_parallel_calls=AUTO)\n",
    "    .batch(BATCH_SIZE)\n",
    ")\n",
    "\n",
    "valid_dataset = (\n",
    "    tf.data.TFRecordDataset\n",
    "    .from_tensor_slices((X_valid, y_valid))\n",
    "    .map(decode_image, num_parallel_calls=AUTO)\n",
    "    .cache()\n",
    "    .batch(BATCH_SIZE)\n",
    "    .prefetch(AUTO)\n",
    ")"
   ]
  },
  {
   "cell_type": "code",
   "execution_count": 5,
   "id": "e9fbf2aa",
   "metadata": {
    "execution": {
     "iopub.execute_input": "2023-02-09T06:25:09.792159Z",
     "iopub.status.busy": "2023-02-09T06:25:09.791137Z",
     "iopub.status.idle": "2023-02-09T06:25:10.056724Z",
     "shell.execute_reply": "2023-02-09T06:25:10.056106Z",
     "shell.execute_reply.started": "2023-02-08T15:38:52.405770Z"
    },
    "papermill": {
     "duration": 0.279939,
     "end_time": "2023-02-09T06:25:10.056914",
     "exception": false,
     "start_time": "2023-02-09T06:25:09.776975",
     "status": "completed"
    },
    "tags": []
   },
   "outputs": [
    {
     "data": {
      "text/plain": [
       "[<matplotlib.lines.Line2D at 0x7f51063548d0>]"
      ]
     },
     "execution_count": 5,
     "metadata": {},
     "output_type": "execute_result"
    },
    {
     "data": {
      "image/png": "[encoded data removed]",
      "text/plain": [
       "<Figure size 432x288 with 1 Axes>"
      ]
     },
     "metadata": {
      "needs_background": "light"
     },
     "output_type": "display_data"
    }
   ],
   "source": [
    "def lrfn(epoch=EPOCHS,\n",
    "         lr_start=1e-4,\n",
    "         lr_max=5e-5 * 8, \n",
    "         lr_min=1e-4,\n",
    "         lr_rampup_epochs=5,\n",
    "         lr_sustain_epochs=5,\n",
    "         lr_exp_decay=0.8):\n",
    "    if epoch < lr_rampup_epochs:\n",
    "        lr = (lr_max-lr_start)/lr_rampup_epochs*epoch + lr_start\n",
    "    elif epoch < lr_rampup_epochs + lr_sustain_epochs:\n",
    "        lr = lr_max\n",
    "    else:\n",
    "        lr = (lr_max-lr_min)*lr_exp_decay**(epoch-lr_rampup_epochs-lr_sustain_epochs) + lr_min\n",
    "    return lr\n",
    "\n",
    "def plot_hist(hist):\n",
    "    plt.plot(hist.history[\"accuracy\"])\n",
    "    plt.plot(hist.history[\"val_accuracy\"])\n",
    "    plt.title(\"model accuracy\")\n",
    "    plt.ylabel(\"accuracy\")\n",
    "    plt.xlabel(\"epoch\")\n",
    "    plt.legend([\"train\", \"validation\"], loc=\"upper left\")\n",
    "    plt.show()\n",
    "\n",
    "y = [lrfn(x) for x in range(EPOCHS)]\n",
    "plt.plot(y)"
   ]
  },
  {
   "cell_type": "code",
   "execution_count": 6,
   "id": "224f3b9b",
   "metadata": {
    "execution": {
     "iopub.execute_input": "2023-02-09T06:25:10.090185Z",
     "iopub.status.busy": "2023-02-09T06:25:10.089385Z",
     "iopub.status.idle": "2023-02-09T06:25:10.727644Z",
     "shell.execute_reply": "2023-02-09T06:25:10.726954Z",
     "shell.execute_reply.started": "2023-02-08T15:46:20.594500Z"
    },
    "papermill": {
     "duration": 0.65922,
     "end_time": "2023-02-09T06:25:10.727806",
     "exception": false,
     "start_time": "2023-02-09T06:25:10.068586",
     "status": "completed"
    },
    "tags": []
   },
   "outputs": [
    {
     "name": "stdout",
     "output_type": "stream",
     "text": [
      "Model: \"sequential\"\n",
      "_________________________________________________________________\n",
      "Layer (type)                 Output Shape              Param #   \n",
      "=================================================================\n",
      "conv2d (Conv2D)              (None, 224, 224, 64)      1792      \n",
      "_________________________________________________________________\n",
      "max_pooling2d (MaxPooling2D) (None, 112, 112, 64)      0         \n",
      "_________________________________________________________________\n",
      "conv2d_1 (Conv2D)            (None, 112, 112, 64)      36928     \n",
      "_________________________________________________________________\n",
      "max_pooling2d_1 (MaxPooling2 (None, 56, 56, 64)        0         \n",
      "_________________________________________________________________\n",
      "conv2d_2 (Conv2D)            (None, 56, 56, 64)        36928     \n",
      "_________________________________________________________________\n",
      "max_pooling2d_2 (MaxPooling2 (None, 28, 28, 64)        0         \n",
      "_________________________________________________________________\n",
      "flatten (Flatten)            (None, 50176)             0         \n",
      "_________________________________________________________________\n",
      "dense (Dense)                (None, 16)                802832    \n",
      "_________________________________________________________________\n",
      "batch_normalization (BatchNo (None, 16)                64        \n",
      "_________________________________________________________________\n",
      "dense_1 (Dense)              (None, 2)                 34        \n",
      "=================================================================\n",
      "Total params: 878,578\n",
      "Trainable params: 878,546\n",
      "Non-trainable params: 32\n",
      "_________________________________________________________________\n",
      "None\n"
     ]
    }
   ],
   "source": [
    "with strategy.scope():\n",
    "    model = Sequential()\n",
    "    model.add(L.Conv2D(64,3,padding=\"same\", input_shape=(IMG_SIZE, IMG_SIZE, 3),activation=\"relu\"))\n",
    "    model.add(L.MaxPooling2D())\n",
    "    model.add(L.Conv2D(64,3,padding=\"same\",activation=\"relu\"))\n",
    "    model.add(L.MaxPooling2D())\n",
    "    model.add((L.Conv2D(64,3,padding=\"same\",activation=\"relu\")))\n",
    "    model.add(L.MaxPooling2D())\n",
    "    model.add(L.Flatten())\n",
    "    model.add(L.Dense(16, activation='softmax'))\n",
    "    model.add(L.BatchNormalization())\n",
    "    model.add(L.Dense(2, activation='softmax'))\n",
    "    model.compile(optimizer='adam', loss='categorical_crossentropy', metrics=['accuracy'])\n",
    "    \n",
    "print(model.summary())"
   ]
  },
  {
   "cell_type": "code",
   "execution_count": 7,
   "id": "e7fddb36",
   "metadata": {
    "execution": {
     "iopub.execute_input": "2023-02-09T06:25:10.760334Z",
     "iopub.status.busy": "2023-02-09T06:25:10.759403Z",
     "iopub.status.idle": "2023-02-09T07:24:27.444931Z",
     "shell.execute_reply": "2023-02-09T07:24:27.444325Z",
     "shell.execute_reply.started": "2023-02-08T15:37:15.733834Z"
    },
    "papermill": {
     "duration": 3556.70459,
     "end_time": "2023-02-09T07:24:27.445086",
     "exception": false,
     "start_time": "2023-02-09T06:25:10.740496",
     "status": "completed"
    },
    "tags": []
   },
   "outputs": [
    {
     "name": "stdout",
     "output_type": "stream",
     "text": [
      "Epoch 1/50\n",
      "902/902 - 2372s - loss: 0.5170 - accuracy: 0.7772 - val_loss: 0.5008 - val_accuracy: 0.7722\n",
      "Epoch 2/50\n",
      "902/902 - 24s - loss: 0.5129 - accuracy: 0.7805 - val_loss: 0.4914 - val_accuracy: 0.7766\n",
      "Epoch 3/50\n",
      "902/902 - 24s - loss: 0.4015 - accuracy: 0.8253 - val_loss: 0.2832 - val_accuracy: 0.8854\n",
      "Epoch 4/50\n",
      "902/902 - 24s - loss: 0.2956 - accuracy: 0.8825 - val_loss: 0.2882 - val_accuracy: 0.8770\n",
      "Epoch 5/50\n",
      "902/902 - 25s - loss: 0.2501 - accuracy: 0.9043 - val_loss: 0.2459 - val_accuracy: 0.9054\n",
      "Epoch 6/50\n",
      "902/902 - 24s - loss: 0.2162 - accuracy: 0.9191 - val_loss: 0.2470 - val_accuracy: 0.9081\n",
      "Epoch 7/50\n",
      "902/902 - 24s - loss: 0.1889 - accuracy: 0.9305 - val_loss: 0.2523 - val_accuracy: 0.9116\n",
      "Epoch 8/50\n",
      "902/902 - 24s - loss: 0.1637 - accuracy: 0.9403 - val_loss: 0.2571 - val_accuracy: 0.9163\n",
      "Epoch 9/50\n",
      "902/902 - 24s - loss: 0.1472 - accuracy: 0.9484 - val_loss: 0.2731 - val_accuracy: 0.9132\n",
      "Epoch 10/50\n",
      "902/902 - 24s - loss: 0.1303 - accuracy: 0.9542 - val_loss: 0.2983 - val_accuracy: 0.9144\n",
      "Epoch 11/50\n",
      "902/902 - 24s - loss: 0.1213 - accuracy: 0.9581 - val_loss: 0.3411 - val_accuracy: 0.8994\n",
      "Epoch 12/50\n",
      "902/902 - 24s - loss: 0.1061 - accuracy: 0.9634 - val_loss: 0.3292 - val_accuracy: 0.9133\n",
      "Epoch 13/50\n",
      "902/902 - 24s - loss: 0.0975 - accuracy: 0.9663 - val_loss: 0.3350 - val_accuracy: 0.9105\n",
      "Epoch 14/50\n",
      "902/902 - 25s - loss: 0.0862 - accuracy: 0.9714 - val_loss: 0.3284 - val_accuracy: 0.9164\n",
      "Epoch 15/50\n",
      "902/902 - 24s - loss: 0.0787 - accuracy: 0.9741 - val_loss: 0.3318 - val_accuracy: 0.9183\n",
      "Epoch 16/50\n",
      "902/902 - 25s - loss: 0.0717 - accuracy: 0.9769 - val_loss: 0.3534 - val_accuracy: 0.9166\n",
      "Epoch 17/50\n",
      "902/902 - 24s - loss: 0.0655 - accuracy: 0.9786 - val_loss: 0.3603 - val_accuracy: 0.9129\n",
      "Epoch 18/50\n",
      "902/902 - 24s - loss: 0.0602 - accuracy: 0.9813 - val_loss: 0.3697 - val_accuracy: 0.9176\n",
      "Epoch 19/50\n",
      "902/902 - 24s - loss: 0.0568 - accuracy: 0.9821 - val_loss: 0.3690 - val_accuracy: 0.9182\n",
      "Epoch 20/50\n",
      "902/902 - 24s - loss: 0.0524 - accuracy: 0.9841 - val_loss: 0.3884 - val_accuracy: 0.9168\n",
      "Epoch 21/50\n",
      "902/902 - 24s - loss: 0.0496 - accuracy: 0.9848 - val_loss: 0.3848 - val_accuracy: 0.9182\n",
      "Epoch 22/50\n",
      "902/902 - 24s - loss: 0.0461 - accuracy: 0.9861 - val_loss: 0.3993 - val_accuracy: 0.9156\n",
      "Epoch 23/50\n",
      "902/902 - 25s - loss: 0.0440 - accuracy: 0.9869 - val_loss: 0.4009 - val_accuracy: 0.9185\n",
      "Epoch 24/50\n",
      "902/902 - 24s - loss: 0.0416 - accuracy: 0.9882 - val_loss: 0.4170 - val_accuracy: 0.9151\n",
      "Epoch 25/50\n",
      "902/902 - 24s - loss: 0.0397 - accuracy: 0.9887 - val_loss: 0.4218 - val_accuracy: 0.9181\n",
      "Epoch 26/50\n",
      "902/902 - 24s - loss: 0.0374 - accuracy: 0.9891 - val_loss: 0.4300 - val_accuracy: 0.9170\n",
      "Epoch 27/50\n",
      "902/902 - 24s - loss: 0.0364 - accuracy: 0.9893 - val_loss: 0.4395 - val_accuracy: 0.9168\n",
      "Epoch 28/50\n",
      "902/902 - 24s - loss: 0.0343 - accuracy: 0.9902 - val_loss: 0.4442 - val_accuracy: 0.9172\n",
      "Epoch 29/50\n",
      "902/902 - 24s - loss: 0.0338 - accuracy: 0.9904 - val_loss: 0.4543 - val_accuracy: 0.9165\n",
      "Epoch 30/50\n",
      "902/902 - 24s - loss: 0.0317 - accuracy: 0.9911 - val_loss: 0.4695 - val_accuracy: 0.9170\n",
      "Epoch 31/50\n",
      "902/902 - 24s - loss: 0.0314 - accuracy: 0.9907 - val_loss: 0.4781 - val_accuracy: 0.9155\n",
      "Epoch 32/50\n",
      "902/902 - 24s - loss: 0.0296 - accuracy: 0.9918 - val_loss: 0.4811 - val_accuracy: 0.9159\n",
      "Epoch 33/50\n",
      "902/902 - 24s - loss: 0.0298 - accuracy: 0.9913 - val_loss: 0.4983 - val_accuracy: 0.9151\n",
      "Epoch 34/50\n",
      "902/902 - 24s - loss: 0.0281 - accuracy: 0.9922 - val_loss: 0.5084 - val_accuracy: 0.9145\n",
      "Epoch 35/50\n",
      "902/902 - 24s - loss: 0.0274 - accuracy: 0.9923 - val_loss: 0.5105 - val_accuracy: 0.9145\n",
      "Epoch 36/50\n",
      "902/902 - 24s - loss: 0.0263 - accuracy: 0.9927 - val_loss: 0.5194 - val_accuracy: 0.9147\n",
      "Epoch 37/50\n",
      "902/902 - 24s - loss: 0.0263 - accuracy: 0.9924 - val_loss: 0.5227 - val_accuracy: 0.9144\n",
      "Epoch 38/50\n",
      "902/902 - 24s - loss: 0.0252 - accuracy: 0.9929 - val_loss: 0.5394 - val_accuracy: 0.9159\n",
      "Epoch 39/50\n",
      "902/902 - 24s - loss: 0.0252 - accuracy: 0.9928 - val_loss: 0.5596 - val_accuracy: 0.9140\n",
      "Epoch 40/50\n",
      "902/902 - 24s - loss: 0.0244 - accuracy: 0.9933 - val_loss: 0.5576 - val_accuracy: 0.9147\n",
      "Epoch 41/50\n",
      "902/902 - 24s - loss: 0.0237 - accuracy: 0.9930 - val_loss: 0.5599 - val_accuracy: 0.9133\n",
      "Epoch 42/50\n",
      "902/902 - 24s - loss: 0.0230 - accuracy: 0.9935 - val_loss: 0.5522 - val_accuracy: 0.9159\n",
      "Epoch 43/50\n",
      "902/902 - 24s - loss: 0.0229 - accuracy: 0.9933 - val_loss: 0.5551 - val_accuracy: 0.9157\n",
      "Epoch 44/50\n",
      "902/902 - 24s - loss: 0.0222 - accuracy: 0.9938 - val_loss: 0.5658 - val_accuracy: 0.9156\n",
      "Epoch 45/50\n",
      "902/902 - 24s - loss: 0.0223 - accuracy: 0.9933 - val_loss: 0.5759 - val_accuracy: 0.9140\n",
      "Epoch 46/50\n",
      "902/902 - 24s - loss: 0.0214 - accuracy: 0.9942 - val_loss: 0.5745 - val_accuracy: 0.9184\n",
      "Epoch 47/50\n",
      "902/902 - 24s - loss: 0.0213 - accuracy: 0.9938 - val_loss: 0.5796 - val_accuracy: 0.9126\n",
      "Epoch 48/50\n",
      "902/902 - 24s - loss: 0.0207 - accuracy: 0.9944 - val_loss: 0.5741 - val_accuracy: 0.9157\n",
      "Epoch 49/50\n",
      "902/902 - 24s - loss: 0.0206 - accuracy: 0.9938 - val_loss: 0.5873 - val_accuracy: 0.9153\n",
      "Epoch 50/50\n",
      "902/902 - 24s - loss: 0.0203 - accuracy: 0.9943 - val_loss: 0.5868 - val_accuracy: 0.9174\n"
     ]
    }
   ],
   "source": [
    "lrs = LearningRateScheduler(lrfn)  \n",
    "mc = ModelCheckpoint('weights.h5', save_best_only=True, save_weights_only=True)\n",
    "steps_per_epoch = len(y_train) // BATCH_SIZE\n",
    "\n",
    "hist = model.fit(train_dataset, epochs=EPOCHS, steps_per_epoch=steps_per_epoch, callbacks=[lrs, mc], \n",
    "                 validation_data=valid_dataset, verbose=2)"
   ]
  },
  {
   "cell_type": "code",
   "execution_count": 8,
   "id": "09a87a97",
   "metadata": {
    "execution": {
     "iopub.execute_input": "2023-02-09T07:24:27.531123Z",
     "iopub.status.busy": "2023-02-09T07:24:27.530093Z",
     "iopub.status.idle": "2023-02-09T07:24:27.736194Z",
     "shell.execute_reply": "2023-02-09T07:24:27.735588Z",
     "shell.execute_reply.started": "2023-02-08T15:37:15.735029Z"
    },
    "papermill": {
     "duration": 0.249526,
     "end_time": "2023-02-09T07:24:27.736361",
     "exception": false,
     "start_time": "2023-02-09T07:24:27.486835",
     "status": "completed"
    },
    "tags": []
   },
   "outputs": [
    {
     "data": {
      "image/png": "[encoded data removed]",
      "text/plain": [
       "<Figure size 432x288 with 1 Axes>"
      ]
     },
     "metadata": {
      "needs_background": "light"
     },
     "output_type": "display_data"
    }
   ],
   "source": [
    "plot_hist(hist)"
   ]
  },
  {
   "cell_type": "code",
   "execution_count": 9,
   "id": "bee54916",
   "metadata": {
    "execution": {
     "iopub.execute_input": "2023-02-09T07:24:27.832238Z",
     "iopub.status.busy": "2023-02-09T07:24:27.827044Z",
     "iopub.status.idle": "2023-02-09T07:33:55.723471Z",
     "shell.execute_reply": "2023-02-09T07:33:55.724066Z",
     "shell.execute_reply.started": "2023-02-08T15:37:15.736407Z"
    },
    "papermill": {
     "duration": 567.946668,
     "end_time": "2023-02-09T07:33:55.724296",
     "exception": false,
     "start_time": "2023-02-09T07:24:27.777628",
     "status": "completed"
    },
    "tags": []
   },
   "outputs": [
    {
     "name": "stdout",
     "output_type": "stream",
     "text": [
      "              precision    recall  f1-score   support\n",
      "\n",
      "           0     0.9312    0.9029    0.9168     11440\n",
      "           1     0.8638    0.9023    0.8826      7807\n",
      "\n",
      "    accuracy                         0.9026     19247\n",
      "   macro avg     0.8975    0.9026    0.8997     19247\n",
      "weighted avg     0.9039    0.9026    0.9029     19247\n",
      "\n",
      "[[10329  1111]\n",
      " [  763  7044]]\n",
      "      TPR       FPR       FNR   ROC AUC\n",
      "   0.9023    0.0971    0.0977    0.9654\n"
     ]
    }
   ],
   "source": [
    "with strategy.scope():\n",
    "    model.load_weights('weights.h5')\n",
    "\n",
    "y_prob = model.predict(test_dataset)\n",
    "y_pred = np.argmax(y_prob, axis=1)\n",
    "\n",
    "clf_report = metrics.classification_report(y_test, y_pred, digits=4)\n",
    "cnf_matrix = metrics.confusion_matrix(y_test, y_pred)\n",
    "TN, FP, FN, TP = cnf_matrix.ravel()\n",
    "TPR = TP / (TP + FN)\n",
    "FPR = FP / (FP + TN)\n",
    "FNR = FN / (FN + TP)\n",
    "fpr, tpr, _ = metrics.roc_curve(y_test, y_prob[:, 1])\n",
    "auc = metrics.roc_auc_score(y_test, y_prob[:, 1])\n",
    "other_metrics = pd.DataFrame({'TPR': '%.4f' % TPR, \n",
    "                              'FPR': '%.4f' % FPR, \n",
    "                              'FNR': '%.4f' % FNR, \n",
    "                              'ROC AUC': '%.4f' % auc}, index=[0]).to_string(col_space=9, index=False)\n",
    "print(clf_report)\n",
    "print(cnf_matrix)\n",
    "print(other_metrics)"
   ]
  }
 ],
 "metadata": {
  "kernelspec": {
   "display_name": "Python 3",
   "language": "python",
   "name": "python3"
  },
  "language_info": {
   "codemirror_mode": {
    "name": "ipython",
    "version": 3
   },
   "file_extension": ".py",
   "mimetype": "text/x-python",
   "name": "python",
   "nbconvert_exporter": "python",
   "pygments_lexer": "ipython3",
   "version": "3.7.10"
  },
  "papermill": {
   "default_parameters": {},
   "duration": 4216.023811,
   "end_time": "2023-02-09T07:33:58.499349",
   "environment_variables": {},
   "exception": null,
   "input_path": "__notebook__.ipynb",
   "output_path": "__notebook__.ipynb",
   "parameters": {},
   "start_time": "2023-02-09T06:23:42.475538",
   "version": "2.3.3"
  },
  "widgets": {
   "application/vnd.jupyter.widget-state+json": {
    "state": {
     "0e58efe23b024b7893242678b1b8ce16": {
      "model_module": "@jupyter-widgets/base",
      "model_module_version": "1.2.0",
      "model_name": "LayoutModel",
      "state": {
       "_model_module": "@jupyter-widgets/base",
       "_model_module_version": "1.2.0",
       "_model_name": "LayoutModel",
       "_view_count": null,
       "_view_module": "@jupyter-widgets/base",
       "_view_module_version": "1.2.0",
       "_view_name": "LayoutView",
       "align_content": null,
       "align_items": null,
       "align_self": null,
       "border": null,
       "bottom": null,
       "display": null,
       "flex": null,
       "flex_flow": null,
       "grid_area": null,
       "grid_auto_columns": null,
       "grid_auto_flow": null,
       "grid_auto_rows": null,
       "grid_column": null,
       "grid_gap": null,
       "grid_row": null,
       "grid_template_areas": null,
       "grid_template_columns": null,
       "grid_template_rows": null,
       "height": null,
       "justify_content": null,
       "justify_items": null,
       "left": null,
       "margin": null,
       "max_height": null,
       "max_width": null,
       "min_height": null,
       "min_width": null,
       "object_fit": null,
       "object_position": null,
       "order": null,
       "overflow": null,
       "overflow_x": null,
       "overflow_y": null,
       "padding": null,
       "right": null,
       "top": null,
       "visibility": null,
       "width": null
      }
     },
     "182da978e17f458e8de98c662460c91c": {
      "model_module": "@jupyter-widgets/controls",
      "model_module_version": "1.5.0",
      "model_name": "DescriptionStyleModel",
      "state": {
       "_model_module": "@jupyter-widgets/controls",
       "_model_module_version": "1.5.0",
       "_model_name": "DescriptionStyleModel",
       "_view_count": null,
       "_view_module": "@jupyter-widgets/base",
       "_view_module_version": "1.2.0",
       "_view_name": "StyleView",
       "description_width": ""
      }
     },
     "29b72d0f2fa245d5b2796e0fa43b4d3b": {
      "model_module": "@jupyter-widgets/base",
      "model_module_version": "1.2.0",
      "model_name": "LayoutModel",
      "state": {
       "_model_module": "@jupyter-widgets/base",
       "_model_module_version": "1.2.0",
       "_model_name": "LayoutModel",
       "_view_count": null,
       "_view_module": "@jupyter-widgets/base",
       "_view_module_version": "1.2.0",
       "_view_name": "LayoutView",
       "align_content": null,
       "align_items": null,
       "align_self": null,
       "border": null,
       "bottom": null,
       "display": null,
       "flex": null,
       "flex_flow": null,
       "grid_area": null,
       "grid_auto_columns": null,
       "grid_auto_flow": null,
       "grid_auto_rows": null,
       "grid_column": null,
       "grid_gap": null,
       "grid_row": null,
       "grid_template_areas": null,
       "grid_template_columns": null,
       "grid_template_rows": null,
       "height": null,
       "justify_content": null,
       "justify_items": null,
       "left": null,
       "margin": null,
       "max_height": null,
       "max_width": null,
       "min_height": null,
       "min_width": null,
       "object_fit": null,
       "object_position": null,
       "order": null,
       "overflow": null,
       "overflow_x": null,
       "overflow_y": null,
       "padding": null,
       "right": null,
       "top": null,
       "visibility": null,
       "width": null
      }
     },
     "500f0ae02de043648682b4f1ac446466": {
      "model_module": "@jupyter-widgets/base",
      "model_module_version": "1.2.0",
      "model_name": "LayoutModel",
      "state": {
       "_model_module": "@jupyter-widgets/base",
       "_model_module_version": "1.2.0",
       "_model_name": "LayoutModel",
       "_view_count": null,
       "_view_module": "@jupyter-widgets/base",
       "_view_module_version": "1.2.0",
       "_view_name": "LayoutView",
       "align_content": null,
       "align_items": null,
       "align_self": null,
       "border": null,
       "bottom": null,
       "display": null,
       "flex": null,
       "flex_flow": null,
       "grid_area": null,
       "grid_auto_columns": null,
       "grid_auto_flow": null,
       "grid_auto_rows": null,
       "grid_column": null,
       "grid_gap": null,
       "grid_row": null,
       "grid_template_areas": null,
       "grid_template_columns": null,
       "grid_template_rows": null,
       "height": null,
       "justify_content": null,
       "justify_items": null,
       "left": null,
       "margin": null,
       "max_height": null,
       "max_width": null,
       "min_height": null,
       "min_width": null,
       "object_fit": null,
       "object_position": null,
       "order": null,
       "overflow": null,
       "overflow_x": null,
       "overflow_y": null,
       "padding": null,
       "right": null,
       "top": null,
       "visibility": null,
       "width": null
      }
     },
     "623eba8b433f43f2bf0625b10d14dad4": {
      "model_module": "@jupyter-widgets/base",
      "model_module_version": "1.2.0",
      "model_name": "LayoutModel",
      "state": {
       "_model_module": "@jupyter-widgets/base",
       "_model_module_version": "1.2.0",
       "_model_name": "LayoutModel",
       "_view_count": null,
       "_view_module": "@jupyter-widgets/base",
       "_view_module_version": "1.2.0",
       "_view_name": "LayoutView",
       "align_content": null,
       "align_items": null,
       "align_self": null,
       "border": null,
       "bottom": null,
       "display": null,
       "flex": null,
       "flex_flow": null,
       "grid_area": null,
       "grid_auto_columns": null,
       "grid_auto_flow": null,
       "grid_auto_rows": null,
       "grid_column": null,
       "grid_gap": null,
       "grid_row": null,
       "grid_template_areas": null,
       "grid_template_columns": null,
       "grid_template_rows": null,
       "height": null,
       "justify_content": null,
       "justify_items": null,
       "left": null,
       "margin": null,
       "max_height": null,
       "max_width": null,
       "min_height": null,
       "min_width": null,
       "object_fit": null,
       "object_position": null,
       "order": null,
       "overflow": null,
       "overflow_x": null,
       "overflow_y": null,
       "padding": null,
       "right": null,
       "top": null,
       "visibility": null,
       "width": null
      }
     },
     "6e3db0805e4843eeb547c31194ae8ddf": {
      "model_module": "@jupyter-widgets/controls",
      "model_module_version": "1.5.0",
      "model_name": "HTMLModel",
      "state": {
       "_dom_classes": [],
       "_model_module": "@jupyter-widgets/controls",
       "_model_module_version": "1.5.0",
       "_model_name": "HTMLModel",
       "_view_count": null,
       "_view_module": "@jupyter-widgets/controls",
       "_view_module_version": "1.5.0",
       "_view_name": "HTMLView",
       "description": "",
       "description_tooltip": null,
       "layout": "IPY_MODEL_0e58efe23b024b7893242678b1b8ce16",
       "placeholder": "​",
       "style": "IPY_MODEL_182da978e17f458e8de98c662460c91c",
       "value": " 96234/96234 [00:40&lt;00:00, 2317.63it/s]"
      }
     },
     "8ebf58a95815431188e2511ca829f7b2": {
      "model_module": "@jupyter-widgets/controls",
      "model_module_version": "1.5.0",
      "model_name": "FloatProgressModel",
      "state": {
       "_dom_classes": [],
       "_model_module": "@jupyter-widgets/controls",
       "_model_module_version": "1.5.0",
       "_model_name": "FloatProgressModel",
       "_view_count": null,
       "_view_module": "@jupyter-widgets/controls",
       "_view_module_version": "1.5.0",
       "_view_name": "ProgressView",
       "bar_style": "success",
       "description": "",
       "description_tooltip": null,
       "layout": "IPY_MODEL_623eba8b433f43f2bf0625b10d14dad4",
       "max": 96234.0,
       "min": 0.0,
       "orientation": "horizontal",
       "style": "IPY_MODEL_8eea31666a964d63b6a99c2db0bbd9b0",
       "value": 96234.0
      }
     },
     "8eea31666a964d63b6a99c2db0bbd9b0": {
      "model_module": "@jupyter-widgets/controls",
      "model_module_version": "1.5.0",
      "model_name": "ProgressStyleModel",
      "state": {
       "_model_module": "@jupyter-widgets/controls",
       "_model_module_version": "1.5.0",
       "_model_name": "ProgressStyleModel",
       "_view_count": null,
       "_view_module": "@jupyter-widgets/base",
       "_view_module_version": "1.2.0",
       "_view_name": "StyleView",
       "bar_color": null,
       "description_width": ""
      }
     },
     "a1ed602222ad4b8e9bd924ad2bc793ee": {
      "model_module": "@jupyter-widgets/controls",
      "model_module_version": "1.5.0",
      "model_name": "HTMLModel",
      "state": {
       "_dom_classes": [],
       "_model_module": "@jupyter-widgets/controls",
       "_model_module_version": "1.5.0",
       "_model_name": "HTMLModel",
       "_view_count": null,
       "_view_module": "@jupyter-widgets/controls",
       "_view_module_version": "1.5.0",
       "_view_name": "HTMLView",
       "description": "",
       "description_tooltip": null,
       "layout": "IPY_MODEL_29b72d0f2fa245d5b2796e0fa43b4d3b",
       "placeholder": "​",
       "style": "IPY_MODEL_bdef4ffa029b4768b221c37e3f970403",
       "value": "100%"
      }
     },
     "bdef4ffa029b4768b221c37e3f970403": {
      "model_module": "@jupyter-widgets/controls",
      "model_module_version": "1.5.0",
      "model_name": "DescriptionStyleModel",
      "state": {
       "_model_module": "@jupyter-widgets/controls",
       "_model_module_version": "1.5.0",
       "_model_name": "DescriptionStyleModel",
       "_view_count": null,
       "_view_module": "@jupyter-widgets/base",
       "_view_module_version": "1.2.0",
       "_view_name": "StyleView",
       "description_width": ""
      }
     },
     "c8e78bcad2fb4b31925c0f80bb6929f0": {
      "model_module": "@jupyter-widgets/controls",
      "model_module_version": "1.5.0",
      "model_name": "HBoxModel",
      "state": {
       "_dom_classes": [],
       "_model_module": "@jupyter-widgets/controls",
       "_model_module_version": "1.5.0",
       "_model_name": "HBoxModel",
       "_view_count": null,
       "_view_module": "@jupyter-widgets/controls",
       "_view_module_version": "1.5.0",
       "_view_name": "HBoxView",
       "box_style": "",
       "children": [
        "IPY_MODEL_a1ed602222ad4b8e9bd924ad2bc793ee",
        "IPY_MODEL_8ebf58a95815431188e2511ca829f7b2",
        "IPY_MODEL_6e3db0805e4843eeb547c31194ae8ddf"
       ],
       "layout": "IPY_MODEL_500f0ae02de043648682b4f1ac446466"
      }
     }
    },
    "version_major": 2,
    "version_minor": 0
   }
  }
 },
 "nbformat": 4,
 "nbformat_minor": 5
}

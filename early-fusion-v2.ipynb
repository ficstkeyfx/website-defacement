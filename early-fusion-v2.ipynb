{
 "cells": [
  {
   "cell_type": "code",
   "execution_count": 1,
   "id": "0f0d8770",
   "metadata": {
    "_cell_guid": "b1076dfc-b9ad-4769-8c92-a6c4dae69d19",
    "_uuid": "8f2839f25d086af736a60e9eeb907d3b93b6e0e5",
    "execution": {
     "iopub.execute_input": "2023-02-01T07:41:27.322614Z",
     "iopub.status.busy": "2023-02-01T07:41:27.321850Z",
     "iopub.status.idle": "2023-02-01T07:41:33.586573Z",
     "shell.execute_reply": "2023-02-01T07:41:33.585444Z"
    },
    "papermill": {
     "duration": 6.298084,
     "end_time": "2023-02-01T07:41:33.586759",
     "exception": false,
     "start_time": "2023-02-01T07:41:27.288675",
     "status": "completed"
    },
    "tags": []
   },
   "outputs": [
    {
     "name": "stderr",
     "output_type": "stream",
     "text": [
      "2023-02-01 07:41:27.989805: W tensorflow/stream_executor/platform/default/dso_loader.cc:60] Could not load dynamic library 'libcudart.so.11.0'; dlerror: libcudart.so.11.0: cannot open shared object file: No such file or directory; LD_LIBRARY_PATH: /opt/conda/lib\n",
      "2023-02-01 07:41:27.989987: I tensorflow/stream_executor/cuda/cudart_stub.cc:29] Ignore above cudart dlerror if you do not have a GPU set up on your machine.\n"
     ]
    }
   ],
   "source": [
    "import numpy as np\n",
    "import pandas as pd\n",
    "import tensorflow as tf\n",
    "from matplotlib import pyplot as plt\n",
    "from kaggle_datasets import KaggleDatasets\n",
    "from kaggle_secrets import UserSecretsClient\n",
    "from glob import glob\n",
    "from tqdm.notebook import tqdm\n",
    "from multiprocessing import cpu_count\n",
    "from joblib import Parallel, delayed\n",
    "from tensorflow.keras.models import Sequential, Model\n",
    "from tensorflow.keras import layers as L\n",
    "from tensorflow.keras.utils import to_categorical, plot_model\n",
    "from tensorflow.keras.callbacks import LearningRateScheduler, ModelCheckpoint\n",
    "from sklearn.feature_extraction.text import TfidfVectorizer\n",
    "from sklearn.model_selection import train_test_split\n",
    "from sklearn import metrics\n",
    "\n",
    "%matplotlib inline"
   ]
  },
  {
   "cell_type": "code",
   "execution_count": 2,
   "id": "ed2bc612",
   "metadata": {
    "execution": {
     "iopub.execute_input": "2023-02-01T07:41:33.622422Z",
     "iopub.status.busy": "2023-02-01T07:41:33.621670Z",
     "iopub.status.idle": "2023-02-01T07:41:39.856867Z",
     "shell.execute_reply": "2023-02-01T07:41:39.857474Z"
    },
    "papermill": {
     "duration": 6.25438,
     "end_time": "2023-02-01T07:41:39.857664",
     "exception": false,
     "start_time": "2023-02-01T07:41:33.603284",
     "status": "completed"
    },
    "tags": []
   },
   "outputs": [
    {
     "name": "stdout",
     "output_type": "stream",
     "text": [
      "Running on TPU: grpc://10.0.0.2:8470\n"
     ]
    },
    {
     "name": "stderr",
     "output_type": "stream",
     "text": [
      "2023-02-01 07:41:33.629787: I tensorflow/compiler/jit/xla_cpu_device.cc:41] Not creating XLA devices, tf_xla_enable_xla_devices not set\n",
      "2023-02-01 07:41:33.632145: W tensorflow/stream_executor/platform/default/dso_loader.cc:60] Could not load dynamic library 'libcuda.so.1'; dlerror: libcuda.so.1: cannot open shared object file: No such file or directory; LD_LIBRARY_PATH: /opt/conda/lib\n",
      "2023-02-01 07:41:33.632180: W tensorflow/stream_executor/cuda/cuda_driver.cc:326] failed call to cuInit: UNKNOWN ERROR (303)\n",
      "2023-02-01 07:41:33.632211: I tensorflow/stream_executor/cuda/cuda_diagnostics.cc:156] kernel driver does not appear to be running on this host (392be95fcf2f): /proc/driver/nvidia/version does not exist\n",
      "2023-02-01 07:41:33.635447: I tensorflow/core/platform/cpu_feature_guard.cc:142] This TensorFlow binary is optimized with oneAPI Deep Neural Network Library (oneDNN) to use the following CPU instructions in performance-critical operations:  AVX2 FMA\n",
      "To enable them in other operations, rebuild TensorFlow with the appropriate compiler flags.\n",
      "2023-02-01 07:41:33.637018: I tensorflow/compiler/jit/xla_gpu_device.cc:99] Not creating XLA devices, tf_xla_enable_xla_devices not set\n",
      "2023-02-01 07:41:33.665233: I tensorflow/core/distributed_runtime/rpc/grpc_channel.cc:301] Initialize GrpcChannelCache for job worker -> {0 -> 10.0.0.2:8470}\n",
      "2023-02-01 07:41:33.665313: I tensorflow/core/distributed_runtime/rpc/grpc_channel.cc:301] Initialize GrpcChannelCache for job localhost -> {0 -> localhost:30019}\n",
      "2023-02-01 07:41:33.689129: I tensorflow/core/distributed_runtime/rpc/grpc_channel.cc:301] Initialize GrpcChannelCache for job worker -> {0 -> 10.0.0.2:8470}\n",
      "2023-02-01 07:41:33.689199: I tensorflow/core/distributed_runtime/rpc/grpc_channel.cc:301] Initialize GrpcChannelCache for job localhost -> {0 -> localhost:30019}\n",
      "2023-02-01 07:41:33.690440: I tensorflow/core/distributed_runtime/rpc/grpc_server_lib.cc:411] Started server with target: grpc://localhost:30019\n"
     ]
    },
    {
     "name": "stdout",
     "output_type": "stream",
     "text": [
      "N_JOBS: 4\n",
      "Batch size: 64\n",
      "GCS_DS_PATH: gs://kds-0216339375dff4a7db6d61f7800f92202e600e6c4067e2d30681bc6c\n"
     ]
    }
   ],
   "source": [
    "try:\n",
    "    tpu = tf.distribute.cluster_resolver.TPUClusterResolver()\n",
    "    print('Running on TPU:', tpu.master())\n",
    "except ValueError:\n",
    "    tpu = None\n",
    "\n",
    "if tpu:\n",
    "    tf.config.experimental_connect_to_cluster(tpu)\n",
    "    tf.tpu.experimental.initialize_tpu_system(tpu)\n",
    "    strategy = tf.distribute.experimental.TPUStrategy(tpu)\n",
    "else:\n",
    "    strategy = tf.distribute.get_strategy()\n",
    "\n",
    "user_secrets = UserSecretsClient()\n",
    "user_credential = user_secrets.get_gcloud_credential()\n",
    "user_secrets.set_tensorflow_credential(user_credential)\n",
    "GCS_DS_PATH = KaggleDatasets().get_gcs_path('website-defacement')\n",
    "\n",
    "AUTO = tf.data.experimental.AUTOTUNE\n",
    "BATCH_SIZE = 8 * strategy.num_replicas_in_sync\n",
    "N_JOBS = cpu_count()\n",
    "\n",
    "IMG_SIZE = 224\n",
    "EPOCHS = 20\n",
    "\n",
    "print('N_JOBS:', N_JOBS)\n",
    "print('Batch size:', BATCH_SIZE)\n",
    "print('GCS_DS_PATH:', GCS_DS_PATH)"
   ]
  },
  {
   "cell_type": "code",
   "execution_count": 3,
   "id": "7831e96b",
   "metadata": {
    "execution": {
     "iopub.execute_input": "2023-02-01T07:41:39.908127Z",
     "iopub.status.busy": "2023-02-01T07:41:39.907363Z",
     "iopub.status.idle": "2023-02-01T07:41:44.385615Z",
     "shell.execute_reply": "2023-02-01T07:41:44.386286Z"
    },
    "papermill": {
     "duration": 4.509988,
     "end_time": "2023-02-01T07:41:44.386564",
     "exception": false,
     "start_time": "2023-02-01T07:41:39.876576",
     "status": "completed"
    },
    "tags": []
   },
   "outputs": [],
   "source": [
    "dataset_path = '../input/website-defacement/'\n",
    "img_paths = glob(dataset_path + 'image/*/*')\n",
    "txt_paths = glob(dataset_path + 'text/*/*')\n",
    "img_names = [path.split('/')[-1][:-4] for path in img_paths]\n",
    "txt_names = [path.split('/')[-1][:-4] for path in txt_paths]\n",
    "names = list(set(img_names).intersection(txt_names))"
   ]
  },
  {
   "cell_type": "code",
   "execution_count": 4,
   "id": "ee5398e5",
   "metadata": {
    "execution": {
     "iopub.execute_input": "2023-02-01T07:41:44.431616Z",
     "iopub.status.busy": "2023-02-01T07:41:44.430773Z",
     "iopub.status.idle": "2023-02-01T07:42:25.139421Z",
     "shell.execute_reply": "2023-02-01T07:42:25.138823Z"
    },
    "papermill": {
     "duration": 40.734535,
     "end_time": "2023-02-01T07:42:25.139602",
     "exception": false,
     "start_time": "2023-02-01T07:41:44.405067",
     "status": "completed"
    },
    "tags": []
   },
   "outputs": [
    {
     "data": {
      "application/vnd.jupyter.widget-view+json": {
       "model_id": "8352f7921bef4a31a03ba29bc231c79e",
       "version_major": 2,
       "version_minor": 0
      },
      "text/plain": [
       "  0%|          | 0/96234 [00:00<?, ?it/s]"
      ]
     },
     "metadata": {},
     "output_type": "display_data"
    }
   ],
   "source": [
    "def prepare_data(name):\n",
    "    if glob(dataset_path + f'text/defaced/{name}.txt'):\n",
    "        path = dataset_path + f'text/defaced/{name}.txt'\n",
    "        label = 1\n",
    "    else:\n",
    "        path = dataset_path + f'text/benign/{name}.txt'\n",
    "        label = 0\n",
    "    return (path, label)\n",
    "\n",
    "output = Parallel(n_jobs=N_JOBS)(delayed(prepare_data)(name) for name in tqdm(names))\n",
    "X, y = zip(*output)\n",
    "\n",
    "X_train_txt, X_test_txt, y_train, y_test = train_test_split(X, y, test_size=0.2, random_state=42)\n",
    "y_train = to_categorical(y_train, num_classes=2)\n",
    "y_test = np.array(y_test)\n",
    "\n",
    "X_train_txt, X_valid_txt, y_train, y_valid = train_test_split(X_train_txt, y_train, test_size=0.25, \n",
    "                                                      random_state=42)"
   ]
  },
  {
   "cell_type": "code",
   "execution_count": 5,
   "id": "c3255dcd",
   "metadata": {
    "execution": {
     "iopub.execute_input": "2023-02-01T07:42:25.180584Z",
     "iopub.status.busy": "2023-02-01T07:42:25.179842Z",
     "iopub.status.idle": "2023-02-01T07:53:58.335259Z",
     "shell.execute_reply": "2023-02-01T07:53:58.334032Z"
    },
    "papermill": {
     "duration": 693.177833,
     "end_time": "2023-02-01T07:53:58.335475",
     "exception": false,
     "start_time": "2023-02-01T07:42:25.157642",
     "status": "completed"
    },
    "tags": []
   },
   "outputs": [],
   "source": [
    "vec = TfidfVectorizer(input='filename', max_features=1280)\n",
    "X_train_txt = vec.fit_transform(X_train_txt)\n",
    "X_test_txt = vec.transform(X_test_txt)\n",
    "X_valid_txt = vec.transform(X_valid_txt)"
   ]
  },
  {
   "cell_type": "code",
   "execution_count": 6,
   "id": "4a53b35f",
   "metadata": {
    "execution": {
     "iopub.execute_input": "2023-02-01T07:53:58.404847Z",
     "iopub.status.busy": "2023-02-01T07:53:58.404157Z",
     "iopub.status.idle": "2023-02-01T07:54:44.738600Z",
     "shell.execute_reply": "2023-02-01T07:54:44.739697Z"
    },
    "papermill": {
     "duration": 46.386411,
     "end_time": "2023-02-01T07:54:44.739960",
     "exception": false,
     "start_time": "2023-02-01T07:53:58.353549",
     "status": "completed"
    },
    "tags": []
   },
   "outputs": [
    {
     "data": {
      "application/vnd.jupyter.widget-view+json": {
       "model_id": "78edffd517504752a7d1853811be79cd",
       "version_major": 2,
       "version_minor": 0
      },
      "text/plain": [
       "  0%|          | 0/96234 [00:00<?, ?it/s]"
      ]
     },
     "metadata": {},
     "output_type": "display_data"
    },
    {
     "name": "stdout",
     "output_type": "stream",
     "text": [
      "True True True\n"
     ]
    }
   ],
   "source": [
    "def prepare_data(name):\n",
    "    if glob(dataset_path + f'image/defaced/{name}.png'):\n",
    "        return (f'{GCS_DS_PATH}/image/defaced/{name}.png', 1)\n",
    "    else:\n",
    "        return (f'{GCS_DS_PATH}/image/benign/{name}.png', 0)\n",
    "\n",
    "output = Parallel(n_jobs=N_JOBS)(delayed(prepare_data)(name) for name in tqdm(names))\n",
    "X, y = zip(*output)\n",
    "\n",
    "X_train_img, X_test_img, y_train_, y_test_ = train_test_split(X, y, test_size=0.2, random_state=42)\n",
    "y_train_ = to_categorical(y_train_, num_classes=2)\n",
    "X_train_img, X_valid_img, y_train_, y_valid_ = train_test_split(X_train_img, y_train_, test_size=0.25, \n",
    "                                                      random_state=42)\n",
    "print((y_train == y_train_).all(), (y_valid == y_valid_).all(), (y_test == y_test_).all())"
   ]
  },
  {
   "cell_type": "code",
   "execution_count": 7,
   "id": "349c41c9",
   "metadata": {
    "execution": {
     "iopub.execute_input": "2023-02-01T07:54:44.794322Z",
     "iopub.status.busy": "2023-02-01T07:54:44.793612Z",
     "iopub.status.idle": "2023-02-01T07:54:55.023519Z",
     "shell.execute_reply": "2023-02-01T07:54:55.024437Z"
    },
    "papermill": {
     "duration": 10.266106,
     "end_time": "2023-02-01T07:54:55.024659",
     "exception": false,
     "start_time": "2023-02-01T07:54:44.758553",
     "status": "completed"
    },
    "tags": []
   },
   "outputs": [],
   "source": [
    "def load_data(image_path, text, label=None):\n",
    "    bits = tf.io.read_file(image_path)\n",
    "    image = tf.image.decode_png(bits, channels=3)\n",
    "    image = tf.cast(image, tf.float32) / 255.0\n",
    "    image = tf.image.resize(image, (IMG_SIZE, IMG_SIZE))\n",
    "    \n",
    "    data = (image, text)\n",
    "    \n",
    "    if label is None:\n",
    "        return image, text\n",
    "    else:\n",
    "        return data, label\n",
    "\n",
    "train_dataset = (\n",
    "    tf.data.TFRecordDataset\n",
    "    .from_tensor_slices((X_train_img, X_train_txt.A, y_train))\n",
    "    .shuffle(100000)\n",
    "    .map(load_data, num_parallel_calls=AUTO)\n",
    "    .cache()\n",
    "    .repeat()\n",
    "    .batch(BATCH_SIZE)\n",
    "    .prefetch(AUTO)\n",
    ")\n",
    "\n",
    "test_dataset = (\n",
    "    tf.data.TFRecordDataset\n",
    "    .from_tensor_slices((X_test_img, X_test_txt.A, y_test))\n",
    "    .map(load_data, num_parallel_calls=AUTO)\n",
    "    .batch(BATCH_SIZE)\n",
    ")\n",
    "\n",
    "valid_dataset = (\n",
    "    tf.data.TFRecordDataset\n",
    "    .from_tensor_slices((X_valid_img, X_valid_txt.A, y_valid))\n",
    "    .map(load_data, num_parallel_calls=AUTO)\n",
    "    .cache()\n",
    "    .batch(BATCH_SIZE)\n",
    "    .prefetch(AUTO)\n",
    ")"
   ]
  },
  {
   "cell_type": "code",
   "execution_count": 8,
   "id": "0d2029c6",
   "metadata": {
    "execution": {
     "iopub.execute_input": "2023-02-01T07:54:55.163808Z",
     "iopub.status.busy": "2023-02-01T07:54:55.160854Z",
     "iopub.status.idle": "2023-02-01T07:54:56.125558Z",
     "shell.execute_reply": "2023-02-01T07:54:56.127877Z"
    },
    "papermill": {
     "duration": 1.055639,
     "end_time": "2023-02-01T07:54:56.128275",
     "exception": false,
     "start_time": "2023-02-01T07:54:55.072636",
     "status": "completed"
    },
    "tags": []
   },
   "outputs": [
    {
     "data": {
      "text/plain": [
       "[<matplotlib.lines.Line2D at 0x7ff6164f7c50>]"
      ]
     },
     "execution_count": 8,
     "metadata": {},
     "output_type": "execute_result"
    },
    {
     "data": {
      "image/png": "[encoded data removed]",
      "text/plain": [
       "<Figure size 432x288 with 1 Axes>"
      ]
     },
     "metadata": {
      "needs_background": "light"
     },
     "output_type": "display_data"
    }
   ],
   "source": [
    "def lrfn(epoch=EPOCHS,\n",
    "         lr_start=1e-4,\n",
    "         lr_max=5e-5 * 8, \n",
    "         lr_min=1e-4,\n",
    "         lr_rampup_epochs=2,\n",
    "         lr_sustain_epochs=2,\n",
    "         lr_exp_decay=0.8):\n",
    "    if epoch < lr_rampup_epochs:\n",
    "        lr = (lr_max-lr_start)/lr_rampup_epochs*epoch + lr_start\n",
    "    elif epoch < lr_rampup_epochs + lr_sustain_epochs:\n",
    "        lr = lr_max\n",
    "    else:\n",
    "        lr = (lr_max-lr_min)*lr_exp_decay**(epoch-lr_rampup_epochs-lr_sustain_epochs) + lr_min\n",
    "    return lr\n",
    "\n",
    "def plot_hist(hist):\n",
    "    plt.plot(hist.history[\"accuracy\"])\n",
    "    plt.plot(hist.history[\"val_accuracy\"])\n",
    "    plt.title(\"model accuracy\")\n",
    "    plt.ylabel(\"accuracy\")\n",
    "    plt.xlabel(\"epoch\")\n",
    "    plt.legend([\"train\", \"validation\"], loc=\"upper left\")\n",
    "    plt.show()\n",
    "\n",
    "y = [lrfn(x) for x in range(EPOCHS)]\n",
    "plt.plot(y)"
   ]
  },
  {
   "cell_type": "markdown",
   "id": "fdf8cf92",
   "metadata": {
    "papermill": {
     "duration": 0.079395,
     "end_time": "2023-02-01T07:54:56.291000",
     "exception": false,
     "start_time": "2023-02-01T07:54:56.211605",
     "status": "completed"
    },
    "tags": []
   },
   "source": [
    "### ViT Early Fusion"
   ]
  },
  {
   "cell_type": "code",
   "execution_count": 9,
   "id": "52ae4342",
   "metadata": {
    "execution": {
     "iopub.execute_input": "2023-02-01T07:54:56.362038Z",
     "iopub.status.busy": "2023-02-01T07:54:56.361289Z",
     "iopub.status.idle": "2023-02-01T07:55:31.083607Z",
     "shell.execute_reply": "2023-02-01T07:55:31.084202Z"
    },
    "papermill": {
     "duration": 34.755638,
     "end_time": "2023-02-01T07:55:31.084564",
     "exception": false,
     "start_time": "2023-02-01T07:54:56.328926",
     "status": "completed"
    },
    "tags": []
   },
   "outputs": [
    {
     "name": "stdout",
     "output_type": "stream",
     "text": [
      "\u001b[33mWARNING: Running pip as the 'root' user can result in broken permissions and conflicting behaviour with the system package manager. It is recommended to use a virtual environment instead: https://pip.pypa.io/warnings/venv\u001b[0m\r\n",
      "Downloading data from https://github.com/faustomorales/vit-keras/releases/download/dl/ViT-B_32_imagenet21k+imagenet2012.npz\n",
      "353255424/353253686 [==============================] - 4s 0us/step\n"
     ]
    },
    {
     "name": "stderr",
     "output_type": "stream",
     "text": [
      "/opt/conda/lib/python3.7/site-packages/vit_keras/utils.py:83: UserWarning: Resizing position embeddings from 12, 12 to 7, 7\n",
      "  UserWarning,\n"
     ]
    },
    {
     "data": {
      "image/png": "[encoded data removed]",
      "text/plain": [
       "<IPython.core.display.Image object>"
      ]
     },
     "execution_count": 9,
     "metadata": {},
     "output_type": "execute_result"
    }
   ],
   "source": [
    "!pip install --quiet vit-keras\n",
    "\n",
    "from vit_keras import vit\n",
    "\n",
    "with strategy.scope():\n",
    "    net = vit.vit_b32(\n",
    "        image_size = (IMG_SIZE, IMG_SIZE),\n",
    "        activation = 'softmax',\n",
    "        pretrained = True,\n",
    "        include_top = False,\n",
    "        pretrained_top = False\n",
    "    )\n",
    "    net.trainable = False\n",
    "\n",
    "    image_model = Sequential()\n",
    "    image_model.add(net)\n",
    "    \n",
    "    text_model = Sequential()\n",
    "    text_model.add(L.Input(shape=(1280,)))\n",
    "    \n",
    "    combined = L.concatenate([image_model.output, text_model.output])\n",
    "    z = L.Dense(128, activation=\"relu\")(combined)\n",
    "    z = L.Dense(64, activation=\"relu\")(z)\n",
    "    z = L.Dense(2, activation=\"softmax\")(z)\n",
    "    model = Model(inputs=[image_model.input, text_model.input], outputs=z)\n",
    "    model.compile(loss='categorical_crossentropy', optimizer='adam', metrics=['accuracy'])\n",
    "    \n",
    "plot_model(model, show_shapes=True)"
   ]
  },
  {
   "cell_type": "code",
   "execution_count": 10,
   "id": "ddd41ab8",
   "metadata": {
    "execution": {
     "iopub.execute_input": "2023-02-01T07:55:31.184716Z",
     "iopub.status.busy": "2023-02-01T07:55:31.182951Z",
     "iopub.status.idle": "2023-02-01T08:48:41.412678Z",
     "shell.execute_reply": "2023-02-01T08:48:41.411972Z"
    },
    "papermill": {
     "duration": 3190.283748,
     "end_time": "2023-02-01T08:48:41.412920",
     "exception": false,
     "start_time": "2023-02-01T07:55:31.129172",
     "status": "completed"
    },
    "tags": []
   },
   "outputs": [
    {
     "name": "stdout",
     "output_type": "stream",
     "text": [
      "Epoch 1/20\n",
      "902/902 - 2766s - loss: 0.1851 - accuracy: 0.9229 - val_loss: 0.1423 - val_accuracy: 0.9432\n",
      "Epoch 2/20\n",
      "902/902 - 22s - loss: 0.1071 - accuracy: 0.9574 - val_loss: 0.1025 - val_accuracy: 0.9580\n",
      "Epoch 3/20\n",
      "902/902 - 21s - loss: 0.0880 - accuracy: 0.9648 - val_loss: 0.1106 - val_accuracy: 0.9590\n",
      "Epoch 4/20\n",
      "902/902 - 21s - loss: 0.0846 - accuracy: 0.9655 - val_loss: 0.0966 - val_accuracy: 0.9642\n",
      "Epoch 5/20\n",
      "902/902 - 21s - loss: 0.0797 - accuracy: 0.9677 - val_loss: 0.0928 - val_accuracy: 0.9654\n",
      "Epoch 6/20\n",
      "902/902 - 21s - loss: 0.0735 - accuracy: 0.9700 - val_loss: 0.0861 - val_accuracy: 0.9680\n",
      "Epoch 7/20\n",
      "902/902 - 21s - loss: 0.0692 - accuracy: 0.9719 - val_loss: 0.0765 - val_accuracy: 0.9705\n",
      "Epoch 8/20\n",
      "902/902 - 21s - loss: 0.0663 - accuracy: 0.9729 - val_loss: 0.0732 - val_accuracy: 0.9726\n",
      "Epoch 9/20\n",
      "902/902 - 21s - loss: 0.0631 - accuracy: 0.9740 - val_loss: 0.0785 - val_accuracy: 0.9707\n",
      "Epoch 10/20\n",
      "902/902 - 21s - loss: 0.0592 - accuracy: 0.9763 - val_loss: 0.0799 - val_accuracy: 0.9705\n",
      "Epoch 11/20\n",
      "902/902 - 21s - loss: 0.0579 - accuracy: 0.9764 - val_loss: 0.0726 - val_accuracy: 0.9722\n",
      "Epoch 12/20\n",
      "902/902 - 21s - loss: 0.0554 - accuracy: 0.9777 - val_loss: 0.0726 - val_accuracy: 0.9729\n",
      "Epoch 13/20\n",
      "902/902 - 21s - loss: 0.0539 - accuracy: 0.9779 - val_loss: 0.0717 - val_accuracy: 0.9732\n",
      "Epoch 14/20\n",
      "902/902 - 22s - loss: 0.0514 - accuracy: 0.9788 - val_loss: 0.0733 - val_accuracy: 0.9729\n",
      "Epoch 15/20\n",
      "902/902 - 22s - loss: 0.0504 - accuracy: 0.9791 - val_loss: 0.0738 - val_accuracy: 0.9735\n",
      "Epoch 16/20\n",
      "902/902 - 22s - loss: 0.0494 - accuracy: 0.9798 - val_loss: 0.0773 - val_accuracy: 0.9725\n",
      "Epoch 17/20\n",
      "902/902 - 21s - loss: 0.0487 - accuracy: 0.9798 - val_loss: 0.0768 - val_accuracy: 0.9729\n",
      "Epoch 18/20\n",
      "902/902 - 21s - loss: 0.0476 - accuracy: 0.9809 - val_loss: 0.0728 - val_accuracy: 0.9741\n",
      "Epoch 19/20\n",
      "902/902 - 22s - loss: 0.0463 - accuracy: 0.9813 - val_loss: 0.0743 - val_accuracy: 0.9735\n",
      "Epoch 20/20\n",
      "902/902 - 21s - loss: 0.0457 - accuracy: 0.9812 - val_loss: 0.0780 - val_accuracy: 0.9720\n"
     ]
    }
   ],
   "source": [
    "lrs = LearningRateScheduler(lrfn)  \n",
    "mc = ModelCheckpoint('vit_weights.h5', save_best_only=True, save_weights_only=True)\n",
    "steps_per_epoch = len(y_train) // BATCH_SIZE\n",
    "\n",
    "hist = model.fit(train_dataset, epochs=EPOCHS, steps_per_epoch=steps_per_epoch, \n",
    "                 callbacks=[lrs, mc], validation_data=valid_dataset, verbose=2)"
   ]
  },
  {
   "cell_type": "code",
   "execution_count": 11,
   "id": "8fc57345",
   "metadata": {
    "execution": {
     "iopub.execute_input": "2023-02-01T08:48:41.536718Z",
     "iopub.status.busy": "2023-02-01T08:48:41.535637Z",
     "iopub.status.idle": "2023-02-01T08:48:41.787292Z",
     "shell.execute_reply": "2023-02-01T08:48:41.786598Z"
    },
    "papermill": {
     "duration": 0.316401,
     "end_time": "2023-02-01T08:48:41.787485",
     "exception": false,
     "start_time": "2023-02-01T08:48:41.471084",
     "status": "completed"
    },
    "tags": []
   },
   "outputs": [
    {
     "data": {
      "image/png": "[encoded data removed]",
      "text/plain": [
       "<Figure size 432x288 with 1 Axes>"
      ]
     },
     "metadata": {
      "needs_background": "light"
     },
     "output_type": "display_data"
    }
   ],
   "source": [
    "plot_hist(hist)"
   ]
  },
  {
   "cell_type": "code",
   "execution_count": 12,
   "id": "a72c6f09",
   "metadata": {
    "execution": {
     "iopub.execute_input": "2023-02-01T08:48:41.981548Z",
     "iopub.status.busy": "2023-02-01T08:48:41.947109Z",
     "iopub.status.idle": "2023-02-01T08:59:13.402742Z",
     "shell.execute_reply": "2023-02-01T08:59:13.402176Z"
    },
    "papermill": {
     "duration": 631.558796,
     "end_time": "2023-02-01T08:59:13.402895",
     "exception": false,
     "start_time": "2023-02-01T08:48:41.844099",
     "status": "completed"
    },
    "tags": []
   },
   "outputs": [
    {
     "name": "stdout",
     "output_type": "stream",
     "text": [
      "301/301 [==============================] - 627s 2s/step\n",
      "              precision    recall  f1-score   support\n",
      "\n",
      "           0     0.9677    0.9852    0.9764     11415\n",
      "           1     0.9778    0.9521    0.9648      7832\n",
      "\n",
      "    accuracy                         0.9717     19247\n",
      "   macro avg     0.9728    0.9687    0.9706     19247\n",
      "weighted avg     0.9718    0.9717    0.9717     19247\n",
      "\n",
      "[[11246   169]\n",
      " [  375  7457]]\n",
      "      TPR       FPR   ROC AUC\n",
      "   0.9521    0.0148    0.9969\n"
     ]
    }
   ],
   "source": [
    "with strategy.scope():\n",
    "    model.load_weights('vit_weights.h5')\n",
    "y_prob = model.predict(test_dataset, verbose=1)\n",
    "y_pred = np.argmax(y_prob, axis=1)\n",
    "print(metrics.classification_report(y_test, y_pred, digits=4))\n",
    "\n",
    "cnf_matrix = metrics.confusion_matrix(y_test, y_pred)\n",
    "TN, FP, FN, TP = cnf_matrix.ravel()\n",
    "TPR = TP / (TP + FN)\n",
    "FPR = FP / (FP + TN)\n",
    "fpr, tpr, _ = metrics.roc_curve(y_test, y_prob[:, 1])\n",
    "auc = metrics.roc_auc_score(y_test, y_prob[:, 1])\n",
    "other_metrics = pd.DataFrame({\n",
    "                'TPR': '%.4f' % TPR,\n",
    "                'FPR': '%.4f' % FPR,\n",
    "                'ROC AUC': '%.4f' % auc,\n",
    "            }, index=[0]).to_string(col_space=9, index=False)\n",
    "print(cnf_matrix)\n",
    "print(other_metrics)"
   ]
  },
  {
   "cell_type": "markdown",
   "id": "05f4b219",
   "metadata": {
    "papermill": {
     "duration": 0.151224,
     "end_time": "2023-02-01T08:59:13.712940",
     "exception": false,
     "start_time": "2023-02-01T08:59:13.561716",
     "status": "completed"
    },
    "tags": []
   },
   "source": [
    "### VGG19"
   ]
  },
  {
   "cell_type": "code",
   "execution_count": 13,
   "id": "017e0c9e",
   "metadata": {
    "execution": {
     "iopub.execute_input": "2023-02-01T08:59:14.210426Z",
     "iopub.status.busy": "2023-02-01T08:59:14.209383Z",
     "iopub.status.idle": "2023-02-01T08:59:17.988783Z",
     "shell.execute_reply": "2023-02-01T08:59:17.989539Z"
    },
    "papermill": {
     "duration": 3.933499,
     "end_time": "2023-02-01T08:59:17.989774",
     "exception": false,
     "start_time": "2023-02-01T08:59:14.056275",
     "status": "completed"
    },
    "tags": []
   },
   "outputs": [
    {
     "name": "stdout",
     "output_type": "stream",
     "text": [
      "Downloading data from https://storage.googleapis.com/tensorflow/keras-applications/vgg19/vgg19_weights_tf_dim_ordering_tf_kernels_notop.h5\n",
      "80142336/80134624 [==============================] - 0s 0us/step\n"
     ]
    },
    {
     "data": {
      "image/png": "[encoded data removed]",
      "text/plain": [
       "<IPython.core.display.Image object>"
      ]
     },
     "execution_count": 13,
     "metadata": {},
     "output_type": "execute_result"
    }
   ],
   "source": [
    "from tensorflow.keras.applications import VGG19\n",
    "with strategy.scope():\n",
    "    net = VGG19(\n",
    "        include_top=False, \n",
    "        weights='imagenet', \n",
    "        pooling='avg', \n",
    "        input_shape=(IMG_SIZE, IMG_SIZE, 3)\n",
    "    )\n",
    "    net.trainable = False\n",
    "\n",
    "    image_model = Sequential()\n",
    "    image_model.add(net)\n",
    "    \n",
    "    text_model = Sequential()\n",
    "    text_model.add(L.Input(shape=(1280,)))\n",
    "    \n",
    "    combined = L.concatenate([image_model.output, text_model.output])\n",
    "    z = L.Dense(128, activation=\"relu\")(combined)\n",
    "    z = L.Dense(64, activation=\"relu\")(z)\n",
    "    z = L.Dense(2, activation=\"softmax\")(z)\n",
    "    model = Model(inputs=[image_model.input, text_model.input], outputs=z)\n",
    "    model.compile(loss='categorical_crossentropy', optimizer='adam', metrics=['accuracy'])\n",
    "    \n",
    "plot_model(model, show_shapes=True)"
   ]
  },
  {
   "cell_type": "code",
   "execution_count": 14,
   "id": "e669adf5",
   "metadata": {
    "execution": {
     "iopub.execute_input": "2023-02-01T08:59:18.328282Z",
     "iopub.status.busy": "2023-02-01T08:59:18.327200Z",
     "iopub.status.idle": "2023-02-01T09:08:40.782695Z",
     "shell.execute_reply": "2023-02-01T09:08:40.781873Z"
    },
    "papermill": {
     "duration": 562.620859,
     "end_time": "2023-02-01T09:08:40.782867",
     "exception": false,
     "start_time": "2023-02-01T08:59:18.162008",
     "status": "completed"
    },
    "tags": []
   },
   "outputs": [
    {
     "name": "stdout",
     "output_type": "stream",
     "text": [
      "Epoch 1/20\n",
      "902/902 - 46s - loss: 0.1372 - accuracy: 0.9465 - val_loss: 0.0842 - val_accuracy: 0.9668\n",
      "Epoch 2/20\n",
      "902/902 - 27s - loss: 0.0840 - accuracy: 0.9663 - val_loss: 0.1027 - val_accuracy: 0.9632\n",
      "Epoch 3/20\n",
      "902/902 - 27s - loss: 0.0720 - accuracy: 0.9711 - val_loss: 0.1050 - val_accuracy: 0.9639\n",
      "Epoch 4/20\n",
      "902/902 - 27s - loss: 0.0675 - accuracy: 0.9730 - val_loss: 0.0973 - val_accuracy: 0.9661\n",
      "Epoch 5/20\n",
      "902/902 - 27s - loss: 0.0632 - accuracy: 0.9747 - val_loss: 0.0953 - val_accuracy: 0.9670\n",
      "Epoch 6/20\n",
      "902/902 - 27s - loss: 0.0582 - accuracy: 0.9770 - val_loss: 0.0940 - val_accuracy: 0.9677\n",
      "Epoch 7/20\n",
      "902/902 - 27s - loss: 0.0539 - accuracy: 0.9787 - val_loss: 0.0928 - val_accuracy: 0.9686\n",
      "Epoch 8/20\n",
      "902/902 - 27s - loss: 0.0504 - accuracy: 0.9799 - val_loss: 0.0914 - val_accuracy: 0.9695\n",
      "Epoch 9/20\n",
      "902/902 - 27s - loss: 0.0473 - accuracy: 0.9815 - val_loss: 0.0909 - val_accuracy: 0.9700\n",
      "Epoch 10/20\n",
      "902/902 - 27s - loss: 0.0447 - accuracy: 0.9825 - val_loss: 0.0898 - val_accuracy: 0.9710\n",
      "Epoch 11/20\n",
      "902/902 - 27s - loss: 0.0425 - accuracy: 0.9835 - val_loss: 0.0867 - val_accuracy: 0.9723\n",
      "Epoch 12/20\n",
      "902/902 - 27s - loss: 0.0405 - accuracy: 0.9844 - val_loss: 0.0843 - val_accuracy: 0.9735\n",
      "Epoch 13/20\n",
      "902/902 - 27s - loss: 0.0387 - accuracy: 0.9848 - val_loss: 0.0841 - val_accuracy: 0.9728\n",
      "Epoch 14/20\n",
      "902/902 - 27s - loss: 0.0371 - accuracy: 0.9854 - val_loss: 0.0850 - val_accuracy: 0.9734\n",
      "Epoch 15/20\n",
      "902/902 - 28s - loss: 0.0356 - accuracy: 0.9859 - val_loss: 0.0874 - val_accuracy: 0.9730\n",
      "Epoch 16/20\n",
      "902/902 - 27s - loss: 0.0341 - accuracy: 0.9865 - val_loss: 0.0889 - val_accuracy: 0.9730\n",
      "Epoch 17/20\n",
      "902/902 - 27s - loss: 0.0328 - accuracy: 0.9869 - val_loss: 0.0910 - val_accuracy: 0.9732\n",
      "Epoch 18/20\n",
      "902/902 - 27s - loss: 0.0317 - accuracy: 0.9873 - val_loss: 0.0924 - val_accuracy: 0.9727\n",
      "Epoch 19/20\n",
      "902/902 - 27s - loss: 0.0306 - accuracy: 0.9878 - val_loss: 0.0941 - val_accuracy: 0.9732\n",
      "Epoch 20/20\n",
      "902/902 - 27s - loss: 0.0296 - accuracy: 0.9880 - val_loss: 0.0966 - val_accuracy: 0.9731\n"
     ]
    }
   ],
   "source": [
    "lrs = LearningRateScheduler(lrfn)  \n",
    "mc = ModelCheckpoint('vgg19_weights.h5', save_best_only=True, save_weights_only=True)\n",
    "steps_per_epoch = len(y_train) // BATCH_SIZE\n",
    "\n",
    "hist = model.fit(train_dataset, epochs=EPOCHS, steps_per_epoch=steps_per_epoch, \n",
    "                 callbacks=[lrs, mc], validation_data=valid_dataset, verbose=2)"
   ]
  },
  {
   "cell_type": "code",
   "execution_count": 15,
   "id": "56a1c0b8",
   "metadata": {
    "execution": {
     "iopub.execute_input": "2023-02-01T09:08:41.149364Z",
     "iopub.status.busy": "2023-02-01T09:08:41.148635Z",
     "iopub.status.idle": "2023-02-01T09:08:41.421418Z",
     "shell.execute_reply": "2023-02-01T09:08:41.420643Z"
    },
    "papermill": {
     "duration": 0.461776,
     "end_time": "2023-02-01T09:08:41.421594",
     "exception": false,
     "start_time": "2023-02-01T09:08:40.959818",
     "status": "completed"
    },
    "tags": []
   },
   "outputs": [
    {
     "data": {
      "image/png": "[encoded data removed]",
      "text/plain": [
       "<Figure size 432x288 with 1 Axes>"
      ]
     },
     "metadata": {
      "needs_background": "light"
     },
     "output_type": "display_data"
    }
   ],
   "source": [
    "plot_hist(hist)"
   ]
  },
  {
   "cell_type": "code",
   "execution_count": 16,
   "id": "e2a7f252",
   "metadata": {
    "execution": {
     "iopub.execute_input": "2023-02-01T09:08:41.802656Z",
     "iopub.status.busy": "2023-02-01T09:08:41.797355Z",
     "iopub.status.idle": "2023-02-01T09:17:16.832184Z",
     "shell.execute_reply": "2023-02-01T09:17:16.832816Z"
    },
    "papermill": {
     "duration": 515.236363,
     "end_time": "2023-02-01T09:17:16.833099",
     "exception": false,
     "start_time": "2023-02-01T09:08:41.596736",
     "status": "completed"
    },
    "tags": []
   },
   "outputs": [
    {
     "name": "stdout",
     "output_type": "stream",
     "text": [
      "301/301 [==============================] - 514s 2s/step\n",
      "              precision    recall  f1-score   support\n",
      "\n",
      "           0     0.9712    0.9848    0.9779     11415\n",
      "           1     0.9773    0.9575    0.9673      7832\n",
      "\n",
      "    accuracy                         0.9737     19247\n",
      "   macro avg     0.9743    0.9711    0.9726     19247\n",
      "weighted avg     0.9737    0.9737    0.9736     19247\n",
      "\n",
      "[[11241   174]\n",
      " [  333  7499]]\n",
      "      TPR       FPR   ROC AUC\n",
      "   0.9575    0.0152    0.9968\n"
     ]
    }
   ],
   "source": [
    "with strategy.scope():\n",
    "    model.load_weights('vgg19_weights.h5')\n",
    "y_prob = model.predict(test_dataset, verbose=1)\n",
    "y_pred = np.argmax(y_prob, axis=1)\n",
    "print(metrics.classification_report(y_test, y_pred, digits=4))\n",
    "\n",
    "cnf_matrix = metrics.confusion_matrix(y_test, y_pred)\n",
    "TN, FP, FN, TP = cnf_matrix.ravel()\n",
    "TPR = TP / (TP + FN)\n",
    "FPR = FP / (FP + TN)\n",
    "fpr, tpr, _ = metrics.roc_curve(y_test, y_prob[:, 1])\n",
    "auc = metrics.roc_auc_score(y_test, y_prob[:, 1])\n",
    "other_metrics = pd.DataFrame({\n",
    "                'TPR': '%.4f' % TPR,\n",
    "                'FPR': '%.4f' % FPR,\n",
    "                'ROC AUC': '%.4f' % auc,\n",
    "            }, index=[0]).to_string(col_space=9, index=False)\n",
    "print(cnf_matrix)\n",
    "print(other_metrics)"
   ]
  },
  {
   "cell_type": "markdown",
   "id": "136a46a8",
   "metadata": {
    "papermill": {
     "duration": 0.251574,
     "end_time": "2023-02-01T09:17:17.337823",
     "exception": false,
     "start_time": "2023-02-01T09:17:17.086249",
     "status": "completed"
    },
    "tags": []
   },
   "source": [
    "### DenseNet169"
   ]
  },
  {
   "cell_type": "code",
   "execution_count": 17,
   "id": "0c668ef6",
   "metadata": {
    "execution": {
     "iopub.execute_input": "2023-02-01T09:17:17.869163Z",
     "iopub.status.busy": "2023-02-01T09:17:17.868444Z",
     "iopub.status.idle": "2023-02-01T09:17:55.125797Z",
     "shell.execute_reply": "2023-02-01T09:17:55.126668Z"
    },
    "papermill": {
     "duration": 37.531565,
     "end_time": "2023-02-01T09:17:55.126937",
     "exception": false,
     "start_time": "2023-02-01T09:17:17.595372",
     "status": "completed"
    },
    "tags": []
   },
   "outputs": [
    {
     "name": "stdout",
     "output_type": "stream",
     "text": [
      "Downloading data from https://storage.googleapis.com/tensorflow/keras-applications/densenet/densenet169_weights_tf_dim_ordering_tf_kernels_notop.h5\n",
      "51879936/51877672 [==============================] - 0s 0us/step\n"
     ]
    },
    {
     "data": {
      "image/png": "[encoded data removed]",
      "text/plain": [
       "<IPython.core.display.Image object>"
      ]
     },
     "execution_count": 17,
     "metadata": {},
     "output_type": "execute_result"
    }
   ],
   "source": [
    "from tensorflow.keras.applications import DenseNet169\n",
    "with strategy.scope():\n",
    "    net = DenseNet169(\n",
    "        include_top=False, \n",
    "        weights='imagenet', \n",
    "        pooling='avg', \n",
    "        input_shape=(IMG_SIZE, IMG_SIZE, 3)\n",
    "    )\n",
    "    net.trainable = False\n",
    "\n",
    "    image_model = Sequential()\n",
    "    image_model.add(net)\n",
    "    \n",
    "    text_model = Sequential()\n",
    "    text_model.add(L.Input(shape=(1280,)))\n",
    "    \n",
    "    combined = L.concatenate([image_model.output, text_model.output])\n",
    "    z = L.Dense(128, activation=\"relu\")(combined)\n",
    "    z = L.Dense(64, activation=\"relu\")(z)\n",
    "    z = L.Dense(2, activation=\"softmax\")(z)\n",
    "    model = Model(inputs=[image_model.input, text_model.input], outputs=z)\n",
    "    model.compile(loss='categorical_crossentropy', optimizer='adam', metrics=['accuracy'])\n",
    "    \n",
    "plot_model(model, show_shapes=True)"
   ]
  },
  {
   "cell_type": "code",
   "execution_count": 18,
   "id": "8b15388e",
   "metadata": {
    "execution": {
     "iopub.execute_input": "2023-02-01T09:17:55.649120Z",
     "iopub.status.busy": "2023-02-01T09:17:55.648361Z",
     "iopub.status.idle": "2023-02-01T09:32:16.501476Z",
     "shell.execute_reply": "2023-02-01T09:32:16.502033Z"
    },
    "papermill": {
     "duration": 861.113754,
     "end_time": "2023-02-01T09:32:16.502230",
     "exception": false,
     "start_time": "2023-02-01T09:17:55.388476",
     "status": "completed"
    },
    "tags": []
   },
   "outputs": [
    {
     "name": "stdout",
     "output_type": "stream",
     "text": [
      "Epoch 1/20\n",
      "902/902 - 92s - loss: 0.1589 - accuracy: 0.9360 - val_loss: 0.0965 - val_accuracy: 0.9620\n",
      "Epoch 2/20\n",
      "902/902 - 40s - loss: 0.0904 - accuracy: 0.9639 - val_loss: 0.1005 - val_accuracy: 0.9617\n",
      "Epoch 3/20\n",
      "902/902 - 39s - loss: 0.0743 - accuracy: 0.9702 - val_loss: 0.1037 - val_accuracy: 0.9624\n",
      "Epoch 4/20\n",
      "902/902 - 40s - loss: 0.0670 - accuracy: 0.9727 - val_loss: 0.0929 - val_accuracy: 0.9665\n",
      "Epoch 5/20\n",
      "902/902 - 39s - loss: 0.0611 - accuracy: 0.9752 - val_loss: 0.0851 - val_accuracy: 0.9693\n",
      "Epoch 6/20\n",
      "902/902 - 39s - loss: 0.0561 - accuracy: 0.9775 - val_loss: 0.0811 - val_accuracy: 0.9711\n",
      "Epoch 7/20\n",
      "902/902 - 41s - loss: 0.0509 - accuracy: 0.9799 - val_loss: 0.0803 - val_accuracy: 0.9720\n",
      "Epoch 8/20\n",
      "902/902 - 39s - loss: 0.0468 - accuracy: 0.9819 - val_loss: 0.0804 - val_accuracy: 0.9725\n",
      "Epoch 9/20\n",
      "902/902 - 40s - loss: 0.0430 - accuracy: 0.9830 - val_loss: 0.0803 - val_accuracy: 0.9720\n",
      "Epoch 10/20\n",
      "902/902 - 38s - loss: 0.0395 - accuracy: 0.9846 - val_loss: 0.0825 - val_accuracy: 0.9722\n",
      "Epoch 11/20\n",
      "902/902 - 39s - loss: 0.0368 - accuracy: 0.9858 - val_loss: 0.0832 - val_accuracy: 0.9725\n",
      "Epoch 12/20\n",
      "902/902 - 39s - loss: 0.0345 - accuracy: 0.9867 - val_loss: 0.0839 - val_accuracy: 0.9734\n",
      "Epoch 13/20\n",
      "902/902 - 39s - loss: 0.0325 - accuracy: 0.9875 - val_loss: 0.0851 - val_accuracy: 0.9732\n",
      "Epoch 14/20\n",
      "902/902 - 39s - loss: 0.0306 - accuracy: 0.9883 - val_loss: 0.0873 - val_accuracy: 0.9733\n",
      "Epoch 15/20\n",
      "902/902 - 39s - loss: 0.0292 - accuracy: 0.9885 - val_loss: 0.0894 - val_accuracy: 0.9735\n",
      "Epoch 16/20\n",
      "902/902 - 39s - loss: 0.0280 - accuracy: 0.9890 - val_loss: 0.0919 - val_accuracy: 0.9735\n",
      "Epoch 17/20\n",
      "902/902 - 39s - loss: 0.0269 - accuracy: 0.9892 - val_loss: 0.0941 - val_accuracy: 0.9739\n",
      "Epoch 18/20\n",
      "902/902 - 39s - loss: 0.0257 - accuracy: 0.9896 - val_loss: 0.0955 - val_accuracy: 0.9740\n",
      "Epoch 19/20\n",
      "902/902 - 40s - loss: 0.0241 - accuracy: 0.9904 - val_loss: 0.0978 - val_accuracy: 0.9740\n",
      "Epoch 20/20\n",
      "902/902 - 39s - loss: 0.0231 - accuracy: 0.9908 - val_loss: 0.1000 - val_accuracy: 0.9740\n"
     ]
    }
   ],
   "source": [
    "lrs = LearningRateScheduler(lrfn)  \n",
    "mc = ModelCheckpoint('densenet_weights.h5', save_best_only=True, save_weights_only=True)\n",
    "steps_per_epoch = len(y_train) // BATCH_SIZE\n",
    "\n",
    "hist = model.fit(train_dataset, epochs=EPOCHS, steps_per_epoch=steps_per_epoch, \n",
    "                 callbacks=[lrs, mc], validation_data=valid_dataset, verbose=2)"
   ]
  },
  {
   "cell_type": "code",
   "execution_count": 19,
   "id": "f8e7309f",
   "metadata": {
    "execution": {
     "iopub.execute_input": "2023-02-01T09:32:17.050582Z",
     "iopub.status.busy": "2023-02-01T09:32:17.039729Z",
     "iopub.status.idle": "2023-02-01T09:32:17.284232Z",
     "shell.execute_reply": "2023-02-01T09:32:17.283509Z"
    },
    "papermill": {
     "duration": 0.520012,
     "end_time": "2023-02-01T09:32:17.284440",
     "exception": false,
     "start_time": "2023-02-01T09:32:16.764428",
     "status": "completed"
    },
    "tags": []
   },
   "outputs": [
    {
     "data": {
      "image/png": "[encoded data removed]",
      "text/plain": [
       "<Figure size 432x288 with 1 Axes>"
      ]
     },
     "metadata": {
      "needs_background": "light"
     },
     "output_type": "display_data"
    }
   ],
   "source": [
    "plot_hist(hist)"
   ]
  },
  {
   "cell_type": "code",
   "execution_count": 20,
   "id": "04a60f6f",
   "metadata": {
    "execution": {
     "iopub.execute_input": "2023-02-01T09:32:17.814546Z",
     "iopub.status.busy": "2023-02-01T09:32:17.813783Z",
     "iopub.status.idle": "2023-02-01T09:41:00.926659Z",
     "shell.execute_reply": "2023-02-01T09:41:00.927256Z"
    },
    "papermill": {
     "duration": 523.384958,
     "end_time": "2023-02-01T09:41:00.927493",
     "exception": false,
     "start_time": "2023-02-01T09:32:17.542535",
     "status": "completed"
    },
    "tags": []
   },
   "outputs": [
    {
     "name": "stdout",
     "output_type": "stream",
     "text": [
      "301/301 [==============================] - 516s 2s/step\n",
      "              precision    recall  f1-score   support\n",
      "\n",
      "           0     0.9650    0.9886    0.9767     11415\n",
      "           1     0.9828    0.9478    0.9650      7832\n",
      "\n",
      "    accuracy                         0.9720     19247\n",
      "   macro avg     0.9739    0.9682    0.9708     19247\n",
      "weighted avg     0.9723    0.9720    0.9719     19247\n",
      "\n",
      "[[11285   130]\n",
      " [  409  7423]]\n",
      "      TPR       FPR   ROC AUC\n",
      "   0.9478    0.0114    0.9965\n"
     ]
    }
   ],
   "source": [
    "with strategy.scope():\n",
    "    model.load_weights('densenet_weights.h5')\n",
    "y_prob = model.predict(test_dataset, verbose=1)\n",
    "y_pred = np.argmax(y_prob, axis=1)\n",
    "print(metrics.classification_report(y_test, y_pred, digits=4))\n",
    "\n",
    "cnf_matrix = metrics.confusion_matrix(y_test, y_pred)\n",
    "TN, FP, FN, TP = cnf_matrix.ravel()\n",
    "TPR = TP / (TP + FN)\n",
    "FPR = FP / (FP + TN)\n",
    "fpr, tpr, _ = metrics.roc_curve(y_test, y_prob[:, 1])\n",
    "auc = metrics.roc_auc_score(y_test, y_prob[:, 1])\n",
    "other_metrics = pd.DataFrame({\n",
    "                'TPR': '%.4f' % TPR,\n",
    "                'FPR': '%.4f' % FPR,\n",
    "                'ROC AUC': '%.4f' % auc,\n",
    "            }, index=[0]).to_string(col_space=9, index=False)\n",
    "print(cnf_matrix)\n",
    "print(other_metrics)"
   ]
  }
 ],
 "metadata": {
  "kernelspec": {
   "display_name": "Python 3",
   "language": "python",
   "name": "python3"
  },
  "language_info": {
   "codemirror_mode": {
    "name": "ipython",
    "version": 3
   },
   "file_extension": ".py",
   "mimetype": "text/x-python",
   "name": "python",
   "nbconvert_exporter": "python",
   "pygments_lexer": "ipython3",
   "version": "3.7.10"
  },
  "papermill": {
   "default_parameters": {},
   "duration": 7185.039494,
   "end_time": "2023-02-01T09:41:04.600656",
   "environment_variables": {},
   "exception": null,
   "input_path": "__notebook__.ipynb",
   "output_path": "__notebook__.ipynb",
   "parameters": {},
   "start_time": "2023-02-01T07:41:19.561162",
   "version": "2.3.3"
  },
  "widgets": {
   "application/vnd.jupyter.widget-state+json": {
    "state": {
     "3247490db78a4f28b103760f93ee338e": {
      "model_module": "@jupyter-widgets/controls",
      "model_module_version": "1.5.0",
      "model_name": "HTMLModel",
      "state": {
       "_dom_classes": [],
       "_model_module": "@jupyter-widgets/controls",
       "_model_module_version": "1.5.0",
       "_model_name": "HTMLModel",
       "_view_count": null,
       "_view_module": "@jupyter-widgets/controls",
       "_view_module_version": "1.5.0",
       "_view_name": "HTMLView",
       "description": "",
       "description_tooltip": null,
       "layout": "IPY_MODEL_6a67a64c545146d9bc339e5f687332fc",
       "placeholder": "​",
       "style": "IPY_MODEL_ab5c378b2607413bb407206758ffc771",
       "value": "100%"
      }
     },
     "50bf4f508402433bb2c3dd4b88763f9e": {
      "model_module": "@jupyter-widgets/controls",
      "model_module_version": "1.5.0",
      "model_name": "HTMLModel",
      "state": {
       "_dom_classes": [],
       "_model_module": "@jupyter-widgets/controls",
       "_model_module_version": "1.5.0",
       "_model_name": "HTMLModel",
       "_view_count": null,
       "_view_module": "@jupyter-widgets/controls",
       "_view_module_version": "1.5.0",
       "_view_name": "HTMLView",
       "description": "",
       "description_tooltip": null,
       "layout": "IPY_MODEL_c4db9092b92242d6aed7eedca2b2c435",
       "placeholder": "​",
       "style": "IPY_MODEL_7990429624834d5d994b52ae61b58fe8",
       "value": " 96234/96234 [00:39&lt;00:00, 1750.92it/s]"
      }
     },
     "5f9265d2fdaa4455aa4b023fb4b63a48": {
      "model_module": "@jupyter-widgets/controls",
      "model_module_version": "1.5.0",
      "model_name": "FloatProgressModel",
      "state": {
       "_dom_classes": [],
       "_model_module": "@jupyter-widgets/controls",
       "_model_module_version": "1.5.0",
       "_model_name": "FloatProgressModel",
       "_view_count": null,
       "_view_module": "@jupyter-widgets/controls",
       "_view_module_version": "1.5.0",
       "_view_name": "ProgressView",
       "bar_style": "success",
       "description": "",
       "description_tooltip": null,
       "layout": "IPY_MODEL_810ffed5136948aeaabda7fa0a17db03",
       "max": 96234.0,
       "min": 0.0,
       "orientation": "horizontal",
       "style": "IPY_MODEL_d4c379b9d3b944aa95e3bc71d176412e",
       "value": 96234.0
      }
     },
     "6035a5bb2c864f21adc68c40b76d34cc": {
      "model_module": "@jupyter-widgets/base",
      "model_module_version": "1.2.0",
      "model_name": "LayoutModel",
      "state": {
       "_model_module": "@jupyter-widgets/base",
       "_model_module_version": "1.2.0",
       "_model_name": "LayoutModel",
       "_view_count": null,
       "_view_module": "@jupyter-widgets/base",
       "_view_module_version": "1.2.0",
       "_view_name": "LayoutView",
       "align_content": null,
       "align_items": null,
       "align_self": null,
       "border": null,
       "bottom": null,
       "display": null,
       "flex": null,
       "flex_flow": null,
       "grid_area": null,
       "grid_auto_columns": null,
       "grid_auto_flow": null,
       "grid_auto_rows": null,
       "grid_column": null,
       "grid_gap": null,
       "grid_row": null,
       "grid_template_areas": null,
       "grid_template_columns": null,
       "grid_template_rows": null,
       "height": null,
       "justify_content": null,
       "justify_items": null,
       "left": null,
       "margin": null,
       "max_height": null,
       "max_width": null,
       "min_height": null,
       "min_width": null,
       "object_fit": null,
       "object_position": null,
       "order": null,
       "overflow": null,
       "overflow_x": null,
       "overflow_y": null,
       "padding": null,
       "right": null,
       "top": null,
       "visibility": null,
       "width": null
      }
     },
     "6a67a64c545146d9bc339e5f687332fc": {
      "model_module": "@jupyter-widgets/base",
      "model_module_version": "1.2.0",
      "model_name": "LayoutModel",
      "state": {
       "_model_module": "@jupyter-widgets/base",
       "_model_module_version": "1.2.0",
       "_model_name": "LayoutModel",
       "_view_count": null,
       "_view_module": "@jupyter-widgets/base",
       "_view_module_version": "1.2.0",
       "_view_name": "LayoutView",
       "align_content": null,
       "align_items": null,
       "align_self": null,
       "border": null,
       "bottom": null,
       "display": null,
       "flex": null,
       "flex_flow": null,
       "grid_area": null,
       "grid_auto_columns": null,
       "grid_auto_flow": null,
       "grid_auto_rows": null,
       "grid_column": null,
       "grid_gap": null,
       "grid_row": null,
       "grid_template_areas": null,
       "grid_template_columns": null,
       "grid_template_rows": null,
       "height": null,
       "justify_content": null,
       "justify_items": null,
       "left": null,
       "margin": null,
       "max_height": null,
       "max_width": null,
       "min_height": null,
       "min_width": null,
       "object_fit": null,
       "object_position": null,
       "order": null,
       "overflow": null,
       "overflow_x": null,
       "overflow_y": null,
       "padding": null,
       "right": null,
       "top": null,
       "visibility": null,
       "width": null
      }
     },
     "6f7d2ebbce744f9ca3ed3f1f6452e500": {
      "model_module": "@jupyter-widgets/controls",
      "model_module_version": "1.5.0",
      "model_name": "HTMLModel",
      "state": {
       "_dom_classes": [],
       "_model_module": "@jupyter-widgets/controls",
       "_model_module_version": "1.5.0",
       "_model_name": "HTMLModel",
       "_view_count": null,
       "_view_module": "@jupyter-widgets/controls",
       "_view_module_version": "1.5.0",
       "_view_name": "HTMLView",
       "description": "",
       "description_tooltip": null,
       "layout": "IPY_MODEL_6035a5bb2c864f21adc68c40b76d34cc",
       "placeholder": "​",
       "style": "IPY_MODEL_a34869d105fe4e53b24be6fbdfeeda77",
       "value": " 96234/96234 [00:45&lt;00:00, 1908.45it/s]"
      }
     },
     "78edffd517504752a7d1853811be79cd": {
      "model_module": "@jupyter-widgets/controls",
      "model_module_version": "1.5.0",
      "model_name": "HBoxModel",
      "state": {
       "_dom_classes": [],
       "_model_module": "@jupyter-widgets/controls",
       "_model_module_version": "1.5.0",
       "_model_name": "HBoxModel",
       "_view_count": null,
       "_view_module": "@jupyter-widgets/controls",
       "_view_module_version": "1.5.0",
       "_view_name": "HBoxView",
       "box_style": "",
       "children": [
        "IPY_MODEL_3247490db78a4f28b103760f93ee338e",
        "IPY_MODEL_5f9265d2fdaa4455aa4b023fb4b63a48",
        "IPY_MODEL_6f7d2ebbce744f9ca3ed3f1f6452e500"
       ],
       "layout": "IPY_MODEL_cfb21409e9574bfdb89ddeeb82d10606"
      }
     },
     "7990429624834d5d994b52ae61b58fe8": {
      "model_module": "@jupyter-widgets/controls",
      "model_module_version": "1.5.0",
      "model_name": "DescriptionStyleModel",
      "state": {
       "_model_module": "@jupyter-widgets/controls",
       "_model_module_version": "1.5.0",
       "_model_name": "DescriptionStyleModel",
       "_view_count": null,
       "_view_module": "@jupyter-widgets/base",
       "_view_module_version": "1.2.0",
       "_view_name": "StyleView",
       "description_width": ""
      }
     },
     "810ffed5136948aeaabda7fa0a17db03": {
      "model_module": "@jupyter-widgets/base",
      "model_module_version": "1.2.0",
      "model_name": "LayoutModel",
      "state": {
       "_model_module": "@jupyter-widgets/base",
       "_model_module_version": "1.2.0",
       "_model_name": "LayoutModel",
       "_view_count": null,
       "_view_module": "@jupyter-widgets/base",
       "_view_module_version": "1.2.0",
       "_view_name": "LayoutView",
       "align_content": null,
       "align_items": null,
       "align_self": null,
       "border": null,
       "bottom": null,
       "display": null,
       "flex": null,
       "flex_flow": null,
       "grid_area": null,
       "grid_auto_columns": null,
       "grid_auto_flow": null,
       "grid_auto_rows": null,
       "grid_column": null,
       "grid_gap": null,
       "grid_row": null,
       "grid_template_areas": null,
       "grid_template_columns": null,
       "grid_template_rows": null,
       "height": null,
       "justify_content": null,
       "justify_items": null,
       "left": null,
       "margin": null,
       "max_height": null,
       "max_width": null,
       "min_height": null,
       "min_width": null,
       "object_fit": null,
       "object_position": null,
       "order": null,
       "overflow": null,
       "overflow_x": null,
       "overflow_y": null,
       "padding": null,
       "right": null,
       "top": null,
       "visibility": null,
       "width": null
      }
     },
     "82ca1d3cd0914c57a823bbe0ef9058c7": {
      "model_module": "@jupyter-widgets/base",
      "model_module_version": "1.2.0",
      "model_name": "LayoutModel",
      "state": {
       "_model_module": "@jupyter-widgets/base",
       "_model_module_version": "1.2.0",
       "_model_name": "LayoutModel",
       "_view_count": null,
       "_view_module": "@jupyter-widgets/base",
       "_view_module_version": "1.2.0",
       "_view_name": "LayoutView",
       "align_content": null,
       "align_items": null,
       "align_self": null,
       "border": null,
       "bottom": null,
       "display": null,
       "flex": null,
       "flex_flow": null,
       "grid_area": null,
       "grid_auto_columns": null,
       "grid_auto_flow": null,
       "grid_auto_rows": null,
       "grid_column": null,
       "grid_gap": null,
       "grid_row": null,
       "grid_template_areas": null,
       "grid_template_columns": null,
       "grid_template_rows": null,
       "height": null,
       "justify_content": null,
       "justify_items": null,
       "left": null,
       "margin": null,
       "max_height": null,
       "max_width": null,
       "min_height": null,
       "min_width": null,
       "object_fit": null,
       "object_position": null,
       "order": null,
       "overflow": null,
       "overflow_x": null,
       "overflow_y": null,
       "padding": null,
       "right": null,
       "top": null,
       "visibility": null,
       "width": null
      }
     },
     "8352f7921bef4a31a03ba29bc231c79e": {
      "model_module": "@jupyter-widgets/controls",
      "model_module_version": "1.5.0",
      "model_name": "HBoxModel",
      "state": {
       "_dom_classes": [],
       "_model_module": "@jupyter-widgets/controls",
       "_model_module_version": "1.5.0",
       "_model_name": "HBoxModel",
       "_view_count": null,
       "_view_module": "@jupyter-widgets/controls",
       "_view_module_version": "1.5.0",
       "_view_name": "HBoxView",
       "box_style": "",
       "children": [
        "IPY_MODEL_c2de4d4005f24882b6ea744bcb4bd97e",
        "IPY_MODEL_8cfd7a4dfaab4fb38192d9640bb401b9",
        "IPY_MODEL_50bf4f508402433bb2c3dd4b88763f9e"
       ],
       "layout": "IPY_MODEL_82ca1d3cd0914c57a823bbe0ef9058c7"
      }
     },
     "8cfd7a4dfaab4fb38192d9640bb401b9": {
      "model_module": "@jupyter-widgets/controls",
      "model_module_version": "1.5.0",
      "model_name": "FloatProgressModel",
      "state": {
       "_dom_classes": [],
       "_model_module": "@jupyter-widgets/controls",
       "_model_module_version": "1.5.0",
       "_model_name": "FloatProgressModel",
       "_view_count": null,
       "_view_module": "@jupyter-widgets/controls",
       "_view_module_version": "1.5.0",
       "_view_name": "ProgressView",
       "bar_style": "success",
       "description": "",
       "description_tooltip": null,
       "layout": "IPY_MODEL_eac2ec3a85d84e84ad445b9771cd00e5",
       "max": 96234.0,
       "min": 0.0,
       "orientation": "horizontal",
       "style": "IPY_MODEL_b3212ff49df94c308869de86a3b0ce2e",
       "value": 96234.0
      }
     },
     "a34869d105fe4e53b24be6fbdfeeda77": {
      "model_module": "@jupyter-widgets/controls",
      "model_module_version": "1.5.0",
      "model_name": "DescriptionStyleModel",
      "state": {
       "_model_module": "@jupyter-widgets/controls",
       "_model_module_version": "1.5.0",
       "_model_name": "DescriptionStyleModel",
       "_view_count": null,
       "_view_module": "@jupyter-widgets/base",
       "_view_module_version": "1.2.0",
       "_view_name": "StyleView",
       "description_width": ""
      }
     },
     "ab5c378b2607413bb407206758ffc771": {
      "model_module": "@jupyter-widgets/controls",
      "model_module_version": "1.5.0",
      "model_name": "DescriptionStyleModel",
      "state": {
       "_model_module": "@jupyter-widgets/controls",
       "_model_module_version": "1.5.0",
       "_model_name": "DescriptionStyleModel",
       "_view_count": null,
       "_view_module": "@jupyter-widgets/base",
       "_view_module_version": "1.2.0",
       "_view_name": "StyleView",
       "description_width": ""
      }
     },
     "b3212ff49df94c308869de86a3b0ce2e": {
      "model_module": "@jupyter-widgets/controls",
      "model_module_version": "1.5.0",
      "model_name": "ProgressStyleModel",
      "state": {
       "_model_module": "@jupyter-widgets/controls",
       "_model_module_version": "1.5.0",
       "_model_name": "ProgressStyleModel",
       "_view_count": null,
       "_view_module": "@jupyter-widgets/base",
       "_view_module_version": "1.2.0",
       "_view_name": "StyleView",
       "bar_color": null,
       "description_width": ""
      }
     },
     "c2de4d4005f24882b6ea744bcb4bd97e": {
      "model_module": "@jupyter-widgets/controls",
      "model_module_version": "1.5.0",
      "model_name": "HTMLModel",
      "state": {
       "_dom_classes": [],
       "_model_module": "@jupyter-widgets/controls",
       "_model_module_version": "1.5.0",
       "_model_name": "HTMLModel",
       "_view_count": null,
       "_view_module": "@jupyter-widgets/controls",
       "_view_module_version": "1.5.0",
       "_view_name": "HTMLView",
       "description": "",
       "description_tooltip": null,
       "layout": "IPY_MODEL_e1353b342a844cdc9549a1799a0aa713",
       "placeholder": "​",
       "style": "IPY_MODEL_d8a4edc045fa48c0b9cb0476d68002ab",
       "value": "100%"
      }
     },
     "c4db9092b92242d6aed7eedca2b2c435": {
      "model_module": "@jupyter-widgets/base",
      "model_module_version": "1.2.0",
      "model_name": "LayoutModel",
      "state": {
       "_model_module": "@jupyter-widgets/base",
       "_model_module_version": "1.2.0",
       "_model_name": "LayoutModel",
       "_view_count": null,
       "_view_module": "@jupyter-widgets/base",
       "_view_module_version": "1.2.0",
       "_view_name": "LayoutView",
       "align_content": null,
       "align_items": null,
       "align_self": null,
       "border": null,
       "bottom": null,
       "display": null,
       "flex": null,
       "flex_flow": null,
       "grid_area": null,
       "grid_auto_columns": null,
       "grid_auto_flow": null,
       "grid_auto_rows": null,
       "grid_column": null,
       "grid_gap": null,
       "grid_row": null,
       "grid_template_areas": null,
       "grid_template_columns": null,
       "grid_template_rows": null,
       "height": null,
       "justify_content": null,
       "justify_items": null,
       "left": null,
       "margin": null,
       "max_height": null,
       "max_width": null,
       "min_height": null,
       "min_width": null,
       "object_fit": null,
       "object_position": null,
       "order": null,
       "overflow": null,
       "overflow_x": null,
       "overflow_y": null,
       "padding": null,
       "right": null,
       "top": null,
       "visibility": null,
       "width": null
      }
     },
     "cfb21409e9574bfdb89ddeeb82d10606": {
      "model_module": "@jupyter-widgets/base",
      "model_module_version": "1.2.0",
      "model_name": "LayoutModel",
      "state": {
       "_model_module": "@jupyter-widgets/base",
       "_model_module_version": "1.2.0",
       "_model_name": "LayoutModel",
       "_view_count": null,
       "_view_module": "@jupyter-widgets/base",
       "_view_module_version": "1.2.0",
       "_view_name": "LayoutView",
       "align_content": null,
       "align_items": null,
       "align_self": null,
       "border": null,
       "bottom": null,
       "display": null,
       "flex": null,
       "flex_flow": null,
       "grid_area": null,
       "grid_auto_columns": null,
       "grid_auto_flow": null,
       "grid_auto_rows": null,
       "grid_column": null,
       "grid_gap": null,
       "grid_row": null,
       "grid_template_areas": null,
       "grid_template_columns": null,
       "grid_template_rows": null,
       "height": null,
       "justify_content": null,
       "justify_items": null,
       "left": null,
       "margin": null,
       "max_height": null,
       "max_width": null,
       "min_height": null,
       "min_width": null,
       "object_fit": null,
       "object_position": null,
       "order": null,
       "overflow": null,
       "overflow_x": null,
       "overflow_y": null,
       "padding": null,
       "right": null,
       "top": null,
       "visibility": null,
       "width": null
      }
     },
     "d4c379b9d3b944aa95e3bc71d176412e": {
      "model_module": "@jupyter-widgets/controls",
      "model_module_version": "1.5.0",
      "model_name": "ProgressStyleModel",
      "state": {
       "_model_module": "@jupyter-widgets/controls",
       "_model_module_version": "1.5.0",
       "_model_name": "ProgressStyleModel",
       "_view_count": null,
       "_view_module": "@jupyter-widgets/base",
       "_view_module_version": "1.2.0",
       "_view_name": "StyleView",
       "bar_color": null,
       "description_width": ""
      }
     },
     "d8a4edc045fa48c0b9cb0476d68002ab": {
      "model_module": "@jupyter-widgets/controls",
      "model_module_version": "1.5.0",
      "model_name": "DescriptionStyleModel",
      "state": {
       "_model_module": "@jupyter-widgets/controls",
       "_model_module_version": "1.5.0",
       "_model_name": "DescriptionStyleModel",
       "_view_count": null,
       "_view_module": "@jupyter-widgets/base",
       "_view_module_version": "1.2.0",
       "_view_name": "StyleView",
       "description_width": ""
      }
     },
     "e1353b342a844cdc9549a1799a0aa713": {
      "model_module": "@jupyter-widgets/base",
      "model_module_version": "1.2.0",
      "model_name": "LayoutModel",
      "state": {
       "_model_module": "@jupyter-widgets/base",
       "_model_module_version": "1.2.0",
       "_model_name": "LayoutModel",
       "_view_count": null,
       "_view_module": "@jupyter-widgets/base",
       "_view_module_version": "1.2.0",
       "_view_name": "LayoutView",
       "align_content": null,
       "align_items": null,
       "align_self": null,
       "border": null,
       "bottom": null,
       "display": null,
       "flex": null,
       "flex_flow": null,
       "grid_area": null,
       "grid_auto_columns": null,
       "grid_auto_flow": null,
       "grid_auto_rows": null,
       "grid_column": null,
       "grid_gap": null,
       "grid_row": null,
       "grid_template_areas": null,
       "grid_template_columns": null,
       "grid_template_rows": null,
       "height": null,
       "justify_content": null,
       "justify_items": null,
       "left": null,
       "margin": null,
       "max_height": null,
       "max_width": null,
       "min_height": null,
       "min_width": null,
       "object_fit": null,
       "object_position": null,
       "order": null,
       "overflow": null,
       "overflow_x": null,
       "overflow_y": null,
       "padding": null,
       "right": null,
       "top": null,
       "visibility": null,
       "width": null
      }
     },
     "eac2ec3a85d84e84ad445b9771cd00e5": {
      "model_module": "@jupyter-widgets/base",
      "model_module_version": "1.2.0",
      "model_name": "LayoutModel",
      "state": {
       "_model_module": "@jupyter-widgets/base",
       "_model_module_version": "1.2.0",
       "_model_name": "LayoutModel",
       "_view_count": null,
       "_view_module": "@jupyter-widgets/base",
       "_view_module_version": "1.2.0",
       "_view_name": "LayoutView",
       "align_content": null,
       "align_items": null,
       "align_self": null,
       "border": null,
       "bottom": null,
       "display": null,
       "flex": null,
       "flex_flow": null,
       "grid_area": null,
       "grid_auto_columns": null,
       "grid_auto_flow": null,
       "grid_auto_rows": null,
       "grid_column": null,
       "grid_gap": null,
       "grid_row": null,
       "grid_template_areas": null,
       "grid_template_columns": null,
       "grid_template_rows": null,
       "height": null,
       "justify_content": null,
       "justify_items": null,
       "left": null,
       "margin": null,
       "max_height": null,
       "max_width": null,
       "min_height": null,
       "min_width": null,
       "object_fit": null,
       "object_position": null,
       "order": null,
       "overflow": null,
       "overflow_x": null,
       "overflow_y": null,
       "padding": null,
       "right": null,
       "top": null,
       "visibility": null,
       "width": null
      }
     }
    },
    "version_major": 2,
    "version_minor": 0
   }
  }
 },
 "nbformat": 4,
 "nbformat_minor": 5
}

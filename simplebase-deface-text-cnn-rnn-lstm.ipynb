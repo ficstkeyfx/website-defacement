{
 "cells": [
  {
   "cell_type": "code",
   "execution_count": 1,
   "id": "20a20200",
   "metadata": {
    "_cell_guid": "b1076dfc-b9ad-4769-8c92-a6c4dae69d19",
    "_uuid": "8f2839f25d086af736a60e9eeb907d3b93b6e0e5",
    "execution": {
     "iopub.execute_input": "2023-02-10T15:30:52.340735Z",
     "iopub.status.busy": "2023-02-10T15:30:52.338844Z",
     "iopub.status.idle": "2023-02-10T15:30:58.806694Z",
     "shell.execute_reply": "2023-02-10T15:30:58.805924Z",
     "shell.execute_reply.started": "2023-02-10T14:52:46.802650Z"
    },
    "papermill": {
     "duration": 6.492381,
     "end_time": "2023-02-10T15:30:58.806878",
     "exception": false,
     "start_time": "2023-02-10T15:30:52.314497",
     "status": "completed"
    },
    "tags": []
   },
   "outputs": [
    {
     "name": "stderr",
     "output_type": "stream",
     "text": [
      "2023-02-10 15:30:53.036513: W tensorflow/stream_executor/platform/default/dso_loader.cc:60] Could not load dynamic library 'libcudart.so.11.0'; dlerror: libcudart.so.11.0: cannot open shared object file: No such file or directory; LD_LIBRARY_PATH: /opt/conda/lib\n",
      "2023-02-10 15:30:53.036627: I tensorflow/stream_executor/cuda/cudart_stub.cc:29] Ignore above cudart dlerror if you do not have a GPU set up on your machine.\n"
     ]
    }
   ],
   "source": [
    "import numpy as np\n",
    "import pandas as pd\n",
    "import tensorflow as tf\n",
    "from matplotlib import pyplot as plt\n",
    "from kaggle_datasets import KaggleDatasets\n",
    "from kaggle_secrets import UserSecretsClient\n",
    "from glob import glob\n",
    "from tqdm.notebook import tqdm\n",
    "from multiprocessing import cpu_count\n",
    "from joblib import Parallel, delayed\n",
    "from tensorflow.keras.models import Sequential\n",
    "from tensorflow.keras import layers as L\n",
    "from tensorflow.keras.utils import to_categorical\n",
    "from tensorflow.keras.callbacks import LearningRateScheduler, ModelCheckpoint\n",
    "from sklearn.model_selection import train_test_split\n",
    "from sklearn import metrics\n",
    "\n",
    "%matplotlib inline"
   ]
  },
  {
   "cell_type": "code",
   "execution_count": 2,
   "id": "e8ca8ef2",
   "metadata": {
    "execution": {
     "iopub.execute_input": "2023-02-10T15:30:58.915901Z",
     "iopub.status.busy": "2023-02-10T15:30:58.914653Z",
     "iopub.status.idle": "2023-02-10T15:31:05.762463Z",
     "shell.execute_reply": "2023-02-10T15:31:05.761777Z",
     "shell.execute_reply.started": "2023-02-10T14:53:30.913319Z"
    },
    "papermill": {
     "duration": 6.937487,
     "end_time": "2023-02-10T15:31:05.762616",
     "exception": false,
     "start_time": "2023-02-10T15:30:58.825129",
     "status": "completed"
    },
    "tags": []
   },
   "outputs": [
    {
     "name": "stdout",
     "output_type": "stream",
     "text": [
      "Running on TPU: grpc://10.0.0.2:8470\n"
     ]
    },
    {
     "name": "stderr",
     "output_type": "stream",
     "text": [
      "2023-02-10 15:30:58.853817: I tensorflow/compiler/jit/xla_cpu_device.cc:41] Not creating XLA devices, tf_xla_enable_xla_devices not set\n",
      "2023-02-10 15:30:58.856152: W tensorflow/stream_executor/platform/default/dso_loader.cc:60] Could not load dynamic library 'libcuda.so.1'; dlerror: libcuda.so.1: cannot open shared object file: No such file or directory; LD_LIBRARY_PATH: /opt/conda/lib\n",
      "2023-02-10 15:30:58.856184: W tensorflow/stream_executor/cuda/cuda_driver.cc:326] failed call to cuInit: UNKNOWN ERROR (303)\n",
      "2023-02-10 15:30:58.856212: I tensorflow/stream_executor/cuda/cuda_diagnostics.cc:156] kernel driver does not appear to be running on this host (d2ea0dcf5b67): /proc/driver/nvidia/version does not exist\n",
      "2023-02-10 15:30:58.859151: I tensorflow/core/platform/cpu_feature_guard.cc:142] This TensorFlow binary is optimized with oneAPI Deep Neural Network Library (oneDNN) to use the following CPU instructions in performance-critical operations:  AVX2 FMA\n",
      "To enable them in other operations, rebuild TensorFlow with the appropriate compiler flags.\n",
      "2023-02-10 15:30:58.860756: I tensorflow/compiler/jit/xla_gpu_device.cc:99] Not creating XLA devices, tf_xla_enable_xla_devices not set\n",
      "2023-02-10 15:30:58.888700: I tensorflow/core/distributed_runtime/rpc/grpc_channel.cc:301] Initialize GrpcChannelCache for job worker -> {0 -> 10.0.0.2:8470}\n",
      "2023-02-10 15:30:58.888753: I tensorflow/core/distributed_runtime/rpc/grpc_channel.cc:301] Initialize GrpcChannelCache for job localhost -> {0 -> localhost:30019}\n",
      "2023-02-10 15:30:58.911039: I tensorflow/core/distributed_runtime/rpc/grpc_channel.cc:301] Initialize GrpcChannelCache for job worker -> {0 -> 10.0.0.2:8470}\n",
      "2023-02-10 15:30:58.911119: I tensorflow/core/distributed_runtime/rpc/grpc_channel.cc:301] Initialize GrpcChannelCache for job localhost -> {0 -> localhost:30019}\n",
      "2023-02-10 15:30:58.912438: I tensorflow/core/distributed_runtime/rpc/grpc_server_lib.cc:411] Started server with target: grpc://localhost:30019\n"
     ]
    },
    {
     "name": "stdout",
     "output_type": "stream",
     "text": [
      "N_JOBS: 4\n",
      "Batch size: 64\n",
      "GCS_DS_PATH: gs://kds-bdc1a4e6ec4ae5d9f2813149cb499f1a9df02b5e068427f000f5bb8e\n"
     ]
    }
   ],
   "source": [
    "try:\n",
    "    tpu = tf.distribute.cluster_resolver.TPUClusterResolver()\n",
    "    print('Running on TPU:', tpu.master())\n",
    "except ValueError:\n",
    "    tpu = None\n",
    "\n",
    "if tpu:\n",
    "    tf.config.experimental_connect_to_cluster(tpu)\n",
    "    tf.tpu.experimental.initialize_tpu_system(tpu)\n",
    "    strategy = tf.distribute.experimental.TPUStrategy(tpu)\n",
    "else:\n",
    "    strategy = tf.distribute.get_strategy()\n",
    "\n",
    "user_secrets = UserSecretsClient()\n",
    "user_credential = user_secrets.get_gcloud_credential()\n",
    "user_secrets.set_tensorflow_credential(user_credential)\n",
    "GCS_DS_PATH = KaggleDatasets().get_gcs_path('website-defacement')\n",
    "\n",
    "AUTO = tf.data.experimental.AUTOTUNE\n",
    "BATCH_SIZE = 8 * strategy.num_replicas_in_sync\n",
    "N_JOBS = cpu_count()\n",
    "\n",
    "IMG_SIZE = 224\n",
    "EPOCHS = 50\n",
    "\n",
    "print('N_JOBS:', N_JOBS)\n",
    "print('Batch size:', BATCH_SIZE)\n",
    "print('GCS_DS_PATH:', GCS_DS_PATH)"
   ]
  },
  {
   "cell_type": "code",
   "execution_count": 3,
   "id": "b7eab36c",
   "metadata": {
    "execution": {
     "iopub.execute_input": "2023-02-10T15:31:05.806337Z",
     "iopub.status.busy": "2023-02-10T15:31:05.805612Z",
     "iopub.status.idle": "2023-02-10T15:31:10.048073Z",
     "shell.execute_reply": "2023-02-10T15:31:10.047262Z",
     "shell.execute_reply.started": "2023-02-10T14:53:42.330485Z"
    },
    "papermill": {
     "duration": 4.267291,
     "end_time": "2023-02-10T15:31:10.048433",
     "exception": false,
     "start_time": "2023-02-10T15:31:05.781142",
     "status": "completed"
    },
    "tags": []
   },
   "outputs": [],
   "source": [
    "dataset_path = '../input/website-defacement/'\n",
    "img_paths = glob(dataset_path + 'image/*/*')\n",
    "txt_paths = glob(dataset_path + 'text/*/*')\n",
    "img_names = [path.split('/')[-1][:-4] for path in img_paths]\n",
    "txt_names = [path.split('/')[-1][:-4] for path in txt_paths]\n",
    "names = list(set(img_names).intersection(txt_names))"
   ]
  },
  {
   "cell_type": "markdown",
   "id": "c00d301d",
   "metadata": {
    "papermill": {
     "duration": 0.018366,
     "end_time": "2023-02-10T15:31:10.085714",
     "exception": false,
     "start_time": "2023-02-10T15:31:10.067348",
     "status": "completed"
    },
    "tags": []
   },
   "source": [
    "# Text-based Detection"
   ]
  },
  {
   "cell_type": "code",
   "execution_count": 4,
   "id": "64f04362",
   "metadata": {
    "execution": {
     "iopub.execute_input": "2023-02-10T15:31:10.132716Z",
     "iopub.status.busy": "2023-02-10T15:31:10.131784Z",
     "iopub.status.idle": "2023-02-10T15:33:52.978860Z",
     "shell.execute_reply": "2023-02-10T15:33:52.979543Z",
     "shell.execute_reply.started": "2023-02-10T14:54:18.661682Z"
    },
    "papermill": {
     "duration": 162.874382,
     "end_time": "2023-02-10T15:33:52.979742",
     "exception": false,
     "start_time": "2023-02-10T15:31:10.105360",
     "status": "completed"
    },
    "tags": []
   },
   "outputs": [
    {
     "data": {
      "application/vnd.jupyter.widget-view+json": {
       "model_id": "c10e8e7d4daf4739ba500035f95423f7",
       "version_major": 2,
       "version_minor": 0
      },
      "text/plain": [
       "  0%|          | 0/96234 [00:00<?, ?it/s]"
      ]
     },
     "metadata": {},
     "output_type": "display_data"
    },
    {
     "name": "stdout",
     "output_type": "stream",
     "text": [
      "57740 19247 19247\n"
     ]
    }
   ],
   "source": [
    "def prepare_data(name):\n",
    "    if glob(dataset_path + f'text/defaced/{name}.txt'):\n",
    "        path = dataset_path + f'text/defaced/{name}.txt'\n",
    "        label = 1\n",
    "    else:\n",
    "        path = dataset_path + f'text/benign/{name}.txt'\n",
    "        label = 0\n",
    "    with open(path, 'r') as f:\n",
    "        text = f.read()\n",
    "    return (text, label)\n",
    "\n",
    "output = Parallel(n_jobs=N_JOBS)(delayed(prepare_data)(name) for name in tqdm(names))\n",
    "X, y = zip(*output)\n",
    "\n",
    "X_train, X_test, y_train, y_test = train_test_split(X, y, test_size=0.2, random_state=42)\n",
    "y_train = to_categorical(y_train, num_classes=2)\n",
    "X_train, X_valid, y_train, y_valid = train_test_split(X_train, y_train, test_size=0.25, \n",
    "                                                      random_state=42)\n",
    "\n",
    "print(len(X_train), len(X_valid), len(X_test))"
   ]
  },
  {
   "cell_type": "code",
   "execution_count": 5,
   "id": "ec5862b3",
   "metadata": {
    "execution": {
     "iopub.execute_input": "2023-02-10T15:33:53.055655Z",
     "iopub.status.busy": "2023-02-10T15:33:53.050445Z",
     "iopub.status.idle": "2023-02-10T15:35:06.743182Z",
     "shell.execute_reply": "2023-02-10T15:35:06.742380Z",
     "shell.execute_reply.started": "2023-02-10T14:58:52.252956Z"
    },
    "papermill": {
     "duration": 73.742888,
     "end_time": "2023-02-10T15:35:06.743379",
     "exception": false,
     "start_time": "2023-02-10T15:33:53.000491",
     "status": "completed"
    },
    "tags": []
   },
   "outputs": [],
   "source": [
    "from tensorflow.keras.preprocessing.text import Tokenizer\n",
    "from tensorflow.keras.preprocessing.sequence import pad_sequences\n",
    "\n",
    "tokenizer = Tokenizer(filters='')\n",
    "tokenizer.fit_on_texts(X_train)\n",
    "\n",
    "MAXLEN = 128\n",
    "\n",
    "X_train = tokenizer.texts_to_sequences(X_train)\n",
    "X_train = pad_sequences(X_train, maxlen=MAXLEN)\n",
    "y_train = np.array(y_train)\n",
    "\n",
    "X_valid = tokenizer.texts_to_sequences(X_valid)\n",
    "X_valid = pad_sequences(X_valid, maxlen=MAXLEN)\n",
    "y_valid = np.array(y_valid)\n",
    "\n",
    "X_test = tokenizer.texts_to_sequences(X_test)\n",
    "X_test = pad_sequences(X_test, maxlen=MAXLEN)\n",
    "y_test = np.array(y_test)"
   ]
  },
  {
   "cell_type": "code",
   "execution_count": 6,
   "id": "f27feefb",
   "metadata": {
    "execution": {
     "iopub.execute_input": "2023-02-10T15:35:06.836040Z",
     "iopub.status.busy": "2023-02-10T15:35:06.834539Z",
     "iopub.status.idle": "2023-02-10T15:35:06.930595Z",
     "shell.execute_reply": "2023-02-10T15:35:06.931214Z",
     "shell.execute_reply.started": "2023-02-10T15:01:53.324811Z"
    },
    "papermill": {
     "duration": 0.168733,
     "end_time": "2023-02-10T15:35:06.931434",
     "exception": false,
     "start_time": "2023-02-10T15:35:06.762701",
     "status": "completed"
    },
    "tags": []
   },
   "outputs": [],
   "source": [
    "train_dataset = (\n",
    "    tf.data.TFRecordDataset\n",
    "    .from_tensor_slices((X_train, y_train))\n",
    "    .shuffle(100000)\n",
    "    .cache()\n",
    "    .repeat()\n",
    "    .batch(BATCH_SIZE)\n",
    "    .prefetch(AUTO)\n",
    ")\n",
    "\n",
    "test_dataset = (\n",
    "    tf.data.TFRecordDataset\n",
    "    .from_tensor_slices(X_test)\n",
    "    .batch(BATCH_SIZE)\n",
    ")\n",
    "\n",
    "valid_dataset = (\n",
    "    tf.data.TFRecordDataset\n",
    "    .from_tensor_slices((X_valid, y_valid))\n",
    "    .cache()\n",
    "    .batch(BATCH_SIZE)\n",
    "    .prefetch(AUTO)\n",
    ")"
   ]
  },
  {
   "cell_type": "code",
   "execution_count": 7,
   "id": "367b4915",
   "metadata": {
    "execution": {
     "iopub.execute_input": "2023-02-10T15:35:06.973820Z",
     "iopub.status.busy": "2023-02-10T15:35:06.972817Z",
     "iopub.status.idle": "2023-02-10T15:35:07.237538Z",
     "shell.execute_reply": "2023-02-10T15:35:07.237001Z",
     "shell.execute_reply.started": "2023-02-10T15:02:32.990735Z"
    },
    "papermill": {
     "duration": 0.287022,
     "end_time": "2023-02-10T15:35:07.237695",
     "exception": false,
     "start_time": "2023-02-10T15:35:06.950673",
     "status": "completed"
    },
    "tags": []
   },
   "outputs": [
    {
     "data": {
      "text/plain": [
       "[<matplotlib.lines.Line2D at 0x7f0f34611090>]"
      ]
     },
     "execution_count": 7,
     "metadata": {},
     "output_type": "execute_result"
    },
    {
     "data": {
      "image/png": "[encoded data removed]",
      "text/plain": [
       "<Figure size 432x288 with 1 Axes>"
      ]
     },
     "metadata": {
      "needs_background": "light"
     },
     "output_type": "display_data"
    }
   ],
   "source": [
    "def lrfn(epoch=EPOCHS,\n",
    "         lr_start=1e-4,\n",
    "         lr_max=5e-5 * 8, \n",
    "         lr_min=1e-4,\n",
    "         lr_rampup_epochs=5,\n",
    "         lr_sustain_epochs=5,\n",
    "         lr_exp_decay=0.8):\n",
    "    if epoch < lr_rampup_epochs:\n",
    "        lr = (lr_max-lr_start)/lr_rampup_epochs*epoch + lr_start\n",
    "    elif epoch < lr_rampup_epochs + lr_sustain_epochs:\n",
    "        lr = lr_max\n",
    "    else:\n",
    "        lr = (lr_max-lr_min)*lr_exp_decay**(epoch-lr_rampup_epochs-lr_sustain_epochs) + lr_min\n",
    "    return lr\n",
    "\n",
    "def plot_hist(hist):\n",
    "    plt.plot(hist.history[\"accuracy\"])\n",
    "    plt.plot(hist.history[\"val_accuracy\"])\n",
    "    plt.title(\"model accuracy\")\n",
    "    plt.ylabel(\"accuracy\")\n",
    "    plt.xlabel(\"epoch\")\n",
    "    plt.legend([\"train\", \"validation\"], loc=\"upper left\")\n",
    "    plt.show()\n",
    "\n",
    "y = [lrfn(x) for x in range(EPOCHS)]\n",
    "plt.plot(y)"
   ]
  },
  {
   "cell_type": "markdown",
   "id": "92ff405c",
   "metadata": {
    "papermill": {
     "duration": 0.019675,
     "end_time": "2023-02-10T15:35:07.277487",
     "exception": false,
     "start_time": "2023-02-10T15:35:07.257812",
     "status": "completed"
    },
    "tags": []
   },
   "source": [
    "### Text_CNN"
   ]
  },
  {
   "cell_type": "code",
   "execution_count": 8,
   "id": "4ffaa56c",
   "metadata": {
    "execution": {
     "iopub.execute_input": "2023-02-10T15:35:07.326376Z",
     "iopub.status.busy": "2023-02-10T15:35:07.325543Z",
     "iopub.status.idle": "2023-02-10T15:35:09.828415Z",
     "shell.execute_reply": "2023-02-10T15:35:09.829294Z",
     "shell.execute_reply.started": "2023-02-09T06:11:32.619463Z"
    },
    "papermill": {
     "duration": 2.531532,
     "end_time": "2023-02-10T15:35:09.829562",
     "exception": false,
     "start_time": "2023-02-10T15:35:07.298030",
     "status": "completed"
    },
    "tags": []
   },
   "outputs": [
    {
     "name": "stdout",
     "output_type": "stream",
     "text": [
      "Model: \"sequential\"\n",
      "_________________________________________________________________\n",
      "Layer (type)                 Output Shape              Param #   \n",
      "=================================================================\n",
      "embedding (Embedding)        (None, 128, 64)           181105280 \n",
      "_________________________________________________________________\n",
      "conv1d (Conv1D)              (None, 124, 64)           20544     \n",
      "_________________________________________________________________\n",
      "global_max_pooling1d (Global (None, 64)                0         \n",
      "_________________________________________________________________\n",
      "dense (Dense)                (None, 2)                 130       \n",
      "=================================================================\n",
      "Total params: 181,125,954\n",
      "Trainable params: 181,125,954\n",
      "Non-trainable params: 0\n",
      "_________________________________________________________________\n",
      "None\n"
     ]
    }
   ],
   "source": [
    "vocab_size = len(tokenizer.word_index) + 1\n",
    "\n",
    "with strategy.scope():\n",
    "    model = Sequential()\n",
    "    model.add(L.Embedding(input_dim=vocab_size,\n",
    "                          output_dim=64, \n",
    "                          input_length=X_train.shape[1]))\n",
    "    model.add(L.Conv1D(64, 5))\n",
    "    model.add(L.GlobalMaxPooling1D())\n",
    "    model.add(L.Dense(2, activation='softmax'))\n",
    "    model.compile(loss='categorical_crossentropy', optimizer='adam', metrics=['accuracy'])\n",
    "    \n",
    "print(model.summary())"
   ]
  },
  {
   "cell_type": "code",
   "execution_count": 9,
   "id": "2eef1f60",
   "metadata": {
    "execution": {
     "iopub.execute_input": "2023-02-10T15:35:09.878911Z",
     "iopub.status.busy": "2023-02-10T15:35:09.878165Z",
     "iopub.status.idle": "2023-02-10T16:01:49.967767Z",
     "shell.execute_reply": "2023-02-10T16:01:49.968644Z",
     "shell.execute_reply.started": "2023-01-31T06:33:47.226598Z"
    },
    "papermill": {
     "duration": 1600.117688,
     "end_time": "2023-02-10T16:01:49.969112",
     "exception": false,
     "start_time": "2023-02-10T15:35:09.851424",
     "status": "completed"
    },
    "tags": []
   },
   "outputs": [
    {
     "name": "stdout",
     "output_type": "stream",
     "text": [
      "Epoch 1/50\n"
     ]
    },
    {
     "name": "stderr",
     "output_type": "stream",
     "text": [
      "/opt/conda/lib/python3.7/site-packages/tensorflow/python/framework/indexed_slices.py:430: UserWarning: Converting sparse IndexedSlices to a dense Tensor with 181105280 elements. This may consume a large amount of memory.\n",
      "  num_elements)\n"
     ]
    },
    {
     "name": "stdout",
     "output_type": "stream",
     "text": [
      "902/902 - 39s - loss: 0.1546 - accuracy: 0.9346 - val_loss: 0.1027 - val_accuracy: 0.9653\n",
      "Epoch 2/50\n",
      "902/902 - 32s - loss: 0.0201 - accuracy: 0.9934 - val_loss: 0.1096 - val_accuracy: 0.9677\n",
      "Epoch 3/50\n",
      "902/902 - 32s - loss: 0.0034 - accuracy: 0.9992 - val_loss: 0.1150 - val_accuracy: 0.9670\n",
      "Epoch 4/50\n",
      "902/902 - 32s - loss: 0.0019 - accuracy: 0.9996 - val_loss: 0.1143 - val_accuracy: 0.9674\n",
      "Epoch 5/50\n",
      "902/902 - 32s - loss: 0.0015 - accuracy: 0.9996 - val_loss: 0.1138 - val_accuracy: 0.9671\n",
      "Epoch 6/50\n",
      "902/902 - 32s - loss: 0.0014 - accuracy: 0.9996 - val_loss: 0.1159 - val_accuracy: 0.9670\n",
      "Epoch 7/50\n",
      "902/902 - 32s - loss: 0.0014 - accuracy: 0.9996 - val_loss: 0.1177 - val_accuracy: 0.9667\n",
      "Epoch 8/50\n",
      "902/902 - 32s - loss: 0.0014 - accuracy: 0.9996 - val_loss: 0.1184 - val_accuracy: 0.9667\n",
      "Epoch 9/50\n",
      "902/902 - 33s - loss: 0.0014 - accuracy: 0.9996 - val_loss: 0.1185 - val_accuracy: 0.9665\n",
      "Epoch 10/50\n",
      "902/902 - 32s - loss: 0.0013 - accuracy: 0.9996 - val_loss: 0.1180 - val_accuracy: 0.9665\n",
      "Epoch 11/50\n",
      "902/902 - 32s - loss: 0.0013 - accuracy: 0.9996 - val_loss: 0.1184 - val_accuracy: 0.9663\n",
      "Epoch 12/50\n",
      "902/902 - 32s - loss: 0.0012 - accuracy: 0.9996 - val_loss: 0.1186 - val_accuracy: 0.9662\n",
      "Epoch 13/50\n",
      "902/902 - 32s - loss: 0.0012 - accuracy: 0.9997 - val_loss: 0.1195 - val_accuracy: 0.9661\n",
      "Epoch 14/50\n",
      "902/902 - 32s - loss: 0.0011 - accuracy: 0.9997 - val_loss: 0.1207 - val_accuracy: 0.9662\n",
      "Epoch 15/50\n",
      "902/902 - 32s - loss: 0.0011 - accuracy: 0.9997 - val_loss: 0.1221 - val_accuracy: 0.9660\n",
      "Epoch 16/50\n",
      "902/902 - 32s - loss: 0.0011 - accuracy: 0.9997 - val_loss: 0.1236 - val_accuracy: 0.9659\n",
      "Epoch 17/50\n",
      "902/902 - 32s - loss: 0.0010 - accuracy: 0.9997 - val_loss: 0.1253 - val_accuracy: 0.9661\n",
      "Epoch 18/50\n",
      "902/902 - 32s - loss: 0.0010 - accuracy: 0.9997 - val_loss: 0.1269 - val_accuracy: 0.9662\n",
      "Epoch 19/50\n",
      "902/902 - 32s - loss: 0.0010 - accuracy: 0.9997 - val_loss: 0.1286 - val_accuracy: 0.9661\n",
      "Epoch 20/50\n",
      "902/902 - 32s - loss: 0.0010 - accuracy: 0.9997 - val_loss: 0.1302 - val_accuracy: 0.9660\n",
      "Epoch 21/50\n",
      "902/902 - 32s - loss: 9.9513e-04 - accuracy: 0.9997 - val_loss: 0.1317 - val_accuracy: 0.9661\n",
      "Epoch 22/50\n",
      "902/902 - 32s - loss: 9.9016e-04 - accuracy: 0.9997 - val_loss: 0.1330 - val_accuracy: 0.9661\n",
      "Epoch 23/50\n",
      "902/902 - 32s - loss: 9.8307e-04 - accuracy: 0.9997 - val_loss: 0.1343 - val_accuracy: 0.9660\n",
      "Epoch 24/50\n",
      "902/902 - 32s - loss: 9.7835e-04 - accuracy: 0.9997 - val_loss: 0.1355 - val_accuracy: 0.9660\n",
      "Epoch 25/50\n",
      "902/902 - 32s - loss: 9.7504e-04 - accuracy: 0.9997 - val_loss: 0.1365 - val_accuracy: 0.9660\n",
      "Epoch 26/50\n",
      "902/902 - 32s - loss: 9.7073e-04 - accuracy: 0.9997 - val_loss: 0.1376 - val_accuracy: 0.9660\n",
      "Epoch 27/50\n",
      "902/902 - 32s - loss: 9.6945e-04 - accuracy: 0.9997 - val_loss: 0.1385 - val_accuracy: 0.9659\n",
      "Epoch 28/50\n",
      "902/902 - 32s - loss: 9.6643e-04 - accuracy: 0.9997 - val_loss: 0.1394 - val_accuracy: 0.9660\n",
      "Epoch 29/50\n",
      "902/902 - 32s - loss: 9.6509e-04 - accuracy: 0.9997 - val_loss: 0.1402 - val_accuracy: 0.9660\n",
      "Epoch 30/50\n",
      "902/902 - 32s - loss: 9.6270e-04 - accuracy: 0.9997 - val_loss: 0.1410 - val_accuracy: 0.9660\n",
      "Epoch 31/50\n",
      "902/902 - 32s - loss: 9.6155e-04 - accuracy: 0.9997 - val_loss: 0.1417 - val_accuracy: 0.9659\n",
      "Epoch 32/50\n",
      "902/902 - 32s - loss: 9.5954e-04 - accuracy: 0.9997 - val_loss: 0.1425 - val_accuracy: 0.9658\n",
      "Epoch 33/50\n",
      "902/902 - 32s - loss: 9.5987e-04 - accuracy: 0.9997 - val_loss: 0.1431 - val_accuracy: 0.9658\n",
      "Epoch 34/50\n",
      "902/902 - 32s - loss: 9.5819e-04 - accuracy: 0.9997 - val_loss: 0.1438 - val_accuracy: 0.9658\n",
      "Epoch 35/50\n",
      "902/902 - 32s - loss: 9.5800e-04 - accuracy: 0.9997 - val_loss: 0.1443 - val_accuracy: 0.9658\n",
      "Epoch 36/50\n",
      "902/902 - 32s - loss: 9.5635e-04 - accuracy: 0.9997 - val_loss: 0.1450 - val_accuracy: 0.9657\n",
      "Epoch 37/50\n",
      "902/902 - 32s - loss: 9.5609e-04 - accuracy: 0.9997 - val_loss: 0.1455 - val_accuracy: 0.9657\n",
      "Epoch 38/50\n",
      "902/902 - 32s - loss: 9.5551e-04 - accuracy: 0.9997 - val_loss: 0.1461 - val_accuracy: 0.9657\n",
      "Epoch 39/50\n",
      "902/902 - 32s - loss: 9.5517e-04 - accuracy: 0.9997 - val_loss: 0.1466 - val_accuracy: 0.9656\n",
      "Epoch 40/50\n",
      "902/902 - 32s - loss: 9.5426e-04 - accuracy: 0.9997 - val_loss: 0.1470 - val_accuracy: 0.9656\n",
      "Epoch 41/50\n",
      "902/902 - 32s - loss: 9.5312e-04 - accuracy: 0.9997 - val_loss: 0.1476 - val_accuracy: 0.9655\n",
      "Epoch 42/50\n",
      "902/902 - 32s - loss: 9.5355e-04 - accuracy: 0.9997 - val_loss: 0.1481 - val_accuracy: 0.9653\n",
      "Epoch 43/50\n",
      "902/902 - 32s - loss: 9.5352e-04 - accuracy: 0.9997 - val_loss: 0.1486 - val_accuracy: 0.9654\n",
      "Epoch 44/50\n",
      "902/902 - 32s - loss: 9.5277e-04 - accuracy: 0.9997 - val_loss: 0.1489 - val_accuracy: 0.9653\n",
      "Epoch 45/50\n",
      "902/902 - 32s - loss: 9.5173e-04 - accuracy: 0.9997 - val_loss: 0.1494 - val_accuracy: 0.9653\n",
      "Epoch 46/50\n",
      "902/902 - 32s - loss: 9.5139e-04 - accuracy: 0.9997 - val_loss: 0.1497 - val_accuracy: 0.9653\n",
      "Epoch 47/50\n",
      "902/902 - 32s - loss: 9.5082e-04 - accuracy: 0.9997 - val_loss: 0.1502 - val_accuracy: 0.9655\n",
      "Epoch 48/50\n",
      "902/902 - 32s - loss: 9.5038e-04 - accuracy: 0.9997 - val_loss: 0.1506 - val_accuracy: 0.9654\n",
      "Epoch 49/50\n",
      "902/902 - 32s - loss: 9.5028e-04 - accuracy: 0.9997 - val_loss: 0.1510 - val_accuracy: 0.9654\n",
      "Epoch 50/50\n",
      "902/902 - 32s - loss: 9.4979e-04 - accuracy: 0.9997 - val_loss: 0.1514 - val_accuracy: 0.9653\n"
     ]
    }
   ],
   "source": [
    "lrs = LearningRateScheduler(lrfn)  \n",
    "mc = ModelCheckpoint('text-cnn.h5', save_best_only=True, save_weights_only=True)\n",
    "steps_per_epoch = len(y_train) // BATCH_SIZE\n",
    "\n",
    "hist = model.fit(train_dataset, epochs=EPOCHS, steps_per_epoch=steps_per_epoch, callbacks=[lrs, mc], \n",
    "                 validation_data=valid_dataset, verbose=2)"
   ]
  },
  {
   "cell_type": "code",
   "execution_count": 10,
   "id": "0fc442bb",
   "metadata": {
    "execution": {
     "iopub.execute_input": "2023-02-10T16:01:50.122798Z",
     "iopub.status.busy": "2023-02-10T16:01:50.103635Z",
     "iopub.status.idle": "2023-02-10T16:01:50.362250Z",
     "shell.execute_reply": "2023-02-10T16:01:50.362740Z",
     "shell.execute_reply.started": "2023-01-31T06:59:46.176664Z"
    },
    "papermill": {
     "duration": 0.340031,
     "end_time": "2023-02-10T16:01:50.362955",
     "exception": false,
     "start_time": "2023-02-10T16:01:50.022924",
     "status": "completed"
    },
    "tags": []
   },
   "outputs": [
    {
     "data": {
      "image/png": "[encoded data removed]",
      "text/plain": [
       "<Figure size 432x288 with 1 Axes>"
      ]
     },
     "metadata": {
      "needs_background": "light"
     },
     "output_type": "display_data"
    }
   ],
   "source": [
    "plot_hist(hist)"
   ]
  },
  {
   "cell_type": "code",
   "execution_count": 11,
   "id": "8bb0326f",
   "metadata": {
    "execution": {
     "iopub.execute_input": "2023-02-10T16:01:50.472945Z",
     "iopub.status.busy": "2023-02-10T16:01:50.472261Z",
     "iopub.status.idle": "2023-02-10T16:02:30.057516Z",
     "shell.execute_reply": "2023-02-10T16:02:30.056767Z",
     "shell.execute_reply.started": "2023-01-31T06:59:46.436955Z"
    },
    "papermill": {
     "duration": 39.641932,
     "end_time": "2023-02-10T16:02:30.057675",
     "exception": false,
     "start_time": "2023-02-10T16:01:50.415743",
     "status": "completed"
    },
    "tags": []
   },
   "outputs": [
    {
     "name": "stdout",
     "output_type": "stream",
     "text": [
      "301/301 [==============================] - 4s 10ms/step\n",
      "              precision    recall  f1-score   support\n",
      "\n",
      "           0     0.9581    0.9884    0.9730     11454\n",
      "           1     0.9821    0.9365    0.9587      7793\n",
      "\n",
      "    accuracy                         0.9674     19247\n",
      "   macro avg     0.9701    0.9624    0.9659     19247\n",
      "weighted avg     0.9678    0.9674    0.9672     19247\n",
      "\n",
      "[[11321   133]\n",
      " [  495  7298]]\n",
      "      TPR       FPR       FNR   ROC AUC\n",
      "   0.9365    0.0116    0.0635    0.9945\n"
     ]
    }
   ],
   "source": [
    "with strategy.scope():\n",
    "    model.load_weights('text-cnn.h5')\n",
    "\n",
    "y_prob_txt = model.predict(test_dataset, verbose=1)\n",
    "y_pred = np.argmax(y_prob_txt, axis=1)\n",
    "\n",
    "clf_report = metrics.classification_report(y_test, y_pred, digits=4)\n",
    "cnf_matrix = metrics.confusion_matrix(y_test, y_pred)\n",
    "TN, FP, FN, TP = cnf_matrix.ravel()\n",
    "TPR = TP / (TP + FN)\n",
    "FPR = FP / (FP + TN)\n",
    "FNR = FN / (FN + TP)\n",
    "fpr, tpr, _ = metrics.roc_curve(y_test, y_prob_txt[:, 1])\n",
    "auc = metrics.roc_auc_score(y_test, y_prob_txt[:, 1])\n",
    "other_metrics = pd.DataFrame({'TPR': '%.4f' % TPR, \n",
    "                              'FPR': '%.4f' % FPR, \n",
    "                              'FNR': '%.4f' % FNR, \n",
    "                              'ROC AUC': '%.4f' % auc}, index=[0]).to_string(col_space=9, index=False)\n",
    "print(clf_report)\n",
    "print(cnf_matrix)\n",
    "print(other_metrics)"
   ]
  },
  {
   "cell_type": "markdown",
   "id": "f87cce86",
   "metadata": {
    "papermill": {
     "duration": 0.063117,
     "end_time": "2023-02-10T16:02:30.183801",
     "exception": false,
     "start_time": "2023-02-10T16:02:30.120684",
     "status": "completed"
    },
    "tags": []
   },
   "source": [
    "### Text-RNN\n"
   ]
  },
  {
   "cell_type": "code",
   "execution_count": 12,
   "id": "9de6ab23",
   "metadata": {
    "execution": {
     "iopub.execute_input": "2023-02-10T16:02:30.324714Z",
     "iopub.status.busy": "2023-02-10T16:02:30.323482Z",
     "iopub.status.idle": "2023-02-10T16:02:33.564931Z",
     "shell.execute_reply": "2023-02-10T16:02:33.565435Z",
     "shell.execute_reply.started": "2023-02-10T15:13:26.550280Z"
    },
    "papermill": {
     "duration": 3.31553,
     "end_time": "2023-02-10T16:02:33.565631",
     "exception": false,
     "start_time": "2023-02-10T16:02:30.250101",
     "status": "completed"
    },
    "tags": []
   },
   "outputs": [
    {
     "name": "stdout",
     "output_type": "stream",
     "text": [
      "Model: \"sequential_1\"\n",
      "_________________________________________________________________\n",
      "Layer (type)                 Output Shape              Param #   \n",
      "=================================================================\n",
      "embedding_1 (Embedding)      (None, 128, 64)           181105280 \n",
      "_________________________________________________________________\n",
      "simple_rnn (SimpleRNN)       (None, 128, 64)           8256      \n",
      "_________________________________________________________________\n",
      "global_max_pooling1d_1 (Glob (None, 64)                0         \n",
      "_________________________________________________________________\n",
      "dense_1 (Dense)              (None, 2)                 130       \n",
      "=================================================================\n",
      "Total params: 181,113,666\n",
      "Trainable params: 181,113,666\n",
      "Non-trainable params: 0\n",
      "_________________________________________________________________\n",
      "None\n"
     ]
    }
   ],
   "source": [
    "vocab_size = len(tokenizer.word_index) + 1\n",
    "\n",
    "with strategy.scope():\n",
    "    model = Sequential()\n",
    "    model.add(L.Embedding(input_dim=vocab_size,\n",
    "                          output_dim=64, \n",
    "                          input_length=X_train.shape[1]))\n",
    "    model.add(L.SimpleRNN(64,return_sequences=True,unroll=True))\n",
    "    model.add(L.GlobalMaxPooling1D())\n",
    "    model.add(L.Dense(2, activation='softmax'))\n",
    "    model.compile(loss='categorical_crossentropy', optimizer='adam', metrics=['accuracy'])\n",
    "    \n",
    "print(model.summary())"
   ]
  },
  {
   "cell_type": "code",
   "execution_count": 13,
   "id": "c5c252f5",
   "metadata": {
    "execution": {
     "iopub.execute_input": "2023-02-10T16:02:33.698619Z",
     "iopub.status.busy": "2023-02-10T16:02:33.697836Z",
     "iopub.status.idle": "2023-02-10T16:30:38.422340Z",
     "shell.execute_reply": "2023-02-10T16:30:38.422891Z"
    },
    "papermill": {
     "duration": 1684.793663,
     "end_time": "2023-02-10T16:30:38.423120",
     "exception": false,
     "start_time": "2023-02-10T16:02:33.629457",
     "status": "completed"
    },
    "tags": []
   },
   "outputs": [
    {
     "name": "stdout",
     "output_type": "stream",
     "text": [
      "Epoch 1/50\n"
     ]
    },
    {
     "name": "stderr",
     "output_type": "stream",
     "text": [
      "/opt/conda/lib/python3.7/site-packages/tensorflow/python/framework/indexed_slices.py:430: UserWarning: Converting sparse IndexedSlices to a dense Tensor with 181105280 elements. This may consume a large amount of memory.\n",
      "  num_elements)\n"
     ]
    },
    {
     "name": "stdout",
     "output_type": "stream",
     "text": [
      "902/902 - 54s - loss: 0.1975 - accuracy: 0.9179 - val_loss: 0.0924 - val_accuracy: 0.9651\n",
      "Epoch 2/50\n",
      "902/902 - 34s - loss: 0.0293 - accuracy: 0.9903 - val_loss: 0.1026 - val_accuracy: 0.9678\n",
      "Epoch 3/50\n",
      "902/902 - 33s - loss: 0.0049 - accuracy: 0.9990 - val_loss: 0.1242 - val_accuracy: 0.9656\n",
      "Epoch 4/50\n",
      "902/902 - 33s - loss: 0.0023 - accuracy: 0.9995 - val_loss: 0.1293 - val_accuracy: 0.9664\n",
      "Epoch 5/50\n",
      "902/902 - 33s - loss: 0.0017 - accuracy: 0.9997 - val_loss: 0.1260 - val_accuracy: 0.9674\n",
      "Epoch 6/50\n",
      "902/902 - 33s - loss: 0.0016 - accuracy: 0.9996 - val_loss: 0.1280 - val_accuracy: 0.9672\n",
      "Epoch 7/50\n",
      "902/902 - 33s - loss: 0.0015 - accuracy: 0.9996 - val_loss: 0.1368 - val_accuracy: 0.9670\n",
      "Epoch 8/50\n",
      "902/902 - 33s - loss: 0.0014 - accuracy: 0.9997 - val_loss: 0.1443 - val_accuracy: 0.9658\n",
      "Epoch 9/50\n",
      "902/902 - 33s - loss: 0.0013 - accuracy: 0.9997 - val_loss: 0.1533 - val_accuracy: 0.9642\n",
      "Epoch 10/50\n",
      "902/902 - 33s - loss: 0.0013 - accuracy: 0.9997 - val_loss: 0.1563 - val_accuracy: 0.9643\n",
      "Epoch 11/50\n",
      "902/902 - 33s - loss: 0.0015 - accuracy: 0.9996 - val_loss: 0.1251 - val_accuracy: 0.9671\n",
      "Epoch 12/50\n",
      "902/902 - 33s - loss: 0.0012 - accuracy: 0.9997 - val_loss: 0.1395 - val_accuracy: 0.9667\n",
      "Epoch 13/50\n",
      "902/902 - 33s - loss: 0.0011 - accuracy: 0.9997 - val_loss: 0.1430 - val_accuracy: 0.9660\n",
      "Epoch 14/50\n",
      "902/902 - 33s - loss: 0.0011 - accuracy: 0.9997 - val_loss: 0.1520 - val_accuracy: 0.9646\n",
      "Epoch 15/50\n",
      "902/902 - 33s - loss: 0.0011 - accuracy: 0.9997 - val_loss: 0.1578 - val_accuracy: 0.9643\n",
      "Epoch 16/50\n",
      "902/902 - 33s - loss: 0.0010 - accuracy: 0.9997 - val_loss: 0.1657 - val_accuracy: 0.9635\n",
      "Epoch 17/50\n",
      "902/902 - 35s - loss: 0.0010 - accuracy: 0.9997 - val_loss: 0.1705 - val_accuracy: 0.9629\n",
      "Epoch 18/50\n",
      "902/902 - 33s - loss: 0.0010 - accuracy: 0.9997 - val_loss: 0.1855 - val_accuracy: 0.9610\n",
      "Epoch 19/50\n",
      "902/902 - 33s - loss: 0.0010 - accuracy: 0.9997 - val_loss: 0.1871 - val_accuracy: 0.9602\n",
      "Epoch 20/50\n",
      "902/902 - 33s - loss: 0.0010 - accuracy: 0.9997 - val_loss: 0.1845 - val_accuracy: 0.9610\n",
      "Epoch 21/50\n",
      "902/902 - 33s - loss: 0.0010 - accuracy: 0.9997 - val_loss: 0.1863 - val_accuracy: 0.9603\n",
      "Epoch 22/50\n",
      "902/902 - 33s - loss: 0.0011 - accuracy: 0.9997 - val_loss: 0.1525 - val_accuracy: 0.9630\n",
      "Epoch 23/50\n",
      "902/902 - 33s - loss: 9.9032e-04 - accuracy: 0.9997 - val_loss: 0.1726 - val_accuracy: 0.9600\n",
      "Epoch 24/50\n",
      "902/902 - 33s - loss: 9.8509e-04 - accuracy: 0.9997 - val_loss: 0.1797 - val_accuracy: 0.9597\n",
      "Epoch 25/50\n",
      "902/902 - 33s - loss: 9.8025e-04 - accuracy: 0.9997 - val_loss: 0.1871 - val_accuracy: 0.9591\n",
      "Epoch 26/50\n",
      "902/902 - 33s - loss: 9.7637e-04 - accuracy: 0.9997 - val_loss: 0.1901 - val_accuracy: 0.9590\n",
      "Epoch 27/50\n",
      "902/902 - 33s - loss: 9.7486e-04 - accuracy: 0.9997 - val_loss: 0.1998 - val_accuracy: 0.9587\n",
      "Epoch 28/50\n",
      "902/902 - 33s - loss: 9.7088e-04 - accuracy: 0.9997 - val_loss: 0.2028 - val_accuracy: 0.9585\n",
      "Epoch 29/50\n",
      "902/902 - 33s - loss: 9.7036e-04 - accuracy: 0.9997 - val_loss: 0.2043 - val_accuracy: 0.9582\n",
      "Epoch 30/50\n",
      "902/902 - 33s - loss: 9.6651e-04 - accuracy: 0.9997 - val_loss: 0.2062 - val_accuracy: 0.9581\n",
      "Epoch 31/50\n",
      "902/902 - 33s - loss: 9.6572e-04 - accuracy: 0.9997 - val_loss: 0.2093 - val_accuracy: 0.9584\n",
      "Epoch 32/50\n",
      "902/902 - 33s - loss: 9.6987e-04 - accuracy: 0.9997 - val_loss: 0.1895 - val_accuracy: 0.9600\n",
      "Epoch 33/50\n",
      "902/902 - 34s - loss: 9.6541e-04 - accuracy: 0.9997 - val_loss: 0.2080 - val_accuracy: 0.9589\n",
      "Epoch 34/50\n",
      "902/902 - 33s - loss: 9.6233e-04 - accuracy: 0.9997 - val_loss: 0.2079 - val_accuracy: 0.9591\n",
      "Epoch 35/50\n",
      "902/902 - 33s - loss: 9.6277e-04 - accuracy: 0.9997 - val_loss: 0.2080 - val_accuracy: 0.9597\n",
      "Epoch 36/50\n",
      "902/902 - 33s - loss: 9.5966e-04 - accuracy: 0.9997 - val_loss: 0.2111 - val_accuracy: 0.9591\n",
      "Epoch 37/50\n",
      "902/902 - 33s - loss: 9.6018e-04 - accuracy: 0.9997 - val_loss: 0.1932 - val_accuracy: 0.9606\n",
      "Epoch 38/50\n",
      "902/902 - 33s - loss: 9.6010e-04 - accuracy: 0.9997 - val_loss: 0.1975 - val_accuracy: 0.9595\n",
      "Epoch 39/50\n",
      "902/902 - 33s - loss: 9.5929e-04 - accuracy: 0.9997 - val_loss: 0.1976 - val_accuracy: 0.9604\n",
      "Epoch 40/50\n",
      "902/902 - 33s - loss: 9.5836e-04 - accuracy: 0.9997 - val_loss: 0.2050 - val_accuracy: 0.9598\n",
      "Epoch 41/50\n",
      "902/902 - 33s - loss: 9.5682e-04 - accuracy: 0.9997 - val_loss: 0.2107 - val_accuracy: 0.9591\n",
      "Epoch 42/50\n",
      "902/902 - 33s - loss: 9.5756e-04 - accuracy: 0.9997 - val_loss: 0.2034 - val_accuracy: 0.9599\n",
      "Epoch 43/50\n",
      "902/902 - 33s - loss: 9.5784e-04 - accuracy: 0.9997 - val_loss: 0.2171 - val_accuracy: 0.9592\n",
      "Epoch 44/50\n",
      "902/902 - 33s - loss: 9.5480e-04 - accuracy: 0.9997 - val_loss: 0.2117 - val_accuracy: 0.9597\n",
      "Epoch 45/50\n",
      "902/902 - 33s - loss: 9.5321e-04 - accuracy: 0.9997 - val_loss: 0.2064 - val_accuracy: 0.9607\n",
      "Epoch 46/50\n",
      "902/902 - 33s - loss: 9.5348e-04 - accuracy: 0.9997 - val_loss: 0.2160 - val_accuracy: 0.9593\n",
      "Epoch 47/50\n",
      "902/902 - 33s - loss: 9.5367e-04 - accuracy: 0.9997 - val_loss: 0.2214 - val_accuracy: 0.9595\n",
      "Epoch 48/50\n",
      "902/902 - 34s - loss: 9.5261e-04 - accuracy: 0.9997 - val_loss: 0.2227 - val_accuracy: 0.9596\n",
      "Epoch 49/50\n",
      "902/902 - 33s - loss: 9.5226e-04 - accuracy: 0.9997 - val_loss: 0.2223 - val_accuracy: 0.9594\n",
      "Epoch 50/50\n",
      "902/902 - 33s - loss: 9.5239e-04 - accuracy: 0.9997 - val_loss: 0.2088 - val_accuracy: 0.9604\n"
     ]
    }
   ],
   "source": [
    "lrs = LearningRateScheduler(lrfn)  \n",
    "mc = ModelCheckpoint('text-rnn.h5', save_best_only=True, save_weights_only=True)\n",
    "steps_per_epoch = len(y_train) // BATCH_SIZE\n",
    "\n",
    "hist = model.fit(train_dataset, epochs=EPOCHS, steps_per_epoch=steps_per_epoch, \n",
    "                 callbacks=[lrs, mc], verbose=2,\n",
    "                 validation_data=valid_dataset, \n",
    "                 )"
   ]
  },
  {
   "cell_type": "code",
   "execution_count": 14,
   "id": "d0f1647d",
   "metadata": {
    "execution": {
     "iopub.execute_input": "2023-02-10T16:30:38.614513Z",
     "iopub.status.busy": "2023-02-10T16:30:38.613518Z",
     "iopub.status.idle": "2023-02-10T16:30:38.861593Z",
     "shell.execute_reply": "2023-02-10T16:30:38.862071Z",
     "shell.execute_reply.started": "2023-01-31T07:32:16.844814Z"
    },
    "papermill": {
     "duration": 0.345862,
     "end_time": "2023-02-10T16:30:38.862292",
     "exception": false,
     "start_time": "2023-02-10T16:30:38.516430",
     "status": "completed"
    },
    "tags": []
   },
   "outputs": [
    {
     "data": {
      "image/png": "[encoded data removed]",
      "text/plain": [
       "<Figure size 432x288 with 1 Axes>"
      ]
     },
     "metadata": {
      "needs_background": "light"
     },
     "output_type": "display_data"
    }
   ],
   "source": [
    "plot_hist(hist)"
   ]
  },
  {
   "cell_type": "code",
   "execution_count": 15,
   "id": "fd3047bb",
   "metadata": {
    "execution": {
     "iopub.execute_input": "2023-02-10T16:30:39.896623Z",
     "iopub.status.busy": "2023-02-10T16:30:39.895806Z",
     "iopub.status.idle": "2023-02-10T16:31:19.209406Z",
     "shell.execute_reply": "2023-02-10T16:31:19.208329Z",
     "shell.execute_reply.started": "2023-01-31T07:32:23.337212Z"
    },
    "papermill": {
     "duration": 40.254812,
     "end_time": "2023-02-10T16:31:19.209616",
     "exception": false,
     "start_time": "2023-02-10T16:30:38.954804",
     "status": "completed"
    },
    "tags": []
   },
   "outputs": [
    {
     "name": "stdout",
     "output_type": "stream",
     "text": [
      "301/301 [==============================] - 8s 19ms/step\n",
      "              precision    recall  f1-score   support\n",
      "\n",
      "           0     0.9611    0.9824    0.9716     11454\n",
      "           1     0.9732    0.9416    0.9572      7793\n",
      "\n",
      "    accuracy                         0.9659     19247\n",
      "   macro avg     0.9672    0.9620    0.9644     19247\n",
      "weighted avg     0.9660    0.9659    0.9658     19247\n",
      "\n",
      "[[11252   202]\n",
      " [  455  7338]]\n",
      "      TPR       FPR       FNR   ROC AUC\n",
      "   0.9416    0.0176    0.0584    0.9945\n"
     ]
    }
   ],
   "source": [
    "with strategy.scope():\n",
    "    model.load_weights('text-rnn.h5')\n",
    "\n",
    "y_prob_txt = model.predict(test_dataset, verbose=1)\n",
    "y_pred = np.argmax(y_prob_txt, axis=1)\n",
    "\n",
    "clf_report = metrics.classification_report(y_test, y_pred, digits=4)\n",
    "cnf_matrix = metrics.confusion_matrix(y_test, y_pred)\n",
    "TN, FP, FN, TP = cnf_matrix.ravel()\n",
    "TPR = TP / (TP + FN)\n",
    "FPR = FP / (FP + TN)\n",
    "FNR = FN / (FN + TP)\n",
    "fpr, tpr, _ = metrics.roc_curve(y_test, y_prob_txt[:, 1])\n",
    "auc = metrics.roc_auc_score(y_test, y_prob_txt[:, 1])\n",
    "other_metrics = pd.DataFrame({'TPR': '%.4f' % TPR, \n",
    "                              'FPR': '%.4f' % FPR, \n",
    "                              'FNR': '%.4f' % FNR, \n",
    "                              'ROC AUC': '%.4f' % auc}, index=[0]).to_string(col_space=9, index=False)\n",
    "print(clf_report)\n",
    "print(cnf_matrix)\n",
    "print(other_metrics)"
   ]
  },
  {
   "cell_type": "markdown",
   "id": "4e1127c5",
   "metadata": {
    "papermill": {
     "duration": 0.105578,
     "end_time": "2023-02-10T16:31:19.430047",
     "exception": false,
     "start_time": "2023-02-10T16:31:19.324469",
     "status": "completed"
    },
    "tags": []
   },
   "source": [
    "### Text_LSTM\n"
   ]
  },
  {
   "cell_type": "code",
   "execution_count": 16,
   "id": "d4b8e684",
   "metadata": {
    "execution": {
     "iopub.execute_input": "2023-02-10T16:31:19.658033Z",
     "iopub.status.busy": "2023-02-10T16:31:19.657128Z",
     "iopub.status.idle": "2023-02-10T16:31:22.521423Z",
     "shell.execute_reply": "2023-02-10T16:31:22.521931Z",
     "shell.execute_reply.started": "2023-01-31T08:05:15.510757Z"
    },
    "papermill": {
     "duration": 2.983866,
     "end_time": "2023-02-10T16:31:22.522157",
     "exception": false,
     "start_time": "2023-02-10T16:31:19.538291",
     "status": "completed"
    },
    "tags": []
   },
   "outputs": [
    {
     "name": "stdout",
     "output_type": "stream",
     "text": [
      "Model: \"sequential_2\"\n",
      "_________________________________________________________________\n",
      "Layer (type)                 Output Shape              Param #   \n",
      "=================================================================\n",
      "embedding_2 (Embedding)      (None, 128, 64)           181105280 \n",
      "_________________________________________________________________\n",
      "lstm (LSTM)                  (None, 128, 64)           33024     \n",
      "_________________________________________________________________\n",
      "global_max_pooling1d_2 (Glob (None, 64)                0         \n",
      "_________________________________________________________________\n",
      "dense_2 (Dense)              (None, 2)                 130       \n",
      "=================================================================\n",
      "Total params: 181,138,434\n",
      "Trainable params: 181,138,434\n",
      "Non-trainable params: 0\n",
      "_________________________________________________________________\n",
      "None\n"
     ]
    }
   ],
   "source": [
    "vocab_size = len(tokenizer.word_index) + 1\n",
    "\n",
    "with strategy.scope():\n",
    "    model = Sequential()\n",
    "    model.add(L.Embedding(input_dim=vocab_size,\n",
    "                          output_dim=64, \n",
    "                          input_length=X_train.shape[1]))\n",
    "    model.add(L.LSTM(64, return_sequences=True))\n",
    "    model.add(L.GlobalMaxPooling1D())\n",
    "    model.add(L.Dense(2, activation='softmax'))\n",
    "    model.compile(loss='categorical_crossentropy', optimizer='adam', metrics=['accuracy'])\n",
    "    \n",
    "print(model.summary())"
   ]
  },
  {
   "cell_type": "code",
   "execution_count": 17,
   "id": "db21915e",
   "metadata": {
    "execution": {
     "iopub.execute_input": "2023-02-10T16:31:22.741600Z",
     "iopub.status.busy": "2023-02-10T16:31:22.740740Z",
     "iopub.status.idle": "2023-02-10T16:59:29.601328Z",
     "shell.execute_reply": "2023-02-10T16:59:29.602641Z",
     "shell.execute_reply.started": "2023-01-31T08:05:18.917435Z"
    },
    "papermill": {
     "duration": 1686.974086,
     "end_time": "2023-02-10T16:59:29.602961",
     "exception": false,
     "start_time": "2023-02-10T16:31:22.628875",
     "status": "completed"
    },
    "tags": []
   },
   "outputs": [
    {
     "name": "stdout",
     "output_type": "stream",
     "text": [
      "Epoch 1/50\n"
     ]
    },
    {
     "name": "stderr",
     "output_type": "stream",
     "text": [
      "/opt/conda/lib/python3.7/site-packages/tensorflow/python/framework/indexed_slices.py:430: UserWarning: Converting sparse IndexedSlices to a dense Tensor with 181105280 elements. This may consume a large amount of memory.\n",
      "  num_elements)\n"
     ]
    },
    {
     "name": "stdout",
     "output_type": "stream",
     "text": [
      "902/902 - 42s - loss: 0.1667 - accuracy: 0.9281 - val_loss: 0.0918 - val_accuracy: 0.9657\n",
      "Epoch 2/50\n",
      "902/902 - 34s - loss: 0.0258 - accuracy: 0.9918 - val_loss: 0.1043 - val_accuracy: 0.9668\n",
      "Epoch 3/50\n",
      "902/902 - 33s - loss: 0.0054 - accuracy: 0.9987 - val_loss: 0.1177 - val_accuracy: 0.9672\n",
      "Epoch 4/50\n",
      "902/902 - 33s - loss: 0.0027 - accuracy: 0.9994 - val_loss: 0.1340 - val_accuracy: 0.9665\n",
      "Epoch 5/50\n",
      "902/902 - 33s - loss: 0.0019 - accuracy: 0.9995 - val_loss: 0.1468 - val_accuracy: 0.9653\n",
      "Epoch 6/50\n",
      "902/902 - 33s - loss: 0.0018 - accuracy: 0.9996 - val_loss: 0.1453 - val_accuracy: 0.9657\n",
      "Epoch 7/50\n",
      "902/902 - 33s - loss: 0.0015 - accuracy: 0.9996 - val_loss: 0.1588 - val_accuracy: 0.9655\n",
      "Epoch 8/50\n",
      "902/902 - 33s - loss: 0.0015 - accuracy: 0.9996 - val_loss: 0.1477 - val_accuracy: 0.9663\n",
      "Epoch 9/50\n",
      "902/902 - 33s - loss: 0.0013 - accuracy: 0.9996 - val_loss: 0.1863 - val_accuracy: 0.9643\n",
      "Epoch 10/50\n",
      "902/902 - 33s - loss: 0.0012 - accuracy: 0.9996 - val_loss: 0.2036 - val_accuracy: 0.9635\n",
      "Epoch 11/50\n",
      "902/902 - 33s - loss: 0.0013 - accuracy: 0.9996 - val_loss: 0.1520 - val_accuracy: 0.9651\n",
      "Epoch 12/50\n",
      "902/902 - 33s - loss: 0.0012 - accuracy: 0.9996 - val_loss: 0.1666 - val_accuracy: 0.9647\n",
      "Epoch 13/50\n",
      "902/902 - 33s - loss: 0.0011 - accuracy: 0.9997 - val_loss: 0.1444 - val_accuracy: 0.9664\n",
      "Epoch 14/50\n",
      "902/902 - 33s - loss: 0.0010 - accuracy: 0.9997 - val_loss: 0.1543 - val_accuracy: 0.9663\n",
      "Epoch 15/50\n",
      "902/902 - 34s - loss: 0.0010 - accuracy: 0.9997 - val_loss: 0.1600 - val_accuracy: 0.9663\n",
      "Epoch 16/50\n",
      "902/902 - 33s - loss: 9.9676e-04 - accuracy: 0.9997 - val_loss: 0.1660 - val_accuracy: 0.9664\n",
      "Epoch 17/50\n",
      "902/902 - 33s - loss: 9.8834e-04 - accuracy: 0.9997 - val_loss: 0.1695 - val_accuracy: 0.9662\n",
      "Epoch 18/50\n",
      "902/902 - 33s - loss: 9.7691e-04 - accuracy: 0.9997 - val_loss: 0.1748 - val_accuracy: 0.9661\n",
      "Epoch 19/50\n",
      "902/902 - 33s - loss: 9.6739e-04 - accuracy: 0.9997 - val_loss: 0.1794 - val_accuracy: 0.9661\n",
      "Epoch 20/50\n",
      "902/902 - 33s - loss: 9.5921e-04 - accuracy: 0.9997 - val_loss: 0.1831 - val_accuracy: 0.9658\n",
      "Epoch 21/50\n",
      "902/902 - 33s - loss: 9.4925e-04 - accuracy: 0.9997 - val_loss: 0.1901 - val_accuracy: 0.9652\n",
      "Epoch 22/50\n",
      "902/902 - 33s - loss: 9.4666e-04 - accuracy: 0.9997 - val_loss: 0.1942 - val_accuracy: 0.9649\n",
      "Epoch 23/50\n",
      "902/902 - 33s - loss: 9.5140e-04 - accuracy: 0.9997 - val_loss: 0.2015 - val_accuracy: 0.9648\n",
      "Epoch 24/50\n",
      "902/902 - 33s - loss: 9.3904e-04 - accuracy: 0.9997 - val_loss: 0.1866 - val_accuracy: 0.9651\n",
      "Epoch 25/50\n",
      "902/902 - 33s - loss: 9.3241e-04 - accuracy: 0.9997 - val_loss: 0.1933 - val_accuracy: 0.9649\n",
      "Epoch 26/50\n",
      "902/902 - 33s - loss: 9.2922e-04 - accuracy: 0.9997 - val_loss: 0.1969 - val_accuracy: 0.9647\n",
      "Epoch 27/50\n",
      "902/902 - 33s - loss: 9.3276e-04 - accuracy: 0.9997 - val_loss: 0.1983 - val_accuracy: 0.9648\n",
      "Epoch 28/50\n",
      "902/902 - 34s - loss: 9.2745e-04 - accuracy: 0.9997 - val_loss: 0.2028 - val_accuracy: 0.9647\n",
      "Epoch 29/50\n",
      "902/902 - 33s - loss: 9.2694e-04 - accuracy: 0.9997 - val_loss: 0.1997 - val_accuracy: 0.9646\n",
      "Epoch 30/50\n",
      "902/902 - 33s - loss: 9.2555e-04 - accuracy: 0.9997 - val_loss: 0.2060 - val_accuracy: 0.9648\n",
      "Epoch 31/50\n",
      "902/902 - 33s - loss: 9.2413e-04 - accuracy: 0.9997 - val_loss: 0.2115 - val_accuracy: 0.9646\n",
      "Epoch 32/50\n",
      "902/902 - 33s - loss: 9.2328e-04 - accuracy: 0.9997 - val_loss: 0.2182 - val_accuracy: 0.9645\n",
      "Epoch 33/50\n",
      "902/902 - 33s - loss: 9.2196e-04 - accuracy: 0.9997 - val_loss: 0.2104 - val_accuracy: 0.9646\n",
      "Epoch 34/50\n",
      "902/902 - 33s - loss: 9.2003e-04 - accuracy: 0.9997 - val_loss: 0.2199 - val_accuracy: 0.9644\n",
      "Epoch 35/50\n",
      "902/902 - 33s - loss: 9.2042e-04 - accuracy: 0.9997 - val_loss: 0.2261 - val_accuracy: 0.9642\n",
      "Epoch 36/50\n",
      "902/902 - 33s - loss: 9.1873e-04 - accuracy: 0.9997 - val_loss: 0.2288 - val_accuracy: 0.9639\n",
      "Epoch 37/50\n",
      "902/902 - 33s - loss: 9.1753e-04 - accuracy: 0.9997 - val_loss: 0.2336 - val_accuracy: 0.9637\n",
      "Epoch 38/50\n",
      "902/902 - 33s - loss: 9.1848e-04 - accuracy: 0.9997 - val_loss: 0.2377 - val_accuracy: 0.9635\n",
      "Epoch 39/50\n",
      "902/902 - 33s - loss: 9.1693e-04 - accuracy: 0.9997 - val_loss: 0.2446 - val_accuracy: 0.9632\n",
      "Epoch 40/50\n",
      "902/902 - 33s - loss: 9.1583e-04 - accuracy: 0.9997 - val_loss: 0.2479 - val_accuracy: 0.9629\n",
      "Epoch 41/50\n",
      "902/902 - 34s - loss: 9.1330e-04 - accuracy: 0.9997 - val_loss: 0.2522 - val_accuracy: 0.9627\n",
      "Epoch 42/50\n",
      "902/902 - 33s - loss: 9.1448e-04 - accuracy: 0.9997 - val_loss: 0.2557 - val_accuracy: 0.9625\n",
      "Epoch 43/50\n",
      "902/902 - 33s - loss: 9.1170e-04 - accuracy: 0.9997 - val_loss: 0.2566 - val_accuracy: 0.9630\n",
      "Epoch 44/50\n",
      "902/902 - 33s - loss: 9.1777e-04 - accuracy: 0.9997 - val_loss: 0.2618 - val_accuracy: 0.9626\n",
      "Epoch 45/50\n",
      "902/902 - 33s - loss: 9.1452e-04 - accuracy: 0.9997 - val_loss: 0.2683 - val_accuracy: 0.9624\n",
      "Epoch 46/50\n",
      "902/902 - 33s - loss: 9.1261e-04 - accuracy: 0.9997 - val_loss: 0.2724 - val_accuracy: 0.9619\n",
      "Epoch 47/50\n",
      "902/902 - 33s - loss: 0.0012 - accuracy: 0.9997 - val_loss: 0.1891 - val_accuracy: 0.9622\n",
      "Epoch 48/50\n",
      "902/902 - 33s - loss: 9.1362e-04 - accuracy: 0.9997 - val_loss: 0.1944 - val_accuracy: 0.9634\n",
      "Epoch 49/50\n",
      "902/902 - 33s - loss: 9.1347e-04 - accuracy: 0.9997 - val_loss: 0.1946 - val_accuracy: 0.9632\n",
      "Epoch 50/50\n",
      "902/902 - 33s - loss: 9.0401e-04 - accuracy: 0.9997 - val_loss: 0.1947 - val_accuracy: 0.9635\n"
     ]
    }
   ],
   "source": [
    "lrs = LearningRateScheduler(lrfn)  \n",
    "mc = ModelCheckpoint('text-lstm.h5', save_best_only=True, save_weights_only=True)\n",
    "steps_per_epoch = len(y_train) // BATCH_SIZE\n",
    "\n",
    "hist = model.fit(train_dataset, epochs=EPOCHS, steps_per_epoch=steps_per_epoch, callbacks=[lrs, mc], \n",
    "                 validation_data=valid_dataset, verbose=2)"
   ]
  },
  {
   "cell_type": "code",
   "execution_count": 18,
   "id": "e4a22bde",
   "metadata": {
    "execution": {
     "iopub.execute_input": "2023-02-10T16:59:29.884072Z",
     "iopub.status.busy": "2023-02-10T16:59:29.883360Z",
     "iopub.status.idle": "2023-02-10T16:59:30.130557Z",
     "shell.execute_reply": "2023-02-10T16:59:30.129863Z",
     "shell.execute_reply.started": "2023-01-31T08:19:10.293168Z"
    },
    "papermill": {
     "duration": 0.387124,
     "end_time": "2023-02-10T16:59:30.130723",
     "exception": false,
     "start_time": "2023-02-10T16:59:29.743599",
     "status": "completed"
    },
    "tags": []
   },
   "outputs": [
    {
     "data": {
      "image/png": "[encoded data removed]",
      "text/plain": [
       "<Figure size 432x288 with 1 Axes>"
      ]
     },
     "metadata": {
      "needs_background": "light"
     },
     "output_type": "display_data"
    }
   ],
   "source": [
    "plot_hist(hist)"
   ]
  },
  {
   "cell_type": "code",
   "execution_count": 19,
   "id": "09a73b01",
   "metadata": {
    "execution": {
     "iopub.execute_input": "2023-02-10T16:59:32.952409Z",
     "iopub.status.busy": "2023-02-10T16:59:32.951628Z",
     "iopub.status.idle": "2023-02-10T17:00:12.492464Z",
     "shell.execute_reply": "2023-02-10T17:00:12.493531Z",
     "shell.execute_reply.started": "2023-01-31T08:19:10.295011Z"
    },
    "papermill": {
     "duration": 42.217913,
     "end_time": "2023-02-10T17:00:12.493839",
     "exception": false,
     "start_time": "2023-02-10T16:59:30.275926",
     "status": "completed"
    },
    "tags": []
   },
   "outputs": [
    {
     "name": "stdout",
     "output_type": "stream",
     "text": [
      "301/301 [==============================] - 5s 11ms/step\n",
      "              precision    recall  f1-score   support\n",
      "\n",
      "           0     0.9605    0.9861    0.9732     11454\n",
      "           1     0.9788    0.9405    0.9592      7793\n",
      "\n",
      "    accuracy                         0.9676     19247\n",
      "   macro avg     0.9697    0.9633    0.9662     19247\n",
      "weighted avg     0.9679    0.9676    0.9675     19247\n",
      "\n",
      "[[11295   159]\n",
      " [  464  7329]]\n",
      "      TPR       FPR       FNR   ROC AUC\n",
      "   0.9405    0.0139    0.0595    0.9952\n"
     ]
    }
   ],
   "source": [
    "with strategy.scope():\n",
    "    model.load_weights('text-lstm.h5')\n",
    "\n",
    "y_prob_txt = model.predict(test_dataset, verbose=1)\n",
    "y_pred = np.argmax(y_prob_txt, axis=1)\n",
    "\n",
    "clf_report = metrics.classification_report(y_test, y_pred, digits=4)\n",
    "cnf_matrix = metrics.confusion_matrix(y_test, y_pred)\n",
    "TN, FP, FN, TP = cnf_matrix.ravel()\n",
    "TPR = TP / (TP + FN)\n",
    "FPR = FP / (FP + TN)\n",
    "FNR = FN / (FN + TP)\n",
    "fpr, tpr, _ = metrics.roc_curve(y_test, y_prob_txt[:, 1])\n",
    "auc = metrics.roc_auc_score(y_test, y_prob_txt[:, 1])\n",
    "other_metrics = pd.DataFrame({'TPR': '%.4f' % TPR, \n",
    "                              'FPR': '%.4f' % FPR, \n",
    "                              'FNR': '%.4f' % FNR, \n",
    "                              'ROC AUC': '%.4f' % auc}, index=[0]).to_string(col_space=9, index=False)\n",
    "print(clf_report)\n",
    "print(cnf_matrix)\n",
    "print(other_metrics)"
   ]
  }
 ],
 "metadata": {
  "kernelspec": {
   "display_name": "Python 3",
   "language": "python",
   "name": "python3"
  },
  "language_info": {
   "codemirror_mode": {
    "name": "ipython",
    "version": 3
   },
   "file_extension": ".py",
   "mimetype": "text/x-python",
   "name": "python",
   "nbconvert_exporter": "python",
   "pygments_lexer": "ipython3",
   "version": "3.7.10"
  },
  "papermill": {
   "default_parameters": {},
   "duration": 5371.52714,
   "end_time": "2023-02-10T17:00:15.780982",
   "environment_variables": {},
   "exception": null,
   "input_path": "__notebook__.ipynb",
   "output_path": "__notebook__.ipynb",
   "parameters": {},
   "start_time": "2023-02-10T15:30:44.253842",
   "version": "2.3.3"
  },
  "widgets": {
   "application/vnd.jupyter.widget-state+json": {
    "state": {
     "1cf601bc0c814293a7b9c28e17da9c39": {
      "model_module": "@jupyter-widgets/controls",
      "model_module_version": "1.5.0",
      "model_name": "HTMLModel",
      "state": {
       "_dom_classes": [],
       "_model_module": "@jupyter-widgets/controls",
       "_model_module_version": "1.5.0",
       "_model_name": "HTMLModel",
       "_view_count": null,
       "_view_module": "@jupyter-widgets/controls",
       "_view_module_version": "1.5.0",
       "_view_name": "HTMLView",
       "description": "",
       "description_tooltip": null,
       "layout": "IPY_MODEL_21886f3c25534411a790e0e5bdd1eff7",
       "placeholder": "​",
       "style": "IPY_MODEL_4063e8aa4c984a749c3ac5bd512ece39",
       "value": " 96234/96234 [02:42&lt;00:00, 630.30it/s]"
      }
     },
     "21886f3c25534411a790e0e5bdd1eff7": {
      "model_module": "@jupyter-widgets/base",
      "model_module_version": "1.2.0",
      "model_name": "LayoutModel",
      "state": {
       "_model_module": "@jupyter-widgets/base",
       "_model_module_version": "1.2.0",
       "_model_name": "LayoutModel",
       "_view_count": null,
       "_view_module": "@jupyter-widgets/base",
       "_view_module_version": "1.2.0",
       "_view_name": "LayoutView",
       "align_content": null,
       "align_items": null,
       "align_self": null,
       "border": null,
       "bottom": null,
       "display": null,
       "flex": null,
       "flex_flow": null,
       "grid_area": null,
       "grid_auto_columns": null,
       "grid_auto_flow": null,
       "grid_auto_rows": null,
       "grid_column": null,
       "grid_gap": null,
       "grid_row": null,
       "grid_template_areas": null,
       "grid_template_columns": null,
       "grid_template_rows": null,
       "height": null,
       "justify_content": null,
       "justify_items": null,
       "left": null,
       "margin": null,
       "max_height": null,
       "max_width": null,
       "min_height": null,
       "min_width": null,
       "object_fit": null,
       "object_position": null,
       "order": null,
       "overflow": null,
       "overflow_x": null,
       "overflow_y": null,
       "padding": null,
       "right": null,
       "top": null,
       "visibility": null,
       "width": null
      }
     },
     "261d62f5a0444ed392fdfc984695a9f4": {
      "model_module": "@jupyter-widgets/base",
      "model_module_version": "1.2.0",
      "model_name": "LayoutModel",
      "state": {
       "_model_module": "@jupyter-widgets/base",
       "_model_module_version": "1.2.0",
       "_model_name": "LayoutModel",
       "_view_count": null,
       "_view_module": "@jupyter-widgets/base",
       "_view_module_version": "1.2.0",
       "_view_name": "LayoutView",
       "align_content": null,
       "align_items": null,
       "align_self": null,
       "border": null,
       "bottom": null,
       "display": null,
       "flex": null,
       "flex_flow": null,
       "grid_area": null,
       "grid_auto_columns": null,
       "grid_auto_flow": null,
       "grid_auto_rows": null,
       "grid_column": null,
       "grid_gap": null,
       "grid_row": null,
       "grid_template_areas": null,
       "grid_template_columns": null,
       "grid_template_rows": null,
       "height": null,
       "justify_content": null,
       "justify_items": null,
       "left": null,
       "margin": null,
       "max_height": null,
       "max_width": null,
       "min_height": null,
       "min_width": null,
       "object_fit": null,
       "object_position": null,
       "order": null,
       "overflow": null,
       "overflow_x": null,
       "overflow_y": null,
       "padding": null,
       "right": null,
       "top": null,
       "visibility": null,
       "width": null
      }
     },
     "2c3b5cb1749240ff98f7a740287ff064": {
      "model_module": "@jupyter-widgets/base",
      "model_module_version": "1.2.0",
      "model_name": "LayoutModel",
      "state": {
       "_model_module": "@jupyter-widgets/base",
       "_model_module_version": "1.2.0",
       "_model_name": "LayoutModel",
       "_view_count": null,
       "_view_module": "@jupyter-widgets/base",
       "_view_module_version": "1.2.0",
       "_view_name": "LayoutView",
       "align_content": null,
       "align_items": null,
       "align_self": null,
       "border": null,
       "bottom": null,
       "display": null,
       "flex": null,
       "flex_flow": null,
       "grid_area": null,
       "grid_auto_columns": null,
       "grid_auto_flow": null,
       "grid_auto_rows": null,
       "grid_column": null,
       "grid_gap": null,
       "grid_row": null,
       "grid_template_areas": null,
       "grid_template_columns": null,
       "grid_template_rows": null,
       "height": null,
       "justify_content": null,
       "justify_items": null,
       "left": null,
       "margin": null,
       "max_height": null,
       "max_width": null,
       "min_height": null,
       "min_width": null,
       "object_fit": null,
       "object_position": null,
       "order": null,
       "overflow": null,
       "overflow_x": null,
       "overflow_y": null,
       "padding": null,
       "right": null,
       "top": null,
       "visibility": null,
       "width": null
      }
     },
     "2daef7981baa4d838d5be9288466e2e0": {
      "model_module": "@jupyter-widgets/controls",
      "model_module_version": "1.5.0",
      "model_name": "DescriptionStyleModel",
      "state": {
       "_model_module": "@jupyter-widgets/controls",
       "_model_module_version": "1.5.0",
       "_model_name": "DescriptionStyleModel",
       "_view_count": null,
       "_view_module": "@jupyter-widgets/base",
       "_view_module_version": "1.2.0",
       "_view_name": "StyleView",
       "description_width": ""
      }
     },
     "4063e8aa4c984a749c3ac5bd512ece39": {
      "model_module": "@jupyter-widgets/controls",
      "model_module_version": "1.5.0",
      "model_name": "DescriptionStyleModel",
      "state": {
       "_model_module": "@jupyter-widgets/controls",
       "_model_module_version": "1.5.0",
       "_model_name": "DescriptionStyleModel",
       "_view_count": null,
       "_view_module": "@jupyter-widgets/base",
       "_view_module_version": "1.2.0",
       "_view_name": "StyleView",
       "description_width": ""
      }
     },
     "65bd492ba26d4161b48fc035cedbb0a8": {
      "model_module": "@jupyter-widgets/controls",
      "model_module_version": "1.5.0",
      "model_name": "HTMLModel",
      "state": {
       "_dom_classes": [],
       "_model_module": "@jupyter-widgets/controls",
       "_model_module_version": "1.5.0",
       "_model_name": "HTMLModel",
       "_view_count": null,
       "_view_module": "@jupyter-widgets/controls",
       "_view_module_version": "1.5.0",
       "_view_name": "HTMLView",
       "description": "",
       "description_tooltip": null,
       "layout": "IPY_MODEL_261d62f5a0444ed392fdfc984695a9f4",
       "placeholder": "​",
       "style": "IPY_MODEL_2daef7981baa4d838d5be9288466e2e0",
       "value": "100%"
      }
     },
     "9d5d844a993c478f898ee79a66926e02": {
      "model_module": "@jupyter-widgets/base",
      "model_module_version": "1.2.0",
      "model_name": "LayoutModel",
      "state": {
       "_model_module": "@jupyter-widgets/base",
       "_model_module_version": "1.2.0",
       "_model_name": "LayoutModel",
       "_view_count": null,
       "_view_module": "@jupyter-widgets/base",
       "_view_module_version": "1.2.0",
       "_view_name": "LayoutView",
       "align_content": null,
       "align_items": null,
       "align_self": null,
       "border": null,
       "bottom": null,
       "display": null,
       "flex": null,
       "flex_flow": null,
       "grid_area": null,
       "grid_auto_columns": null,
       "grid_auto_flow": null,
       "grid_auto_rows": null,
       "grid_column": null,
       "grid_gap": null,
       "grid_row": null,
       "grid_template_areas": null,
       "grid_template_columns": null,
       "grid_template_rows": null,
       "height": null,
       "justify_content": null,
       "justify_items": null,
       "left": null,
       "margin": null,
       "max_height": null,
       "max_width": null,
       "min_height": null,
       "min_width": null,
       "object_fit": null,
       "object_position": null,
       "order": null,
       "overflow": null,
       "overflow_x": null,
       "overflow_y": null,
       "padding": null,
       "right": null,
       "top": null,
       "visibility": null,
       "width": null
      }
     },
     "c10e8e7d4daf4739ba500035f95423f7": {
      "model_module": "@jupyter-widgets/controls",
      "model_module_version": "1.5.0",
      "model_name": "HBoxModel",
      "state": {
       "_dom_classes": [],
       "_model_module": "@jupyter-widgets/controls",
       "_model_module_version": "1.5.0",
       "_model_name": "HBoxModel",
       "_view_count": null,
       "_view_module": "@jupyter-widgets/controls",
       "_view_module_version": "1.5.0",
       "_view_name": "HBoxView",
       "box_style": "",
       "children": [
        "IPY_MODEL_65bd492ba26d4161b48fc035cedbb0a8",
        "IPY_MODEL_e1ca0700a10e41d4bdb05e820d3790cf",
        "IPY_MODEL_1cf601bc0c814293a7b9c28e17da9c39"
       ],
       "layout": "IPY_MODEL_9d5d844a993c478f898ee79a66926e02"
      }
     },
     "c784069197704500a74e7f11300c4fe4": {
      "model_module": "@jupyter-widgets/controls",
      "model_module_version": "1.5.0",
      "model_name": "ProgressStyleModel",
      "state": {
       "_model_module": "@jupyter-widgets/controls",
       "_model_module_version": "1.5.0",
       "_model_name": "ProgressStyleModel",
       "_view_count": null,
       "_view_module": "@jupyter-widgets/base",
       "_view_module_version": "1.2.0",
       "_view_name": "StyleView",
       "bar_color": null,
       "description_width": ""
      }
     },
     "e1ca0700a10e41d4bdb05e820d3790cf": {
      "model_module": "@jupyter-widgets/controls",
      "model_module_version": "1.5.0",
      "model_name": "FloatProgressModel",
      "state": {
       "_dom_classes": [],
       "_model_module": "@jupyter-widgets/controls",
       "_model_module_version": "1.5.0",
       "_model_name": "FloatProgressModel",
       "_view_count": null,
       "_view_module": "@jupyter-widgets/controls",
       "_view_module_version": "1.5.0",
       "_view_name": "ProgressView",
       "bar_style": "success",
       "description": "",
       "description_tooltip": null,
       "layout": "IPY_MODEL_2c3b5cb1749240ff98f7a740287ff064",
       "max": 96234.0,
       "min": 0.0,
       "orientation": "horizontal",
       "style": "IPY_MODEL_c784069197704500a74e7f11300c4fe4",
       "value": 96234.0
      }
     }
    },
    "version_major": 2,
    "version_minor": 0
   }
  }
 },
 "nbformat": 4,
 "nbformat_minor": 5
}

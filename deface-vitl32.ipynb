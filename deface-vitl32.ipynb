{
 "cells": [
  {
   "cell_type": "code",
   "execution_count": 1,
   "id": "f3b5f0fd",
   "metadata": {
    "_cell_guid": "b1076dfc-b9ad-4769-8c92-a6c4dae69d19",
    "_uuid": "8f2839f25d086af736a60e9eeb907d3b93b6e0e5",
    "execution": {
     "iopub.execute_input": "2023-01-30T17:42:02.145982Z",
     "iopub.status.busy": "2023-01-30T17:42:02.145153Z",
     "iopub.status.idle": "2023-01-30T17:42:08.222480Z",
     "shell.execute_reply": "2023-01-30T17:42:08.221760Z",
     "shell.execute_reply.started": "2023-01-30T07:05:33.144277Z"
    },
    "papermill": {
     "duration": 6.101774,
     "end_time": "2023-01-30T17:42:08.222663",
     "exception": false,
     "start_time": "2023-01-30T17:42:02.120889",
     "status": "completed"
    },
    "tags": []
   },
   "outputs": [
    {
     "name": "stderr",
     "output_type": "stream",
     "text": [
      "2023-01-30 17:42:02.791826: W tensorflow/stream_executor/platform/default/dso_loader.cc:60] Could not load dynamic library 'libcudart.so.11.0'; dlerror: libcudart.so.11.0: cannot open shared object file: No such file or directory; LD_LIBRARY_PATH: /opt/conda/lib\n",
      "2023-01-30 17:42:02.791947: I tensorflow/stream_executor/cuda/cudart_stub.cc:29] Ignore above cudart dlerror if you do not have a GPU set up on your machine.\n"
     ]
    }
   ],
   "source": [
    "import numpy as np\n",
    "import pandas as pd\n",
    "import tensorflow as tf\n",
    "from matplotlib import pyplot as plt\n",
    "from kaggle_datasets import KaggleDatasets\n",
    "from kaggle_secrets import UserSecretsClient\n",
    "from glob import glob\n",
    "from tqdm.notebook import tqdm\n",
    "from multiprocessing import cpu_count\n",
    "from joblib import Parallel, delayed\n",
    "from tensorflow.keras.models import Sequential\n",
    "from tensorflow.keras import layers as L\n",
    "from tensorflow.keras.utils import to_categorical\n",
    "from tensorflow.keras.callbacks import LearningRateScheduler, ModelCheckpoint\n",
    "from sklearn.model_selection import train_test_split\n",
    "from sklearn import metrics\n",
    "\n",
    "%matplotlib inline"
   ]
  },
  {
   "cell_type": "code",
   "execution_count": 2,
   "id": "33a336a4",
   "metadata": {
    "execution": {
     "iopub.execute_input": "2023-01-30T17:42:08.260832Z",
     "iopub.status.busy": "2023-01-30T17:42:08.260099Z",
     "iopub.status.idle": "2023-01-30T17:42:14.184262Z",
     "shell.execute_reply": "2023-01-30T17:42:14.183568Z",
     "shell.execute_reply.started": "2023-01-30T07:22:43.518888Z"
    },
    "papermill": {
     "duration": 5.952345,
     "end_time": "2023-01-30T17:42:14.184437",
     "exception": false,
     "start_time": "2023-01-30T17:42:08.232092",
     "status": "completed"
    },
    "tags": []
   },
   "outputs": [
    {
     "name": "stdout",
     "output_type": "stream",
     "text": [
      "Running on TPU: grpc://10.0.0.2:8470\n"
     ]
    },
    {
     "name": "stderr",
     "output_type": "stream",
     "text": [
      "2023-01-30 17:42:08.249612: I tensorflow/compiler/jit/xla_cpu_device.cc:41] Not creating XLA devices, tf_xla_enable_xla_devices not set\n",
      "2023-01-30 17:42:08.251602: W tensorflow/stream_executor/platform/default/dso_loader.cc:60] Could not load dynamic library 'libcuda.so.1'; dlerror: libcuda.so.1: cannot open shared object file: No such file or directory; LD_LIBRARY_PATH: /opt/conda/lib\n",
      "2023-01-30 17:42:08.251636: W tensorflow/stream_executor/cuda/cuda_driver.cc:326] failed call to cuInit: UNKNOWN ERROR (303)\n",
      "2023-01-30 17:42:08.251665: I tensorflow/stream_executor/cuda/cuda_diagnostics.cc:156] kernel driver does not appear to be running on this host (0cc90703a311): /proc/driver/nvidia/version does not exist\n",
      "2023-01-30 17:42:08.254359: I tensorflow/core/platform/cpu_feature_guard.cc:142] This TensorFlow binary is optimized with oneAPI Deep Neural Network Library (oneDNN) to use the following CPU instructions in performance-critical operations:  AVX2 FMA\n",
      "To enable them in other operations, rebuild TensorFlow with the appropriate compiler flags.\n",
      "2023-01-30 17:42:08.255630: I tensorflow/compiler/jit/xla_gpu_device.cc:99] Not creating XLA devices, tf_xla_enable_xla_devices not set\n",
      "2023-01-30 17:42:08.260643: I tensorflow/compiler/jit/xla_gpu_device.cc:99] Not creating XLA devices, tf_xla_enable_xla_devices not set\n",
      "2023-01-30 17:42:08.282612: I tensorflow/core/distributed_runtime/rpc/grpc_channel.cc:301] Initialize GrpcChannelCache for job worker -> {0 -> 10.0.0.2:8470}\n",
      "2023-01-30 17:42:08.282668: I tensorflow/core/distributed_runtime/rpc/grpc_channel.cc:301] Initialize GrpcChannelCache for job localhost -> {0 -> localhost:30019}\n",
      "2023-01-30 17:42:08.306278: I tensorflow/core/distributed_runtime/rpc/grpc_channel.cc:301] Initialize GrpcChannelCache for job worker -> {0 -> 10.0.0.2:8470}\n",
      "2023-01-30 17:42:08.306335: I tensorflow/core/distributed_runtime/rpc/grpc_channel.cc:301] Initialize GrpcChannelCache for job localhost -> {0 -> localhost:30019}\n",
      "2023-01-30 17:42:08.307745: I tensorflow/core/distributed_runtime/rpc/grpc_server_lib.cc:411] Started server with target: grpc://localhost:30019\n"
     ]
    },
    {
     "name": "stdout",
     "output_type": "stream",
     "text": [
      "N_JOBS: 4\n",
      "Batch size: 64\n",
      "GCS_DS_PATH: gs://kds-cf66edfbb3bc4d08a417f479c3e7836a0b3f494422aec4abb1e0b62f\n"
     ]
    }
   ],
   "source": [
    "try:\n",
    "    tpu = tf.distribute.cluster_resolver.TPUClusterResolver()\n",
    "    print('Running on TPU:', tpu.master())\n",
    "except ValueError:\n",
    "    tpu = None\n",
    "\n",
    "if tpu:\n",
    "    tf.config.experimental_connect_to_cluster(tpu)\n",
    "    tf.tpu.experimental.initialize_tpu_system(tpu)\n",
    "    strategy = tf.distribute.experimental.TPUStrategy(tpu)\n",
    "else:\n",
    "    strategy = tf.distribute.get_strategy()\n",
    "\n",
    "user_secrets = UserSecretsClient()\n",
    "user_credential = user_secrets.get_gcloud_credential()\n",
    "user_secrets.set_tensorflow_credential(user_credential)\n",
    "GCS_DS_PATH = KaggleDatasets().get_gcs_path('website-defacement')\n",
    "\n",
    "AUTO = tf.data.experimental.AUTOTUNE\n",
    "BATCH_SIZE = 8 * strategy.num_replicas_in_sync\n",
    "N_JOBS = cpu_count()\n",
    "\n",
    "IMG_SIZE = 224\n",
    "EPOCHS = 50\n",
    "\n",
    "print('N_JOBS:', N_JOBS)\n",
    "print('Batch size:', BATCH_SIZE)\n",
    "print('GCS_DS_PATH:', GCS_DS_PATH)"
   ]
  },
  {
   "cell_type": "code",
   "execution_count": 3,
   "id": "3869e65e",
   "metadata": {
    "execution": {
     "iopub.execute_input": "2023-01-30T17:42:14.215367Z",
     "iopub.status.busy": "2023-01-30T17:42:14.214674Z",
     "iopub.status.idle": "2023-01-30T17:43:31.652164Z",
     "shell.execute_reply": "2023-01-30T17:43:31.651310Z",
     "shell.execute_reply.started": "2023-01-30T07:25:59.071412Z"
    },
    "papermill": {
     "duration": 77.457522,
     "end_time": "2023-01-30T17:43:31.652325",
     "exception": false,
     "start_time": "2023-01-30T17:42:14.194803",
     "status": "completed"
    },
    "tags": []
   },
   "outputs": [
    {
     "data": {
      "application/vnd.jupyter.widget-view+json": {
       "model_id": "1335c9c805fa44589c8643aca912212c",
       "version_major": 2,
       "version_minor": 0
      },
      "text/plain": [
       "  0%|          | 0/96234 [00:00<?, ?it/s]"
      ]
     },
     "metadata": {},
     "output_type": "display_data"
    },
    {
     "name": "stdout",
     "output_type": "stream",
     "text": [
      "57740 19247 19247\n"
     ]
    }
   ],
   "source": [
    "dataset_path = '../input/website-defacement/dataset/'\n",
    "img_paths = glob(dataset_path + 'image/*/*')\n",
    "txt_paths = glob(dataset_path + 'text/*/*')\n",
    "img_names = [path.split('/')[-1][:-4] for path in img_paths]\n",
    "txt_names = [path.split('/')[-1][:-4] for path in txt_paths]\n",
    "names = list(set(img_names).intersection(txt_names))\n",
    "\n",
    "def prepare_data(name):\n",
    "    if glob(dataset_path + f'image/defaced/{name}.png'):\n",
    "        return (f'{GCS_DS_PATH}/dataset/image/defaced/{name}.png', 1)\n",
    "    else:\n",
    "        return (f'{GCS_DS_PATH}/dataset/image/benign/{name}.png', 0)\n",
    "\n",
    "output = Parallel(n_jobs=N_JOBS)(delayed(prepare_data)(name) for name in tqdm(names))\n",
    "X, y = zip(*output)\n",
    "\n",
    "X_train, X_test, y_train, y_test = train_test_split(X, y, test_size=0.2, random_state=42)\n",
    "y_train = to_categorical(y_train, num_classes=2)\n",
    "X_train, X_valid, y_train, y_valid = train_test_split(X_train, y_train, test_size=0.25, \n",
    "                                                      random_state=42)\n",
    "\n",
    "print(len(X_train), len(X_valid), len(X_test))"
   ]
  },
  {
   "cell_type": "code",
   "execution_count": 4,
   "id": "9e6553e5",
   "metadata": {
    "execution": {
     "iopub.execute_input": "2023-01-30T17:43:31.718619Z",
     "iopub.status.busy": "2023-01-30T17:43:31.697804Z",
     "iopub.status.idle": "2023-01-30T17:43:32.266025Z",
     "shell.execute_reply": "2023-01-30T17:43:32.265338Z",
     "shell.execute_reply.started": "2023-01-30T07:27:43.521902Z"
    },
    "papermill": {
     "duration": 0.603536,
     "end_time": "2023-01-30T17:43:32.266193",
     "exception": false,
     "start_time": "2023-01-30T17:43:31.662657",
     "status": "completed"
    },
    "tags": []
   },
   "outputs": [],
   "source": [
    "def decode_image(filename, label=None):\n",
    "    bits = tf.io.read_file(filename)\n",
    "    image = tf.image.decode_png(bits, channels=3)\n",
    "    image = tf.cast(image, tf.float32) / 255.0\n",
    "    image = tf.image.resize(image, (IMG_SIZE, IMG_SIZE))\n",
    "    \n",
    "    if label is None:\n",
    "        return image\n",
    "    else:\n",
    "        return image, label\n",
    "\n",
    "train_dataset = (\n",
    "    tf.data.TFRecordDataset\n",
    "    .from_tensor_slices((X_train, y_train))\n",
    "    .shuffle(100000)\n",
    "    .map(decode_image, num_parallel_calls=AUTO)\n",
    "    .cache()\n",
    "    .repeat()\n",
    "    .batch(BATCH_SIZE)\n",
    "    .prefetch(AUTO)\n",
    ")\n",
    "\n",
    "test_dataset = (\n",
    "    tf.data.TFRecordDataset\n",
    "    .from_tensor_slices(X_test)\n",
    "    .map(decode_image, num_parallel_calls=AUTO)\n",
    "    .batch(BATCH_SIZE)\n",
    ")\n",
    "\n",
    "valid_dataset = (\n",
    "    tf.data.TFRecordDataset\n",
    "    .from_tensor_slices((X_valid, y_valid))\n",
    "    .map(decode_image, num_parallel_calls=AUTO)\n",
    "    .cache()\n",
    "    .batch(BATCH_SIZE)\n",
    "    .prefetch(AUTO)\n",
    ")"
   ]
  },
  {
   "cell_type": "code",
   "execution_count": 5,
   "id": "7ddea074",
   "metadata": {
    "execution": {
     "iopub.execute_input": "2023-01-30T17:43:32.297470Z",
     "iopub.status.busy": "2023-01-30T17:43:32.296447Z",
     "iopub.status.idle": "2023-01-30T17:43:32.559025Z",
     "shell.execute_reply": "2023-01-30T17:43:32.558456Z",
     "shell.execute_reply.started": "2023-01-30T07:27:49.838539Z"
    },
    "papermill": {
     "duration": 0.282606,
     "end_time": "2023-01-30T17:43:32.559181",
     "exception": false,
     "start_time": "2023-01-30T17:43:32.276575",
     "status": "completed"
    },
    "tags": []
   },
   "outputs": [
    {
     "data": {
      "text/plain": [
       "[<matplotlib.lines.Line2D at 0x7efd229dde50>]"
      ]
     },
     "execution_count": 5,
     "metadata": {},
     "output_type": "execute_result"
    },
    {
     "data": {
      "image/png": "[encoded data removed]",
      "text/plain": [
       "<Figure size 432x288 with 1 Axes>"
      ]
     },
     "metadata": {
      "needs_background": "light"
     },
     "output_type": "display_data"
    }
   ],
   "source": [
    "def lrfn(epoch=EPOCHS,\n",
    "         lr_start=1e-4,\n",
    "         lr_max=5e-5 * 8, \n",
    "         lr_min=1e-4,\n",
    "         lr_rampup_epochs=5,\n",
    "         lr_sustain_epochs=5,\n",
    "         lr_exp_decay=0.8):\n",
    "    if epoch < lr_rampup_epochs:\n",
    "        lr = (lr_max-lr_start)/lr_rampup_epochs*epoch + lr_start\n",
    "    elif epoch < lr_rampup_epochs + lr_sustain_epochs:\n",
    "        lr = lr_max\n",
    "    else:\n",
    "        lr = (lr_max-lr_min)*lr_exp_decay**(epoch-lr_rampup_epochs-lr_sustain_epochs) + lr_min\n",
    "    return lr\n",
    "\n",
    "def plot_hist(hist):\n",
    "    plt.plot(hist.history[\"accuracy\"])\n",
    "    plt.plot(hist.history[\"val_accuracy\"])\n",
    "    plt.title(\"model accuracy\")\n",
    "    plt.ylabel(\"accuracy\")\n",
    "    plt.xlabel(\"epoch\")\n",
    "    plt.legend([\"train\", \"validation\"], loc=\"upper left\")\n",
    "    plt.show()\n",
    "\n",
    "y = [lrfn(x) for x in range(EPOCHS)]\n",
    "plt.plot(y)"
   ]
  },
  {
   "cell_type": "code",
   "execution_count": 6,
   "id": "daacaf18",
   "metadata": {
    "execution": {
     "iopub.execute_input": "2023-01-30T17:43:32.592729Z",
     "iopub.status.busy": "2023-01-30T17:43:32.585510Z",
     "iopub.status.idle": "2023-01-30T17:45:21.115940Z",
     "shell.execute_reply": "2023-01-30T17:45:21.116557Z",
     "shell.execute_reply.started": "2023-01-30T07:30:12.118562Z"
    },
    "papermill": {
     "duration": 108.545971,
     "end_time": "2023-01-30T17:45:21.116762",
     "exception": false,
     "start_time": "2023-01-30T17:43:32.570791",
     "status": "completed"
    },
    "tags": []
   },
   "outputs": [
    {
     "name": "stdout",
     "output_type": "stream",
     "text": [
      "\u001b[33mWARNING: Running pip as the 'root' user can result in broken permissions and conflicting behaviour with the system package manager. It is recommended to use a virtual environment instead: https://pip.pypa.io/warnings/venv\u001b[0m\r\n",
      "Downloading data from https://github.com/faustomorales/vit-keras/releases/download/dl/ViT-L_32_imagenet21k+imagenet2012.npz\n",
      "1226661888/1226658854 [==============================] - 62s 0us/step\n"
     ]
    },
    {
     "name": "stderr",
     "output_type": "stream",
     "text": [
      "/opt/conda/lib/python3.7/site-packages/vit_keras/utils.py:83: UserWarning: Resizing position embeddings from 12, 12 to 7, 7\n",
      "  UserWarning,\n"
     ]
    },
    {
     "name": "stdout",
     "output_type": "stream",
     "text": [
      "Model: \"sequential\"\n",
      "_________________________________________________________________\n",
      "Layer (type)                 Output Shape              Param #   \n",
      "=================================================================\n",
      "vit-l32 (Functional)         (None, 1024)              305510400 \n",
      "_________________________________________________________________\n",
      "batch_normalization (BatchNo (None, 1024)              4096      \n",
      "_________________________________________________________________\n",
      "dense (Dense)                (None, 128)               131200    \n",
      "_________________________________________________________________\n",
      "batch_normalization_1 (Batch (None, 128)               512       \n",
      "_________________________________________________________________\n",
      "dense_1 (Dense)              (None, 2)                 258       \n",
      "=================================================================\n",
      "Total params: 305,646,466\n",
      "Trainable params: 305,644,162\n",
      "Non-trainable params: 2,304\n",
      "_________________________________________________________________\n",
      "None\n"
     ]
    }
   ],
   "source": [
    "!pip install --quiet vit-keras\n",
    "from vit_keras.vit import vit_l32\n",
    "\n",
    "with strategy.scope():\n",
    "    net = vit_l32(\n",
    "        image_size = (IMG_SIZE,IMG_SIZE),\n",
    "        activation = 'softmax',\n",
    "        pretrained = True,\n",
    "        include_top = False,\n",
    "        pretrained_top = False)\n",
    "\n",
    "    model = Sequential()\n",
    "    model.add(net)\n",
    "    model.add(L.BatchNormalization())\n",
    "    model.add(L.Dense(128, activation='softmax'))\n",
    "    model.add(L.BatchNormalization())\n",
    "    model.add(L.Dense(2, activation='softmax'))\n",
    "    model.compile(optimizer='adam', loss='categorical_crossentropy', metrics=['accuracy'])\n",
    "    \n",
    "print(model.summary())"
   ]
  },
  {
   "cell_type": "code",
   "execution_count": 7,
   "id": "2208e11a",
   "metadata": {
    "execution": {
     "iopub.execute_input": "2023-01-30T17:45:21.682064Z",
     "iopub.status.busy": "2023-01-30T17:45:21.681043Z",
     "iopub.status.idle": "2023-01-30T20:08:03.325763Z",
     "shell.execute_reply": "2023-01-30T20:08:03.326354Z"
    },
    "papermill": {
     "duration": 8561.929442,
     "end_time": "2023-01-30T20:08:03.326706",
     "exception": false,
     "start_time": "2023-01-30T17:45:21.397264",
     "status": "completed"
    },
    "tags": []
   },
   "outputs": [
    {
     "name": "stdout",
     "output_type": "stream",
     "text": [
      "Epoch 1/50\n",
      "902/902 - 2748s - loss: 0.5339 - accuracy: 0.7519 - val_loss: 0.5376 - val_accuracy: 0.7701\n",
      "Epoch 2/50\n",
      "902/902 - 116s - loss: 0.5255 - accuracy: 0.7618 - val_loss: 0.5024 - val_accuracy: 0.7706\n",
      "Epoch 3/50\n",
      "902/902 - 116s - loss: 0.5091 - accuracy: 0.7637 - val_loss: 0.5497 - val_accuracy: 0.7682\n",
      "Epoch 4/50\n",
      "902/902 - 116s - loss: 0.5062 - accuracy: 0.7589 - val_loss: 0.5911 - val_accuracy: 0.6936\n",
      "Epoch 5/50\n",
      "902/902 - 116s - loss: 0.4920 - accuracy: 0.7608 - val_loss: 0.7919 - val_accuracy: 0.6194\n",
      "Epoch 6/50\n",
      "902/902 - 116s - loss: 0.4855 - accuracy: 0.7640 - val_loss: 0.4513 - val_accuracy: 0.7821\n",
      "Epoch 7/50\n",
      "902/902 - 116s - loss: 0.4812 - accuracy: 0.7628 - val_loss: 0.4448 - val_accuracy: 0.7711\n",
      "Epoch 8/50\n",
      "902/902 - 116s - loss: 0.4873 - accuracy: 0.7647 - val_loss: 0.4981 - val_accuracy: 0.7717\n",
      "Epoch 9/50\n",
      "902/902 - 116s - loss: 0.4740 - accuracy: 0.7673 - val_loss: 0.4430 - val_accuracy: 0.7749\n",
      "Epoch 10/50\n",
      "902/902 - 115s - loss: 0.4616 - accuracy: 0.7672 - val_loss: 0.4767 - val_accuracy: 0.7754\n",
      "Epoch 11/50\n",
      "902/902 - 116s - loss: 0.4571 - accuracy: 0.7690 - val_loss: 0.4723 - val_accuracy: 0.7718\n",
      "Epoch 12/50\n",
      "902/902 - 116s - loss: 0.4519 - accuracy: 0.7705 - val_loss: 0.4241 - val_accuracy: 0.7587\n",
      "Epoch 13/50\n",
      "902/902 - 116s - loss: 0.4402 - accuracy: 0.7831 - val_loss: 0.4061 - val_accuracy: 0.8061\n",
      "Epoch 14/50\n",
      "902/902 - 116s - loss: 0.4308 - accuracy: 0.7873 - val_loss: 0.4206 - val_accuracy: 0.7803\n",
      "Epoch 15/50\n",
      "902/902 - 117s - loss: 0.4229 - accuracy: 0.7962 - val_loss: 0.4043 - val_accuracy: 0.8031\n",
      "Epoch 16/50\n",
      "902/902 - 116s - loss: 0.4152 - accuracy: 0.8055 - val_loss: 0.4440 - val_accuracy: 0.7983\n",
      "Epoch 17/50\n",
      "902/902 - 116s - loss: 0.4073 - accuracy: 0.8117 - val_loss: 0.3683 - val_accuracy: 0.8419\n",
      "Epoch 18/50\n",
      "902/902 - 116s - loss: 0.3981 - accuracy: 0.8202 - val_loss: 0.3618 - val_accuracy: 0.8301\n",
      "Epoch 19/50\n",
      "902/902 - 116s - loss: 0.3953 - accuracy: 0.8250 - val_loss: 0.3983 - val_accuracy: 0.8323\n",
      "Epoch 20/50\n",
      "902/902 - 116s - loss: 0.3864 - accuracy: 0.8287 - val_loss: 0.3550 - val_accuracy: 0.8427\n",
      "Epoch 21/50\n",
      "902/902 - 116s - loss: 0.3816 - accuracy: 0.8335 - val_loss: 0.3484 - val_accuracy: 0.8573\n",
      "Epoch 22/50\n",
      "902/902 - 116s - loss: 0.3753 - accuracy: 0.8361 - val_loss: 0.3670 - val_accuracy: 0.8305\n",
      "Epoch 23/50\n",
      "902/902 - 116s - loss: 0.3752 - accuracy: 0.8397 - val_loss: 0.3546 - val_accuracy: 0.8560\n",
      "Epoch 24/50\n",
      "902/902 - 116s - loss: 0.3692 - accuracy: 0.8426 - val_loss: 0.4628 - val_accuracy: 0.8148\n",
      "Epoch 25/50\n",
      "902/902 - 116s - loss: 0.3635 - accuracy: 0.8477 - val_loss: 0.3536 - val_accuracy: 0.8586\n",
      "Epoch 26/50\n",
      "902/902 - 116s - loss: 0.3638 - accuracy: 0.8470 - val_loss: 0.3526 - val_accuracy: 0.8612\n",
      "Epoch 27/50\n",
      "902/902 - 116s - loss: 0.3747 - accuracy: 0.8395 - val_loss: 0.3483 - val_accuracy: 0.8596\n",
      "Epoch 28/50\n",
      "902/902 - 116s - loss: 0.3596 - accuracy: 0.8485 - val_loss: 0.3489 - val_accuracy: 0.8613\n",
      "Epoch 29/50\n",
      "902/902 - 116s - loss: 0.3600 - accuracy: 0.8501 - val_loss: 0.3506 - val_accuracy: 0.8567\n",
      "Epoch 30/50\n",
      "902/902 - 116s - loss: 0.3548 - accuracy: 0.8518 - val_loss: 0.3573 - val_accuracy: 0.8569\n",
      "Epoch 31/50\n",
      "902/902 - 116s - loss: 0.3521 - accuracy: 0.8515 - val_loss: 0.3850 - val_accuracy: 0.8284\n",
      "Epoch 32/50\n",
      "902/902 - 116s - loss: 0.3466 - accuracy: 0.8568 - val_loss: 0.3327 - val_accuracy: 0.8544\n",
      "Epoch 33/50\n",
      "902/902 - 116s - loss: 0.3435 - accuracy: 0.8570 - val_loss: 0.3442 - val_accuracy: 0.8549\n",
      "Epoch 34/50\n",
      "902/902 - 116s - loss: 0.3440 - accuracy: 0.8549 - val_loss: 0.3253 - val_accuracy: 0.8652\n",
      "Epoch 35/50\n",
      "902/902 - 116s - loss: 0.3418 - accuracy: 0.8598 - val_loss: 0.3211 - val_accuracy: 0.8617\n",
      "Epoch 36/50\n",
      "902/902 - 116s - loss: 0.3402 - accuracy: 0.8588 - val_loss: 0.3260 - val_accuracy: 0.8659\n",
      "Epoch 37/50\n",
      "902/902 - 116s - loss: 0.3383 - accuracy: 0.8610 - val_loss: 0.3313 - val_accuracy: 0.8691\n",
      "Epoch 38/50\n",
      "902/902 - 116s - loss: 0.3388 - accuracy: 0.8607 - val_loss: 0.3552 - val_accuracy: 0.8460\n",
      "Epoch 39/50\n",
      "902/902 - 116s - loss: 0.3353 - accuracy: 0.8640 - val_loss: 0.3284 - val_accuracy: 0.8604\n",
      "Epoch 40/50\n",
      "902/902 - 116s - loss: 0.3441 - accuracy: 0.8562 - val_loss: 0.4208 - val_accuracy: 0.7847\n",
      "Epoch 41/50\n",
      "902/902 - 116s - loss: 0.3497 - accuracy: 0.8544 - val_loss: 0.3417 - val_accuracy: 0.8650\n",
      "Epoch 42/50\n",
      "902/902 - 116s - loss: 0.3366 - accuracy: 0.8627 - val_loss: 0.3168 - val_accuracy: 0.8671\n",
      "Epoch 43/50\n",
      "902/902 - 116s - loss: 0.3354 - accuracy: 0.8655 - val_loss: 0.3207 - val_accuracy: 0.8704\n",
      "Epoch 44/50\n",
      "902/902 - 116s - loss: 0.3274 - accuracy: 0.8668 - val_loss: 0.3218 - val_accuracy: 0.8696\n",
      "Epoch 45/50\n",
      "902/902 - 116s - loss: 0.3267 - accuracy: 0.8690 - val_loss: 0.3315 - val_accuracy: 0.8648\n",
      "Epoch 46/50\n",
      "902/902 - 116s - loss: 0.3420 - accuracy: 0.8566 - val_loss: 0.3342 - val_accuracy: 0.8597\n",
      "Epoch 47/50\n",
      "902/902 - 116s - loss: 0.3296 - accuracy: 0.8678 - val_loss: 0.3148 - val_accuracy: 0.8671\n",
      "Epoch 48/50\n",
      "902/902 - 116s - loss: 0.3230 - accuracy: 0.8692 - val_loss: 0.3304 - val_accuracy: 0.8646\n",
      "Epoch 49/50\n",
      "902/902 - 117s - loss: 0.3303 - accuracy: 0.8686 - val_loss: 0.3163 - val_accuracy: 0.8611\n",
      "Epoch 50/50\n",
      "902/902 - 116s - loss: 0.3244 - accuracy: 0.8684 - val_loss: 0.3172 - val_accuracy: 0.8686\n"
     ]
    }
   ],
   "source": [
    "lrs = LearningRateScheduler(lrfn)  \n",
    "mc = ModelCheckpoint('weights.h5', save_best_only=True, save_weights_only=True)\n",
    "steps_per_epoch = len(y_train) // BATCH_SIZE\n",
    "\n",
    "hist = model.fit(train_dataset, epochs=EPOCHS, steps_per_epoch=steps_per_epoch, callbacks=[lrs, mc], \n",
    "                 validation_data=valid_dataset, verbose=2)"
   ]
  },
  {
   "cell_type": "code",
   "execution_count": 8,
   "id": "032c09c3",
   "metadata": {
    "execution": {
     "iopub.execute_input": "2023-01-30T20:08:03.941648Z",
     "iopub.status.busy": "2023-01-30T20:08:03.940590Z",
     "iopub.status.idle": "2023-01-30T20:08:04.168719Z",
     "shell.execute_reply": "2023-01-30T20:08:04.168098Z",
     "shell.execute_reply.started": "2021-09-06T13:47:47.053502Z"
    },
    "papermill": {
     "duration": 0.550526,
     "end_time": "2023-01-30T20:08:04.168877",
     "exception": false,
     "start_time": "2023-01-30T20:08:03.618351",
     "status": "completed"
    },
    "tags": []
   },
   "outputs": [
    {
     "data": {
      "image/png": "[encoded data removed]",
      "text/plain": [
       "<Figure size 432x288 with 1 Axes>"
      ]
     },
     "metadata": {
      "needs_background": "light"
     },
     "output_type": "display_data"
    }
   ],
   "source": [
    "plot_hist(hist)"
   ]
  },
  {
   "cell_type": "code",
   "execution_count": 9,
   "id": "c5259dcf",
   "metadata": {
    "execution": {
     "iopub.execute_input": "2023-01-30T20:08:04.775917Z",
     "iopub.status.busy": "2023-01-30T20:08:04.775200Z",
     "iopub.status.idle": "2023-01-30T20:18:41.000534Z",
     "shell.execute_reply": "2023-01-30T20:18:41.001071Z",
     "shell.execute_reply.started": "2021-09-06T13:48:56.999507Z"
    },
    "papermill": {
     "duration": 636.53805,
     "end_time": "2023-01-30T20:18:41.001270",
     "exception": false,
     "start_time": "2023-01-30T20:08:04.463220",
     "status": "completed"
    },
    "tags": []
   },
   "outputs": [
    {
     "name": "stdout",
     "output_type": "stream",
     "text": [
      "              precision    recall  f1-score   support\n",
      "\n",
      "           0     0.8475    0.9474    0.8946     11436\n",
      "           1     0.9069    0.7504    0.8212      7811\n",
      "\n",
      "    accuracy                         0.8674     19247\n",
      "   macro avg     0.8772    0.8489    0.8579     19247\n",
      "weighted avg     0.8716    0.8674    0.8648     19247\n",
      "\n",
      "[[10834   602]\n",
      " [ 1950  5861]]\n",
      "      TPR       FPR       FNR   ROC AUC\n",
      "   0.7504    0.0526    0.2496    0.9393\n"
     ]
    }
   ],
   "source": [
    "with strategy.scope():\n",
    "    model.load_weights('weights.h5')\n",
    "\n",
    "y_prob = model.predict(test_dataset)\n",
    "y_pred = np.argmax(y_prob, axis=1)\n",
    "\n",
    "clf_report = metrics.classification_report(y_test, y_pred, digits=4)\n",
    "cnf_matrix = metrics.confusion_matrix(y_test, y_pred)\n",
    "TN, FP, FN, TP = cnf_matrix.ravel()\n",
    "TPR = TP / (TP + FN)\n",
    "FPR = FP / (FP + TN)\n",
    "FNR = FN / (FN + TP)\n",
    "fpr, tpr, _ = metrics.roc_curve(y_test, y_prob[:, 1])\n",
    "auc = metrics.roc_auc_score(y_test, y_prob[:, 1])\n",
    "other_metrics = pd.DataFrame({'TPR': '%.4f' % TPR, \n",
    "                              'FPR': '%.4f' % FPR, \n",
    "                              'FNR': '%.4f' % FNR, \n",
    "                              'ROC AUC': '%.4f' % auc}, index=[0]).to_string(col_space=9, index=False)\n",
    "print(clf_report)\n",
    "print(cnf_matrix)\n",
    "print(other_metrics)"
   ]
  }
 ],
 "metadata": {
  "kernelspec": {
   "display_name": "Python 3",
   "language": "python",
   "name": "python3"
  },
  "language_info": {
   "codemirror_mode": {
    "name": "ipython",
    "version": 3
   },
   "file_extension": ".py",
   "mimetype": "text/x-python",
   "name": "python",
   "nbconvert_exporter": "python",
   "pygments_lexer": "ipython3",
   "version": "3.7.10"
  },
  "papermill": {
   "default_parameters": {},
   "duration": 9410.753003,
   "end_time": "2023-01-30T20:18:44.930345",
   "environment_variables": {},
   "exception": null,
   "input_path": "__notebook__.ipynb",
   "output_path": "__notebook__.ipynb",
   "parameters": {},
   "start_time": "2023-01-30T17:41:54.177342",
   "version": "2.3.3"
  },
  "widgets": {
   "application/vnd.jupyter.widget-state+json": {
    "state": {
     "0087d5060a51402bb1259296650d5345": {
      "model_module": "@jupyter-widgets/controls",
      "model_module_version": "1.5.0",
      "model_name": "DescriptionStyleModel",
      "state": {
       "_model_module": "@jupyter-widgets/controls",
       "_model_module_version": "1.5.0",
       "_model_name": "DescriptionStyleModel",
       "_view_count": null,
       "_view_module": "@jupyter-widgets/base",
       "_view_module_version": "1.2.0",
       "_view_name": "StyleView",
       "description_width": ""
      }
     },
     "08beed110d25404c8472653757337a16": {
      "model_module": "@jupyter-widgets/controls",
      "model_module_version": "1.5.0",
      "model_name": "DescriptionStyleModel",
      "state": {
       "_model_module": "@jupyter-widgets/controls",
       "_model_module_version": "1.5.0",
       "_model_name": "DescriptionStyleModel",
       "_view_count": null,
       "_view_module": "@jupyter-widgets/base",
       "_view_module_version": "1.2.0",
       "_view_name": "StyleView",
       "description_width": ""
      }
     },
     "0a678c46fb55495a807bef32784e9a1b": {
      "model_module": "@jupyter-widgets/controls",
      "model_module_version": "1.5.0",
      "model_name": "HTMLModel",
      "state": {
       "_dom_classes": [],
       "_model_module": "@jupyter-widgets/controls",
       "_model_module_version": "1.5.0",
       "_model_name": "HTMLModel",
       "_view_count": null,
       "_view_module": "@jupyter-widgets/controls",
       "_view_module_version": "1.5.0",
       "_view_name": "HTMLView",
       "description": "",
       "description_tooltip": null,
       "layout": "IPY_MODEL_fc0d13b310a44cf5950cd1c0f1d32df2",
       "placeholder": "​",
       "style": "IPY_MODEL_08beed110d25404c8472653757337a16",
       "value": "100%"
      }
     },
     "10441ab1d440458e8109d86f4cca9ac0": {
      "model_module": "@jupyter-widgets/base",
      "model_module_version": "1.2.0",
      "model_name": "LayoutModel",
      "state": {
       "_model_module": "@jupyter-widgets/base",
       "_model_module_version": "1.2.0",
       "_model_name": "LayoutModel",
       "_view_count": null,
       "_view_module": "@jupyter-widgets/base",
       "_view_module_version": "1.2.0",
       "_view_name": "LayoutView",
       "align_content": null,
       "align_items": null,
       "align_self": null,
       "border": null,
       "bottom": null,
       "display": null,
       "flex": null,
       "flex_flow": null,
       "grid_area": null,
       "grid_auto_columns": null,
       "grid_auto_flow": null,
       "grid_auto_rows": null,
       "grid_column": null,
       "grid_gap": null,
       "grid_row": null,
       "grid_template_areas": null,
       "grid_template_columns": null,
       "grid_template_rows": null,
       "height": null,
       "justify_content": null,
       "justify_items": null,
       "left": null,
       "margin": null,
       "max_height": null,
       "max_width": null,
       "min_height": null,
       "min_width": null,
       "object_fit": null,
       "object_position": null,
       "order": null,
       "overflow": null,
       "overflow_x": null,
       "overflow_y": null,
       "padding": null,
       "right": null,
       "top": null,
       "visibility": null,
       "width": null
      }
     },
     "119d3135666e40d3af720ba1f2cd3da3": {
      "model_module": "@jupyter-widgets/base",
      "model_module_version": "1.2.0",
      "model_name": "LayoutModel",
      "state": {
       "_model_module": "@jupyter-widgets/base",
       "_model_module_version": "1.2.0",
       "_model_name": "LayoutModel",
       "_view_count": null,
       "_view_module": "@jupyter-widgets/base",
       "_view_module_version": "1.2.0",
       "_view_name": "LayoutView",
       "align_content": null,
       "align_items": null,
       "align_self": null,
       "border": null,
       "bottom": null,
       "display": null,
       "flex": null,
       "flex_flow": null,
       "grid_area": null,
       "grid_auto_columns": null,
       "grid_auto_flow": null,
       "grid_auto_rows": null,
       "grid_column": null,
       "grid_gap": null,
       "grid_row": null,
       "grid_template_areas": null,
       "grid_template_columns": null,
       "grid_template_rows": null,
       "height": null,
       "justify_content": null,
       "justify_items": null,
       "left": null,
       "margin": null,
       "max_height": null,
       "max_width": null,
       "min_height": null,
       "min_width": null,
       "object_fit": null,
       "object_position": null,
       "order": null,
       "overflow": null,
       "overflow_x": null,
       "overflow_y": null,
       "padding": null,
       "right": null,
       "top": null,
       "visibility": null,
       "width": null
      }
     },
     "1335c9c805fa44589c8643aca912212c": {
      "model_module": "@jupyter-widgets/controls",
      "model_module_version": "1.5.0",
      "model_name": "HBoxModel",
      "state": {
       "_dom_classes": [],
       "_model_module": "@jupyter-widgets/controls",
       "_model_module_version": "1.5.0",
       "_model_name": "HBoxModel",
       "_view_count": null,
       "_view_module": "@jupyter-widgets/controls",
       "_view_module_version": "1.5.0",
       "_view_name": "HBoxView",
       "box_style": "",
       "children": [
        "IPY_MODEL_0a678c46fb55495a807bef32784e9a1b",
        "IPY_MODEL_567f7dd3b45e4c5fadbb0a3c0bf469b5",
        "IPY_MODEL_c57b843524e44c9f9b993b4eefdf9bf4"
       ],
       "layout": "IPY_MODEL_119d3135666e40d3af720ba1f2cd3da3"
      }
     },
     "567f7dd3b45e4c5fadbb0a3c0bf469b5": {
      "model_module": "@jupyter-widgets/controls",
      "model_module_version": "1.5.0",
      "model_name": "FloatProgressModel",
      "state": {
       "_dom_classes": [],
       "_model_module": "@jupyter-widgets/controls",
       "_model_module_version": "1.5.0",
       "_model_name": "FloatProgressModel",
       "_view_count": null,
       "_view_module": "@jupyter-widgets/controls",
       "_view_module_version": "1.5.0",
       "_view_name": "ProgressView",
       "bar_style": "success",
       "description": "",
       "description_tooltip": null,
       "layout": "IPY_MODEL_10441ab1d440458e8109d86f4cca9ac0",
       "max": 96234.0,
       "min": 0.0,
       "orientation": "horizontal",
       "style": "IPY_MODEL_ef49f8d59fec4cbca0e02a2639696574",
       "value": 96234.0
      }
     },
     "acb347a3fc95411aa49a8548624581f7": {
      "model_module": "@jupyter-widgets/base",
      "model_module_version": "1.2.0",
      "model_name": "LayoutModel",
      "state": {
       "_model_module": "@jupyter-widgets/base",
       "_model_module_version": "1.2.0",
       "_model_name": "LayoutModel",
       "_view_count": null,
       "_view_module": "@jupyter-widgets/base",
       "_view_module_version": "1.2.0",
       "_view_name": "LayoutView",
       "align_content": null,
       "align_items": null,
       "align_self": null,
       "border": null,
       "bottom": null,
       "display": null,
       "flex": null,
       "flex_flow": null,
       "grid_area": null,
       "grid_auto_columns": null,
       "grid_auto_flow": null,
       "grid_auto_rows": null,
       "grid_column": null,
       "grid_gap": null,
       "grid_row": null,
       "grid_template_areas": null,
       "grid_template_columns": null,
       "grid_template_rows": null,
       "height": null,
       "justify_content": null,
       "justify_items": null,
       "left": null,
       "margin": null,
       "max_height": null,
       "max_width": null,
       "min_height": null,
       "min_width": null,
       "object_fit": null,
       "object_position": null,
       "order": null,
       "overflow": null,
       "overflow_x": null,
       "overflow_y": null,
       "padding": null,
       "right": null,
       "top": null,
       "visibility": null,
       "width": null
      }
     },
     "c57b843524e44c9f9b993b4eefdf9bf4": {
      "model_module": "@jupyter-widgets/controls",
      "model_module_version": "1.5.0",
      "model_name": "HTMLModel",
      "state": {
       "_dom_classes": [],
       "_model_module": "@jupyter-widgets/controls",
       "_model_module_version": "1.5.0",
       "_model_name": "HTMLModel",
       "_view_count": null,
       "_view_module": "@jupyter-widgets/controls",
       "_view_module_version": "1.5.0",
       "_view_name": "HTMLView",
       "description": "",
       "description_tooltip": null,
       "layout": "IPY_MODEL_acb347a3fc95411aa49a8548624581f7",
       "placeholder": "​",
       "style": "IPY_MODEL_0087d5060a51402bb1259296650d5345",
       "value": " 96234/96234 [01:10&lt;00:00, 1986.75it/s]"
      }
     },
     "ef49f8d59fec4cbca0e02a2639696574": {
      "model_module": "@jupyter-widgets/controls",
      "model_module_version": "1.5.0",
      "model_name": "ProgressStyleModel",
      "state": {
       "_model_module": "@jupyter-widgets/controls",
       "_model_module_version": "1.5.0",
       "_model_name": "ProgressStyleModel",
       "_view_count": null,
       "_view_module": "@jupyter-widgets/base",
       "_view_module_version": "1.2.0",
       "_view_name": "StyleView",
       "bar_color": null,
       "description_width": ""
      }
     },
     "fc0d13b310a44cf5950cd1c0f1d32df2": {
      "model_module": "@jupyter-widgets/base",
      "model_module_version": "1.2.0",
      "model_name": "LayoutModel",
      "state": {
       "_model_module": "@jupyter-widgets/base",
       "_model_module_version": "1.2.0",
       "_model_name": "LayoutModel",
       "_view_count": null,
       "_view_module": "@jupyter-widgets/base",
       "_view_module_version": "1.2.0",
       "_view_name": "LayoutView",
       "align_content": null,
       "align_items": null,
       "align_self": null,
       "border": null,
       "bottom": null,
       "display": null,
       "flex": null,
       "flex_flow": null,
       "grid_area": null,
       "grid_auto_columns": null,
       "grid_auto_flow": null,
       "grid_auto_rows": null,
       "grid_column": null,
       "grid_gap": null,
       "grid_row": null,
       "grid_template_areas": null,
       "grid_template_columns": null,
       "grid_template_rows": null,
       "height": null,
       "justify_content": null,
       "justify_items": null,
       "left": null,
       "margin": null,
       "max_height": null,
       "max_width": null,
       "min_height": null,
       "min_width": null,
       "object_fit": null,
       "object_position": null,
       "order": null,
       "overflow": null,
       "overflow_x": null,
       "overflow_y": null,
       "padding": null,
       "right": null,
       "top": null,
       "visibility": null,
       "width": null
      }
     }
    },
    "version_major": 2,
    "version_minor": 0
   }
  }
 },
 "nbformat": 4,
 "nbformat_minor": 5
}

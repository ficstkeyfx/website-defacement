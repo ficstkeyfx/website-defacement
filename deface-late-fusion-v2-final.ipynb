{
 "cells": [
  {
   "cell_type": "code",
   "execution_count": 1,
   "id": "097065fd",
   "metadata": {
    "_cell_guid": "b1076dfc-b9ad-4769-8c92-a6c4dae69d19",
    "_uuid": "8f2839f25d086af736a60e9eeb907d3b93b6e0e5",
    "execution": {
     "iopub.execute_input": "2023-02-08T12:03:59.939743Z",
     "iopub.status.busy": "2023-02-08T12:03:59.938553Z",
     "iopub.status.idle": "2023-02-08T12:04:06.668987Z",
     "shell.execute_reply": "2023-02-08T12:04:06.668241Z",
     "shell.execute_reply.started": "2023-01-31T07:57:20.402163Z"
    },
    "papermill": {
     "duration": 6.774039,
     "end_time": "2023-02-08T12:04:06.669148",
     "exception": false,
     "start_time": "2023-02-08T12:03:59.895109",
     "status": "completed"
    },
    "tags": []
   },
   "outputs": [
    {
     "name": "stderr",
     "output_type": "stream",
     "text": [
      "2023-02-08 12:04:00.623404: W tensorflow/stream_executor/platform/default/dso_loader.cc:60] Could not load dynamic library 'libcudart.so.11.0'; dlerror: libcudart.so.11.0: cannot open shared object file: No such file or directory; LD_LIBRARY_PATH: /opt/conda/lib\n",
      "2023-02-08 12:04:00.623572: I tensorflow/stream_executor/cuda/cudart_stub.cc:29] Ignore above cudart dlerror if you do not have a GPU set up on your machine.\n"
     ]
    }
   ],
   "source": [
    "import numpy as np\n",
    "import pandas as pd\n",
    "import tensorflow as tf\n",
    "from matplotlib import pyplot as plt\n",
    "from kaggle_datasets import KaggleDatasets\n",
    "from kaggle_secrets import UserSecretsClient\n",
    "from glob import glob\n",
    "from tqdm.notebook import tqdm\n",
    "from multiprocessing import cpu_count\n",
    "from joblib import Parallel, delayed\n",
    "from tensorflow.keras.models import Sequential\n",
    "from tensorflow.keras import layers as L\n",
    "from tensorflow.keras.utils import to_categorical\n",
    "from tensorflow.keras.callbacks import LearningRateScheduler, ModelCheckpoint\n",
    "from sklearn.model_selection import train_test_split\n",
    "from sklearn import metrics\n",
    "\n",
    "%matplotlib inline"
   ]
  },
  {
   "cell_type": "code",
   "execution_count": 2,
   "id": "d0543e93",
   "metadata": {
    "execution": {
     "iopub.execute_input": "2023-02-08T12:04:06.751828Z",
     "iopub.status.busy": "2023-02-08T12:04:06.751177Z",
     "iopub.status.idle": "2023-02-08T12:04:13.058642Z",
     "shell.execute_reply": "2023-02-08T12:04:13.057759Z",
     "shell.execute_reply.started": "2023-01-31T07:57:34.260849Z"
    },
    "papermill": {
     "duration": 6.348645,
     "end_time": "2023-02-08T12:04:13.058795",
     "exception": false,
     "start_time": "2023-02-08T12:04:06.710150",
     "status": "completed"
    },
    "tags": []
   },
   "outputs": [
    {
     "name": "stdout",
     "output_type": "stream",
     "text": [
      "Running on TPU: grpc://10.0.0.2:8470\n"
     ]
    },
    {
     "name": "stderr",
     "output_type": "stream",
     "text": [
      "2023-02-08 12:04:06.759545: I tensorflow/compiler/jit/xla_cpu_device.cc:41] Not creating XLA devices, tf_xla_enable_xla_devices not set\n",
      "2023-02-08 12:04:06.761822: W tensorflow/stream_executor/platform/default/dso_loader.cc:60] Could not load dynamic library 'libcuda.so.1'; dlerror: libcuda.so.1: cannot open shared object file: No such file or directory; LD_LIBRARY_PATH: /opt/conda/lib\n",
      "2023-02-08 12:04:06.761903: W tensorflow/stream_executor/cuda/cuda_driver.cc:326] failed call to cuInit: UNKNOWN ERROR (303)\n",
      "2023-02-08 12:04:06.761934: I tensorflow/stream_executor/cuda/cuda_diagnostics.cc:156] kernel driver does not appear to be running on this host (723d4089a335): /proc/driver/nvidia/version does not exist\n",
      "2023-02-08 12:04:06.764187: I tensorflow/core/platform/cpu_feature_guard.cc:142] This TensorFlow binary is optimized with oneAPI Deep Neural Network Library (oneDNN) to use the following CPU instructions in performance-critical operations:  AVX2 FMA\n",
      "To enable them in other operations, rebuild TensorFlow with the appropriate compiler flags.\n",
      "2023-02-08 12:04:06.765529: I tensorflow/compiler/jit/xla_gpu_device.cc:99] Not creating XLA devices, tf_xla_enable_xla_devices not set\n",
      "2023-02-08 12:04:06.794839: I tensorflow/core/distributed_runtime/rpc/grpc_channel.cc:301] Initialize GrpcChannelCache for job worker -> {0 -> 10.0.0.2:8470}\n",
      "2023-02-08 12:04:06.794917: I tensorflow/core/distributed_runtime/rpc/grpc_channel.cc:301] Initialize GrpcChannelCache for job localhost -> {0 -> localhost:30018}\n",
      "2023-02-08 12:04:06.818513: I tensorflow/core/distributed_runtime/rpc/grpc_channel.cc:301] Initialize GrpcChannelCache for job worker -> {0 -> 10.0.0.2:8470}\n",
      "2023-02-08 12:04:06.818567: I tensorflow/core/distributed_runtime/rpc/grpc_channel.cc:301] Initialize GrpcChannelCache for job localhost -> {0 -> localhost:30018}\n",
      "2023-02-08 12:04:06.820457: I tensorflow/core/distributed_runtime/rpc/grpc_server_lib.cc:411] Started server with target: grpc://localhost:30018\n"
     ]
    },
    {
     "name": "stdout",
     "output_type": "stream",
     "text": [
      "N_JOBS: 4\n",
      "Batch size: 64\n",
      "GCS_DS_PATH: gs://kds-bdc1a4e6ec4ae5d9f2813149cb499f1a9df02b5e068427f000f5bb8e\n"
     ]
    }
   ],
   "source": [
    "try:\n",
    "    tpu = tf.distribute.cluster_resolver.TPUClusterResolver()\n",
    "    print('Running on TPU:', tpu.master())\n",
    "except ValueError:\n",
    "    tpu = None\n",
    "\n",
    "if tpu:\n",
    "    tf.config.experimental_connect_to_cluster(tpu)\n",
    "    tf.tpu.experimental.initialize_tpu_system(tpu)\n",
    "    strategy = tf.distribute.experimental.TPUStrategy(tpu)\n",
    "else:\n",
    "    strategy = tf.distribute.get_strategy()\n",
    "\n",
    "user_secrets = UserSecretsClient()\n",
    "user_credential = user_secrets.get_gcloud_credential()\n",
    "user_secrets.set_tensorflow_credential(user_credential)\n",
    "GCS_DS_PATH = KaggleDatasets().get_gcs_path('website-defacement')\n",
    "\n",
    "AUTO = tf.data.experimental.AUTOTUNE\n",
    "BATCH_SIZE = 8 * strategy.num_replicas_in_sync\n",
    "N_JOBS = cpu_count()\n",
    "\n",
    "IMG_SIZE = 224\n",
    "EPOCHS = 50\n",
    "\n",
    "print('N_JOBS:', N_JOBS)\n",
    "print('Batch size:', BATCH_SIZE)\n",
    "print('GCS_DS_PATH:', GCS_DS_PATH)"
   ]
  },
  {
   "cell_type": "code",
   "execution_count": 3,
   "id": "8091294a",
   "metadata": {
    "execution": {
     "iopub.execute_input": "2023-02-08T12:04:13.140846Z",
     "iopub.status.busy": "2023-02-08T12:04:13.139785Z",
     "iopub.status.idle": "2023-02-08T12:04:17.261865Z",
     "shell.execute_reply": "2023-02-08T12:04:17.261245Z",
     "shell.execute_reply.started": "2023-01-31T08:00:25.611235Z"
    },
    "papermill": {
     "duration": 4.163632,
     "end_time": "2023-02-08T12:04:17.262020",
     "exception": false,
     "start_time": "2023-02-08T12:04:13.098388",
     "status": "completed"
    },
    "tags": []
   },
   "outputs": [],
   "source": [
    "dataset_path = '../input/website-defacement/'\n",
    "img_paths = glob(dataset_path + 'image/*/*')\n",
    "txt_paths = glob(dataset_path + 'text/*/*')\n",
    "img_names = [path.split('/')[-1][:-4] for path in img_paths]\n",
    "txt_names = [path.split('/')[-1][:-4] for path in txt_paths]\n",
    "names = list(set(img_names).intersection(txt_names))"
   ]
  },
  {
   "cell_type": "markdown",
   "id": "48ac5fd6",
   "metadata": {
    "papermill": {
     "duration": 0.038542,
     "end_time": "2023-02-08T12:04:17.340754",
     "exception": false,
     "start_time": "2023-02-08T12:04:17.302212",
     "status": "completed"
    },
    "tags": []
   },
   "source": [
    "# Text-based Detection"
   ]
  },
  {
   "cell_type": "code",
   "execution_count": 4,
   "id": "a1563894",
   "metadata": {
    "execution": {
     "iopub.execute_input": "2023-02-08T12:04:17.425172Z",
     "iopub.status.busy": "2023-02-08T12:04:17.424478Z",
     "iopub.status.idle": "2023-02-08T12:07:42.058144Z",
     "shell.execute_reply": "2023-02-08T12:07:42.057496Z",
     "shell.execute_reply.started": "2023-01-31T08:01:58.268247Z"
    },
    "papermill": {
     "duration": 204.679523,
     "end_time": "2023-02-08T12:07:42.058310",
     "exception": false,
     "start_time": "2023-02-08T12:04:17.378787",
     "status": "completed"
    },
    "tags": []
   },
   "outputs": [
    {
     "data": {
      "application/vnd.jupyter.widget-view+json": {
       "model_id": "6fd9651815fd42148a2e1b9b1f49166a",
       "version_major": 2,
       "version_minor": 0
      },
      "text/plain": [
       "  0%|          | 0/96234 [00:00<?, ?it/s]"
      ]
     },
     "metadata": {},
     "output_type": "display_data"
    },
    {
     "name": "stdout",
     "output_type": "stream",
     "text": [
      "57740 19247 19247\n"
     ]
    }
   ],
   "source": [
    "def prepare_data(name):\n",
    "    if glob(dataset_path + f'text/defaced/{name}.txt'):\n",
    "        path = dataset_path + f'text/defaced/{name}.txt'\n",
    "        label = 1\n",
    "    else:\n",
    "        path = dataset_path + f'text/benign/{name}.txt'\n",
    "        label = 0\n",
    "    with open(path, 'r') as f:\n",
    "        text = f.read()\n",
    "    return (text, label)\n",
    "\n",
    "output = Parallel(n_jobs=N_JOBS)(delayed(prepare_data)(name) for name in tqdm(names))\n",
    "X, y = zip(*output)\n",
    "\n",
    "X_train, X_test, y_train, y_test = train_test_split(X, y, test_size=0.2, random_state=42)\n",
    "y_train = to_categorical(y_train, num_classes=2)\n",
    "X_train, X_valid, y_train, y_valid = train_test_split(X_train, y_train, test_size=0.25, \n",
    "                                                      random_state=42)\n",
    "\n",
    "print(len(X_train), len(X_valid), len(X_test))"
   ]
  },
  {
   "cell_type": "code",
   "execution_count": 5,
   "id": "b25fb881",
   "metadata": {
    "execution": {
     "iopub.execute_input": "2023-02-08T12:07:42.145418Z",
     "iopub.status.busy": "2023-02-08T12:07:42.144728Z",
     "iopub.status.idle": "2023-02-08T12:08:53.133981Z",
     "shell.execute_reply": "2023-02-08T12:08:53.132844Z",
     "shell.execute_reply.started": "2023-01-31T08:04:01.318272Z"
    },
    "papermill": {
     "duration": 71.037125,
     "end_time": "2023-02-08T12:08:53.134391",
     "exception": false,
     "start_time": "2023-02-08T12:07:42.097266",
     "status": "completed"
    },
    "tags": []
   },
   "outputs": [],
   "source": [
    "from tensorflow.keras.preprocessing.text import Tokenizer\n",
    "from tensorflow.keras.preprocessing.sequence import pad_sequences\n",
    "\n",
    "tokenizer = Tokenizer(filters='')\n",
    "tokenizer.fit_on_texts(X_train)\n",
    "\n",
    "MAXLEN = 128\n",
    "\n",
    "X_train = tokenizer.texts_to_sequences(X_train)\n",
    "X_train = pad_sequences(X_train, maxlen=MAXLEN)\n",
    "y_train = np.array(y_train)\n",
    "\n",
    "X_valid = tokenizer.texts_to_sequences(X_valid)\n",
    "X_valid = pad_sequences(X_valid, maxlen=MAXLEN)\n",
    "y_valid = np.array(y_valid)\n",
    "\n",
    "X_test = tokenizer.texts_to_sequences(X_test)\n",
    "X_test = pad_sequences(X_test, maxlen=MAXLEN)\n",
    "y_test = np.array(y_test)"
   ]
  },
  {
   "cell_type": "code",
   "execution_count": 6,
   "id": "4e04b9f8",
   "metadata": {
    "execution": {
     "iopub.execute_input": "2023-02-08T12:08:53.348935Z",
     "iopub.status.busy": "2023-02-08T12:08:53.348125Z",
     "iopub.status.idle": "2023-02-08T12:08:53.486764Z",
     "shell.execute_reply": "2023-02-08T12:08:53.485973Z",
     "shell.execute_reply.started": "2023-01-31T08:05:14.929627Z"
    },
    "papermill": {
     "duration": 0.309283,
     "end_time": "2023-02-08T12:08:53.486936",
     "exception": false,
     "start_time": "2023-02-08T12:08:53.177653",
     "status": "completed"
    },
    "tags": []
   },
   "outputs": [],
   "source": [
    "train_dataset = (\n",
    "    tf.data.TFRecordDataset\n",
    "    .from_tensor_slices((X_train, y_train))\n",
    "    .shuffle(100000)\n",
    "    .cache()\n",
    "    .repeat()\n",
    "    .batch(BATCH_SIZE)\n",
    "    .prefetch(AUTO)\n",
    ")\n",
    "\n",
    "test_dataset = (\n",
    "    tf.data.TFRecordDataset\n",
    "    .from_tensor_slices(X_test)\n",
    "    .batch(BATCH_SIZE)\n",
    ")\n",
    "\n",
    "valid_dataset = (\n",
    "    tf.data.TFRecordDataset\n",
    "    .from_tensor_slices((X_valid, y_valid))\n",
    "    .cache()\n",
    "    .batch(BATCH_SIZE)\n",
    "    .prefetch(AUTO)\n",
    ")"
   ]
  },
  {
   "cell_type": "code",
   "execution_count": 7,
   "id": "f8c0f33a",
   "metadata": {
    "execution": {
     "iopub.execute_input": "2023-02-08T12:08:53.602303Z",
     "iopub.status.busy": "2023-02-08T12:08:53.601563Z",
     "iopub.status.idle": "2023-02-08T12:08:53.856210Z",
     "shell.execute_reply": "2023-02-08T12:08:53.855601Z",
     "shell.execute_reply.started": "2023-01-31T08:05:15.197980Z"
    },
    "papermill": {
     "duration": 0.328396,
     "end_time": "2023-02-08T12:08:53.856373",
     "exception": false,
     "start_time": "2023-02-08T12:08:53.527977",
     "status": "completed"
    },
    "tags": []
   },
   "outputs": [
    {
     "data": {
      "text/plain": [
       "[<matplotlib.lines.Line2D at 0x7fef98129250>]"
      ]
     },
     "execution_count": 7,
     "metadata": {},
     "output_type": "execute_result"
    },
    {
     "data": {
      "image/png": "[encoded data removed]",
      "text/plain": [
       "<Figure size 432x288 with 1 Axes>"
      ]
     },
     "metadata": {
      "needs_background": "light"
     },
     "output_type": "display_data"
    }
   ],
   "source": [
    "def lrfn(epoch=EPOCHS,\n",
    "         lr_start=1e-4,\n",
    "         lr_max=5e-5 * 8, \n",
    "         lr_min=1e-4,\n",
    "         lr_rampup_epochs=5,\n",
    "         lr_sustain_epochs=5,\n",
    "         lr_exp_decay=0.8):\n",
    "    if epoch < lr_rampup_epochs:\n",
    "        lr = (lr_max-lr_start)/lr_rampup_epochs*epoch + lr_start\n",
    "    elif epoch < lr_rampup_epochs + lr_sustain_epochs:\n",
    "        lr = lr_max\n",
    "    else:\n",
    "        lr = (lr_max-lr_min)*lr_exp_decay**(epoch-lr_rampup_epochs-lr_sustain_epochs) + lr_min\n",
    "    return lr\n",
    "\n",
    "def plot_hist(hist):\n",
    "    plt.plot(hist.history[\"accuracy\"])\n",
    "    plt.plot(hist.history[\"val_accuracy\"])\n",
    "    plt.title(\"model accuracy\")\n",
    "    plt.ylabel(\"accuracy\")\n",
    "    plt.xlabel(\"epoch\")\n",
    "    plt.legend([\"train\", \"validation\"], loc=\"upper left\")\n",
    "    plt.show()\n",
    "\n",
    "y = [lrfn(x) for x in range(EPOCHS)]\n",
    "plt.plot(y)"
   ]
  },
  {
   "cell_type": "code",
   "execution_count": 8,
   "id": "e473d652",
   "metadata": {
    "execution": {
     "iopub.execute_input": "2023-02-08T12:08:53.946424Z",
     "iopub.status.busy": "2023-02-08T12:08:53.945708Z",
     "iopub.status.idle": "2023-02-08T12:08:56.581286Z",
     "shell.execute_reply": "2023-02-08T12:08:56.580650Z",
     "shell.execute_reply.started": "2023-01-31T06:33:44.821224Z"
    },
    "papermill": {
     "duration": 2.68453,
     "end_time": "2023-02-08T12:08:56.581452",
     "exception": false,
     "start_time": "2023-02-08T12:08:53.896922",
     "status": "completed"
    },
    "tags": []
   },
   "outputs": [
    {
     "name": "stdout",
     "output_type": "stream",
     "text": [
      "Model: \"sequential\"\n",
      "_________________________________________________________________\n",
      "Layer (type)                 Output Shape              Param #   \n",
      "=================================================================\n",
      "embedding (Embedding)        (None, 128, 64)           173710272 \n",
      "_________________________________________________________________\n",
      "conv1d (Conv1D)              (None, 124, 64)           20544     \n",
      "_________________________________________________________________\n",
      "global_max_pooling1d (Global (None, 64)                0         \n",
      "_________________________________________________________________\n",
      "dense (Dense)                (None, 2)                 130       \n",
      "=================================================================\n",
      "Total params: 173,730,946\n",
      "Trainable params: 173,730,946\n",
      "Non-trainable params: 0\n",
      "_________________________________________________________________\n",
      "None\n"
     ]
    }
   ],
   "source": [
    "vocab_size = len(tokenizer.word_index) + 1\n",
    "\n",
    "with strategy.scope():\n",
    "    model = Sequential()\n",
    "    model.add(L.Embedding(input_dim=vocab_size,\n",
    "                          output_dim=64, \n",
    "                          input_length=X_train.shape[1]))\n",
    "    model.add(L.Conv1D(64, 5))\n",
    "    model.add(L.GlobalMaxPooling1D())\n",
    "    model.add(L.Dense(2, activation='softmax'))\n",
    "    model.compile(loss='categorical_crossentropy', optimizer='adam', metrics=['accuracy'])\n",
    "    \n",
    "print(model.summary())"
   ]
  },
  {
   "cell_type": "code",
   "execution_count": 9,
   "id": "a1c076b3",
   "metadata": {
    "execution": {
     "iopub.execute_input": "2023-02-08T12:08:56.665148Z",
     "iopub.status.busy": "2023-02-08T12:08:56.664388Z",
     "iopub.status.idle": "2023-02-08T12:34:42.069384Z",
     "shell.execute_reply": "2023-02-08T12:34:42.069940Z",
     "shell.execute_reply.started": "2023-01-31T06:33:47.226598Z"
    },
    "papermill": {
     "duration": 1545.448817,
     "end_time": "2023-02-08T12:34:42.070223",
     "exception": false,
     "start_time": "2023-02-08T12:08:56.621406",
     "status": "completed"
    },
    "tags": []
   },
   "outputs": [
    {
     "name": "stdout",
     "output_type": "stream",
     "text": [
      "Epoch 1/50\n"
     ]
    },
    {
     "name": "stderr",
     "output_type": "stream",
     "text": [
      "/opt/conda/lib/python3.7/site-packages/tensorflow/python/framework/indexed_slices.py:430: UserWarning: Converting sparse IndexedSlices to a dense Tensor with 173710272 elements. This may consume a large amount of memory.\n",
      "  num_elements)\n"
     ]
    },
    {
     "name": "stdout",
     "output_type": "stream",
     "text": [
      "902/902 - 39s - loss: 0.1546 - accuracy: 0.9338 - val_loss: 0.0859 - val_accuracy: 0.9697\n",
      "Epoch 2/50\n",
      "902/902 - 31s - loss: 0.0199 - accuracy: 0.9937 - val_loss: 0.0893 - val_accuracy: 0.9696\n",
      "Epoch 3/50\n",
      "902/902 - 31s - loss: 0.0030 - accuracy: 0.9992 - val_loss: 0.0949 - val_accuracy: 0.9703\n",
      "Epoch 4/50\n",
      "902/902 - 31s - loss: 0.0016 - accuracy: 0.9996 - val_loss: 0.0990 - val_accuracy: 0.9698\n",
      "Epoch 5/50\n",
      "902/902 - 30s - loss: 0.0013 - accuracy: 0.9996 - val_loss: 0.1018 - val_accuracy: 0.9697\n",
      "Epoch 6/50\n",
      "902/902 - 30s - loss: 0.0012 - accuracy: 0.9996 - val_loss: 0.1042 - val_accuracy: 0.9698\n",
      "Epoch 7/50\n",
      "902/902 - 30s - loss: 0.0011 - accuracy: 0.9996 - val_loss: 0.1059 - val_accuracy: 0.9696\n",
      "Epoch 8/50\n",
      "902/902 - 31s - loss: 0.0011 - accuracy: 0.9996 - val_loss: 0.1067 - val_accuracy: 0.9697\n",
      "Epoch 9/50\n",
      "902/902 - 31s - loss: 0.0011 - accuracy: 0.9996 - val_loss: 0.1078 - val_accuracy: 0.9696\n",
      "Epoch 10/50\n",
      "902/902 - 31s - loss: 0.0011 - accuracy: 0.9996 - val_loss: 0.1076 - val_accuracy: 0.9698\n",
      "Epoch 11/50\n",
      "902/902 - 31s - loss: 0.0011 - accuracy: 0.9996 - val_loss: 0.1073 - val_accuracy: 0.9700\n",
      "Epoch 12/50\n",
      "902/902 - 31s - loss: 0.0010 - accuracy: 0.9996 - val_loss: 0.1065 - val_accuracy: 0.9698\n",
      "Epoch 13/50\n",
      "902/902 - 31s - loss: 9.7539e-04 - accuracy: 0.9997 - val_loss: 0.1067 - val_accuracy: 0.9700\n",
      "Epoch 14/50\n",
      "902/902 - 31s - loss: 9.3284e-04 - accuracy: 0.9997 - val_loss: 0.1075 - val_accuracy: 0.9698\n",
      "Epoch 15/50\n",
      "902/902 - 31s - loss: 9.0340e-04 - accuracy: 0.9997 - val_loss: 0.1083 - val_accuracy: 0.9700\n",
      "Epoch 16/50\n",
      "902/902 - 31s - loss: 8.7770e-04 - accuracy: 0.9997 - val_loss: 0.1093 - val_accuracy: 0.9700\n",
      "Epoch 17/50\n",
      "902/902 - 31s - loss: 8.5610e-04 - accuracy: 0.9996 - val_loss: 0.1105 - val_accuracy: 0.9702\n",
      "Epoch 18/50\n",
      "902/902 - 31s - loss: 8.3922e-04 - accuracy: 0.9997 - val_loss: 0.1117 - val_accuracy: 0.9700\n",
      "Epoch 19/50\n",
      "902/902 - 31s - loss: 8.2635e-04 - accuracy: 0.9997 - val_loss: 0.1129 - val_accuracy: 0.9700\n",
      "Epoch 20/50\n",
      "902/902 - 31s - loss: 8.0412e-04 - accuracy: 0.9997 - val_loss: 0.1141 - val_accuracy: 0.9697\n",
      "Epoch 21/50\n",
      "902/902 - 31s - loss: 8.1014e-04 - accuracy: 0.9997 - val_loss: 0.1153 - val_accuracy: 0.9700\n",
      "Epoch 22/50\n",
      "902/902 - 31s - loss: 8.0283e-04 - accuracy: 0.9997 - val_loss: 0.1164 - val_accuracy: 0.9699\n",
      "Epoch 23/50\n",
      "902/902 - 31s - loss: 7.9768e-04 - accuracy: 0.9997 - val_loss: 0.1173 - val_accuracy: 0.9699\n",
      "Epoch 24/50\n",
      "902/902 - 31s - loss: 7.9262e-04 - accuracy: 0.9997 - val_loss: 0.1183 - val_accuracy: 0.9697\n",
      "Epoch 25/50\n",
      "902/902 - 31s - loss: 7.8962e-04 - accuracy: 0.9997 - val_loss: 0.1192 - val_accuracy: 0.9695\n",
      "Epoch 26/50\n",
      "902/902 - 31s - loss: 7.8776e-04 - accuracy: 0.9997 - val_loss: 0.1199 - val_accuracy: 0.9694\n",
      "Epoch 27/50\n",
      "902/902 - 31s - loss: 7.8522e-04 - accuracy: 0.9997 - val_loss: 0.1207 - val_accuracy: 0.9694\n",
      "Epoch 28/50\n",
      "902/902 - 31s - loss: 7.8242e-04 - accuracy: 0.9997 - val_loss: 0.1215 - val_accuracy: 0.9692\n",
      "Epoch 29/50\n",
      "902/902 - 31s - loss: 7.8059e-04 - accuracy: 0.9997 - val_loss: 0.1222 - val_accuracy: 0.9693\n",
      "Epoch 30/50\n",
      "902/902 - 31s - loss: 7.7931e-04 - accuracy: 0.9997 - val_loss: 0.1229 - val_accuracy: 0.9692\n",
      "Epoch 31/50\n",
      "902/902 - 31s - loss: 7.7908e-04 - accuracy: 0.9997 - val_loss: 0.1235 - val_accuracy: 0.9691\n",
      "Epoch 32/50\n",
      "902/902 - 31s - loss: 7.7798e-04 - accuracy: 0.9997 - val_loss: 0.1240 - val_accuracy: 0.9691\n",
      "Epoch 33/50\n",
      "902/902 - 31s - loss: 7.7746e-04 - accuracy: 0.9997 - val_loss: 0.1247 - val_accuracy: 0.9691\n",
      "Epoch 34/50\n",
      "902/902 - 31s - loss: 7.7558e-04 - accuracy: 0.9997 - val_loss: 0.1253 - val_accuracy: 0.9690\n",
      "Epoch 35/50\n",
      "902/902 - 30s - loss: 7.7434e-04 - accuracy: 0.9997 - val_loss: 0.1258 - val_accuracy: 0.9689\n",
      "Epoch 36/50\n",
      "902/902 - 31s - loss: 7.7511e-04 - accuracy: 0.9997 - val_loss: 0.1265 - val_accuracy: 0.9689\n",
      "Epoch 37/50\n",
      "902/902 - 31s - loss: 7.7194e-04 - accuracy: 0.9997 - val_loss: 0.1269 - val_accuracy: 0.9687\n",
      "Epoch 38/50\n",
      "902/902 - 30s - loss: 7.7421e-04 - accuracy: 0.9997 - val_loss: 0.1274 - val_accuracy: 0.9688\n",
      "Epoch 39/50\n",
      "902/902 - 31s - loss: 7.7352e-04 - accuracy: 0.9997 - val_loss: 0.1279 - val_accuracy: 0.9686\n",
      "Epoch 40/50\n",
      "902/902 - 30s - loss: 7.7257e-04 - accuracy: 0.9997 - val_loss: 0.1285 - val_accuracy: 0.9686\n",
      "Epoch 41/50\n",
      "902/902 - 31s - loss: 7.7245e-04 - accuracy: 0.9997 - val_loss: 0.1290 - val_accuracy: 0.9599\n",
      "Epoch 42/50\n",
      "902/902 - 31s - loss: 7.7268e-04 - accuracy: 0.9997 - val_loss: 0.1294 - val_accuracy: 0.9599\n",
      "Epoch 43/50\n",
      "902/902 - 31s - loss: 7.7267e-04 - accuracy: 0.9997 - val_loss: 0.1298 - val_accuracy: 0.9598\n",
      "Epoch 44/50\n",
      "902/902 - 31s - loss: 7.7126e-04 - accuracy: 0.9997 - val_loss: 0.1304 - val_accuracy: 0.9597\n",
      "Epoch 45/50\n",
      "902/902 - 31s - loss: 7.7046e-04 - accuracy: 0.9997 - val_loss: 0.1310 - val_accuracy: 0.9596\n",
      "Epoch 46/50\n",
      "902/902 - 31s - loss: 7.7013e-04 - accuracy: 0.9997 - val_loss: 0.1314 - val_accuracy: 0.9595\n",
      "Epoch 47/50\n",
      "902/902 - 31s - loss: 7.7060e-04 - accuracy: 0.9997 - val_loss: 0.1319 - val_accuracy: 0.9595\n",
      "Epoch 48/50\n",
      "902/902 - 30s - loss: 7.7072e-04 - accuracy: 0.9997 - val_loss: 0.1323 - val_accuracy: 0.9594\n",
      "Epoch 49/50\n",
      "902/902 - 31s - loss: 7.6983e-04 - accuracy: 0.9997 - val_loss: 0.1327 - val_accuracy: 0.9594\n",
      "Epoch 50/50\n",
      "902/902 - 31s - loss: 7.6893e-04 - accuracy: 0.9997 - val_loss: 0.1333 - val_accuracy: 0.9594\n"
     ]
    }
   ],
   "source": [
    "lrs = LearningRateScheduler(lrfn)  \n",
    "mc = ModelCheckpoint('text-cnn.h5', save_best_only=True, save_weights_only=True)\n",
    "steps_per_epoch = len(y_train) // BATCH_SIZE\n",
    "\n",
    "hist = model.fit(train_dataset, epochs=EPOCHS, steps_per_epoch=steps_per_epoch, callbacks=[lrs, mc], \n",
    "                 validation_data=valid_dataset, verbose=2)"
   ]
  },
  {
   "cell_type": "code",
   "execution_count": 10,
   "id": "585b0eae",
   "metadata": {
    "execution": {
     "iopub.execute_input": "2023-02-08T12:34:42.214177Z",
     "iopub.status.busy": "2023-02-08T12:34:42.213177Z",
     "iopub.status.idle": "2023-02-08T12:34:42.451049Z",
     "shell.execute_reply": "2023-02-08T12:34:42.451515Z",
     "shell.execute_reply.started": "2023-01-31T06:59:46.176664Z"
    },
    "papermill": {
     "duration": 0.312029,
     "end_time": "2023-02-08T12:34:42.451697",
     "exception": false,
     "start_time": "2023-02-08T12:34:42.139668",
     "status": "completed"
    },
    "tags": []
   },
   "outputs": [
    {
     "data": {
      "image/png": "[encoded data removed]",
      "text/plain": [
       "<Figure size 432x288 with 1 Axes>"
      ]
     },
     "metadata": {
      "needs_background": "light"
     },
     "output_type": "display_data"
    }
   ],
   "source": [
    "plot_hist(hist)"
   ]
  },
  {
   "cell_type": "code",
   "execution_count": 11,
   "id": "a3b3ed4b",
   "metadata": {
    "execution": {
     "iopub.execute_input": "2023-02-08T12:34:42.593612Z",
     "iopub.status.busy": "2023-02-08T12:34:42.592651Z",
     "iopub.status.idle": "2023-02-08T12:35:22.886958Z",
     "shell.execute_reply": "2023-02-08T12:35:22.887485Z",
     "shell.execute_reply.started": "2023-01-31T06:59:46.436955Z"
    },
    "papermill": {
     "duration": 40.36697,
     "end_time": "2023-02-08T12:35:22.887676",
     "exception": false,
     "start_time": "2023-02-08T12:34:42.520706",
     "status": "completed"
    },
    "tags": []
   },
   "outputs": [
    {
     "name": "stdout",
     "output_type": "stream",
     "text": [
      "301/301 [==============================] - 4s 9ms/step\n",
      "              precision    recall  f1-score   support\n",
      "\n",
      "           0     0.9653    0.9805    0.9728     11377\n",
      "           1     0.9711    0.9490    0.9600      7870\n",
      "\n",
      "    accuracy                         0.9676     19247\n",
      "   macro avg     0.9682    0.9648    0.9664     19247\n",
      "weighted avg     0.9677    0.9676    0.9676     19247\n",
      "\n",
      "[[11155   222]\n",
      " [  401  7469]]\n",
      "      TPR       FPR       FNR   ROC AUC\n",
      "   0.9490    0.0195    0.0510    0.9941\n"
     ]
    }
   ],
   "source": [
    "with strategy.scope():\n",
    "    model.load_weights('text-cnn.h5')\n",
    "\n",
    "y_prob_txt = model.predict(test_dataset, verbose=1)\n",
    "y_pred = np.argmax(y_prob_txt, axis=1)\n",
    "\n",
    "clf_report = metrics.classification_report(y_test, y_pred, digits=4)\n",
    "cnf_matrix = metrics.confusion_matrix(y_test, y_pred)\n",
    "TN, FP, FN, TP = cnf_matrix.ravel()\n",
    "TPR = TP / (TP + FN)\n",
    "FPR = FP / (FP + TN)\n",
    "FNR = FN / (FN + TP)\n",
    "fpr, tpr, _ = metrics.roc_curve(y_test, y_prob_txt[:, 1])\n",
    "auc = metrics.roc_auc_score(y_test, y_prob_txt[:, 1])\n",
    "other_metrics = pd.DataFrame({'TPR': '%.4f' % TPR, \n",
    "                              'FPR': '%.4f' % FPR, \n",
    "                              'FNR': '%.4f' % FNR, \n",
    "                              'ROC AUC': '%.4f' % auc}, index=[0]).to_string(col_space=9, index=False)\n",
    "print(clf_report)\n",
    "print(cnf_matrix)\n",
    "print(other_metrics)"
   ]
  },
  {
   "cell_type": "code",
   "execution_count": 12,
   "id": "7978926c",
   "metadata": {
    "execution": {
     "iopub.execute_input": "2023-02-08T12:35:23.056395Z",
     "iopub.status.busy": "2023-02-08T12:35:23.055648Z",
     "iopub.status.idle": "2023-02-08T12:35:23.058173Z",
     "shell.execute_reply": "2023-02-08T12:35:23.057503Z"
    },
    "papermill": {
     "duration": 0.089254,
     "end_time": "2023-02-08T12:35:23.058324",
     "exception": false,
     "start_time": "2023-02-08T12:35:22.969070",
     "status": "completed"
    },
    "tags": []
   },
   "outputs": [],
   "source": [
    "y_prob_txt_cnn = y_prob_txt"
   ]
  },
  {
   "cell_type": "markdown",
   "id": "2ba05644",
   "metadata": {
    "papermill": {
     "duration": 0.083477,
     "end_time": "2023-02-08T12:35:23.225280",
     "exception": false,
     "start_time": "2023-02-08T12:35:23.141803",
     "status": "completed"
    },
    "tags": []
   },
   "source": [
    "### Text-GRU\n"
   ]
  },
  {
   "cell_type": "code",
   "execution_count": 13,
   "id": "91af876f",
   "metadata": {
    "execution": {
     "iopub.execute_input": "2023-02-08T12:35:23.404113Z",
     "iopub.status.busy": "2023-02-08T12:35:23.403293Z",
     "iopub.status.idle": "2023-02-08T12:35:25.847568Z",
     "shell.execute_reply": "2023-02-08T12:35:25.846693Z",
     "shell.execute_reply.started": "2023-01-31T07:01:12.299432Z"
    },
    "papermill": {
     "duration": 2.539998,
     "end_time": "2023-02-08T12:35:25.847726",
     "exception": false,
     "start_time": "2023-02-08T12:35:23.307728",
     "status": "completed"
    },
    "tags": []
   },
   "outputs": [
    {
     "name": "stdout",
     "output_type": "stream",
     "text": [
      "Model: \"sequential_1\"\n",
      "_________________________________________________________________\n",
      "Layer (type)                 Output Shape              Param #   \n",
      "=================================================================\n",
      "embedding_1 (Embedding)      (None, 128, 64)           173710272 \n",
      "_________________________________________________________________\n",
      "bidirectional (Bidirectional (None, 128, 128)          49920     \n",
      "_________________________________________________________________\n",
      "global_max_pooling1d_1 (Glob (None, 128)               0         \n",
      "_________________________________________________________________\n",
      "dense_1 (Dense)              (None, 2)                 258       \n",
      "=================================================================\n",
      "Total params: 173,760,450\n",
      "Trainable params: 173,760,450\n",
      "Non-trainable params: 0\n",
      "_________________________________________________________________\n",
      "None\n"
     ]
    }
   ],
   "source": [
    "vocab_size = len(tokenizer.word_index) + 1\n",
    "\n",
    "with strategy.scope():\n",
    "    model = Sequential()\n",
    "    model.add(L.Embedding(input_dim=vocab_size,\n",
    "                          output_dim=64, \n",
    "                          input_length=X_train.shape[1]))\n",
    "    model.add(L.Bidirectional(L.GRU(64, return_sequences=True)))\n",
    "    model.add(L.GlobalMaxPooling1D())\n",
    "    model.add(L.Dense(2, activation='softmax'))\n",
    "    model.compile(loss='categorical_crossentropy', optimizer='adam', metrics=['accuracy'])\n",
    "    \n",
    "print(model.summary())"
   ]
  },
  {
   "cell_type": "code",
   "execution_count": 14,
   "id": "1d6acdd0",
   "metadata": {
    "execution": {
     "iopub.execute_input": "2023-02-08T12:35:26.023268Z",
     "iopub.status.busy": "2023-02-08T12:35:26.022534Z",
     "iopub.status.idle": "2023-02-08T13:04:45.518188Z",
     "shell.execute_reply": "2023-02-08T13:04:45.518756Z",
     "shell.execute_reply.started": "2023-01-31T07:01:29.584090Z"
    },
    "papermill": {
     "duration": 1759.587337,
     "end_time": "2023-02-08T13:04:45.519093",
     "exception": false,
     "start_time": "2023-02-08T12:35:25.931756",
     "status": "completed"
    },
    "tags": []
   },
   "outputs": [
    {
     "name": "stdout",
     "output_type": "stream",
     "text": [
      "Epoch 1/50\n"
     ]
    },
    {
     "name": "stderr",
     "output_type": "stream",
     "text": [
      "/opt/conda/lib/python3.7/site-packages/tensorflow/python/framework/indexed_slices.py:430: UserWarning: Converting sparse IndexedSlices to a dense Tensor with 173710272 elements. This may consume a large amount of memory.\n",
      "  num_elements)\n"
     ]
    },
    {
     "name": "stdout",
     "output_type": "stream",
     "text": [
      "902/902 - 45s - loss: 0.1489 - accuracy: 0.9368 - val_loss: 0.0797 - val_accuracy: 0.9707\n",
      "Epoch 2/50\n",
      "902/902 - 35s - loss: 0.0171 - accuracy: 0.9945 - val_loss: 0.0953 - val_accuracy: 0.9685\n",
      "Epoch 3/50\n",
      "902/902 - 35s - loss: 0.0033 - accuracy: 0.9992 - val_loss: 0.0995 - val_accuracy: 0.9715\n",
      "Epoch 4/50\n",
      "902/902 - 35s - loss: 0.0017 - accuracy: 0.9995 - val_loss: 0.1061 - val_accuracy: 0.9718\n",
      "Epoch 5/50\n",
      "902/902 - 35s - loss: 0.0012 - accuracy: 0.9996 - val_loss: 0.1169 - val_accuracy: 0.9713\n",
      "Epoch 6/50\n",
      "902/902 - 35s - loss: 0.0010 - accuracy: 0.9996 - val_loss: 0.1271 - val_accuracy: 0.9706\n",
      "Epoch 7/50\n",
      "902/902 - 35s - loss: 9.7472e-04 - accuracy: 0.9996 - val_loss: 0.1273 - val_accuracy: 0.9702\n",
      "Epoch 8/50\n",
      "902/902 - 35s - loss: 9.3837e-04 - accuracy: 0.9996 - val_loss: 0.1397 - val_accuracy: 0.9694\n",
      "Epoch 9/50\n",
      "902/902 - 35s - loss: 9.1352e-04 - accuracy: 0.9996 - val_loss: 0.1479 - val_accuracy: 0.9694\n",
      "Epoch 10/50\n",
      "902/902 - 35s - loss: 8.9770e-04 - accuracy: 0.9996 - val_loss: 0.1564 - val_accuracy: 0.9679\n",
      "Epoch 11/50\n",
      "902/902 - 35s - loss: 9.1202e-04 - accuracy: 0.9996 - val_loss: 0.1376 - val_accuracy: 0.9700\n",
      "Epoch 12/50\n",
      "902/902 - 35s - loss: 9.1703e-04 - accuracy: 0.9996 - val_loss: 0.1278 - val_accuracy: 0.9689\n",
      "Epoch 13/50\n",
      "902/902 - 35s - loss: 8.5669e-04 - accuracy: 0.9997 - val_loss: 0.1344 - val_accuracy: 0.9705\n",
      "Epoch 14/50\n",
      "902/902 - 35s - loss: 8.2127e-04 - accuracy: 0.9997 - val_loss: 0.1399 - val_accuracy: 0.9705\n",
      "Epoch 15/50\n",
      "902/902 - 35s - loss: 8.0506e-04 - accuracy: 0.9997 - val_loss: 0.1451 - val_accuracy: 0.9695\n",
      "Epoch 16/50\n",
      "902/902 - 35s - loss: 7.9301e-04 - accuracy: 0.9997 - val_loss: 0.1505 - val_accuracy: 0.9693\n",
      "Epoch 17/50\n",
      "902/902 - 35s - loss: 7.8219e-04 - accuracy: 0.9997 - val_loss: 0.1566 - val_accuracy: 0.9692\n",
      "Epoch 18/50\n",
      "902/902 - 35s - loss: 7.7320e-04 - accuracy: 0.9997 - val_loss: 0.1623 - val_accuracy: 0.9689\n",
      "Epoch 19/50\n",
      "902/902 - 35s - loss: 7.6577e-04 - accuracy: 0.9997 - val_loss: 0.1690 - val_accuracy: 0.9683\n",
      "Epoch 20/50\n",
      "902/902 - 35s - loss: 7.4718e-04 - accuracy: 0.9997 - val_loss: 0.1771 - val_accuracy: 0.9675\n",
      "Epoch 21/50\n",
      "902/902 - 35s - loss: 7.5663e-04 - accuracy: 0.9997 - val_loss: 0.1795 - val_accuracy: 0.9675\n",
      "Epoch 22/50\n",
      "902/902 - 35s - loss: 7.5306e-04 - accuracy: 0.9997 - val_loss: 0.1816 - val_accuracy: 0.9672\n",
      "Epoch 23/50\n",
      "902/902 - 35s - loss: 7.4962e-04 - accuracy: 0.9997 - val_loss: 0.1859 - val_accuracy: 0.9669\n",
      "Epoch 24/50\n",
      "902/902 - 35s - loss: 7.4730e-04 - accuracy: 0.9997 - val_loss: 0.1921 - val_accuracy: 0.9663\n",
      "Epoch 25/50\n",
      "902/902 - 35s - loss: 7.4426e-04 - accuracy: 0.9997 - val_loss: 0.1948 - val_accuracy: 0.9659\n",
      "Epoch 26/50\n",
      "902/902 - 36s - loss: 7.4366e-04 - accuracy: 0.9997 - val_loss: 0.1975 - val_accuracy: 0.9655\n",
      "Epoch 27/50\n",
      "902/902 - 35s - loss: 7.5226e-04 - accuracy: 0.9997 - val_loss: 0.1784 - val_accuracy: 0.9675\n",
      "Epoch 28/50\n",
      "902/902 - 35s - loss: 7.3971e-04 - accuracy: 0.9997 - val_loss: 0.1790 - val_accuracy: 0.9676\n",
      "Epoch 29/50\n",
      "902/902 - 35s - loss: 7.3960e-04 - accuracy: 0.9997 - val_loss: 0.1798 - val_accuracy: 0.9677\n",
      "Epoch 30/50\n",
      "902/902 - 35s - loss: 7.3861e-04 - accuracy: 0.9997 - val_loss: 0.1811 - val_accuracy: 0.9673\n",
      "Epoch 31/50\n",
      "902/902 - 35s - loss: 7.3904e-04 - accuracy: 0.9997 - val_loss: 0.1809 - val_accuracy: 0.9678\n",
      "Epoch 32/50\n",
      "902/902 - 35s - loss: 7.3794e-04 - accuracy: 0.9997 - val_loss: 0.1839 - val_accuracy: 0.9675\n",
      "Epoch 33/50\n",
      "902/902 - 35s - loss: 7.3738e-04 - accuracy: 0.9997 - val_loss: 0.1866 - val_accuracy: 0.9670\n",
      "Epoch 34/50\n",
      "902/902 - 35s - loss: 7.3682e-04 - accuracy: 0.9997 - val_loss: 0.1833 - val_accuracy: 0.9676\n",
      "Epoch 35/50\n",
      "902/902 - 35s - loss: 7.3633e-04 - accuracy: 0.9997 - val_loss: 0.1883 - val_accuracy: 0.9670\n",
      "Epoch 36/50\n",
      "902/902 - 35s - loss: 7.3546e-04 - accuracy: 0.9997 - val_loss: 0.1938 - val_accuracy: 0.9661\n",
      "Epoch 37/50\n",
      "902/902 - 35s - loss: 7.3029e-04 - accuracy: 0.9997 - val_loss: 0.1914 - val_accuracy: 0.9669\n",
      "Epoch 38/50\n",
      "902/902 - 35s - loss: 7.4066e-04 - accuracy: 0.9997 - val_loss: 0.1877 - val_accuracy: 0.9663\n",
      "Epoch 39/50\n",
      "902/902 - 35s - loss: 7.3372e-04 - accuracy: 0.9997 - val_loss: 0.1896 - val_accuracy: 0.9663\n",
      "Epoch 40/50\n",
      "902/902 - 35s - loss: 7.3357e-04 - accuracy: 0.9997 - val_loss: 0.1904 - val_accuracy: 0.9664\n",
      "Epoch 41/50\n",
      "902/902 - 35s - loss: 7.3354e-04 - accuracy: 0.9997 - val_loss: 0.1926 - val_accuracy: 0.9662\n",
      "Epoch 42/50\n",
      "902/902 - 36s - loss: 7.3361e-04 - accuracy: 0.9997 - val_loss: 0.1883 - val_accuracy: 0.9670\n",
      "Epoch 43/50\n",
      "902/902 - 35s - loss: 7.3326e-04 - accuracy: 0.9997 - val_loss: 0.1943 - val_accuracy: 0.9663\n",
      "Epoch 44/50\n",
      "902/902 - 35s - loss: 7.3233e-04 - accuracy: 0.9997 - val_loss: 0.1965 - val_accuracy: 0.9664\n",
      "Epoch 45/50\n",
      "902/902 - 35s - loss: 7.3261e-04 - accuracy: 0.9997 - val_loss: 0.1978 - val_accuracy: 0.9659\n",
      "Epoch 46/50\n",
      "902/902 - 35s - loss: 7.3205e-04 - accuracy: 0.9997 - val_loss: 0.1999 - val_accuracy: 0.9655\n",
      "Epoch 47/50\n",
      "902/902 - 35s - loss: 7.3460e-04 - accuracy: 0.9997 - val_loss: 0.1840 - val_accuracy: 0.9677\n",
      "Epoch 48/50\n",
      "902/902 - 35s - loss: 7.3139e-04 - accuracy: 0.9997 - val_loss: 0.1861 - val_accuracy: 0.9673\n",
      "Epoch 49/50\n",
      "902/902 - 35s - loss: 7.3145e-04 - accuracy: 0.9997 - val_loss: 0.1901 - val_accuracy: 0.9673\n",
      "Epoch 50/50\n",
      "902/902 - 35s - loss: 7.3109e-04 - accuracy: 0.9997 - val_loss: 0.1920 - val_accuracy: 0.9671\n"
     ]
    }
   ],
   "source": [
    "lrs = LearningRateScheduler(lrfn)  \n",
    "mc = ModelCheckpoint('text-gru.h5', save_best_only=True, save_weights_only=True)\n",
    "steps_per_epoch = len(y_train) // BATCH_SIZE\n",
    "\n",
    "hist = model.fit(train_dataset, epochs=EPOCHS, steps_per_epoch=steps_per_epoch, callbacks=[lrs, mc], \n",
    "                 validation_data=valid_dataset, verbose=2)"
   ]
  },
  {
   "cell_type": "code",
   "execution_count": 15,
   "id": "ce49f8ab",
   "metadata": {
    "execution": {
     "iopub.execute_input": "2023-02-08T13:04:45.751620Z",
     "iopub.status.busy": "2023-02-08T13:04:45.750931Z",
     "iopub.status.idle": "2023-02-08T13:04:45.986536Z",
     "shell.execute_reply": "2023-02-08T13:04:45.987058Z",
     "shell.execute_reply.started": "2023-01-31T07:32:16.844814Z"
    },
    "papermill": {
     "duration": 0.357529,
     "end_time": "2023-02-08T13:04:45.987239",
     "exception": false,
     "start_time": "2023-02-08T13:04:45.629710",
     "status": "completed"
    },
    "tags": []
   },
   "outputs": [
    {
     "data": {
      "image/png": "[encoded data removed]",
      "text/plain": [
       "<Figure size 432x288 with 1 Axes>"
      ]
     },
     "metadata": {
      "needs_background": "light"
     },
     "output_type": "display_data"
    }
   ],
   "source": [
    "plot_hist(hist)"
   ]
  },
  {
   "cell_type": "code",
   "execution_count": 16,
   "id": "ba91f090",
   "metadata": {
    "execution": {
     "iopub.execute_input": "2023-02-08T13:04:48.365831Z",
     "iopub.status.busy": "2023-02-08T13:04:46.987506Z",
     "iopub.status.idle": "2023-02-08T13:05:27.053371Z",
     "shell.execute_reply": "2023-02-08T13:05:27.052740Z",
     "shell.execute_reply.started": "2023-01-31T07:32:23.337212Z"
    },
    "papermill": {
     "duration": 40.954537,
     "end_time": "2023-02-08T13:05:27.053530",
     "exception": false,
     "start_time": "2023-02-08T13:04:46.098993",
     "status": "completed"
    },
    "tags": []
   },
   "outputs": [
    {
     "name": "stdout",
     "output_type": "stream",
     "text": [
      "301/301 [==============================] - 5s 12ms/step\n",
      "              precision    recall  f1-score   support\n",
      "\n",
      "           0     0.9638    0.9819    0.9728     11377\n",
      "           1     0.9731    0.9468    0.9597      7870\n",
      "\n",
      "    accuracy                         0.9675     19247\n",
      "   macro avg     0.9685    0.9643    0.9663     19247\n",
      "weighted avg     0.9676    0.9675    0.9675     19247\n",
      "\n",
      "[[11171   206]\n",
      " [  419  7451]]\n",
      "      TPR       FPR       FNR   ROC AUC\n",
      "   0.9468    0.0181    0.0532    0.9946\n"
     ]
    }
   ],
   "source": [
    "with strategy.scope():\n",
    "    model.load_weights('text-gru.h5')\n",
    "\n",
    "y_prob_txt = model.predict(test_dataset, verbose=1)\n",
    "y_pred = np.argmax(y_prob_txt, axis=1)\n",
    "\n",
    "clf_report = metrics.classification_report(y_test, y_pred, digits=4)\n",
    "cnf_matrix = metrics.confusion_matrix(y_test, y_pred)\n",
    "TN, FP, FN, TP = cnf_matrix.ravel()\n",
    "TPR = TP / (TP + FN)\n",
    "FPR = FP / (FP + TN)\n",
    "FNR = FN / (FN + TP)\n",
    "fpr, tpr, _ = metrics.roc_curve(y_test, y_prob_txt[:, 1])\n",
    "auc = metrics.roc_auc_score(y_test, y_prob_txt[:, 1])\n",
    "other_metrics = pd.DataFrame({'TPR': '%.4f' % TPR, \n",
    "                              'FPR': '%.4f' % FPR, \n",
    "                              'FNR': '%.4f' % FNR, \n",
    "                              'ROC AUC': '%.4f' % auc}, index=[0]).to_string(col_space=9, index=False)\n",
    "print(clf_report)\n",
    "print(cnf_matrix)\n",
    "print(other_metrics)"
   ]
  },
  {
   "cell_type": "code",
   "execution_count": 17,
   "id": "80b6733a",
   "metadata": {
    "execution": {
     "iopub.execute_input": "2023-02-08T13:05:27.315992Z",
     "iopub.status.busy": "2023-02-08T13:05:27.315248Z",
     "iopub.status.idle": "2023-02-08T13:05:27.318119Z",
     "shell.execute_reply": "2023-02-08T13:05:27.317408Z"
    },
    "papermill": {
     "duration": 0.135796,
     "end_time": "2023-02-08T13:05:27.318278",
     "exception": false,
     "start_time": "2023-02-08T13:05:27.182482",
     "status": "completed"
    },
    "tags": []
   },
   "outputs": [],
   "source": [
    "y_prob_txt_gru = y_prob_txt"
   ]
  },
  {
   "cell_type": "markdown",
   "id": "70e50264",
   "metadata": {
    "papermill": {
     "duration": 0.127934,
     "end_time": "2023-02-08T13:05:27.574684",
     "exception": false,
     "start_time": "2023-02-08T13:05:27.446750",
     "status": "completed"
    },
    "tags": []
   },
   "source": [
    "### Bidirectional LSTM\n"
   ]
  },
  {
   "cell_type": "code",
   "execution_count": 18,
   "id": "1eb9a67a",
   "metadata": {
    "execution": {
     "iopub.execute_input": "2023-02-08T13:05:27.839760Z",
     "iopub.status.busy": "2023-02-08T13:05:27.838622Z",
     "iopub.status.idle": "2023-02-08T13:05:30.583182Z",
     "shell.execute_reply": "2023-02-08T13:05:30.583725Z",
     "shell.execute_reply.started": "2023-01-31T08:05:15.510757Z"
    },
    "papermill": {
     "duration": 2.88239,
     "end_time": "2023-02-08T13:05:30.583944",
     "exception": false,
     "start_time": "2023-02-08T13:05:27.701554",
     "status": "completed"
    },
    "tags": []
   },
   "outputs": [
    {
     "name": "stdout",
     "output_type": "stream",
     "text": [
      "Model: \"sequential_2\"\n",
      "_________________________________________________________________\n",
      "Layer (type)                 Output Shape              Param #   \n",
      "=================================================================\n",
      "embedding_2 (Embedding)      (None, 128, 64)           173710272 \n",
      "_________________________________________________________________\n",
      "bidirectional_1 (Bidirection (None, 128, 128)          66048     \n",
      "_________________________________________________________________\n",
      "global_max_pooling1d_2 (Glob (None, 128)               0         \n",
      "_________________________________________________________________\n",
      "dense_2 (Dense)              (None, 2)                 258       \n",
      "=================================================================\n",
      "Total params: 173,776,578\n",
      "Trainable params: 173,776,578\n",
      "Non-trainable params: 0\n",
      "_________________________________________________________________\n",
      "None\n"
     ]
    }
   ],
   "source": [
    "vocab_size = len(tokenizer.word_index) + 1\n",
    "\n",
    "with strategy.scope():\n",
    "    model = Sequential()\n",
    "    model.add(L.Embedding(input_dim=vocab_size,\n",
    "                          output_dim=64, \n",
    "                          input_length=X_train.shape[1]))\n",
    "    model.add(L.Bidirectional(L.LSTM(64, return_sequences=True)))\n",
    "    model.add(L.GlobalMaxPooling1D())\n",
    "    model.add(L.Dense(2, activation='softmax'))\n",
    "    model.compile(loss='categorical_crossentropy', optimizer='adam', metrics=['accuracy'])\n",
    "    \n",
    "print(model.summary())"
   ]
  },
  {
   "cell_type": "code",
   "execution_count": 19,
   "id": "3cb23ded",
   "metadata": {
    "execution": {
     "iopub.execute_input": "2023-02-08T13:05:30.846156Z",
     "iopub.status.busy": "2023-02-08T13:05:30.845045Z",
     "iopub.status.idle": "2023-02-08T13:34:10.129835Z",
     "shell.execute_reply": "2023-02-08T13:34:10.130480Z",
     "shell.execute_reply.started": "2023-01-31T08:05:18.917435Z"
    },
    "papermill": {
     "duration": 1719.420897,
     "end_time": "2023-02-08T13:34:10.130707",
     "exception": false,
     "start_time": "2023-02-08T13:05:30.709810",
     "status": "completed"
    },
    "tags": []
   },
   "outputs": [
    {
     "name": "stdout",
     "output_type": "stream",
     "text": [
      "Epoch 1/50\n"
     ]
    },
    {
     "name": "stderr",
     "output_type": "stream",
     "text": [
      "/opt/conda/lib/python3.7/site-packages/tensorflow/python/framework/indexed_slices.py:430: UserWarning: Converting sparse IndexedSlices to a dense Tensor with 173710272 elements. This may consume a large amount of memory.\n",
      "  num_elements)\n"
     ]
    },
    {
     "name": "stdout",
     "output_type": "stream",
     "text": [
      "902/902 - 45s - loss: 0.1587 - accuracy: 0.9317 - val_loss: 0.0821 - val_accuracy: 0.9705\n",
      "Epoch 2/50\n",
      "902/902 - 34s - loss: 0.0241 - accuracy: 0.9921 - val_loss: 0.0956 - val_accuracy: 0.9678\n",
      "Epoch 3/50\n",
      "902/902 - 34s - loss: 0.0048 - accuracy: 0.9988 - val_loss: 0.1113 - val_accuracy: 0.9696\n",
      "Epoch 4/50\n",
      "902/902 - 34s - loss: 0.0022 - accuracy: 0.9994 - val_loss: 0.1200 - val_accuracy: 0.9685\n",
      "Epoch 5/50\n",
      "902/902 - 34s - loss: 0.0015 - accuracy: 0.9996 - val_loss: 0.1285 - val_accuracy: 0.9682\n",
      "Epoch 6/50\n",
      "902/902 - 34s - loss: 0.0013 - accuracy: 0.9996 - val_loss: 0.1341 - val_accuracy: 0.9686\n",
      "Epoch 7/50\n",
      "902/902 - 35s - loss: 0.0012 - accuracy: 0.9996 - val_loss: 0.1405 - val_accuracy: 0.9691\n",
      "Epoch 8/50\n",
      "902/902 - 34s - loss: 0.0011 - accuracy: 0.9997 - val_loss: 0.1521 - val_accuracy: 0.9684\n",
      "Epoch 9/50\n",
      "902/902 - 34s - loss: 0.0010 - accuracy: 0.9996 - val_loss: 0.1445 - val_accuracy: 0.9688\n",
      "Epoch 10/50\n",
      "902/902 - 34s - loss: 9.7246e-04 - accuracy: 0.9996 - val_loss: 0.1617 - val_accuracy: 0.9680\n",
      "Epoch 11/50\n",
      "902/902 - 34s - loss: 0.0011 - accuracy: 0.9996 - val_loss: 0.1439 - val_accuracy: 0.9679\n",
      "Epoch 12/50\n",
      "902/902 - 34s - loss: 8.9058e-04 - accuracy: 0.9997 - val_loss: 0.1542 - val_accuracy: 0.9679\n",
      "Epoch 13/50\n",
      "902/902 - 34s - loss: 8.3800e-04 - accuracy: 0.9997 - val_loss: 0.1640 - val_accuracy: 0.9675\n",
      "Epoch 14/50\n",
      "902/902 - 34s - loss: 8.1366e-04 - accuracy: 0.9997 - val_loss: 0.1682 - val_accuracy: 0.9673\n",
      "Epoch 15/50\n",
      "902/902 - 34s - loss: 7.9702e-04 - accuracy: 0.9997 - val_loss: 0.1748 - val_accuracy: 0.9673\n",
      "Epoch 16/50\n",
      "902/902 - 34s - loss: 7.9482e-04 - accuracy: 0.9997 - val_loss: 0.1592 - val_accuracy: 0.9672\n",
      "Epoch 17/50\n",
      "902/902 - 34s - loss: 7.8657e-04 - accuracy: 0.9997 - val_loss: 0.1668 - val_accuracy: 0.9675\n",
      "Epoch 18/50\n",
      "902/902 - 34s - loss: 7.7542e-04 - accuracy: 0.9997 - val_loss: 0.1752 - val_accuracy: 0.9668\n",
      "Epoch 19/50\n",
      "902/902 - 34s - loss: 7.6561e-04 - accuracy: 0.9997 - val_loss: 0.1797 - val_accuracy: 0.9664\n",
      "Epoch 20/50\n",
      "902/902 - 35s - loss: 7.4778e-04 - accuracy: 0.9997 - val_loss: 0.1851 - val_accuracy: 0.9662\n",
      "Epoch 21/50\n",
      "902/902 - 34s - loss: 7.5553e-04 - accuracy: 0.9997 - val_loss: 0.1928 - val_accuracy: 0.9660\n",
      "Epoch 22/50\n",
      "902/902 - 34s - loss: 7.5198e-04 - accuracy: 0.9997 - val_loss: 0.1965 - val_accuracy: 0.9661\n",
      "Epoch 23/50\n",
      "902/902 - 34s - loss: 7.4699e-04 - accuracy: 0.9997 - val_loss: 0.1986 - val_accuracy: 0.9660\n",
      "Epoch 24/50\n",
      "902/902 - 34s - loss: 7.4510e-04 - accuracy: 0.9997 - val_loss: 0.2047 - val_accuracy: 0.9663\n",
      "Epoch 25/50\n",
      "902/902 - 34s - loss: 7.4209e-04 - accuracy: 0.9997 - val_loss: 0.2074 - val_accuracy: 0.9661\n",
      "Epoch 26/50\n",
      "902/902 - 34s - loss: 7.4073e-04 - accuracy: 0.9997 - val_loss: 0.2134 - val_accuracy: 0.9648\n",
      "Epoch 27/50\n",
      "902/902 - 34s - loss: 7.3992e-04 - accuracy: 0.9997 - val_loss: 0.2184 - val_accuracy: 0.9646\n",
      "Epoch 28/50\n",
      "902/902 - 34s - loss: 7.3613e-04 - accuracy: 0.9997 - val_loss: 0.2147 - val_accuracy: 0.9657\n",
      "Epoch 29/50\n",
      "902/902 - 34s - loss: 7.3634e-04 - accuracy: 0.9997 - val_loss: 0.2170 - val_accuracy: 0.9654\n",
      "Epoch 30/50\n",
      "902/902 - 34s - loss: 7.3416e-04 - accuracy: 0.9997 - val_loss: 0.2227 - val_accuracy: 0.9654\n",
      "Epoch 31/50\n",
      "902/902 - 34s - loss: 7.3427e-04 - accuracy: 0.9997 - val_loss: 0.2245 - val_accuracy: 0.9645\n",
      "Epoch 32/50\n",
      "902/902 - 34s - loss: 7.3335e-04 - accuracy: 0.9997 - val_loss: 0.2298 - val_accuracy: 0.9644\n",
      "Epoch 33/50\n",
      "902/902 - 35s - loss: 7.3192e-04 - accuracy: 0.9997 - val_loss: 0.2290 - val_accuracy: 0.9642\n",
      "Epoch 34/50\n",
      "902/902 - 34s - loss: 7.3170e-04 - accuracy: 0.9997 - val_loss: 0.2323 - val_accuracy: 0.9640\n",
      "Epoch 35/50\n",
      "902/902 - 34s - loss: 7.8732e-04 - accuracy: 0.9997 - val_loss: 0.2195 - val_accuracy: 0.9649\n",
      "Epoch 36/50\n",
      "902/902 - 34s - loss: 7.3112e-04 - accuracy: 0.9997 - val_loss: 0.2238 - val_accuracy: 0.9650\n",
      "Epoch 37/50\n",
      "902/902 - 34s - loss: 7.2293e-04 - accuracy: 0.9997 - val_loss: 0.2229 - val_accuracy: 0.9646\n",
      "Epoch 38/50\n",
      "902/902 - 34s - loss: 7.2731e-04 - accuracy: 0.9997 - val_loss: 0.2186 - val_accuracy: 0.9648\n",
      "Epoch 39/50\n",
      "902/902 - 34s - loss: 7.2830e-04 - accuracy: 0.9997 - val_loss: 0.2228 - val_accuracy: 0.9647\n",
      "Epoch 40/50\n",
      "902/902 - 34s - loss: 7.2796e-04 - accuracy: 0.9997 - val_loss: 0.2267 - val_accuracy: 0.9644\n",
      "Epoch 41/50\n",
      "902/902 - 34s - loss: 7.2755e-04 - accuracy: 0.9997 - val_loss: 0.2280 - val_accuracy: 0.9641\n",
      "Epoch 42/50\n",
      "902/902 - 34s - loss: 7.2754e-04 - accuracy: 0.9997 - val_loss: 0.2287 - val_accuracy: 0.9641\n",
      "Epoch 43/50\n",
      "902/902 - 34s - loss: 7.2744e-04 - accuracy: 0.9997 - val_loss: 0.2345 - val_accuracy: 0.9640\n",
      "Epoch 44/50\n",
      "902/902 - 34s - loss: 7.2772e-04 - accuracy: 0.9997 - val_loss: 0.2325 - val_accuracy: 0.9642\n",
      "Epoch 45/50\n",
      "902/902 - 34s - loss: 7.2470e-04 - accuracy: 0.9997 - val_loss: 0.2370 - val_accuracy: 0.9639\n",
      "Epoch 46/50\n",
      "902/902 - 35s - loss: 7.4307e-04 - accuracy: 0.9997 - val_loss: 0.2321 - val_accuracy: 0.9648\n",
      "Epoch 47/50\n",
      "902/902 - 34s - loss: 7.6077e-04 - accuracy: 0.9997 - val_loss: 0.2282 - val_accuracy: 0.9648\n",
      "Epoch 48/50\n",
      "902/902 - 34s - loss: 7.2381e-04 - accuracy: 0.9997 - val_loss: 0.2310 - val_accuracy: 0.9643\n",
      "Epoch 49/50\n",
      "902/902 - 34s - loss: 7.2408e-04 - accuracy: 0.9997 - val_loss: 0.2302 - val_accuracy: 0.9647\n",
      "Epoch 50/50\n",
      "902/902 - 34s - loss: 7.2496e-04 - accuracy: 0.9997 - val_loss: 0.2323 - val_accuracy: 0.9647\n"
     ]
    }
   ],
   "source": [
    "lrs = LearningRateScheduler(lrfn)  \n",
    "mc = ModelCheckpoint('text-lstm.h5', save_best_only=True, save_weights_only=True)\n",
    "steps_per_epoch = len(y_train) // BATCH_SIZE\n",
    "\n",
    "hist = model.fit(train_dataset, epochs=EPOCHS, steps_per_epoch=steps_per_epoch, callbacks=[lrs, mc], \n",
    "                 validation_data=valid_dataset, verbose=2)"
   ]
  },
  {
   "cell_type": "code",
   "execution_count": 20,
   "id": "86c701ed",
   "metadata": {
    "execution": {
     "iopub.execute_input": "2023-02-08T13:34:10.459639Z",
     "iopub.status.busy": "2023-02-08T13:34:10.458980Z",
     "iopub.status.idle": "2023-02-08T13:34:10.691957Z",
     "shell.execute_reply": "2023-02-08T13:34:10.691401Z",
     "shell.execute_reply.started": "2023-01-31T08:19:10.293168Z"
    },
    "papermill": {
     "duration": 0.40353,
     "end_time": "2023-02-08T13:34:10.692107",
     "exception": false,
     "start_time": "2023-02-08T13:34:10.288577",
     "status": "completed"
    },
    "tags": []
   },
   "outputs": [
    {
     "data": {
      "image/png": "[encoded data removed]",
      "text/plain": [
       "<Figure size 432x288 with 1 Axes>"
      ]
     },
     "metadata": {
      "needs_background": "light"
     },
     "output_type": "display_data"
    }
   ],
   "source": [
    "plot_hist(hist)"
   ]
  },
  {
   "cell_type": "code",
   "execution_count": 21,
   "id": "49578c48",
   "metadata": {
    "execution": {
     "iopub.execute_input": "2023-02-08T13:34:11.015672Z",
     "iopub.status.busy": "2023-02-08T13:34:11.014969Z",
     "iopub.status.idle": "2023-02-08T13:34:40.583620Z",
     "shell.execute_reply": "2023-02-08T13:34:40.582450Z",
     "shell.execute_reply.started": "2023-01-31T08:19:10.295011Z"
    },
    "papermill": {
     "duration": 29.734549,
     "end_time": "2023-02-08T13:34:40.583906",
     "exception": false,
     "start_time": "2023-02-08T13:34:10.849357",
     "status": "completed"
    },
    "tags": []
   },
   "outputs": [
    {
     "name": "stdout",
     "output_type": "stream",
     "text": [
      "301/301 [==============================] - 7s 12ms/step\n",
      "              precision    recall  f1-score   support\n",
      "\n",
      "           0     0.9621    0.9837    0.9728     11377\n",
      "           1     0.9757    0.9440    0.9596      7870\n",
      "\n",
      "    accuracy                         0.9675     19247\n",
      "   macro avg     0.9689    0.9639    0.9662     19247\n",
      "weighted avg     0.9677    0.9675    0.9674     19247\n",
      "\n",
      "[[11192   185]\n",
      " [  441  7429]]\n",
      "      TPR       FPR       FNR   ROC AUC\n",
      "   0.9440    0.0163    0.0560    0.9944\n"
     ]
    }
   ],
   "source": [
    "with strategy.scope():\n",
    "    model.load_weights('text-lstm.h5')\n",
    "\n",
    "y_prob_txt = model.predict(test_dataset, verbose=1)\n",
    "y_pred = np.argmax(y_prob_txt, axis=1)\n",
    "\n",
    "clf_report = metrics.classification_report(y_test, y_pred, digits=4)\n",
    "cnf_matrix = metrics.confusion_matrix(y_test, y_pred)\n",
    "TN, FP, FN, TP = cnf_matrix.ravel()\n",
    "TPR = TP / (TP + FN)\n",
    "FPR = FP / (FP + TN)\n",
    "FNR = FN / (FN + TP)\n",
    "fpr, tpr, _ = metrics.roc_curve(y_test, y_prob_txt[:, 1])\n",
    "auc = metrics.roc_auc_score(y_test, y_prob_txt[:, 1])\n",
    "other_metrics = pd.DataFrame({'TPR': '%.4f' % TPR, \n",
    "                              'FPR': '%.4f' % FPR, \n",
    "                              'FNR': '%.4f' % FNR, \n",
    "                              'ROC AUC': '%.4f' % auc}, index=[0]).to_string(col_space=9, index=False)\n",
    "print(clf_report)\n",
    "print(cnf_matrix)\n",
    "print(other_metrics)"
   ]
  },
  {
   "cell_type": "code",
   "execution_count": 22,
   "id": "c14e8adf",
   "metadata": {
    "execution": {
     "iopub.execute_input": "2023-02-08T13:34:41.063318Z",
     "iopub.status.busy": "2023-02-08T13:34:41.062598Z",
     "iopub.status.idle": "2023-02-08T13:34:41.065987Z",
     "shell.execute_reply": "2023-02-08T13:34:41.065318Z"
    },
    "papermill": {
     "duration": 0.185507,
     "end_time": "2023-02-08T13:34:41.066136",
     "exception": false,
     "start_time": "2023-02-08T13:34:40.880629",
     "status": "completed"
    },
    "tags": []
   },
   "outputs": [],
   "source": [
    "y_prob_txt_lstm = y_prob_txt"
   ]
  },
  {
   "cell_type": "markdown",
   "id": "38dea528",
   "metadata": {
    "papermill": {
     "duration": 0.257684,
     "end_time": "2023-02-08T13:34:41.497794",
     "exception": false,
     "start_time": "2023-02-08T13:34:41.240110",
     "status": "completed"
    },
    "tags": []
   },
   "source": [
    "# Fusion with Image-based Detection"
   ]
  },
  {
   "cell_type": "code",
   "execution_count": 23,
   "id": "1ceb178e",
   "metadata": {
    "execution": {
     "iopub.execute_input": "2023-02-08T13:34:41.855292Z",
     "iopub.status.busy": "2023-02-08T13:34:41.849660Z",
     "iopub.status.idle": "2023-02-08T13:35:48.247467Z",
     "shell.execute_reply": "2023-02-08T13:35:48.246899Z",
     "shell.execute_reply.started": "2023-01-31T08:01:23.260692Z"
    },
    "papermill": {
     "duration": 66.573743,
     "end_time": "2023-02-08T13:35:48.247633",
     "exception": false,
     "start_time": "2023-02-08T13:34:41.673890",
     "status": "completed"
    },
    "tags": []
   },
   "outputs": [
    {
     "data": {
      "application/vnd.jupyter.widget-view+json": {
       "model_id": "da0c7981d47042cca0ef6f641bc519dc",
       "version_major": 2,
       "version_minor": 0
      },
      "text/plain": [
       "  0%|          | 0/96234 [00:00<?, ?it/s]"
      ]
     },
     "metadata": {},
     "output_type": "display_data"
    },
    {
     "name": "stdout",
     "output_type": "stream",
     "text": [
      "57740 19247 19247\n",
      "True\n"
     ]
    }
   ],
   "source": [
    "def prepare_data(name):\n",
    "    if glob(dataset_path + f'image/defaced/{name}.png'):\n",
    "        return (f'{GCS_DS_PATH}/image/defaced/{name}.png', 1)\n",
    "    else:\n",
    "        return (f'{GCS_DS_PATH}/image/benign/{name}.png', 0)\n",
    "\n",
    "output = Parallel(n_jobs=N_JOBS)(delayed(prepare_data)(name) for name in tqdm(names))\n",
    "X, y = zip(*output)\n",
    "\n",
    "X_train, X_test, y_train, y_test_ = train_test_split(X, y, test_size=0.2, random_state=42)\n",
    "y_train = to_categorical(y_train, num_classes=2)\n",
    "X_train, X_valid, y_train, y_valid = train_test_split(X_train, y_train, test_size=0.25, \n",
    "                                                      random_state=42)\n",
    "\n",
    "print(len(X_train), len(X_valid), len(X_test))\n",
    "print((y_test == y_test_).all())"
   ]
  },
  {
   "cell_type": "code",
   "execution_count": 24,
   "id": "059cd555",
   "metadata": {
    "execution": {
     "iopub.execute_input": "2023-02-08T13:35:48.611195Z",
     "iopub.status.busy": "2023-02-08T13:35:48.610499Z",
     "iopub.status.idle": "2023-02-08T13:35:48.816665Z",
     "shell.execute_reply": "2023-02-08T13:35:48.816114Z",
     "shell.execute_reply.started": "2023-01-31T08:01:23.262507Z"
    },
    "papermill": {
     "duration": 0.394214,
     "end_time": "2023-02-08T13:35:48.816824",
     "exception": false,
     "start_time": "2023-02-08T13:35:48.422610",
     "status": "completed"
    },
    "tags": []
   },
   "outputs": [],
   "source": [
    "def decode_image(filename, label=None):\n",
    "    bits = tf.io.read_file(filename)\n",
    "    image = tf.image.decode_png(bits, channels=3)\n",
    "    image = tf.cast(image, tf.float32) / 255.0\n",
    "    image = tf.image.resize(image, (IMG_SIZE, IMG_SIZE))\n",
    "    \n",
    "    if label is None:\n",
    "        return image\n",
    "    else:\n",
    "        return image, label\n",
    "\n",
    "test_dataset = (\n",
    "    tf.data.TFRecordDataset\n",
    "    .from_tensor_slices(X_test)\n",
    "    .map(decode_image, num_parallel_calls=AUTO)\n",
    "    .batch(BATCH_SIZE)\n",
    ")"
   ]
  },
  {
   "cell_type": "markdown",
   "id": "aeeeb50d",
   "metadata": {
    "papermill": {
     "duration": 0.175022,
     "end_time": "2023-02-08T13:35:49.166017",
     "exception": false,
     "start_time": "2023-02-08T13:35:48.990995",
     "status": "completed"
    },
    "tags": []
   },
   "source": [
    "## ViTB32\n"
   ]
  },
  {
   "cell_type": "code",
   "execution_count": 25,
   "id": "45e6c91e",
   "metadata": {
    "execution": {
     "iopub.execute_input": "2023-02-08T13:35:49.516390Z",
     "iopub.status.busy": "2023-02-08T13:35:49.513786Z",
     "iopub.status.idle": "2023-02-08T13:36:02.264105Z",
     "shell.execute_reply": "2023-02-08T13:36:02.264678Z",
     "shell.execute_reply.started": "2023-01-31T08:01:23.264092Z"
    },
    "papermill": {
     "duration": 12.92526,
     "end_time": "2023-02-08T13:36:02.264906",
     "exception": false,
     "start_time": "2023-02-08T13:35:49.339646",
     "status": "completed"
    },
    "tags": []
   },
   "outputs": [
    {
     "name": "stdout",
     "output_type": "stream",
     "text": [
      "\u001b[33mWARNING: Running pip as the 'root' user can result in broken permissions and conflicting behaviour with the system package manager. It is recommended to use a virtual environment instead: https://pip.pypa.io/warnings/venv\u001b[0m\r\n"
     ]
    }
   ],
   "source": [
    "!pip install --quiet vit-keras\n",
    "\n",
    "from vit_keras import vit"
   ]
  },
  {
   "cell_type": "code",
   "execution_count": 26,
   "id": "1cf20935",
   "metadata": {
    "execution": {
     "iopub.execute_input": "2023-02-08T13:36:02.625593Z",
     "iopub.status.busy": "2023-02-08T13:36:02.623953Z",
     "iopub.status.idle": "2023-02-08T13:36:38.902278Z",
     "shell.execute_reply": "2023-02-08T13:36:38.903061Z",
     "shell.execute_reply.started": "2023-01-31T08:01:23.265346Z"
    },
    "papermill": {
     "duration": 36.462699,
     "end_time": "2023-02-08T13:36:38.903259",
     "exception": false,
     "start_time": "2023-02-08T13:36:02.440560",
     "status": "completed"
    },
    "tags": []
   },
   "outputs": [
    {
     "name": "stdout",
     "output_type": "stream",
     "text": [
      "\u001b[33mWARNING: Running pip as the 'root' user can result in broken permissions and conflicting behaviour with the system package manager. It is recommended to use a virtual environment instead: https://pip.pypa.io/warnings/venv\u001b[0m\r\n",
      "Downloading data from https://github.com/faustomorales/vit-keras/releases/download/dl/ViT-B_32_imagenet21k+imagenet2012.npz\n",
      "353255424/353253686 [==============================] - 5s 0us/step\n"
     ]
    },
    {
     "name": "stderr",
     "output_type": "stream",
     "text": [
      "/opt/conda/lib/python3.7/site-packages/vit_keras/utils.py:83: UserWarning: Resizing position embeddings from 12, 12 to 7, 7\n",
      "  UserWarning,\n"
     ]
    }
   ],
   "source": [
    "!pip install -q efficientnet\n",
    "from efficientnet.tfkeras import EfficientNetB0\n",
    "\n",
    "with strategy.scope():\n",
    "    net = vit.vit_b32(\n",
    "        image_size = (IMG_SIZE, IMG_SIZE),\n",
    "        activation = 'softmax',\n",
    "        pretrained = True,\n",
    "        include_top = False,\n",
    "        pretrained_top = False\n",
    "    )\n",
    "    model = Sequential()\n",
    "    model.add(net)\n",
    "    model.add(L.BatchNormalization())\n",
    "    model.add(L.Dense(128, activation='softmax'))\n",
    "    model.add(L.BatchNormalization())\n",
    "    model.add(L.Dense(2, activation='softmax'))\n",
    "    model.compile(optimizer='adam', loss='categorical_crossentropy', metrics=['accuracy'])\n",
    "    model.load_weights('../input/deface-vitb32/weights.h5')"
   ]
  },
  {
   "cell_type": "code",
   "execution_count": 27,
   "id": "851c36b8",
   "metadata": {
    "execution": {
     "iopub.execute_input": "2023-02-08T13:36:39.318775Z",
     "iopub.status.busy": "2023-02-08T13:36:39.312621Z",
     "iopub.status.idle": "2023-02-08T13:47:34.031783Z",
     "shell.execute_reply": "2023-02-08T13:47:34.031184Z",
     "shell.execute_reply.started": "2023-01-31T08:01:23.267065Z"
    },
    "papermill": {
     "duration": 654.92914,
     "end_time": "2023-02-08T13:47:34.031976",
     "exception": false,
     "start_time": "2023-02-08T13:36:39.102836",
     "status": "completed"
    },
    "tags": []
   },
   "outputs": [
    {
     "name": "stdout",
     "output_type": "stream",
     "text": [
      "301/301 [==============================] - 655s 2s/step\n",
      "              precision    recall  f1-score   support\n",
      "\n",
      "           0     0.8919    0.9296    0.9104     11377\n",
      "           1     0.8916    0.8371    0.8635      7870\n",
      "\n",
      "    accuracy                         0.8918     19247\n",
      "   macro avg     0.8917    0.8833    0.8869     19247\n",
      "weighted avg     0.8918    0.8918    0.8912     19247\n",
      "\n",
      "[[10576   801]\n",
      " [ 1282  6588]]\n",
      "      TPR       FPR       FNR   ROC AUC\n",
      "   0.8371    0.0704    0.1629    0.9546\n"
     ]
    }
   ],
   "source": [
    "y_prob_img = model.predict(test_dataset, verbose=1)\n",
    "y_pred = np.argmax(y_prob_img, axis=1)\n",
    "\n",
    "clf_report = metrics.classification_report(y_test, y_pred, digits=4)\n",
    "cnf_matrix = metrics.confusion_matrix(y_test, y_pred)\n",
    "TN, FP, FN, TP = cnf_matrix.ravel()\n",
    "TPR = TP / (TP + FN)\n",
    "FPR = FP / (FP + TN)\n",
    "FNR = FN / (FN + TP)\n",
    "fpr, tpr, _ = metrics.roc_curve(y_test, y_prob_img[:, 1])\n",
    "auc = metrics.roc_auc_score(y_test, y_prob_img[:, 1])\n",
    "other_metrics = pd.DataFrame({'TPR': '%.4f' % TPR, \n",
    "                              'FPR': '%.4f' % FPR, \n",
    "                              'FNR': '%.4f' % FNR, \n",
    "                              'ROC AUC': '%.4f' % auc}, index=[0]).to_string(col_space=9, index=False)\n",
    "print(clf_report)\n",
    "print(cnf_matrix)\n",
    "print(other_metrics)"
   ]
  },
  {
   "cell_type": "markdown",
   "id": "97d156bd",
   "metadata": {
    "papermill": {
     "duration": 0.289398,
     "end_time": "2023-02-08T13:47:34.620026",
     "exception": false,
     "start_time": "2023-02-08T13:47:34.330628",
     "status": "completed"
    },
    "tags": []
   },
   "source": [
    "### Fusion"
   ]
  },
  {
   "cell_type": "markdown",
   "id": "a1610c3d",
   "metadata": {
    "papermill": {
     "duration": 0.284439,
     "end_time": "2023-02-08T13:47:35.186626",
     "exception": false,
     "start_time": "2023-02-08T13:47:34.902187",
     "status": "completed"
    },
    "tags": []
   },
   "source": [
    "**Text_CNN**"
   ]
  },
  {
   "cell_type": "code",
   "execution_count": 28,
   "id": "7b81218b",
   "metadata": {
    "execution": {
     "iopub.execute_input": "2023-02-08T13:47:35.760898Z",
     "iopub.status.busy": "2023-02-08T13:47:35.760154Z",
     "iopub.status.idle": "2023-02-08T13:47:35.829583Z",
     "shell.execute_reply": "2023-02-08T13:47:35.828836Z",
     "shell.execute_reply.started": "2023-01-31T08:01:23.268604Z"
    },
    "papermill": {
     "duration": 0.360063,
     "end_time": "2023-02-08T13:47:35.829743",
     "exception": false,
     "start_time": "2023-02-08T13:47:35.469680",
     "status": "completed"
    },
    "tags": []
   },
   "outputs": [
    {
     "name": "stdout",
     "output_type": "stream",
     "text": [
      "              precision    recall  f1-score   support\n",
      "\n",
      "           0     0.9740    0.9783    0.9761     11377\n",
      "           1     0.9684    0.9623    0.9653      7870\n",
      "\n",
      "    accuracy                         0.9717     19247\n",
      "   macro avg     0.9712    0.9703    0.9707     19247\n",
      "weighted avg     0.9717    0.9717    0.9717     19247\n",
      "\n",
      "[[11130   247]\n",
      " [  297  7573]]\n",
      "      TPR       FPR       FNR   ROC AUC\n",
      "   0.9623    0.0217    0.0377    0.9943\n"
     ]
    }
   ],
   "source": [
    "y_prob = (y_prob_img + y_prob_txt_cnn) / 2\n",
    "y_pred = np.argmax(y_prob, axis=1)\n",
    "\n",
    "clf_report = metrics.classification_report(y_test, y_pred, digits=4)\n",
    "cnf_matrix = metrics.confusion_matrix(y_test, y_pred)\n",
    "TN, FP, FN, TP = cnf_matrix.ravel()\n",
    "TPR = TP / (TP + FN)\n",
    "FPR = FP / (FP + TN)\n",
    "FNR = FN / (FN + TP)\n",
    "fpr, tpr, _ = metrics.roc_curve(y_test, y_prob[:, 1])\n",
    "auc = metrics.roc_auc_score(y_test, y_prob[:, 1])\n",
    "other_metrics = pd.DataFrame({'TPR': '%.4f' % TPR, \n",
    "                              'FPR': '%.4f' % FPR, \n",
    "                              'FNR': '%.4f' % FNR, \n",
    "                              'ROC AUC': '%.4f' % auc}, index=[0]).to_string(col_space=9, index=False)\n",
    "print(clf_report)\n",
    "print(cnf_matrix)\n",
    "print(other_metrics)"
   ]
  },
  {
   "cell_type": "markdown",
   "id": "28c9bbe2",
   "metadata": {
    "papermill": {
     "duration": 0.28907,
     "end_time": "2023-02-08T13:47:36.404020",
     "exception": false,
     "start_time": "2023-02-08T13:47:36.114950",
     "status": "completed"
    },
    "tags": []
   },
   "source": [
    "**Text_GRU**"
   ]
  },
  {
   "cell_type": "code",
   "execution_count": 29,
   "id": "b2967ce3",
   "metadata": {
    "execution": {
     "iopub.execute_input": "2023-02-08T13:47:37.002555Z",
     "iopub.status.busy": "2023-02-08T13:47:37.001787Z",
     "iopub.status.idle": "2023-02-08T13:47:37.077161Z",
     "shell.execute_reply": "2023-02-08T13:47:37.076588Z"
    },
    "papermill": {
     "duration": 0.379143,
     "end_time": "2023-02-08T13:47:37.077331",
     "exception": false,
     "start_time": "2023-02-08T13:47:36.698188",
     "status": "completed"
    },
    "tags": []
   },
   "outputs": [
    {
     "name": "stdout",
     "output_type": "stream",
     "text": [
      "              precision    recall  f1-score   support\n",
      "\n",
      "           0     0.9722    0.9812    0.9767     11377\n",
      "           1     0.9724    0.9595    0.9659      7870\n",
      "\n",
      "    accuracy                         0.9723     19247\n",
      "   macro avg     0.9723    0.9703    0.9713     19247\n",
      "weighted avg     0.9723    0.9723    0.9723     19247\n",
      "\n",
      "[[11163   214]\n",
      " [  319  7551]]\n",
      "      TPR       FPR       FNR   ROC AUC\n",
      "   0.9595    0.0188    0.0405    0.9945\n"
     ]
    }
   ],
   "source": [
    "y_prob = (y_prob_img + y_prob_txt_gru) / 2\n",
    "y_pred = np.argmax(y_prob, axis=1)\n",
    "\n",
    "clf_report = metrics.classification_report(y_test, y_pred, digits=4)\n",
    "cnf_matrix = metrics.confusion_matrix(y_test, y_pred)\n",
    "TN, FP, FN, TP = cnf_matrix.ravel()\n",
    "TPR = TP / (TP + FN)\n",
    "FPR = FP / (FP + TN)\n",
    "FNR = FN / (FN + TP)\n",
    "fpr, tpr, _ = metrics.roc_curve(y_test, y_prob[:, 1])\n",
    "auc = metrics.roc_auc_score(y_test, y_prob[:, 1])\n",
    "other_metrics = pd.DataFrame({'TPR': '%.4f' % TPR, \n",
    "                              'FPR': '%.4f' % FPR, \n",
    "                              'FNR': '%.4f' % FNR, \n",
    "                              'ROC AUC': '%.4f' % auc}, index=[0]).to_string(col_space=9, index=False)\n",
    "print(clf_report)\n",
    "print(cnf_matrix)\n",
    "print(other_metrics)"
   ]
  },
  {
   "cell_type": "markdown",
   "id": "f0c9f4c6",
   "metadata": {
    "papermill": {
     "duration": 0.294277,
     "end_time": "2023-02-08T13:47:37.659279",
     "exception": false,
     "start_time": "2023-02-08T13:47:37.365002",
     "status": "completed"
    },
    "tags": []
   },
   "source": [
    "**Text_LSTM**"
   ]
  },
  {
   "cell_type": "code",
   "execution_count": 30,
   "id": "b55cb443",
   "metadata": {
    "execution": {
     "iopub.execute_input": "2023-02-08T13:47:38.247271Z",
     "iopub.status.busy": "2023-02-08T13:47:38.246580Z",
     "iopub.status.idle": "2023-02-08T13:47:38.325494Z",
     "shell.execute_reply": "2023-02-08T13:47:38.324771Z"
    },
    "papermill": {
     "duration": 0.377405,
     "end_time": "2023-02-08T13:47:38.325679",
     "exception": false,
     "start_time": "2023-02-08T13:47:37.948274",
     "status": "completed"
    },
    "tags": []
   },
   "outputs": [
    {
     "name": "stdout",
     "output_type": "stream",
     "text": [
      "              precision    recall  f1-score   support\n",
      "\n",
      "           0     0.9718    0.9808    0.9762     11377\n",
      "           1     0.9718    0.9588    0.9653      7870\n",
      "\n",
      "    accuracy                         0.9718     19247\n",
      "   macro avg     0.9718    0.9698    0.9708     19247\n",
      "weighted avg     0.9718    0.9718    0.9718     19247\n",
      "\n",
      "[[11158   219]\n",
      " [  324  7546]]\n",
      "      TPR       FPR       FNR   ROC AUC\n",
      "   0.9588    0.0192    0.0412    0.9944\n"
     ]
    }
   ],
   "source": [
    "y_prob = (y_prob_img + y_prob_txt_lstm) / 2\n",
    "y_pred = np.argmax(y_prob, axis=1)\n",
    "\n",
    "clf_report = metrics.classification_report(y_test, y_pred, digits=4)\n",
    "cnf_matrix = metrics.confusion_matrix(y_test, y_pred)\n",
    "TN, FP, FN, TP = cnf_matrix.ravel()\n",
    "TPR = TP / (TP + FN)\n",
    "FPR = FP / (FP + TN)\n",
    "FNR = FN / (FN + TP)\n",
    "fpr, tpr, _ = metrics.roc_curve(y_test, y_prob[:, 1])\n",
    "auc = metrics.roc_auc_score(y_test, y_prob[:, 1])\n",
    "other_metrics = pd.DataFrame({'TPR': '%.4f' % TPR, \n",
    "                              'FPR': '%.4f' % FPR, \n",
    "                              'FNR': '%.4f' % FNR, \n",
    "                              'ROC AUC': '%.4f' % auc}, index=[0]).to_string(col_space=9, index=False)\n",
    "print(clf_report)\n",
    "print(cnf_matrix)\n",
    "print(other_metrics)"
   ]
  },
  {
   "cell_type": "markdown",
   "id": "a48dc973",
   "metadata": {
    "papermill": {
     "duration": 0.29289,
     "end_time": "2023-02-08T13:47:38.912791",
     "exception": false,
     "start_time": "2023-02-08T13:47:38.619901",
     "status": "completed"
    },
    "tags": []
   },
   "source": [
    "## VGG19"
   ]
  },
  {
   "cell_type": "code",
   "execution_count": 31,
   "id": "82311efb",
   "metadata": {
    "execution": {
     "iopub.execute_input": "2023-02-08T13:47:39.509730Z",
     "iopub.status.busy": "2023-02-08T13:47:39.508942Z",
     "iopub.status.idle": "2023-02-08T13:47:44.646737Z",
     "shell.execute_reply": "2023-02-08T13:47:44.647937Z",
     "shell.execute_reply.started": "2023-01-31T08:01:23.270053Z"
    },
    "papermill": {
     "duration": 5.439272,
     "end_time": "2023-02-08T13:47:44.648161",
     "exception": false,
     "start_time": "2023-02-08T13:47:39.208889",
     "status": "completed"
    },
    "tags": []
   },
   "outputs": [
    {
     "name": "stdout",
     "output_type": "stream",
     "text": [
      "Downloading data from https://storage.googleapis.com/tensorflow/keras-applications/vgg19/vgg19_weights_tf_dim_ordering_tf_kernels_notop.h5\n",
      "80142336/80134624 [==============================] - 1s 0us/step\n"
     ]
    }
   ],
   "source": [
    "from tensorflow.keras.applications import VGG19\n",
    "\n",
    "with strategy.scope():\n",
    "    net = VGG19(\n",
    "        include_top=False, \n",
    "        weights='imagenet', \n",
    "        pooling='avg', \n",
    "        input_shape=(IMG_SIZE, IMG_SIZE, 3))\n",
    "\n",
    "    model = Sequential()\n",
    "    model.add(net)\n",
    "    model.add(L.BatchNormalization())\n",
    "    model.add(L.Dense(128, activation='softmax'))\n",
    "    model.add(L.BatchNormalization())\n",
    "    model.add(L.Dense(2, activation='softmax'))\n",
    "    model.compile(optimizer='adam', loss='categorical_crossentropy', metrics=['accuracy'])\n",
    "    model.load_weights('../input/deface-vgg19/weights.h5')"
   ]
  },
  {
   "cell_type": "code",
   "execution_count": 32,
   "id": "257461f8",
   "metadata": {
    "execution": {
     "iopub.execute_input": "2023-02-08T13:47:45.269525Z",
     "iopub.status.busy": "2023-02-08T13:47:45.268642Z",
     "iopub.status.idle": "2023-02-08T13:55:43.263335Z",
     "shell.execute_reply": "2023-02-08T13:55:43.264016Z",
     "shell.execute_reply.started": "2023-01-31T08:01:23.272082Z"
    },
    "papermill": {
     "duration": 478.302976,
     "end_time": "2023-02-08T13:55:43.264229",
     "exception": false,
     "start_time": "2023-02-08T13:47:44.961253",
     "status": "completed"
    },
    "tags": []
   },
   "outputs": [
    {
     "name": "stdout",
     "output_type": "stream",
     "text": [
      "301/301 [==============================] - 478s 2s/step\n",
      "              precision    recall  f1-score   support\n",
      "\n",
      "           0     0.7821    0.8380    0.8091     11377\n",
      "           1     0.7388    0.6625    0.6986      7870\n",
      "\n",
      "    accuracy                         0.7662     19247\n",
      "   macro avg     0.7605    0.7503    0.7538     19247\n",
      "weighted avg     0.7644    0.7662    0.7639     19247\n",
      "\n",
      "[[9534 1843]\n",
      " [2656 5214]]\n",
      "      TPR       FPR       FNR   ROC AUC\n",
      "   0.6625    0.1620    0.3375    0.8099\n"
     ]
    }
   ],
   "source": [
    "y_prob_img = model.predict(test_dataset, verbose=1)\n",
    "y_pred = np.argmax(y_prob_img, axis=1)\n",
    "\n",
    "clf_report = metrics.classification_report(y_test, y_pred, digits=4)\n",
    "cnf_matrix = metrics.confusion_matrix(y_test, y_pred)\n",
    "TN, FP, FN, TP = cnf_matrix.ravel()\n",
    "TPR = TP / (TP + FN)\n",
    "FPR = FP / (FP + TN)\n",
    "FNR = FN / (FN + TP)\n",
    "fpr, tpr, _ = metrics.roc_curve(y_test, y_prob_img[:, 1])\n",
    "auc = metrics.roc_auc_score(y_test, y_prob_img[:, 1])\n",
    "other_metrics = pd.DataFrame({'TPR': '%.4f' % TPR, \n",
    "                              'FPR': '%.4f' % FPR, \n",
    "                              'FNR': '%.4f' % FNR, \n",
    "                              'ROC AUC': '%.4f' % auc}, index=[0]).to_string(col_space=9, index=False)\n",
    "print(clf_report)\n",
    "print(cnf_matrix)\n",
    "print(other_metrics)"
   ]
  },
  {
   "cell_type": "markdown",
   "id": "1f2e1754",
   "metadata": {
    "papermill": {
     "duration": 0.371821,
     "end_time": "2023-02-08T13:55:44.012366",
     "exception": false,
     "start_time": "2023-02-08T13:55:43.640545",
     "status": "completed"
    },
    "tags": []
   },
   "source": [
    "### Fusion"
   ]
  },
  {
   "cell_type": "markdown",
   "id": "5beff065",
   "metadata": {
    "papermill": {
     "duration": 0.377303,
     "end_time": "2023-02-08T13:55:44.760005",
     "exception": false,
     "start_time": "2023-02-08T13:55:44.382702",
     "status": "completed"
    },
    "tags": []
   },
   "source": [
    "**Text_CNN**"
   ]
  },
  {
   "cell_type": "code",
   "execution_count": 33,
   "id": "667711ef",
   "metadata": {
    "execution": {
     "iopub.execute_input": "2023-02-08T13:55:45.527074Z",
     "iopub.status.busy": "2023-02-08T13:55:45.526062Z",
     "iopub.status.idle": "2023-02-08T13:55:45.611995Z",
     "shell.execute_reply": "2023-02-08T13:55:45.611305Z",
     "shell.execute_reply.started": "2023-01-31T08:01:23.274050Z"
    },
    "papermill": {
     "duration": 0.464832,
     "end_time": "2023-02-08T13:55:45.612150",
     "exception": false,
     "start_time": "2023-02-08T13:55:45.147318",
     "status": "completed"
    },
    "tags": []
   },
   "outputs": [
    {
     "name": "stdout",
     "output_type": "stream",
     "text": [
      "              precision    recall  f1-score   support\n",
      "\n",
      "           0     0.9650    0.9829    0.9739     11377\n",
      "           1     0.9747    0.9484    0.9614      7870\n",
      "\n",
      "    accuracy                         0.9688     19247\n",
      "   macro avg     0.9698    0.9657    0.9676     19247\n",
      "weighted avg     0.9689    0.9688    0.9688     19247\n",
      "\n",
      "[[11183   194]\n",
      " [  406  7464]]\n",
      "      TPR       FPR       FNR   ROC AUC\n",
      "   0.9484    0.0171    0.0516    0.9881\n"
     ]
    }
   ],
   "source": [
    "y_prob = (y_prob_img + y_prob_txt_cnn) / 2\n",
    "y_pred = np.argmax(y_prob, axis=1)\n",
    "\n",
    "clf_report = metrics.classification_report(y_test, y_pred, digits=4)\n",
    "cnf_matrix = metrics.confusion_matrix(y_test, y_pred)\n",
    "TN, FP, FN, TP = cnf_matrix.ravel()\n",
    "TPR = TP / (TP + FN)\n",
    "FPR = FP / (FP + TN)\n",
    "FNR = FN / (FN + TP)\n",
    "fpr, tpr, _ = metrics.roc_curve(y_test, y_prob[:, 1])\n",
    "auc = metrics.roc_auc_score(y_test, y_prob[:, 1])\n",
    "other_metrics = pd.DataFrame({'TPR': '%.4f' % TPR, \n",
    "                              'FPR': '%.4f' % FPR, \n",
    "                              'FNR': '%.4f' % FNR, \n",
    "                              'ROC AUC': '%.4f' % auc}, index=[0]).to_string(col_space=9, index=False)\n",
    "print(clf_report)\n",
    "print(cnf_matrix)\n",
    "print(other_metrics)"
   ]
  },
  {
   "cell_type": "markdown",
   "id": "67898a73",
   "metadata": {
    "papermill": {
     "duration": 0.373463,
     "end_time": "2023-02-08T13:55:46.369595",
     "exception": false,
     "start_time": "2023-02-08T13:55:45.996132",
     "status": "completed"
    },
    "tags": []
   },
   "source": [
    "**Text_GRU**"
   ]
  },
  {
   "cell_type": "code",
   "execution_count": 34,
   "id": "55359202",
   "metadata": {
    "execution": {
     "iopub.execute_input": "2023-02-08T13:55:47.128239Z",
     "iopub.status.busy": "2023-02-08T13:55:47.127492Z",
     "iopub.status.idle": "2023-02-08T13:55:47.196565Z",
     "shell.execute_reply": "2023-02-08T13:55:47.195882Z"
    },
    "papermill": {
     "duration": 0.453161,
     "end_time": "2023-02-08T13:55:47.196713",
     "exception": false,
     "start_time": "2023-02-08T13:55:46.743552",
     "status": "completed"
    },
    "tags": []
   },
   "outputs": [
    {
     "name": "stdout",
     "output_type": "stream",
     "text": [
      "              precision    recall  f1-score   support\n",
      "\n",
      "           0     0.9646    0.9861    0.9752     11377\n",
      "           1     0.9793    0.9476    0.9632      7870\n",
      "\n",
      "    accuracy                         0.9704     19247\n",
      "   macro avg     0.9719    0.9669    0.9692     19247\n",
      "weighted avg     0.9706    0.9704    0.9703     19247\n",
      "\n",
      "[[11219   158]\n",
      " [  412  7458]]\n",
      "      TPR       FPR       FNR   ROC AUC\n",
      "   0.9476    0.0139    0.0524    0.9884\n"
     ]
    }
   ],
   "source": [
    "y_prob = (y_prob_img + y_prob_txt_gru) / 2\n",
    "y_pred = np.argmax(y_prob, axis=1)\n",
    "\n",
    "clf_report = metrics.classification_report(y_test, y_pred, digits=4)\n",
    "cnf_matrix = metrics.confusion_matrix(y_test, y_pred)\n",
    "TN, FP, FN, TP = cnf_matrix.ravel()\n",
    "TPR = TP / (TP + FN)\n",
    "FPR = FP / (FP + TN)\n",
    "FNR = FN / (FN + TP)\n",
    "fpr, tpr, _ = metrics.roc_curve(y_test, y_prob[:, 1])\n",
    "auc = metrics.roc_auc_score(y_test, y_prob[:, 1])\n",
    "other_metrics = pd.DataFrame({'TPR': '%.4f' % TPR, \n",
    "                              'FPR': '%.4f' % FPR, \n",
    "                              'FNR': '%.4f' % FNR, \n",
    "                              'ROC AUC': '%.4f' % auc}, index=[0]).to_string(col_space=9, index=False)\n",
    "print(clf_report)\n",
    "print(cnf_matrix)\n",
    "print(other_metrics)"
   ]
  },
  {
   "cell_type": "markdown",
   "id": "68cf3ec4",
   "metadata": {
    "papermill": {
     "duration": 0.374208,
     "end_time": "2023-02-08T13:55:47.946058",
     "exception": false,
     "start_time": "2023-02-08T13:55:47.571850",
     "status": "completed"
    },
    "tags": []
   },
   "source": [
    "**Text_LSTM**"
   ]
  },
  {
   "cell_type": "code",
   "execution_count": 35,
   "id": "08b3a5d3",
   "metadata": {
    "execution": {
     "iopub.execute_input": "2023-02-08T13:55:48.696295Z",
     "iopub.status.busy": "2023-02-08T13:55:48.695584Z",
     "iopub.status.idle": "2023-02-08T13:55:48.775606Z",
     "shell.execute_reply": "2023-02-08T13:55:48.775091Z"
    },
    "papermill": {
     "duration": 0.456201,
     "end_time": "2023-02-08T13:55:48.775786",
     "exception": false,
     "start_time": "2023-02-08T13:55:48.319585",
     "status": "completed"
    },
    "tags": []
   },
   "outputs": [
    {
     "name": "stdout",
     "output_type": "stream",
     "text": [
      "              precision    recall  f1-score   support\n",
      "\n",
      "           0     0.9648    0.9861    0.9754     11377\n",
      "           1     0.9793    0.9480    0.9634      7870\n",
      "\n",
      "    accuracy                         0.9705     19247\n",
      "   macro avg     0.9720    0.9671    0.9694     19247\n",
      "weighted avg     0.9707    0.9705    0.9705     19247\n",
      "\n",
      "[[11219   158]\n",
      " [  409  7461]]\n",
      "      TPR       FPR       FNR   ROC AUC\n",
      "   0.9480    0.0139    0.0520    0.9886\n"
     ]
    }
   ],
   "source": [
    "y_prob = (y_prob_img + y_prob_txt_lstm) / 2\n",
    "y_pred = np.argmax(y_prob, axis=1)\n",
    "\n",
    "clf_report = metrics.classification_report(y_test, y_pred, digits=4)\n",
    "cnf_matrix = metrics.confusion_matrix(y_test, y_pred)\n",
    "TN, FP, FN, TP = cnf_matrix.ravel()\n",
    "TPR = TP / (TP + FN)\n",
    "FPR = FP / (FP + TN)\n",
    "FNR = FN / (FN + TP)\n",
    "fpr, tpr, _ = metrics.roc_curve(y_test, y_prob[:, 1])\n",
    "auc = metrics.roc_auc_score(y_test, y_prob[:, 1])\n",
    "other_metrics = pd.DataFrame({'TPR': '%.4f' % TPR, \n",
    "                              'FPR': '%.4f' % FPR, \n",
    "                              'FNR': '%.4f' % FNR, \n",
    "                              'ROC AUC': '%.4f' % auc}, index=[0]).to_string(col_space=9, index=False)\n",
    "print(clf_report)\n",
    "print(cnf_matrix)\n",
    "print(other_metrics)"
   ]
  },
  {
   "cell_type": "markdown",
   "id": "e63fb4c3",
   "metadata": {
    "papermill": {
     "duration": 0.37197,
     "end_time": "2023-02-08T13:55:49.521059",
     "exception": false,
     "start_time": "2023-02-08T13:55:49.149089",
     "status": "completed"
    },
    "tags": []
   },
   "source": [
    "## DenseNet169"
   ]
  },
  {
   "cell_type": "code",
   "execution_count": 36,
   "id": "324a9562",
   "metadata": {
    "execution": {
     "iopub.execute_input": "2023-02-08T13:55:50.283603Z",
     "iopub.status.busy": "2023-02-08T13:55:50.280637Z",
     "iopub.status.idle": "2023-02-08T13:56:31.247786Z",
     "shell.execute_reply": "2023-02-08T13:56:31.248532Z",
     "shell.execute_reply.started": "2023-01-31T08:01:23.275678Z"
    },
    "papermill": {
     "duration": 41.353333,
     "end_time": "2023-02-08T13:56:31.248717",
     "exception": false,
     "start_time": "2023-02-08T13:55:49.895384",
     "status": "completed"
    },
    "tags": []
   },
   "outputs": [
    {
     "name": "stdout",
     "output_type": "stream",
     "text": [
      "Downloading data from https://storage.googleapis.com/tensorflow/keras-applications/densenet/densenet169_weights_tf_dim_ordering_tf_kernels_notop.h5\n",
      "51879936/51877672 [==============================] - 0s 0us/step\n"
     ]
    }
   ],
   "source": [
    "from tensorflow.keras.applications import DenseNet169\n",
    "\n",
    "with strategy.scope():\n",
    "    net = DenseNet169(\n",
    "        include_top=False, \n",
    "        weights='imagenet', \n",
    "        pooling='avg', \n",
    "        input_shape=(IMG_SIZE, IMG_SIZE, 3))\n",
    "\n",
    "    model = Sequential()\n",
    "    model.add(net)\n",
    "    model.add(L.BatchNormalization())\n",
    "    model.add(L.Dense(128, activation='softmax'))\n",
    "    model.add(L.BatchNormalization())\n",
    "    model.add(L.Dense(2, activation='softmax'))\n",
    "    model.compile(optimizer='adam', loss='categorical_crossentropy', metrics=['accuracy'])\n",
    "    model.load_weights('../input/deface-densenet169/weights.h5')"
   ]
  },
  {
   "cell_type": "code",
   "execution_count": 37,
   "id": "d8e37944",
   "metadata": {
    "execution": {
     "iopub.execute_input": "2023-02-08T13:56:32.026986Z",
     "iopub.status.busy": "2023-02-08T13:56:32.026222Z",
     "iopub.status.idle": "2023-02-08T14:04:44.009005Z",
     "shell.execute_reply": "2023-02-08T14:04:44.009573Z",
     "shell.execute_reply.started": "2023-01-31T08:01:23.277180Z"
    },
    "papermill": {
     "duration": 492.377762,
     "end_time": "2023-02-08T14:04:44.009825",
     "exception": false,
     "start_time": "2023-02-08T13:56:31.632063",
     "status": "completed"
    },
    "tags": []
   },
   "outputs": [
    {
     "name": "stdout",
     "output_type": "stream",
     "text": [
      "301/301 [==============================] - 492s 2s/step\n",
      "              precision    recall  f1-score   support\n",
      "\n",
      "           0     0.8663    0.9600    0.9107     11377\n",
      "           1     0.9315    0.7858    0.8524      7870\n",
      "\n",
      "    accuracy                         0.8888     19247\n",
      "   macro avg     0.8989    0.8729    0.8816     19247\n",
      "weighted avg     0.8929    0.8888    0.8869     19247\n",
      "\n",
      "[[10922   455]\n",
      " [ 1686  6184]]\n",
      "      TPR       FPR       FNR   ROC AUC\n",
      "   0.7858    0.0400    0.2142    0.9596\n"
     ]
    }
   ],
   "source": [
    "y_prob_img = model.predict(test_dataset, verbose=1)\n",
    "y_pred = np.argmax(y_prob_img, axis=1)\n",
    "\n",
    "clf_report = metrics.classification_report(y_test, y_pred, digits=4)\n",
    "cnf_matrix = metrics.confusion_matrix(y_test, y_pred)\n",
    "TN, FP, FN, TP = cnf_matrix.ravel()\n",
    "TPR = TP / (TP + FN)\n",
    "FPR = FP / (FP + TN)\n",
    "FNR = FN / (FN + TP)\n",
    "fpr, tpr, _ = metrics.roc_curve(y_test, y_prob_img[:, 1])\n",
    "auc = metrics.roc_auc_score(y_test, y_prob_img[:, 1])\n",
    "other_metrics = pd.DataFrame({'TPR': '%.4f' % TPR, \n",
    "                              'FPR': '%.4f' % FPR, \n",
    "                              'FNR': '%.4f' % FNR, \n",
    "                              'ROC AUC': '%.4f' % auc}, index=[0]).to_string(col_space=9, index=False)\n",
    "print(clf_report)\n",
    "print(cnf_matrix)\n",
    "print(other_metrics)"
   ]
  },
  {
   "cell_type": "markdown",
   "id": "14945e3f",
   "metadata": {
    "papermill": {
     "duration": 0.476219,
     "end_time": "2023-02-08T14:04:45.014349",
     "exception": false,
     "start_time": "2023-02-08T14:04:44.538130",
     "status": "completed"
    },
    "tags": []
   },
   "source": [
    "### Fusion"
   ]
  },
  {
   "cell_type": "markdown",
   "id": "a5813236",
   "metadata": {
    "papermill": {
     "duration": 0.470089,
     "end_time": "2023-02-08T14:04:45.954419",
     "exception": false,
     "start_time": "2023-02-08T14:04:45.484330",
     "status": "completed"
    },
    "tags": []
   },
   "source": [
    "**Text_CNN**"
   ]
  },
  {
   "cell_type": "code",
   "execution_count": 38,
   "id": "3d3a52a7",
   "metadata": {
    "execution": {
     "iopub.execute_input": "2023-02-08T14:04:46.905574Z",
     "iopub.status.busy": "2023-02-08T14:04:46.904496Z",
     "iopub.status.idle": "2023-02-08T14:04:46.972183Z",
     "shell.execute_reply": "2023-02-08T14:04:46.971604Z",
     "shell.execute_reply.started": "2023-01-31T08:01:23.278633Z"
    },
    "papermill": {
     "duration": 0.550028,
     "end_time": "2023-02-08T14:04:46.972336",
     "exception": false,
     "start_time": "2023-02-08T14:04:46.422308",
     "status": "completed"
    },
    "tags": []
   },
   "outputs": [
    {
     "name": "stdout",
     "output_type": "stream",
     "text": [
      "              precision    recall  f1-score   support\n",
      "\n",
      "           0     0.9650    0.9867    0.9757     11377\n",
      "           1     0.9802    0.9483    0.9640      7870\n",
      "\n",
      "    accuracy                         0.9710     19247\n",
      "   macro avg     0.9726    0.9675    0.9699     19247\n",
      "weighted avg     0.9712    0.9710    0.9709     19247\n",
      "\n",
      "[[11226   151]\n",
      " [  407  7463]]\n",
      "      TPR       FPR       FNR   ROC AUC\n",
      "   0.9483    0.0133    0.0517    0.9946\n"
     ]
    }
   ],
   "source": [
    "y_prob = (y_prob_img + y_prob_txt_cnn) / 2\n",
    "y_pred = np.argmax(y_prob, axis=1)\n",
    "\n",
    "clf_report = metrics.classification_report(y_test, y_pred, digits=4)\n",
    "cnf_matrix = metrics.confusion_matrix(y_test, y_pred)\n",
    "TN, FP, FN, TP = cnf_matrix.ravel()\n",
    "TPR = TP / (TP + FN)\n",
    "FPR = FP / (FP + TN)\n",
    "FNR = FN / (FN + TP)\n",
    "fpr, tpr, _ = metrics.roc_curve(y_test, y_prob[:, 1])\n",
    "auc = metrics.roc_auc_score(y_test, y_prob[:, 1])\n",
    "other_metrics = pd.DataFrame({'TPR': '%.4f' % TPR, \n",
    "                              'FPR': '%.4f' % FPR, \n",
    "                              'FNR': '%.4f' % FNR, \n",
    "                              'ROC AUC': '%.4f' % auc}, index=[0]).to_string(col_space=9, index=False)\n",
    "print(clf_report)\n",
    "print(cnf_matrix)\n",
    "print(other_metrics)"
   ]
  },
  {
   "cell_type": "markdown",
   "id": "56cb0d4e",
   "metadata": {
    "papermill": {
     "duration": 0.470305,
     "end_time": "2023-02-08T14:04:47.912974",
     "exception": false,
     "start_time": "2023-02-08T14:04:47.442669",
     "status": "completed"
    },
    "tags": []
   },
   "source": [
    "**Text_GRU**"
   ]
  },
  {
   "cell_type": "code",
   "execution_count": 39,
   "id": "5e0737e2",
   "metadata": {
    "execution": {
     "iopub.execute_input": "2023-02-08T14:04:48.857188Z",
     "iopub.status.busy": "2023-02-08T14:04:48.856436Z",
     "iopub.status.idle": "2023-02-08T14:04:48.928000Z",
     "shell.execute_reply": "2023-02-08T14:04:48.927421Z"
    },
    "papermill": {
     "duration": 0.541115,
     "end_time": "2023-02-08T14:04:48.928179",
     "exception": false,
     "start_time": "2023-02-08T14:04:48.387064",
     "status": "completed"
    },
    "tags": []
   },
   "outputs": [
    {
     "name": "stdout",
     "output_type": "stream",
     "text": [
      "              precision    recall  f1-score   support\n",
      "\n",
      "           0     0.9641    0.9890    0.9764     11377\n",
      "           1     0.9835    0.9468    0.9648      7870\n",
      "\n",
      "    accuracy                         0.9717     19247\n",
      "   macro avg     0.9738    0.9679    0.9706     19247\n",
      "weighted avg     0.9720    0.9717    0.9716     19247\n",
      "\n",
      "[[11252   125]\n",
      " [  419  7451]]\n",
      "      TPR       FPR       FNR   ROC AUC\n",
      "   0.9468    0.0110    0.0532    0.9948\n"
     ]
    }
   ],
   "source": [
    "y_prob = (y_prob_img + y_prob_txt_gru) / 2\n",
    "y_pred = np.argmax(y_prob, axis=1)\n",
    "\n",
    "clf_report = metrics.classification_report(y_test, y_pred, digits=4)\n",
    "cnf_matrix = metrics.confusion_matrix(y_test, y_pred)\n",
    "TN, FP, FN, TP = cnf_matrix.ravel()\n",
    "TPR = TP / (TP + FN)\n",
    "FPR = FP / (FP + TN)\n",
    "FNR = FN / (FN + TP)\n",
    "fpr, tpr, _ = metrics.roc_curve(y_test, y_prob[:, 1])\n",
    "auc = metrics.roc_auc_score(y_test, y_prob[:, 1])\n",
    "other_metrics = pd.DataFrame({'TPR': '%.4f' % TPR, \n",
    "                              'FPR': '%.4f' % FPR, \n",
    "                              'FNR': '%.4f' % FNR, \n",
    "                              'ROC AUC': '%.4f' % auc}, index=[0]).to_string(col_space=9, index=False)\n",
    "print(clf_report)\n",
    "print(cnf_matrix)\n",
    "print(other_metrics)"
   ]
  },
  {
   "cell_type": "markdown",
   "id": "8a141fc6",
   "metadata": {
    "papermill": {
     "duration": 0.465521,
     "end_time": "2023-02-08T14:04:49.863132",
     "exception": false,
     "start_time": "2023-02-08T14:04:49.397611",
     "status": "completed"
    },
    "tags": []
   },
   "source": [
    "**Text_LSTM**"
   ]
  },
  {
   "cell_type": "code",
   "execution_count": 40,
   "id": "d03b5bd4",
   "metadata": {
    "execution": {
     "iopub.execute_input": "2023-02-08T14:04:50.850625Z",
     "iopub.status.busy": "2023-02-08T14:04:50.849990Z",
     "iopub.status.idle": "2023-02-08T14:04:50.928657Z",
     "shell.execute_reply": "2023-02-08T14:04:50.929399Z"
    },
    "papermill": {
     "duration": 0.569598,
     "end_time": "2023-02-08T14:04:50.929647",
     "exception": false,
     "start_time": "2023-02-08T14:04:50.360049",
     "status": "completed"
    },
    "tags": []
   },
   "outputs": [
    {
     "name": "stdout",
     "output_type": "stream",
     "text": [
      "              precision    recall  f1-score   support\n",
      "\n",
      "           0     0.9631    0.9882    0.9755     11377\n",
      "           1     0.9823    0.9452    0.9634      7870\n",
      "\n",
      "    accuracy                         0.9706     19247\n",
      "   macro avg     0.9727    0.9667    0.9695     19247\n",
      "weighted avg     0.9709    0.9706    0.9706     19247\n",
      "\n",
      "[[11243   134]\n",
      " [  431  7439]]\n",
      "      TPR       FPR       FNR   ROC AUC\n",
      "   0.9452    0.0118    0.0548    0.9948\n"
     ]
    }
   ],
   "source": [
    "y_prob = (y_prob_img + y_prob_txt_lstm) / 2\n",
    "y_pred = np.argmax(y_prob, axis=1)\n",
    "\n",
    "clf_report = metrics.classification_report(y_test, y_pred, digits=4)\n",
    "cnf_matrix = metrics.confusion_matrix(y_test, y_pred)\n",
    "TN, FP, FN, TP = cnf_matrix.ravel()\n",
    "TPR = TP / (TP + FN)\n",
    "FPR = FP / (FP + TN)\n",
    "FNR = FN / (FN + TP)\n",
    "fpr, tpr, _ = metrics.roc_curve(y_test, y_prob[:, 1])\n",
    "auc = metrics.roc_auc_score(y_test, y_prob[:, 1])\n",
    "other_metrics = pd.DataFrame({'TPR': '%.4f' % TPR, \n",
    "                              'FPR': '%.4f' % FPR, \n",
    "                              'FNR': '%.4f' % FNR, \n",
    "                              'ROC AUC': '%.4f' % auc}, index=[0]).to_string(col_space=9, index=False)\n",
    "print(clf_report)\n",
    "print(cnf_matrix)\n",
    "print(other_metrics)"
   ]
  }
 ],
 "metadata": {
  "kernelspec": {
   "display_name": "Python 3",
   "language": "python",
   "name": "python3"
  },
  "language_info": {
   "codemirror_mode": {
    "name": "ipython",
    "version": 3
   },
   "file_extension": ".py",
   "mimetype": "text/x-python",
   "name": "python",
   "nbconvert_exporter": "python",
   "pygments_lexer": "ipython3",
   "version": "3.7.10"
  },
  "papermill": {
   "default_parameters": {},
   "duration": 7262.316426,
   "end_time": "2023-02-08T14:04:54.198299",
   "environment_variables": {},
   "exception": null,
   "input_path": "__notebook__.ipynb",
   "output_path": "__notebook__.ipynb",
   "parameters": {},
   "start_time": "2023-02-08T12:03:51.881873",
   "version": "2.3.3"
  },
  "widgets": {
   "application/vnd.jupyter.widget-state+json": {
    "state": {
     "322accc6b5e04ef28ed2d4a9a8f286de": {
      "model_module": "@jupyter-widgets/controls",
      "model_module_version": "1.5.0",
      "model_name": "FloatProgressModel",
      "state": {
       "_dom_classes": [],
       "_model_module": "@jupyter-widgets/controls",
       "_model_module_version": "1.5.0",
       "_model_name": "FloatProgressModel",
       "_view_count": null,
       "_view_module": "@jupyter-widgets/controls",
       "_view_module_version": "1.5.0",
       "_view_name": "ProgressView",
       "bar_style": "success",
       "description": "",
       "description_tooltip": null,
       "layout": "IPY_MODEL_41c7087107f04c4cbb56ebbce04a7dc7",
       "max": 96234.0,
       "min": 0.0,
       "orientation": "horizontal",
       "style": "IPY_MODEL_3800739cf6c84119858aa307041ff77c",
       "value": 96234.0
      }
     },
     "3800739cf6c84119858aa307041ff77c": {
      "model_module": "@jupyter-widgets/controls",
      "model_module_version": "1.5.0",
      "model_name": "ProgressStyleModel",
      "state": {
       "_model_module": "@jupyter-widgets/controls",
       "_model_module_version": "1.5.0",
       "_model_name": "ProgressStyleModel",
       "_view_count": null,
       "_view_module": "@jupyter-widgets/base",
       "_view_module_version": "1.2.0",
       "_view_name": "StyleView",
       "bar_color": null,
       "description_width": ""
      }
     },
     "41c7087107f04c4cbb56ebbce04a7dc7": {
      "model_module": "@jupyter-widgets/base",
      "model_module_version": "1.2.0",
      "model_name": "LayoutModel",
      "state": {
       "_model_module": "@jupyter-widgets/base",
       "_model_module_version": "1.2.0",
       "_model_name": "LayoutModel",
       "_view_count": null,
       "_view_module": "@jupyter-widgets/base",
       "_view_module_version": "1.2.0",
       "_view_name": "LayoutView",
       "align_content": null,
       "align_items": null,
       "align_self": null,
       "border": null,
       "bottom": null,
       "display": null,
       "flex": null,
       "flex_flow": null,
       "grid_area": null,
       "grid_auto_columns": null,
       "grid_auto_flow": null,
       "grid_auto_rows": null,
       "grid_column": null,
       "grid_gap": null,
       "grid_row": null,
       "grid_template_areas": null,
       "grid_template_columns": null,
       "grid_template_rows": null,
       "height": null,
       "justify_content": null,
       "justify_items": null,
       "left": null,
       "margin": null,
       "max_height": null,
       "max_width": null,
       "min_height": null,
       "min_width": null,
       "object_fit": null,
       "object_position": null,
       "order": null,
       "overflow": null,
       "overflow_x": null,
       "overflow_y": null,
       "padding": null,
       "right": null,
       "top": null,
       "visibility": null,
       "width": null
      }
     },
     "48173c9312b14e34a03be78b7cf8b4ec": {
      "model_module": "@jupyter-widgets/base",
      "model_module_version": "1.2.0",
      "model_name": "LayoutModel",
      "state": {
       "_model_module": "@jupyter-widgets/base",
       "_model_module_version": "1.2.0",
       "_model_name": "LayoutModel",
       "_view_count": null,
       "_view_module": "@jupyter-widgets/base",
       "_view_module_version": "1.2.0",
       "_view_name": "LayoutView",
       "align_content": null,
       "align_items": null,
       "align_self": null,
       "border": null,
       "bottom": null,
       "display": null,
       "flex": null,
       "flex_flow": null,
       "grid_area": null,
       "grid_auto_columns": null,
       "grid_auto_flow": null,
       "grid_auto_rows": null,
       "grid_column": null,
       "grid_gap": null,
       "grid_row": null,
       "grid_template_areas": null,
       "grid_template_columns": null,
       "grid_template_rows": null,
       "height": null,
       "justify_content": null,
       "justify_items": null,
       "left": null,
       "margin": null,
       "max_height": null,
       "max_width": null,
       "min_height": null,
       "min_width": null,
       "object_fit": null,
       "object_position": null,
       "order": null,
       "overflow": null,
       "overflow_x": null,
       "overflow_y": null,
       "padding": null,
       "right": null,
       "top": null,
       "visibility": null,
       "width": null
      }
     },
     "4fc7ae6d7d254657b0e76b7e8c61b72e": {
      "model_module": "@jupyter-widgets/controls",
      "model_module_version": "1.5.0",
      "model_name": "DescriptionStyleModel",
      "state": {
       "_model_module": "@jupyter-widgets/controls",
       "_model_module_version": "1.5.0",
       "_model_name": "DescriptionStyleModel",
       "_view_count": null,
       "_view_module": "@jupyter-widgets/base",
       "_view_module_version": "1.2.0",
       "_view_name": "StyleView",
       "description_width": ""
      }
     },
     "51965d17c4a84bf990954c634dda3a94": {
      "model_module": "@jupyter-widgets/base",
      "model_module_version": "1.2.0",
      "model_name": "LayoutModel",
      "state": {
       "_model_module": "@jupyter-widgets/base",
       "_model_module_version": "1.2.0",
       "_model_name": "LayoutModel",
       "_view_count": null,
       "_view_module": "@jupyter-widgets/base",
       "_view_module_version": "1.2.0",
       "_view_name": "LayoutView",
       "align_content": null,
       "align_items": null,
       "align_self": null,
       "border": null,
       "bottom": null,
       "display": null,
       "flex": null,
       "flex_flow": null,
       "grid_area": null,
       "grid_auto_columns": null,
       "grid_auto_flow": null,
       "grid_auto_rows": null,
       "grid_column": null,
       "grid_gap": null,
       "grid_row": null,
       "grid_template_areas": null,
       "grid_template_columns": null,
       "grid_template_rows": null,
       "height": null,
       "justify_content": null,
       "justify_items": null,
       "left": null,
       "margin": null,
       "max_height": null,
       "max_width": null,
       "min_height": null,
       "min_width": null,
       "object_fit": null,
       "object_position": null,
       "order": null,
       "overflow": null,
       "overflow_x": null,
       "overflow_y": null,
       "padding": null,
       "right": null,
       "top": null,
       "visibility": null,
       "width": null
      }
     },
     "53256e51e4c9403fbb40add650d0aded": {
      "model_module": "@jupyter-widgets/base",
      "model_module_version": "1.2.0",
      "model_name": "LayoutModel",
      "state": {
       "_model_module": "@jupyter-widgets/base",
       "_model_module_version": "1.2.0",
       "_model_name": "LayoutModel",
       "_view_count": null,
       "_view_module": "@jupyter-widgets/base",
       "_view_module_version": "1.2.0",
       "_view_name": "LayoutView",
       "align_content": null,
       "align_items": null,
       "align_self": null,
       "border": null,
       "bottom": null,
       "display": null,
       "flex": null,
       "flex_flow": null,
       "grid_area": null,
       "grid_auto_columns": null,
       "grid_auto_flow": null,
       "grid_auto_rows": null,
       "grid_column": null,
       "grid_gap": null,
       "grid_row": null,
       "grid_template_areas": null,
       "grid_template_columns": null,
       "grid_template_rows": null,
       "height": null,
       "justify_content": null,
       "justify_items": null,
       "left": null,
       "margin": null,
       "max_height": null,
       "max_width": null,
       "min_height": null,
       "min_width": null,
       "object_fit": null,
       "object_position": null,
       "order": null,
       "overflow": null,
       "overflow_x": null,
       "overflow_y": null,
       "padding": null,
       "right": null,
       "top": null,
       "visibility": null,
       "width": null
      }
     },
     "6752362ceb3c432cab1bd36fa89b5475": {
      "model_module": "@jupyter-widgets/base",
      "model_module_version": "1.2.0",
      "model_name": "LayoutModel",
      "state": {
       "_model_module": "@jupyter-widgets/base",
       "_model_module_version": "1.2.0",
       "_model_name": "LayoutModel",
       "_view_count": null,
       "_view_module": "@jupyter-widgets/base",
       "_view_module_version": "1.2.0",
       "_view_name": "LayoutView",
       "align_content": null,
       "align_items": null,
       "align_self": null,
       "border": null,
       "bottom": null,
       "display": null,
       "flex": null,
       "flex_flow": null,
       "grid_area": null,
       "grid_auto_columns": null,
       "grid_auto_flow": null,
       "grid_auto_rows": null,
       "grid_column": null,
       "grid_gap": null,
       "grid_row": null,
       "grid_template_areas": null,
       "grid_template_columns": null,
       "grid_template_rows": null,
       "height": null,
       "justify_content": null,
       "justify_items": null,
       "left": null,
       "margin": null,
       "max_height": null,
       "max_width": null,
       "min_height": null,
       "min_width": null,
       "object_fit": null,
       "object_position": null,
       "order": null,
       "overflow": null,
       "overflow_x": null,
       "overflow_y": null,
       "padding": null,
       "right": null,
       "top": null,
       "visibility": null,
       "width": null
      }
     },
     "6fd9651815fd42148a2e1b9b1f49166a": {
      "model_module": "@jupyter-widgets/controls",
      "model_module_version": "1.5.0",
      "model_name": "HBoxModel",
      "state": {
       "_dom_classes": [],
       "_model_module": "@jupyter-widgets/controls",
       "_model_module_version": "1.5.0",
       "_model_name": "HBoxModel",
       "_view_count": null,
       "_view_module": "@jupyter-widgets/controls",
       "_view_module_version": "1.5.0",
       "_view_name": "HBoxView",
       "box_style": "",
       "children": [
        "IPY_MODEL_e8e8482ee864415ba898532a0cff4e1c",
        "IPY_MODEL_d80df580c7ae42b28b2da8dc7df33722",
        "IPY_MODEL_df8cbf00604041e78f487b06402cbd00"
       ],
       "layout": "IPY_MODEL_775fda483715425d8cfbc7b45fe7a9a2"
      }
     },
     "723fdcc79e76428e9747d696ce3325b1": {
      "model_module": "@jupyter-widgets/base",
      "model_module_version": "1.2.0",
      "model_name": "LayoutModel",
      "state": {
       "_model_module": "@jupyter-widgets/base",
       "_model_module_version": "1.2.0",
       "_model_name": "LayoutModel",
       "_view_count": null,
       "_view_module": "@jupyter-widgets/base",
       "_view_module_version": "1.2.0",
       "_view_name": "LayoutView",
       "align_content": null,
       "align_items": null,
       "align_self": null,
       "border": null,
       "bottom": null,
       "display": null,
       "flex": null,
       "flex_flow": null,
       "grid_area": null,
       "grid_auto_columns": null,
       "grid_auto_flow": null,
       "grid_auto_rows": null,
       "grid_column": null,
       "grid_gap": null,
       "grid_row": null,
       "grid_template_areas": null,
       "grid_template_columns": null,
       "grid_template_rows": null,
       "height": null,
       "justify_content": null,
       "justify_items": null,
       "left": null,
       "margin": null,
       "max_height": null,
       "max_width": null,
       "min_height": null,
       "min_width": null,
       "object_fit": null,
       "object_position": null,
       "order": null,
       "overflow": null,
       "overflow_x": null,
       "overflow_y": null,
       "padding": null,
       "right": null,
       "top": null,
       "visibility": null,
       "width": null
      }
     },
     "775fda483715425d8cfbc7b45fe7a9a2": {
      "model_module": "@jupyter-widgets/base",
      "model_module_version": "1.2.0",
      "model_name": "LayoutModel",
      "state": {
       "_model_module": "@jupyter-widgets/base",
       "_model_module_version": "1.2.0",
       "_model_name": "LayoutModel",
       "_view_count": null,
       "_view_module": "@jupyter-widgets/base",
       "_view_module_version": "1.2.0",
       "_view_name": "LayoutView",
       "align_content": null,
       "align_items": null,
       "align_self": null,
       "border": null,
       "bottom": null,
       "display": null,
       "flex": null,
       "flex_flow": null,
       "grid_area": null,
       "grid_auto_columns": null,
       "grid_auto_flow": null,
       "grid_auto_rows": null,
       "grid_column": null,
       "grid_gap": null,
       "grid_row": null,
       "grid_template_areas": null,
       "grid_template_columns": null,
       "grid_template_rows": null,
       "height": null,
       "justify_content": null,
       "justify_items": null,
       "left": null,
       "margin": null,
       "max_height": null,
       "max_width": null,
       "min_height": null,
       "min_width": null,
       "object_fit": null,
       "object_position": null,
       "order": null,
       "overflow": null,
       "overflow_x": null,
       "overflow_y": null,
       "padding": null,
       "right": null,
       "top": null,
       "visibility": null,
       "width": null
      }
     },
     "7d4fa44a06dd42d3b3cc40a1c7bd5aa8": {
      "model_module": "@jupyter-widgets/controls",
      "model_module_version": "1.5.0",
      "model_name": "DescriptionStyleModel",
      "state": {
       "_model_module": "@jupyter-widgets/controls",
       "_model_module_version": "1.5.0",
       "_model_name": "DescriptionStyleModel",
       "_view_count": null,
       "_view_module": "@jupyter-widgets/base",
       "_view_module_version": "1.2.0",
       "_view_name": "StyleView",
       "description_width": ""
      }
     },
     "9778ff7919f342a982711eec9b3d178c": {
      "model_module": "@jupyter-widgets/controls",
      "model_module_version": "1.5.0",
      "model_name": "DescriptionStyleModel",
      "state": {
       "_model_module": "@jupyter-widgets/controls",
       "_model_module_version": "1.5.0",
       "_model_name": "DescriptionStyleModel",
       "_view_count": null,
       "_view_module": "@jupyter-widgets/base",
       "_view_module_version": "1.2.0",
       "_view_name": "StyleView",
       "description_width": ""
      }
     },
     "a3554c9d1e4e4ef0a1cee472b75c6942": {
      "model_module": "@jupyter-widgets/controls",
      "model_module_version": "1.5.0",
      "model_name": "ProgressStyleModel",
      "state": {
       "_model_module": "@jupyter-widgets/controls",
       "_model_module_version": "1.5.0",
       "_model_name": "ProgressStyleModel",
       "_view_count": null,
       "_view_module": "@jupyter-widgets/base",
       "_view_module_version": "1.2.0",
       "_view_name": "StyleView",
       "bar_color": null,
       "description_width": ""
      }
     },
     "a38c3c25bf484cbcb3fb4c50b60bc8b3": {
      "model_module": "@jupyter-widgets/controls",
      "model_module_version": "1.5.0",
      "model_name": "HTMLModel",
      "state": {
       "_dom_classes": [],
       "_model_module": "@jupyter-widgets/controls",
       "_model_module_version": "1.5.0",
       "_model_name": "HTMLModel",
       "_view_count": null,
       "_view_module": "@jupyter-widgets/controls",
       "_view_module_version": "1.5.0",
       "_view_name": "HTMLView",
       "description": "",
       "description_tooltip": null,
       "layout": "IPY_MODEL_e40af7e7d4ca455c86a9b419e8c5f965",
       "placeholder": "​",
       "style": "IPY_MODEL_b3fefa6ad195437da02c8c7cc46ffa63",
       "value": " 96234/96234 [01:04&lt;00:00, 1302.29it/s]"
      }
     },
     "a9606327c5d2455a9f6ce22fb5484b42": {
      "model_module": "@jupyter-widgets/controls",
      "model_module_version": "1.5.0",
      "model_name": "HTMLModel",
      "state": {
       "_dom_classes": [],
       "_model_module": "@jupyter-widgets/controls",
       "_model_module_version": "1.5.0",
       "_model_name": "HTMLModel",
       "_view_count": null,
       "_view_module": "@jupyter-widgets/controls",
       "_view_module_version": "1.5.0",
       "_view_name": "HTMLView",
       "description": "",
       "description_tooltip": null,
       "layout": "IPY_MODEL_51965d17c4a84bf990954c634dda3a94",
       "placeholder": "​",
       "style": "IPY_MODEL_7d4fa44a06dd42d3b3cc40a1c7bd5aa8",
       "value": "100%"
      }
     },
     "b3fefa6ad195437da02c8c7cc46ffa63": {
      "model_module": "@jupyter-widgets/controls",
      "model_module_version": "1.5.0",
      "model_name": "DescriptionStyleModel",
      "state": {
       "_model_module": "@jupyter-widgets/controls",
       "_model_module_version": "1.5.0",
       "_model_name": "DescriptionStyleModel",
       "_view_count": null,
       "_view_module": "@jupyter-widgets/base",
       "_view_module_version": "1.2.0",
       "_view_name": "StyleView",
       "description_width": ""
      }
     },
     "d80df580c7ae42b28b2da8dc7df33722": {
      "model_module": "@jupyter-widgets/controls",
      "model_module_version": "1.5.0",
      "model_name": "FloatProgressModel",
      "state": {
       "_dom_classes": [],
       "_model_module": "@jupyter-widgets/controls",
       "_model_module_version": "1.5.0",
       "_model_name": "FloatProgressModel",
       "_view_count": null,
       "_view_module": "@jupyter-widgets/controls",
       "_view_module_version": "1.5.0",
       "_view_name": "ProgressView",
       "bar_style": "success",
       "description": "",
       "description_tooltip": null,
       "layout": "IPY_MODEL_53256e51e4c9403fbb40add650d0aded",
       "max": 96234.0,
       "min": 0.0,
       "orientation": "horizontal",
       "style": "IPY_MODEL_a3554c9d1e4e4ef0a1cee472b75c6942",
       "value": 96234.0
      }
     },
     "da0c7981d47042cca0ef6f641bc519dc": {
      "model_module": "@jupyter-widgets/controls",
      "model_module_version": "1.5.0",
      "model_name": "HBoxModel",
      "state": {
       "_dom_classes": [],
       "_model_module": "@jupyter-widgets/controls",
       "_model_module_version": "1.5.0",
       "_model_name": "HBoxModel",
       "_view_count": null,
       "_view_module": "@jupyter-widgets/controls",
       "_view_module_version": "1.5.0",
       "_view_name": "HBoxView",
       "box_style": "",
       "children": [
        "IPY_MODEL_a9606327c5d2455a9f6ce22fb5484b42",
        "IPY_MODEL_322accc6b5e04ef28ed2d4a9a8f286de",
        "IPY_MODEL_a38c3c25bf484cbcb3fb4c50b60bc8b3"
       ],
       "layout": "IPY_MODEL_6752362ceb3c432cab1bd36fa89b5475"
      }
     },
     "df8cbf00604041e78f487b06402cbd00": {
      "model_module": "@jupyter-widgets/controls",
      "model_module_version": "1.5.0",
      "model_name": "HTMLModel",
      "state": {
       "_dom_classes": [],
       "_model_module": "@jupyter-widgets/controls",
       "_model_module_version": "1.5.0",
       "_model_name": "HTMLModel",
       "_view_count": null,
       "_view_module": "@jupyter-widgets/controls",
       "_view_module_version": "1.5.0",
       "_view_name": "HTMLView",
       "description": "",
       "description_tooltip": null,
       "layout": "IPY_MODEL_48173c9312b14e34a03be78b7cf8b4ec",
       "placeholder": "​",
       "style": "IPY_MODEL_9778ff7919f342a982711eec9b3d178c",
       "value": " 96234/96234 [03:23&lt;00:00, 472.48it/s]"
      }
     },
     "e40af7e7d4ca455c86a9b419e8c5f965": {
      "model_module": "@jupyter-widgets/base",
      "model_module_version": "1.2.0",
      "model_name": "LayoutModel",
      "state": {
       "_model_module": "@jupyter-widgets/base",
       "_model_module_version": "1.2.0",
       "_model_name": "LayoutModel",
       "_view_count": null,
       "_view_module": "@jupyter-widgets/base",
       "_view_module_version": "1.2.0",
       "_view_name": "LayoutView",
       "align_content": null,
       "align_items": null,
       "align_self": null,
       "border": null,
       "bottom": null,
       "display": null,
       "flex": null,
       "flex_flow": null,
       "grid_area": null,
       "grid_auto_columns": null,
       "grid_auto_flow": null,
       "grid_auto_rows": null,
       "grid_column": null,
       "grid_gap": null,
       "grid_row": null,
       "grid_template_areas": null,
       "grid_template_columns": null,
       "grid_template_rows": null,
       "height": null,
       "justify_content": null,
       "justify_items": null,
       "left": null,
       "margin": null,
       "max_height": null,
       "max_width": null,
       "min_height": null,
       "min_width": null,
       "object_fit": null,
       "object_position": null,
       "order": null,
       "overflow": null,
       "overflow_x": null,
       "overflow_y": null,
       "padding": null,
       "right": null,
       "top": null,
       "visibility": null,
       "width": null
      }
     },
     "e8e8482ee864415ba898532a0cff4e1c": {
      "model_module": "@jupyter-widgets/controls",
      "model_module_version": "1.5.0",
      "model_name": "HTMLModel",
      "state": {
       "_dom_classes": [],
       "_model_module": "@jupyter-widgets/controls",
       "_model_module_version": "1.5.0",
       "_model_name": "HTMLModel",
       "_view_count": null,
       "_view_module": "@jupyter-widgets/controls",
       "_view_module_version": "1.5.0",
       "_view_name": "HTMLView",
       "description": "",
       "description_tooltip": null,
       "layout": "IPY_MODEL_723fdcc79e76428e9747d696ce3325b1",
       "placeholder": "​",
       "style": "IPY_MODEL_4fc7ae6d7d254657b0e76b7e8c61b72e",
       "value": "100%"
      }
     }
    },
    "version_major": 2,
    "version_minor": 0
   }
  }
 },
 "nbformat": 4,
 "nbformat_minor": 5
}

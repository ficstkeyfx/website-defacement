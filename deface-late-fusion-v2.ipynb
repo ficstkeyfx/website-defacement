{
 "cells": [
  {
   "cell_type": "code",
   "execution_count": 1,
   "id": "9c76f357",
   "metadata": {
    "_cell_guid": "b1076dfc-b9ad-4769-8c92-a6c4dae69d19",
    "_uuid": "8f2839f25d086af736a60e9eeb907d3b93b6e0e5",
    "execution": {
     "iopub.execute_input": "2023-01-31T09:17:19.726832Z",
     "iopub.status.busy": "2023-01-31T09:17:19.726087Z",
     "iopub.status.idle": "2023-01-31T09:17:26.864610Z",
     "shell.execute_reply": "2023-01-31T09:17:26.863822Z",
     "shell.execute_reply.started": "2023-01-31T07:57:20.402163Z"
    },
    "papermill": {
     "duration": 7.196765,
     "end_time": "2023-01-31T09:17:26.864836",
     "exception": false,
     "start_time": "2023-01-31T09:17:19.668071",
     "status": "completed"
    },
    "tags": []
   },
   "outputs": [
    {
     "name": "stderr",
     "output_type": "stream",
     "text": [
      "2023-01-31 09:17:20.500087: W tensorflow/stream_executor/platform/default/dso_loader.cc:60] Could not load dynamic library 'libcudart.so.11.0'; dlerror: libcudart.so.11.0: cannot open shared object file: No such file or directory; LD_LIBRARY_PATH: /opt/conda/lib\n",
      "2023-01-31 09:17:20.500200: I tensorflow/stream_executor/cuda/cudart_stub.cc:29] Ignore above cudart dlerror if you do not have a GPU set up on your machine.\n"
     ]
    }
   ],
   "source": [
    "import numpy as np\n",
    "import pandas as pd\n",
    "import tensorflow as tf\n",
    "from matplotlib import pyplot as plt\n",
    "from kaggle_datasets import KaggleDatasets\n",
    "from kaggle_secrets import UserSecretsClient\n",
    "from glob import glob\n",
    "from tqdm.notebook import tqdm\n",
    "from multiprocessing import cpu_count\n",
    "from joblib import Parallel, delayed\n",
    "from tensorflow.keras.models import Sequential\n",
    "from tensorflow.keras import layers as L\n",
    "from tensorflow.keras.utils import to_categorical\n",
    "from tensorflow.keras.callbacks import LearningRateScheduler, ModelCheckpoint\n",
    "from sklearn.model_selection import train_test_split\n",
    "from sklearn import metrics\n",
    "\n",
    "%matplotlib inline"
   ]
  },
  {
   "cell_type": "code",
   "execution_count": 2,
   "id": "8e7798ab",
   "metadata": {
    "execution": {
     "iopub.execute_input": "2023-01-31T09:17:26.952561Z",
     "iopub.status.busy": "2023-01-31T09:17:26.951472Z",
     "iopub.status.idle": "2023-01-31T09:17:32.356173Z",
     "shell.execute_reply": "2023-01-31T09:17:32.356775Z",
     "shell.execute_reply.started": "2023-01-31T07:57:34.260849Z"
    },
    "papermill": {
     "duration": 5.4502,
     "end_time": "2023-01-31T09:17:32.357012",
     "exception": false,
     "start_time": "2023-01-31T09:17:26.906812",
     "status": "completed"
    },
    "tags": []
   },
   "outputs": [
    {
     "name": "stdout",
     "output_type": "stream",
     "text": [
      "Running on TPU: grpc://10.0.0.2:8470\n"
     ]
    },
    {
     "name": "stderr",
     "output_type": "stream",
     "text": [
      "2023-01-31 09:17:26.960902: I tensorflow/compiler/jit/xla_cpu_device.cc:41] Not creating XLA devices, tf_xla_enable_xla_devices not set\n",
      "2023-01-31 09:17:26.963775: W tensorflow/stream_executor/platform/default/dso_loader.cc:60] Could not load dynamic library 'libcuda.so.1'; dlerror: libcuda.so.1: cannot open shared object file: No such file or directory; LD_LIBRARY_PATH: /opt/conda/lib\n",
      "2023-01-31 09:17:26.963824: W tensorflow/stream_executor/cuda/cuda_driver.cc:326] failed call to cuInit: UNKNOWN ERROR (303)\n",
      "2023-01-31 09:17:26.963857: I tensorflow/stream_executor/cuda/cuda_diagnostics.cc:156] kernel driver does not appear to be running on this host (028ac0ee51bd): /proc/driver/nvidia/version does not exist\n",
      "2023-01-31 09:17:26.966474: I tensorflow/core/platform/cpu_feature_guard.cc:142] This TensorFlow binary is optimized with oneAPI Deep Neural Network Library (oneDNN) to use the following CPU instructions in performance-critical operations:  AVX2 FMA\n",
      "To enable them in other operations, rebuild TensorFlow with the appropriate compiler flags.\n",
      "2023-01-31 09:17:26.968812: I tensorflow/compiler/jit/xla_gpu_device.cc:99] Not creating XLA devices, tf_xla_enable_xla_devices not set\n",
      "2023-01-31 09:17:26.975186: I tensorflow/compiler/jit/xla_gpu_device.cc:99] Not creating XLA devices, tf_xla_enable_xla_devices not set\n",
      "2023-01-31 09:17:27.001854: I tensorflow/core/distributed_runtime/rpc/grpc_channel.cc:301] Initialize GrpcChannelCache for job worker -> {0 -> 10.0.0.2:8470}\n",
      "2023-01-31 09:17:27.001982: I tensorflow/core/distributed_runtime/rpc/grpc_channel.cc:301] Initialize GrpcChannelCache for job localhost -> {0 -> localhost:30019}\n",
      "2023-01-31 09:17:27.025938: I tensorflow/core/distributed_runtime/rpc/grpc_channel.cc:301] Initialize GrpcChannelCache for job worker -> {0 -> 10.0.0.2:8470}\n",
      "2023-01-31 09:17:27.026011: I tensorflow/core/distributed_runtime/rpc/grpc_channel.cc:301] Initialize GrpcChannelCache for job localhost -> {0 -> localhost:30019}\n",
      "2023-01-31 09:17:27.027697: I tensorflow/core/distributed_runtime/rpc/grpc_server_lib.cc:411] Started server with target: grpc://localhost:30019\n"
     ]
    },
    {
     "name": "stdout",
     "output_type": "stream",
     "text": [
      "N_JOBS: 4\n",
      "Batch size: 64\n",
      "GCS_DS_PATH: gs://kds-0216339375dff4a7db6d61f7800f92202e600e6c4067e2d30681bc6c\n"
     ]
    }
   ],
   "source": [
    "try:\n",
    "    tpu = tf.distribute.cluster_resolver.TPUClusterResolver()\n",
    "    print('Running on TPU:', tpu.master())\n",
    "except ValueError:\n",
    "    tpu = None\n",
    "\n",
    "if tpu:\n",
    "    tf.config.experimental_connect_to_cluster(tpu)\n",
    "    tf.tpu.experimental.initialize_tpu_system(tpu)\n",
    "    strategy = tf.distribute.experimental.TPUStrategy(tpu)\n",
    "else:\n",
    "    strategy = tf.distribute.get_strategy()\n",
    "\n",
    "user_secrets = UserSecretsClient()\n",
    "user_credential = user_secrets.get_gcloud_credential()\n",
    "user_secrets.set_tensorflow_credential(user_credential)\n",
    "GCS_DS_PATH = KaggleDatasets().get_gcs_path('website-defacement')\n",
    "\n",
    "AUTO = tf.data.experimental.AUTOTUNE\n",
    "BATCH_SIZE = 8 * strategy.num_replicas_in_sync\n",
    "N_JOBS = cpu_count()\n",
    "\n",
    "IMG_SIZE = 224\n",
    "EPOCHS = 50\n",
    "\n",
    "print('N_JOBS:', N_JOBS)\n",
    "print('Batch size:', BATCH_SIZE)\n",
    "print('GCS_DS_PATH:', GCS_DS_PATH)"
   ]
  },
  {
   "cell_type": "code",
   "execution_count": 3,
   "id": "ae9b4c53",
   "metadata": {
    "execution": {
     "iopub.execute_input": "2023-01-31T09:17:32.450681Z",
     "iopub.status.busy": "2023-01-31T09:17:32.449828Z",
     "iopub.status.idle": "2023-01-31T09:17:36.924047Z",
     "shell.execute_reply": "2023-01-31T09:17:36.924607Z",
     "shell.execute_reply.started": "2023-01-31T08:00:25.611235Z"
    },
    "papermill": {
     "duration": 4.525249,
     "end_time": "2023-01-31T09:17:36.924843",
     "exception": false,
     "start_time": "2023-01-31T09:17:32.399594",
     "status": "completed"
    },
    "tags": []
   },
   "outputs": [],
   "source": [
    "dataset_path = '../input/website-defacement/'\n",
    "img_paths = glob(dataset_path + 'image/*/*')\n",
    "txt_paths = glob(dataset_path + 'text/*/*')\n",
    "img_names = [path.split('/')[-1][:-4] for path in img_paths]\n",
    "txt_names = [path.split('/')[-1][:-4] for path in txt_paths]\n",
    "names = list(set(img_names).intersection(txt_names))"
   ]
  },
  {
   "cell_type": "markdown",
   "id": "8ae4d0a7",
   "metadata": {
    "papermill": {
     "duration": 0.041974,
     "end_time": "2023-01-31T09:17:37.009243",
     "exception": false,
     "start_time": "2023-01-31T09:17:36.967269",
     "status": "completed"
    },
    "tags": []
   },
   "source": [
    "# Text-based Detection"
   ]
  },
  {
   "cell_type": "code",
   "execution_count": 4,
   "id": "ce5b92b9",
   "metadata": {
    "execution": {
     "iopub.execute_input": "2023-01-31T09:17:37.104749Z",
     "iopub.status.busy": "2023-01-31T09:17:37.098358Z",
     "iopub.status.idle": "2023-01-31T09:21:09.631679Z",
     "shell.execute_reply": "2023-01-31T09:21:09.631074Z",
     "shell.execute_reply.started": "2023-01-31T08:01:58.268247Z"
    },
    "papermill": {
     "duration": 212.579934,
     "end_time": "2023-01-31T09:21:09.631859",
     "exception": false,
     "start_time": "2023-01-31T09:17:37.051925",
     "status": "completed"
    },
    "tags": []
   },
   "outputs": [
    {
     "data": {
      "application/vnd.jupyter.widget-view+json": {
       "model_id": "0d5665a7d6924833b6f463ac1a6a44de",
       "version_major": 2,
       "version_minor": 0
      },
      "text/plain": [
       "  0%|          | 0/96234 [00:00<?, ?it/s]"
      ]
     },
     "metadata": {},
     "output_type": "display_data"
    },
    {
     "name": "stdout",
     "output_type": "stream",
     "text": [
      "57740 19247 19247\n"
     ]
    }
   ],
   "source": [
    "def prepare_data(name):\n",
    "    if glob(dataset_path + f'text/defaced/{name}.txt'):\n",
    "        path = dataset_path + f'text/defaced/{name}.txt'\n",
    "        label = 1\n",
    "    else:\n",
    "        path = dataset_path + f'text/benign/{name}.txt'\n",
    "        label = 0\n",
    "    with open(path, 'r') as f:\n",
    "        text = f.read()\n",
    "    return (text, label)\n",
    "\n",
    "output = Parallel(n_jobs=N_JOBS)(delayed(prepare_data)(name) for name in tqdm(names))\n",
    "X, y = zip(*output)\n",
    "\n",
    "X_train, X_test, y_train, y_test = train_test_split(X, y, test_size=0.2, random_state=42)\n",
    "y_train = to_categorical(y_train, num_classes=2)\n",
    "X_train, X_valid, y_train, y_valid = train_test_split(X_train, y_train, test_size=0.25, \n",
    "                                                      random_state=42)\n",
    "\n",
    "print(len(X_train), len(X_valid), len(X_test))"
   ]
  },
  {
   "cell_type": "code",
   "execution_count": 5,
   "id": "7265c11b",
   "metadata": {
    "execution": {
     "iopub.execute_input": "2023-01-31T09:21:09.771000Z",
     "iopub.status.busy": "2023-01-31T09:21:09.737910Z",
     "iopub.status.idle": "2023-01-31T09:22:20.824071Z",
     "shell.execute_reply": "2023-01-31T09:22:20.823239Z",
     "shell.execute_reply.started": "2023-01-31T08:04:01.318272Z"
    },
    "papermill": {
     "duration": 71.148629,
     "end_time": "2023-01-31T09:22:20.824247",
     "exception": false,
     "start_time": "2023-01-31T09:21:09.675618",
     "status": "completed"
    },
    "tags": []
   },
   "outputs": [],
   "source": [
    "from tensorflow.keras.preprocessing.text import Tokenizer\n",
    "from tensorflow.keras.preprocessing.sequence import pad_sequences\n",
    "\n",
    "tokenizer = Tokenizer(filters='')\n",
    "tokenizer.fit_on_texts(X_train)\n",
    "\n",
    "MAXLEN = 128\n",
    "\n",
    "X_train = tokenizer.texts_to_sequences(X_train)\n",
    "X_train = pad_sequences(X_train, maxlen=MAXLEN)\n",
    "y_train = np.array(y_train)\n",
    "\n",
    "X_valid = tokenizer.texts_to_sequences(X_valid)\n",
    "X_valid = pad_sequences(X_valid, maxlen=MAXLEN)\n",
    "y_valid = np.array(y_valid)\n",
    "\n",
    "X_test = tokenizer.texts_to_sequences(X_test)\n",
    "X_test = pad_sequences(X_test, maxlen=MAXLEN)\n",
    "y_test = np.array(y_test)"
   ]
  },
  {
   "cell_type": "code",
   "execution_count": 6,
   "id": "a8819ab6",
   "metadata": {
    "execution": {
     "iopub.execute_input": "2023-01-31T09:22:20.914625Z",
     "iopub.status.busy": "2023-01-31T09:22:20.913850Z",
     "iopub.status.idle": "2023-01-31T09:22:21.075462Z",
     "shell.execute_reply": "2023-01-31T09:22:21.074831Z",
     "shell.execute_reply.started": "2023-01-31T08:05:14.929627Z"
    },
    "papermill": {
     "duration": 0.208048,
     "end_time": "2023-01-31T09:22:21.075614",
     "exception": false,
     "start_time": "2023-01-31T09:22:20.867566",
     "status": "completed"
    },
    "tags": []
   },
   "outputs": [],
   "source": [
    "train_dataset = (\n",
    "    tf.data.TFRecordDataset\n",
    "    .from_tensor_slices((X_train, y_train))\n",
    "    .shuffle(100000)\n",
    "    .cache()\n",
    "    .repeat()\n",
    "    .batch(BATCH_SIZE)\n",
    "    .prefetch(AUTO)\n",
    ")\n",
    "\n",
    "test_dataset = (\n",
    "    tf.data.TFRecordDataset\n",
    "    .from_tensor_slices(X_test)\n",
    "    .batch(BATCH_SIZE)\n",
    ")\n",
    "\n",
    "valid_dataset = (\n",
    "    tf.data.TFRecordDataset\n",
    "    .from_tensor_slices((X_valid, y_valid))\n",
    "    .cache()\n",
    "    .batch(BATCH_SIZE)\n",
    "    .prefetch(AUTO)\n",
    ")"
   ]
  },
  {
   "cell_type": "code",
   "execution_count": 7,
   "id": "95747911",
   "metadata": {
    "execution": {
     "iopub.execute_input": "2023-01-31T09:22:21.192722Z",
     "iopub.status.busy": "2023-01-31T09:22:21.191965Z",
     "iopub.status.idle": "2023-01-31T09:22:21.442922Z",
     "shell.execute_reply": "2023-01-31T09:22:21.443443Z",
     "shell.execute_reply.started": "2023-01-31T08:05:15.197980Z"
    },
    "papermill": {
     "duration": 0.325366,
     "end_time": "2023-01-31T09:22:21.443669",
     "exception": false,
     "start_time": "2023-01-31T09:22:21.118303",
     "status": "completed"
    },
    "tags": []
   },
   "outputs": [
    {
     "data": {
      "text/plain": [
       "[<matplotlib.lines.Line2D at 0x7fea7f774290>]"
      ]
     },
     "execution_count": 7,
     "metadata": {},
     "output_type": "execute_result"
    },
    {
     "data": {
      "image/png": "[encoded data removed]",
      "text/plain": [
       "<Figure size 432x288 with 1 Axes>"
      ]
     },
     "metadata": {
      "needs_background": "light"
     },
     "output_type": "display_data"
    }
   ],
   "source": [
    "def lrfn(epoch=EPOCHS,\n",
    "         lr_start=1e-4,\n",
    "         lr_max=5e-5 * 8, \n",
    "         lr_min=1e-4,\n",
    "         lr_rampup_epochs=5,\n",
    "         lr_sustain_epochs=5,\n",
    "         lr_exp_decay=0.8):\n",
    "    if epoch < lr_rampup_epochs:\n",
    "        lr = (lr_max-lr_start)/lr_rampup_epochs*epoch + lr_start\n",
    "    elif epoch < lr_rampup_epochs + lr_sustain_epochs:\n",
    "        lr = lr_max\n",
    "    else:\n",
    "        lr = (lr_max-lr_min)*lr_exp_decay**(epoch-lr_rampup_epochs-lr_sustain_epochs) + lr_min\n",
    "    return lr\n",
    "\n",
    "def plot_hist(hist):\n",
    "    plt.plot(hist.history[\"accuracy\"])\n",
    "    plt.plot(hist.history[\"val_accuracy\"])\n",
    "    plt.title(\"model accuracy\")\n",
    "    plt.ylabel(\"accuracy\")\n",
    "    plt.xlabel(\"epoch\")\n",
    "    plt.legend([\"train\", \"validation\"], loc=\"upper left\")\n",
    "    plt.show()\n",
    "\n",
    "y = [lrfn(x) for x in range(EPOCHS)]\n",
    "plt.plot(y)"
   ]
  },
  {
   "cell_type": "code",
   "execution_count": 8,
   "id": "ff32ff95",
   "metadata": {
    "execution": {
     "iopub.execute_input": "2023-01-31T09:22:21.541524Z",
     "iopub.status.busy": "2023-01-31T09:22:21.540752Z",
     "iopub.status.idle": "2023-01-31T09:22:24.141136Z",
     "shell.execute_reply": "2023-01-31T09:22:24.141720Z",
     "shell.execute_reply.started": "2023-01-31T06:33:44.821224Z"
    },
    "papermill": {
     "duration": 2.654396,
     "end_time": "2023-01-31T09:22:24.142015",
     "exception": false,
     "start_time": "2023-01-31T09:22:21.487619",
     "status": "completed"
    },
    "tags": []
   },
   "outputs": [
    {
     "name": "stdout",
     "output_type": "stream",
     "text": [
      "Model: \"sequential\"\n",
      "_________________________________________________________________\n",
      "Layer (type)                 Output Shape              Param #   \n",
      "=================================================================\n",
      "embedding (Embedding)        (None, 128, 64)           175912832 \n",
      "_________________________________________________________________\n",
      "conv1d (Conv1D)              (None, 124, 64)           20544     \n",
      "_________________________________________________________________\n",
      "global_max_pooling1d (Global (None, 64)                0         \n",
      "_________________________________________________________________\n",
      "dense (Dense)                (None, 2)                 130       \n",
      "=================================================================\n",
      "Total params: 175,933,506\n",
      "Trainable params: 175,933,506\n",
      "Non-trainable params: 0\n",
      "_________________________________________________________________\n",
      "None\n"
     ]
    }
   ],
   "source": [
    "vocab_size = len(tokenizer.word_index) + 1\n",
    "\n",
    "with strategy.scope():\n",
    "    model = Sequential()\n",
    "    model.add(L.Embedding(input_dim=vocab_size,\n",
    "                          output_dim=64, \n",
    "                          input_length=X_train.shape[1]))\n",
    "    model.add(L.Conv1D(64, 5))\n",
    "    model.add(L.GlobalMaxPooling1D())\n",
    "    model.add(L.Dense(2, activation='softmax'))\n",
    "    model.compile(loss='categorical_crossentropy', optimizer='adam', metrics=['accuracy'])\n",
    "    \n",
    "print(model.summary())"
   ]
  },
  {
   "cell_type": "code",
   "execution_count": 9,
   "id": "c40c46a3",
   "metadata": {
    "execution": {
     "iopub.execute_input": "2023-01-31T09:22:24.241200Z",
     "iopub.status.busy": "2023-01-31T09:22:24.240372Z",
     "iopub.status.idle": "2023-01-31T09:48:45.910164Z",
     "shell.execute_reply": "2023-01-31T09:48:45.910932Z",
     "shell.execute_reply.started": "2023-01-31T06:33:47.226598Z"
    },
    "papermill": {
     "duration": 1581.725015,
     "end_time": "2023-01-31T09:48:45.911832",
     "exception": false,
     "start_time": "2023-01-31T09:22:24.186817",
     "status": "completed"
    },
    "tags": []
   },
   "outputs": [
    {
     "name": "stdout",
     "output_type": "stream",
     "text": [
      "Epoch 1/50\n"
     ]
    },
    {
     "name": "stderr",
     "output_type": "stream",
     "text": [
      "/opt/conda/lib/python3.7/site-packages/tensorflow/python/framework/indexed_slices.py:430: UserWarning: Converting sparse IndexedSlices to a dense Tensor with 175912832 elements. This may consume a large amount of memory.\n",
      "  num_elements)\n"
     ]
    },
    {
     "name": "stdout",
     "output_type": "stream",
     "text": [
      "902/902 - 39s - loss: 0.1553 - accuracy: 0.9351 - val_loss: 0.0906 - val_accuracy: 0.9672\n",
      "Epoch 2/50\n",
      "902/902 - 31s - loss: 0.0201 - accuracy: 0.9939 - val_loss: 0.0916 - val_accuracy: 0.9703\n",
      "Epoch 3/50\n",
      "902/902 - 32s - loss: 0.0028 - accuracy: 0.9993 - val_loss: 0.0978 - val_accuracy: 0.9701\n",
      "Epoch 4/50\n",
      "902/902 - 31s - loss: 0.0015 - accuracy: 0.9996 - val_loss: 0.1015 - val_accuracy: 0.9696\n",
      "Epoch 5/50\n",
      "902/902 - 31s - loss: 0.0013 - accuracy: 0.9996 - val_loss: 0.1041 - val_accuracy: 0.9698\n",
      "Epoch 6/50\n",
      "902/902 - 32s - loss: 0.0011 - accuracy: 0.9997 - val_loss: 0.1067 - val_accuracy: 0.9695\n",
      "Epoch 7/50\n",
      "902/902 - 31s - loss: 0.0011 - accuracy: 0.9996 - val_loss: 0.1086 - val_accuracy: 0.9696\n",
      "Epoch 8/50\n",
      "902/902 - 31s - loss: 0.0011 - accuracy: 0.9996 - val_loss: 0.1100 - val_accuracy: 0.9697\n",
      "Epoch 9/50\n",
      "902/902 - 31s - loss: 0.0011 - accuracy: 0.9996 - val_loss: 0.1111 - val_accuracy: 0.9696\n",
      "Epoch 10/50\n",
      "902/902 - 31s - loss: 0.0010 - accuracy: 0.9996 - val_loss: 0.1117 - val_accuracy: 0.9696\n",
      "Epoch 11/50\n",
      "902/902 - 31s - loss: 0.0010 - accuracy: 0.9997 - val_loss: 0.1124 - val_accuracy: 0.9696\n",
      "Epoch 12/50\n",
      "902/902 - 31s - loss: 9.6546e-04 - accuracy: 0.9997 - val_loss: 0.1134 - val_accuracy: 0.9698\n",
      "Epoch 13/50\n",
      "902/902 - 31s - loss: 9.1988e-04 - accuracy: 0.9997 - val_loss: 0.1146 - val_accuracy: 0.9696\n",
      "Epoch 14/50\n",
      "902/902 - 31s - loss: 8.8907e-04 - accuracy: 0.9997 - val_loss: 0.1160 - val_accuracy: 0.9694\n",
      "Epoch 15/50\n",
      "902/902 - 31s - loss: 8.6370e-04 - accuracy: 0.9997 - val_loss: 0.1174 - val_accuracy: 0.9692\n",
      "Epoch 16/50\n",
      "902/902 - 31s - loss: 8.4643e-04 - accuracy: 0.9997 - val_loss: 0.1189 - val_accuracy: 0.9690\n",
      "Epoch 17/50\n",
      "902/902 - 31s - loss: 8.2974e-04 - accuracy: 0.9997 - val_loss: 0.1204 - val_accuracy: 0.9688\n",
      "Epoch 18/50\n",
      "902/902 - 31s - loss: 8.1614e-04 - accuracy: 0.9997 - val_loss: 0.1220 - val_accuracy: 0.9689\n",
      "Epoch 19/50\n",
      "902/902 - 32s - loss: 8.0827e-04 - accuracy: 0.9997 - val_loss: 0.1236 - val_accuracy: 0.9685\n",
      "Epoch 20/50\n",
      "902/902 - 31s - loss: 8.0000e-04 - accuracy: 0.9997 - val_loss: 0.1251 - val_accuracy: 0.9682\n",
      "Epoch 21/50\n",
      "902/902 - 31s - loss: 7.9297e-04 - accuracy: 0.9996 - val_loss: 0.1265 - val_accuracy: 0.9683\n",
      "Epoch 22/50\n",
      "902/902 - 31s - loss: 7.8899e-04 - accuracy: 0.9996 - val_loss: 0.1279 - val_accuracy: 0.9682\n",
      "Epoch 23/50\n",
      "902/902 - 31s - loss: 7.8386e-04 - accuracy: 0.9997 - val_loss: 0.1291 - val_accuracy: 0.9680\n",
      "Epoch 24/50\n",
      "902/902 - 31s - loss: 7.7945e-04 - accuracy: 0.9997 - val_loss: 0.1303 - val_accuracy: 0.9681\n",
      "Epoch 25/50\n",
      "902/902 - 31s - loss: 7.7690e-04 - accuracy: 0.9997 - val_loss: 0.1314 - val_accuracy: 0.9682\n",
      "Epoch 26/50\n",
      "902/902 - 31s - loss: 7.7395e-04 - accuracy: 0.9997 - val_loss: 0.1324 - val_accuracy: 0.9680\n",
      "Epoch 27/50\n",
      "902/902 - 31s - loss: 7.7372e-04 - accuracy: 0.9997 - val_loss: 0.1332 - val_accuracy: 0.9679\n",
      "Epoch 28/50\n",
      "902/902 - 31s - loss: 7.7073e-04 - accuracy: 0.9997 - val_loss: 0.1340 - val_accuracy: 0.9679\n",
      "Epoch 29/50\n",
      "902/902 - 31s - loss: 7.6860e-04 - accuracy: 0.9997 - val_loss: 0.1349 - val_accuracy: 0.9679\n",
      "Epoch 30/50\n",
      "902/902 - 31s - loss: 7.6824e-04 - accuracy: 0.9997 - val_loss: 0.1356 - val_accuracy: 0.9678\n",
      "Epoch 31/50\n",
      "902/902 - 32s - loss: 7.6566e-04 - accuracy: 0.9997 - val_loss: 0.1363 - val_accuracy: 0.9675\n",
      "Epoch 32/50\n",
      "902/902 - 31s - loss: 7.6687e-04 - accuracy: 0.9997 - val_loss: 0.1370 - val_accuracy: 0.9674\n",
      "Epoch 33/50\n",
      "902/902 - 31s - loss: 7.6580e-04 - accuracy: 0.9997 - val_loss: 0.1376 - val_accuracy: 0.9675\n",
      "Epoch 34/50\n",
      "902/902 - 31s - loss: 7.6447e-04 - accuracy: 0.9997 - val_loss: 0.1381 - val_accuracy: 0.9675\n",
      "Epoch 35/50\n",
      "902/902 - 31s - loss: 7.6353e-04 - accuracy: 0.9997 - val_loss: 0.1387 - val_accuracy: 0.9675\n",
      "Epoch 36/50\n",
      "902/902 - 31s - loss: 7.6330e-04 - accuracy: 0.9997 - val_loss: 0.1393 - val_accuracy: 0.9674\n",
      "Epoch 37/50\n",
      "902/902 - 31s - loss: 7.6248e-04 - accuracy: 0.9997 - val_loss: 0.1397 - val_accuracy: 0.9673\n",
      "Epoch 38/50\n",
      "902/902 - 31s - loss: 7.6266e-04 - accuracy: 0.9997 - val_loss: 0.1403 - val_accuracy: 0.9673\n",
      "Epoch 39/50\n",
      "902/902 - 31s - loss: 7.6166e-04 - accuracy: 0.9997 - val_loss: 0.1407 - val_accuracy: 0.9673\n",
      "Epoch 40/50\n",
      "902/902 - 31s - loss: 7.6112e-04 - accuracy: 0.9997 - val_loss: 0.1410 - val_accuracy: 0.9673\n",
      "Epoch 41/50\n",
      "902/902 - 31s - loss: 7.6062e-04 - accuracy: 0.9997 - val_loss: 0.1414 - val_accuracy: 0.9673\n",
      "Epoch 42/50\n",
      "902/902 - 31s - loss: 7.6055e-04 - accuracy: 0.9997 - val_loss: 0.1419 - val_accuracy: 0.9672\n",
      "Epoch 43/50\n",
      "902/902 - 32s - loss: 7.6068e-04 - accuracy: 0.9997 - val_loss: 0.1423 - val_accuracy: 0.9673\n",
      "Epoch 44/50\n",
      "902/902 - 31s - loss: 7.6009e-04 - accuracy: 0.9997 - val_loss: 0.1428 - val_accuracy: 0.9673\n",
      "Epoch 45/50\n",
      "902/902 - 31s - loss: 7.5805e-04 - accuracy: 0.9997 - val_loss: 0.1430 - val_accuracy: 0.9673\n",
      "Epoch 46/50\n",
      "902/902 - 31s - loss: 7.5928e-04 - accuracy: 0.9997 - val_loss: 0.1434 - val_accuracy: 0.9673\n",
      "Epoch 47/50\n",
      "902/902 - 31s - loss: 7.5855e-04 - accuracy: 0.9997 - val_loss: 0.1437 - val_accuracy: 0.9672\n",
      "Epoch 48/50\n",
      "902/902 - 31s - loss: 7.5886e-04 - accuracy: 0.9997 - val_loss: 0.1441 - val_accuracy: 0.9672\n",
      "Epoch 49/50\n",
      "902/902 - 31s - loss: 7.5821e-04 - accuracy: 0.9997 - val_loss: 0.1444 - val_accuracy: 0.9671\n",
      "Epoch 50/50\n",
      "902/902 - 31s - loss: 7.5715e-04 - accuracy: 0.9997 - val_loss: 0.1447 - val_accuracy: 0.9671\n"
     ]
    }
   ],
   "source": [
    "lrs = LearningRateScheduler(lrfn)  \n",
    "mc = ModelCheckpoint('text-cnn.h5', save_best_only=True, save_weights_only=True)\n",
    "steps_per_epoch = len(y_train) // BATCH_SIZE\n",
    "\n",
    "hist = model.fit(train_dataset, epochs=EPOCHS, steps_per_epoch=steps_per_epoch, callbacks=[lrs, mc], \n",
    "                 validation_data=valid_dataset, verbose=2)"
   ]
  },
  {
   "cell_type": "code",
   "execution_count": 10,
   "id": "081e6983",
   "metadata": {
    "execution": {
     "iopub.execute_input": "2023-01-31T09:48:46.107155Z",
     "iopub.status.busy": "2023-01-31T09:48:46.105804Z",
     "iopub.status.idle": "2023-01-31T09:48:46.318622Z",
     "shell.execute_reply": "2023-01-31T09:48:46.317949Z",
     "shell.execute_reply.started": "2023-01-31T06:59:46.176664Z"
    },
    "papermill": {
     "duration": 0.332527,
     "end_time": "2023-01-31T09:48:46.318805",
     "exception": false,
     "start_time": "2023-01-31T09:48:45.986278",
     "status": "completed"
    },
    "tags": []
   },
   "outputs": [
    {
     "data": {
      "image/png": "[encoded data removed]",
      "text/plain": [
       "<Figure size 432x288 with 1 Axes>"
      ]
     },
     "metadata": {
      "needs_background": "light"
     },
     "output_type": "display_data"
    }
   ],
   "source": [
    "plot_hist(hist)"
   ]
  },
  {
   "cell_type": "code",
   "execution_count": 11,
   "id": "6f48b8e2",
   "metadata": {
    "execution": {
     "iopub.execute_input": "2023-01-31T09:48:46.484144Z",
     "iopub.status.busy": "2023-01-31T09:48:46.483283Z",
     "iopub.status.idle": "2023-01-31T09:49:13.264610Z",
     "shell.execute_reply": "2023-01-31T09:49:13.265352Z",
     "shell.execute_reply.started": "2023-01-31T06:59:46.436955Z"
    },
    "papermill": {
     "duration": 26.871136,
     "end_time": "2023-01-31T09:49:13.265766",
     "exception": false,
     "start_time": "2023-01-31T09:48:46.394630",
     "status": "completed"
    },
    "tags": []
   },
   "outputs": [
    {
     "name": "stdout",
     "output_type": "stream",
     "text": [
      "301/301 [==============================] - 6s 10ms/step\n",
      "              precision    recall  f1-score   support\n",
      "\n",
      "           0     0.9620    0.9850    0.9733     11431\n",
      "           1     0.9772    0.9431    0.9598      7816\n",
      "\n",
      "    accuracy                         0.9679     19247\n",
      "   macro avg     0.9696    0.9640    0.9666     19247\n",
      "weighted avg     0.9682    0.9679    0.9678     19247\n",
      "\n",
      "[[11259   172]\n",
      " [  445  7371]]\n",
      "      TPR       FPR       FNR   ROC AUC\n",
      "   0.9431    0.0150    0.0569    0.9940\n"
     ]
    }
   ],
   "source": [
    "with strategy.scope():\n",
    "    model.load_weights('text-cnn.h5')\n",
    "\n",
    "y_prob_txt = model.predict(test_dataset, verbose=1)\n",
    "y_pred = np.argmax(y_prob_txt, axis=1)\n",
    "\n",
    "clf_report = metrics.classification_report(y_test, y_pred, digits=4)\n",
    "cnf_matrix = metrics.confusion_matrix(y_test, y_pred)\n",
    "TN, FP, FN, TP = cnf_matrix.ravel()\n",
    "TPR = TP / (TP + FN)\n",
    "FPR = FP / (FP + TN)\n",
    "FNR = FN / (FN + TP)\n",
    "fpr, tpr, _ = metrics.roc_curve(y_test, y_prob_txt[:, 1])\n",
    "auc = metrics.roc_auc_score(y_test, y_prob_txt[:, 1])\n",
    "other_metrics = pd.DataFrame({'TPR': '%.4f' % TPR, \n",
    "                              'FPR': '%.4f' % FPR, \n",
    "                              'FNR': '%.4f' % FNR, \n",
    "                              'ROC AUC': '%.4f' % auc}, index=[0]).to_string(col_space=9, index=False)\n",
    "print(clf_report)\n",
    "print(cnf_matrix)\n",
    "print(other_metrics)"
   ]
  },
  {
   "cell_type": "code",
   "execution_count": 12,
   "id": "d2022056",
   "metadata": {
    "execution": {
     "iopub.execute_input": "2023-01-31T09:49:13.496939Z",
     "iopub.status.busy": "2023-01-31T09:49:13.496002Z",
     "iopub.status.idle": "2023-01-31T09:49:13.499232Z",
     "shell.execute_reply": "2023-01-31T09:49:13.499837Z"
    },
    "papermill": {
     "duration": 0.123432,
     "end_time": "2023-01-31T09:49:13.500070",
     "exception": false,
     "start_time": "2023-01-31T09:49:13.376638",
     "status": "completed"
    },
    "tags": []
   },
   "outputs": [],
   "source": [
    "y_prob_txt_cnn = y_prob_txt"
   ]
  },
  {
   "cell_type": "markdown",
   "id": "bac60074",
   "metadata": {
    "papermill": {
     "duration": 0.180328,
     "end_time": "2023-01-31T09:49:13.825607",
     "exception": false,
     "start_time": "2023-01-31T09:49:13.645279",
     "status": "completed"
    },
    "tags": []
   },
   "source": [
    "### Text-GRU\n"
   ]
  },
  {
   "cell_type": "code",
   "execution_count": 13,
   "id": "a20b8339",
   "metadata": {
    "execution": {
     "iopub.execute_input": "2023-01-31T09:49:14.466389Z",
     "iopub.status.busy": "2023-01-31T09:49:14.464993Z",
     "iopub.status.idle": "2023-01-31T09:49:17.106469Z",
     "shell.execute_reply": "2023-01-31T09:49:17.105692Z",
     "shell.execute_reply.started": "2023-01-31T07:01:12.299432Z"
    },
    "papermill": {
     "duration": 2.835098,
     "end_time": "2023-01-31T09:49:17.106635",
     "exception": false,
     "start_time": "2023-01-31T09:49:14.271537",
     "status": "completed"
    },
    "tags": []
   },
   "outputs": [
    {
     "name": "stdout",
     "output_type": "stream",
     "text": [
      "Model: \"sequential_1\"\n",
      "_________________________________________________________________\n",
      "Layer (type)                 Output Shape              Param #   \n",
      "=================================================================\n",
      "embedding_1 (Embedding)      (None, 128, 64)           175912832 \n",
      "_________________________________________________________________\n",
      "bidirectional (Bidirectional (None, 128, 128)          49920     \n",
      "_________________________________________________________________\n",
      "global_max_pooling1d_1 (Glob (None, 128)               0         \n",
      "_________________________________________________________________\n",
      "dense_1 (Dense)              (None, 2)                 258       \n",
      "=================================================================\n",
      "Total params: 175,963,010\n",
      "Trainable params: 175,963,010\n",
      "Non-trainable params: 0\n",
      "_________________________________________________________________\n",
      "None\n"
     ]
    }
   ],
   "source": [
    "vocab_size = len(tokenizer.word_index) + 1\n",
    "\n",
    "with strategy.scope():\n",
    "    model = Sequential()\n",
    "    model.add(L.Embedding(input_dim=vocab_size,\n",
    "                          output_dim=64, \n",
    "                          input_length=X_train.shape[1]))\n",
    "    model.add(L.Bidirectional(L.GRU(64, return_sequences=True)))\n",
    "    model.add(L.GlobalMaxPooling1D())\n",
    "    model.add(L.Dense(2, activation='softmax'))\n",
    "    model.compile(loss='categorical_crossentropy', optimizer='adam', metrics=['accuracy'])\n",
    "    \n",
    "print(model.summary())"
   ]
  },
  {
   "cell_type": "code",
   "execution_count": 14,
   "id": "de476184",
   "metadata": {
    "execution": {
     "iopub.execute_input": "2023-01-31T09:49:17.319539Z",
     "iopub.status.busy": "2023-01-31T09:49:17.318170Z",
     "iopub.status.idle": "2023-01-31T10:19:13.255104Z",
     "shell.execute_reply": "2023-01-31T10:19:13.255744Z",
     "shell.execute_reply.started": "2023-01-31T07:01:29.584090Z"
    },
    "papermill": {
     "duration": 1796.051595,
     "end_time": "2023-01-31T10:19:13.255981",
     "exception": false,
     "start_time": "2023-01-31T09:49:17.204386",
     "status": "completed"
    },
    "tags": []
   },
   "outputs": [
    {
     "name": "stdout",
     "output_type": "stream",
     "text": [
      "Epoch 1/50\n"
     ]
    },
    {
     "name": "stderr",
     "output_type": "stream",
     "text": [
      "/opt/conda/lib/python3.7/site-packages/tensorflow/python/framework/indexed_slices.py:430: UserWarning: Converting sparse IndexedSlices to a dense Tensor with 175912832 elements. This may consume a large amount of memory.\n",
      "  num_elements)\n"
     ]
    },
    {
     "name": "stdout",
     "output_type": "stream",
     "text": [
      "902/902 - 46s - loss: 0.1409 - accuracy: 0.9406 - val_loss: 0.0828 - val_accuracy: 0.9704\n",
      "Epoch 2/50\n",
      "902/902 - 36s - loss: 0.0150 - accuracy: 0.9951 - val_loss: 0.1089 - val_accuracy: 0.9686\n",
      "Epoch 3/50\n",
      "902/902 - 35s - loss: 0.0026 - accuracy: 0.9993 - val_loss: 0.1221 - val_accuracy: 0.9682\n",
      "Epoch 4/50\n",
      "902/902 - 35s - loss: 0.0015 - accuracy: 0.9996 - val_loss: 0.1320 - val_accuracy: 0.9683\n",
      "Epoch 5/50\n",
      "902/902 - 35s - loss: 0.0012 - accuracy: 0.9996 - val_loss: 0.1340 - val_accuracy: 0.9679\n",
      "Epoch 6/50\n",
      "902/902 - 35s - loss: 0.0010 - accuracy: 0.9996 - val_loss: 0.1459 - val_accuracy: 0.9679\n",
      "Epoch 7/50\n",
      "902/902 - 35s - loss: 9.8988e-04 - accuracy: 0.9996 - val_loss: 0.1573 - val_accuracy: 0.9675\n",
      "Epoch 8/50\n",
      "902/902 - 36s - loss: 9.7984e-04 - accuracy: 0.9996 - val_loss: 0.1578 - val_accuracy: 0.9673\n",
      "Epoch 9/50\n",
      "902/902 - 35s - loss: 9.5738e-04 - accuracy: 0.9996 - val_loss: 0.1668 - val_accuracy: 0.9670\n",
      "Epoch 10/50\n",
      "902/902 - 35s - loss: 9.4008e-04 - accuracy: 0.9997 - val_loss: 0.1774 - val_accuracy: 0.9665\n",
      "Epoch 11/50\n",
      "902/902 - 35s - loss: 9.2657e-04 - accuracy: 0.9997 - val_loss: 0.1771 - val_accuracy: 0.9666\n",
      "Epoch 12/50\n",
      "902/902 - 35s - loss: 8.9121e-04 - accuracy: 0.9997 - val_loss: 0.1726 - val_accuracy: 0.9664\n",
      "Epoch 13/50\n",
      "902/902 - 35s - loss: 8.6248e-04 - accuracy: 0.9997 - val_loss: 0.1728 - val_accuracy: 0.9666\n",
      "Epoch 14/50\n",
      "902/902 - 35s - loss: 9.1382e-04 - accuracy: 0.9996 - val_loss: 0.1811 - val_accuracy: 0.9665\n",
      "Epoch 15/50\n",
      "902/902 - 35s - loss: 8.1672e-04 - accuracy: 0.9997 - val_loss: 0.1893 - val_accuracy: 0.9664\n",
      "Epoch 16/50\n",
      "902/902 - 36s - loss: 8.0262e-04 - accuracy: 0.9997 - val_loss: 0.2077 - val_accuracy: 0.9643\n",
      "Epoch 17/50\n",
      "902/902 - 35s - loss: 8.5768e-04 - accuracy: 0.9997 - val_loss: 0.1733 - val_accuracy: 0.9675\n",
      "Epoch 18/50\n",
      "902/902 - 36s - loss: 7.8004e-04 - accuracy: 0.9997 - val_loss: 0.1762 - val_accuracy: 0.9672\n",
      "Epoch 19/50\n",
      "902/902 - 36s - loss: 7.7365e-04 - accuracy: 0.9997 - val_loss: 0.1790 - val_accuracy: 0.9670\n",
      "Epoch 20/50\n",
      "902/902 - 36s - loss: 7.6783e-04 - accuracy: 0.9997 - val_loss: 0.1825 - val_accuracy: 0.9670\n",
      "Epoch 21/50\n",
      "902/902 - 36s - loss: 7.6371e-04 - accuracy: 0.9997 - val_loss: 0.1860 - val_accuracy: 0.9670\n",
      "Epoch 22/50\n",
      "902/902 - 35s - loss: 7.5950e-04 - accuracy: 0.9997 - val_loss: 0.1896 - val_accuracy: 0.9667\n",
      "Epoch 23/50\n",
      "902/902 - 36s - loss: 7.5610e-04 - accuracy: 0.9997 - val_loss: 0.1924 - val_accuracy: 0.9665\n",
      "Epoch 24/50\n",
      "902/902 - 35s - loss: 7.5241e-04 - accuracy: 0.9997 - val_loss: 0.1958 - val_accuracy: 0.9665\n",
      "Epoch 25/50\n",
      "902/902 - 36s - loss: 7.5035e-04 - accuracy: 0.9997 - val_loss: 0.1985 - val_accuracy: 0.9660\n",
      "Epoch 26/50\n",
      "902/902 - 35s - loss: 7.4768e-04 - accuracy: 0.9997 - val_loss: 0.2021 - val_accuracy: 0.9655\n",
      "Epoch 27/50\n",
      "902/902 - 36s - loss: 7.4739e-04 - accuracy: 0.9997 - val_loss: 0.1910 - val_accuracy: 0.9666\n",
      "Epoch 28/50\n",
      "902/902 - 36s - loss: 7.4455e-04 - accuracy: 0.9997 - val_loss: 0.1936 - val_accuracy: 0.9659\n",
      "Epoch 29/50\n",
      "902/902 - 36s - loss: 7.4359e-04 - accuracy: 0.9997 - val_loss: 0.2055 - val_accuracy: 0.9651\n",
      "Epoch 30/50\n",
      "902/902 - 35s - loss: 7.4286e-04 - accuracy: 0.9997 - val_loss: 0.2066 - val_accuracy: 0.9654\n",
      "Epoch 31/50\n",
      "902/902 - 35s - loss: 7.4117e-04 - accuracy: 0.9997 - val_loss: 0.2139 - val_accuracy: 0.9645\n",
      "Epoch 32/50\n",
      "902/902 - 35s - loss: 7.4107e-04 - accuracy: 0.9997 - val_loss: 0.2131 - val_accuracy: 0.9650\n",
      "Epoch 33/50\n",
      "902/902 - 36s - loss: 7.3946e-04 - accuracy: 0.9997 - val_loss: 0.2183 - val_accuracy: 0.9643\n",
      "Epoch 34/50\n",
      "902/902 - 36s - loss: 7.3849e-04 - accuracy: 0.9997 - val_loss: 0.2098 - val_accuracy: 0.9663\n",
      "Epoch 35/50\n",
      "902/902 - 35s - loss: 7.3872e-04 - accuracy: 0.9997 - val_loss: 0.2206 - val_accuracy: 0.9638\n",
      "Epoch 36/50\n",
      "902/902 - 36s - loss: 8.0279e-04 - accuracy: 0.9997 - val_loss: 0.1886 - val_accuracy: 0.9666\n",
      "Epoch 37/50\n",
      "902/902 - 36s - loss: 8.2721e-04 - accuracy: 0.9997 - val_loss: 0.1821 - val_accuracy: 0.9671\n",
      "Epoch 38/50\n",
      "902/902 - 35s - loss: 7.3471e-04 - accuracy: 0.9997 - val_loss: 0.1861 - val_accuracy: 0.9666\n",
      "Epoch 39/50\n",
      "902/902 - 35s - loss: 7.3557e-04 - accuracy: 0.9997 - val_loss: 0.1889 - val_accuracy: 0.9669\n",
      "Epoch 40/50\n",
      "902/902 - 36s - loss: 7.3564e-04 - accuracy: 0.9997 - val_loss: 0.1920 - val_accuracy: 0.9669\n",
      "Epoch 41/50\n",
      "902/902 - 36s - loss: 7.3619e-04 - accuracy: 0.9997 - val_loss: 0.1951 - val_accuracy: 0.9669\n",
      "Epoch 42/50\n",
      "902/902 - 35s - loss: 7.3605e-04 - accuracy: 0.9997 - val_loss: 0.1981 - val_accuracy: 0.9669\n",
      "Epoch 43/50\n",
      "902/902 - 36s - loss: 7.3610e-04 - accuracy: 0.9997 - val_loss: 0.2012 - val_accuracy: 0.9663\n",
      "Epoch 44/50\n",
      "902/902 - 36s - loss: 7.3613e-04 - accuracy: 0.9997 - val_loss: 0.2026 - val_accuracy: 0.9667\n",
      "Epoch 45/50\n",
      "902/902 - 36s - loss: 7.3452e-04 - accuracy: 0.9997 - val_loss: 0.2067 - val_accuracy: 0.9663\n",
      "Epoch 46/50\n",
      "902/902 - 36s - loss: 7.3510e-04 - accuracy: 0.9997 - val_loss: 0.2102 - val_accuracy: 0.9658\n",
      "Epoch 47/50\n",
      "902/902 - 35s - loss: 7.3519e-04 - accuracy: 0.9997 - val_loss: 0.2075 - val_accuracy: 0.9660\n",
      "Epoch 48/50\n",
      "902/902 - 36s - loss: 7.3476e-04 - accuracy: 0.9997 - val_loss: 0.2083 - val_accuracy: 0.9656\n",
      "Epoch 49/50\n",
      "902/902 - 35s - loss: 7.3332e-04 - accuracy: 0.9997 - val_loss: 0.2126 - val_accuracy: 0.9651\n",
      "Epoch 50/50\n",
      "902/902 - 35s - loss: 7.3346e-04 - accuracy: 0.9997 - val_loss: 0.2166 - val_accuracy: 0.9641\n"
     ]
    }
   ],
   "source": [
    "lrs = LearningRateScheduler(lrfn)  \n",
    "mc = ModelCheckpoint('text-gru.h5', save_best_only=True, save_weights_only=True)\n",
    "steps_per_epoch = len(y_train) // BATCH_SIZE\n",
    "\n",
    "hist = model.fit(train_dataset, epochs=EPOCHS, steps_per_epoch=steps_per_epoch, callbacks=[lrs, mc], \n",
    "                 validation_data=valid_dataset, verbose=2)"
   ]
  },
  {
   "cell_type": "code",
   "execution_count": 15,
   "id": "9a2bf291",
   "metadata": {
    "execution": {
     "iopub.execute_input": "2023-01-31T10:19:13.502594Z",
     "iopub.status.busy": "2023-01-31T10:19:13.501936Z",
     "iopub.status.idle": "2023-01-31T10:19:13.738865Z",
     "shell.execute_reply": "2023-01-31T10:19:13.739406Z",
     "shell.execute_reply.started": "2023-01-31T07:32:16.844814Z"
    },
    "papermill": {
     "duration": 0.361317,
     "end_time": "2023-01-31T10:19:13.739603",
     "exception": false,
     "start_time": "2023-01-31T10:19:13.378286",
     "status": "completed"
    },
    "tags": []
   },
   "outputs": [
    {
     "data": {
      "image/png": "[encoded data removed]",
      "text/plain": [
       "<Figure size 432x288 with 1 Axes>"
      ]
     },
     "metadata": {
      "needs_background": "light"
     },
     "output_type": "display_data"
    }
   ],
   "source": [
    "plot_hist(hist)"
   ]
  },
  {
   "cell_type": "code",
   "execution_count": 16,
   "id": "cbe1672a",
   "metadata": {
    "execution": {
     "iopub.execute_input": "2023-01-31T10:19:13.982846Z",
     "iopub.status.busy": "2023-01-31T10:19:13.982066Z",
     "iopub.status.idle": "2023-01-31T10:19:37.510801Z",
     "shell.execute_reply": "2023-01-31T10:19:37.507516Z",
     "shell.execute_reply.started": "2023-01-31T07:32:23.337212Z"
    },
    "papermill": {
     "duration": 23.651389,
     "end_time": "2023-01-31T10:19:37.511704",
     "exception": false,
     "start_time": "2023-01-31T10:19:13.860315",
     "status": "completed"
    },
    "tags": []
   },
   "outputs": [
    {
     "name": "stdout",
     "output_type": "stream",
     "text": [
      "301/301 [==============================] - 5s 14ms/step\n",
      "              precision    recall  f1-score   support\n",
      "\n",
      "           0     0.9659    0.9860    0.9758     11431\n",
      "           1     0.9789    0.9491    0.9638      7816\n",
      "\n",
      "    accuracy                         0.9710     19247\n",
      "   macro avg     0.9724    0.9675    0.9698     19247\n",
      "weighted avg     0.9712    0.9710    0.9709     19247\n",
      "\n",
      "[[11271   160]\n",
      " [  398  7418]]\n",
      "      TPR       FPR       FNR   ROC AUC\n",
      "   0.9491    0.0140    0.0509    0.9947\n"
     ]
    }
   ],
   "source": [
    "with strategy.scope():\n",
    "    model.load_weights('text-gru.h5')\n",
    "\n",
    "y_prob_txt = model.predict(test_dataset, verbose=1)\n",
    "y_pred = np.argmax(y_prob_txt, axis=1)\n",
    "\n",
    "clf_report = metrics.classification_report(y_test, y_pred, digits=4)\n",
    "cnf_matrix = metrics.confusion_matrix(y_test, y_pred)\n",
    "TN, FP, FN, TP = cnf_matrix.ravel()\n",
    "TPR = TP / (TP + FN)\n",
    "FPR = FP / (FP + TN)\n",
    "FNR = FN / (FN + TP)\n",
    "fpr, tpr, _ = metrics.roc_curve(y_test, y_prob_txt[:, 1])\n",
    "auc = metrics.roc_auc_score(y_test, y_prob_txt[:, 1])\n",
    "other_metrics = pd.DataFrame({'TPR': '%.4f' % TPR, \n",
    "                              'FPR': '%.4f' % FPR, \n",
    "                              'FNR': '%.4f' % FNR, \n",
    "                              'ROC AUC': '%.4f' % auc}, index=[0]).to_string(col_space=9, index=False)\n",
    "print(clf_report)\n",
    "print(cnf_matrix)\n",
    "print(other_metrics)"
   ]
  },
  {
   "cell_type": "code",
   "execution_count": 17,
   "id": "3f1c6037",
   "metadata": {
    "execution": {
     "iopub.execute_input": "2023-01-31T10:19:38.263193Z",
     "iopub.status.busy": "2023-01-31T10:19:38.262091Z",
     "iopub.status.idle": "2023-01-31T10:19:38.267376Z",
     "shell.execute_reply": "2023-01-31T10:19:38.266628Z"
    },
    "papermill": {
     "duration": 0.225106,
     "end_time": "2023-01-31T10:19:38.267548",
     "exception": false,
     "start_time": "2023-01-31T10:19:38.042442",
     "status": "completed"
    },
    "tags": []
   },
   "outputs": [],
   "source": [
    "y_prob_txt_gru = y_prob_txt"
   ]
  },
  {
   "cell_type": "markdown",
   "id": "4ec1ba4a",
   "metadata": {
    "papermill": {
     "duration": 0.197438,
     "end_time": "2023-01-31T10:19:38.700249",
     "exception": false,
     "start_time": "2023-01-31T10:19:38.502811",
     "status": "completed"
    },
    "tags": []
   },
   "source": [
    "### Bidirectional LSTM\n"
   ]
  },
  {
   "cell_type": "code",
   "execution_count": 18,
   "id": "a7757be2",
   "metadata": {
    "execution": {
     "iopub.execute_input": "2023-01-31T10:19:39.064104Z",
     "iopub.status.busy": "2023-01-31T10:19:39.062906Z",
     "iopub.status.idle": "2023-01-31T10:19:42.340145Z",
     "shell.execute_reply": "2023-01-31T10:19:42.340959Z",
     "shell.execute_reply.started": "2023-01-31T08:05:15.510757Z"
    },
    "papermill": {
     "duration": 3.475819,
     "end_time": "2023-01-31T10:19:42.341214",
     "exception": false,
     "start_time": "2023-01-31T10:19:38.865395",
     "status": "completed"
    },
    "tags": []
   },
   "outputs": [
    {
     "name": "stdout",
     "output_type": "stream",
     "text": [
      "Model: \"sequential_2\"\n",
      "_________________________________________________________________\n",
      "Layer (type)                 Output Shape              Param #   \n",
      "=================================================================\n",
      "embedding_2 (Embedding)      (None, 128, 64)           175912832 \n",
      "_________________________________________________________________\n",
      "bidirectional_1 (Bidirection (None, 128, 128)          66048     \n",
      "_________________________________________________________________\n",
      "global_max_pooling1d_2 (Glob (None, 128)               0         \n",
      "_________________________________________________________________\n",
      "dense_2 (Dense)              (None, 2)                 258       \n",
      "=================================================================\n",
      "Total params: 175,979,138\n",
      "Trainable params: 175,979,138\n",
      "Non-trainable params: 0\n",
      "_________________________________________________________________\n",
      "None\n"
     ]
    }
   ],
   "source": [
    "vocab_size = len(tokenizer.word_index) + 1\n",
    "\n",
    "with strategy.scope():\n",
    "    model = Sequential()\n",
    "    model.add(L.Embedding(input_dim=vocab_size,\n",
    "                          output_dim=64, \n",
    "                          input_length=X_train.shape[1]))\n",
    "    model.add(L.Bidirectional(L.LSTM(64, return_sequences=True)))\n",
    "    model.add(L.GlobalMaxPooling1D())\n",
    "    model.add(L.Dense(2, activation='softmax'))\n",
    "    model.compile(loss='categorical_crossentropy', optimizer='adam', metrics=['accuracy'])\n",
    "    \n",
    "print(model.summary())"
   ]
  },
  {
   "cell_type": "code",
   "execution_count": 19,
   "id": "4924179f",
   "metadata": {
    "execution": {
     "iopub.execute_input": "2023-01-31T10:19:42.635528Z",
     "iopub.status.busy": "2023-01-31T10:19:42.634768Z",
     "iopub.status.idle": "2023-01-31T10:48:59.563298Z",
     "shell.execute_reply": "2023-01-31T10:48:59.563938Z",
     "shell.execute_reply.started": "2023-01-31T08:05:18.917435Z"
    },
    "papermill": {
     "duration": 1757.079109,
     "end_time": "2023-01-31T10:48:59.564182",
     "exception": false,
     "start_time": "2023-01-31T10:19:42.485073",
     "status": "completed"
    },
    "tags": []
   },
   "outputs": [
    {
     "name": "stdout",
     "output_type": "stream",
     "text": [
      "Epoch 1/50\n"
     ]
    },
    {
     "name": "stderr",
     "output_type": "stream",
     "text": [
      "/opt/conda/lib/python3.7/site-packages/tensorflow/python/framework/indexed_slices.py:430: UserWarning: Converting sparse IndexedSlices to a dense Tensor with 175912832 elements. This may consume a large amount of memory.\n",
      "  num_elements)\n"
     ]
    },
    {
     "name": "stdout",
     "output_type": "stream",
     "text": [
      "902/902 - 47s - loss: 0.1505 - accuracy: 0.9378 - val_loss: 0.0837 - val_accuracy: 0.9698\n",
      "Epoch 2/50\n",
      "902/902 - 35s - loss: 0.0197 - accuracy: 0.9939 - val_loss: 0.1111 - val_accuracy: 0.9681\n",
      "Epoch 3/50\n",
      "902/902 - 35s - loss: 0.0046 - accuracy: 0.9990 - val_loss: 0.1276 - val_accuracy: 0.9699\n",
      "Epoch 4/50\n",
      "902/902 - 35s - loss: 0.0027 - accuracy: 0.9993 - val_loss: 0.1259 - val_accuracy: 0.9684\n",
      "Epoch 5/50\n",
      "902/902 - 35s - loss: 0.0023 - accuracy: 0.9994 - val_loss: 0.1262 - val_accuracy: 0.9688\n",
      "Epoch 6/50\n",
      "902/902 - 35s - loss: 0.0016 - accuracy: 0.9995 - val_loss: 0.1267 - val_accuracy: 0.9687\n",
      "Epoch 7/50\n",
      "902/902 - 35s - loss: 0.0013 - accuracy: 0.9996 - val_loss: 0.1356 - val_accuracy: 0.9682\n",
      "Epoch 8/50\n",
      "902/902 - 35s - loss: 0.0014 - accuracy: 0.9996 - val_loss: 0.1383 - val_accuracy: 0.9685\n",
      "Epoch 9/50\n",
      "902/902 - 35s - loss: 0.0010 - accuracy: 0.9996 - val_loss: 0.1492 - val_accuracy: 0.9678\n",
      "Epoch 10/50\n",
      "902/902 - 35s - loss: 9.6900e-04 - accuracy: 0.9996 - val_loss: 0.1520 - val_accuracy: 0.9679\n",
      "Epoch 11/50\n",
      "902/902 - 35s - loss: 9.4166e-04 - accuracy: 0.9997 - val_loss: 0.1627 - val_accuracy: 0.9676\n",
      "Epoch 12/50\n",
      "902/902 - 35s - loss: 9.0328e-04 - accuracy: 0.9996 - val_loss: 0.1627 - val_accuracy: 0.9674\n",
      "Epoch 13/50\n",
      "902/902 - 35s - loss: 8.5023e-04 - accuracy: 0.9997 - val_loss: 0.1763 - val_accuracy: 0.9666\n",
      "Epoch 14/50\n",
      "902/902 - 35s - loss: 8.0857e-04 - accuracy: 0.9997 - val_loss: 0.1833 - val_accuracy: 0.9662\n",
      "Epoch 15/50\n",
      "902/902 - 35s - loss: 7.8600e-04 - accuracy: 0.9997 - val_loss: 0.1873 - val_accuracy: 0.9663\n",
      "Epoch 16/50\n",
      "902/902 - 35s - loss: 7.7665e-04 - accuracy: 0.9997 - val_loss: 0.2022 - val_accuracy: 0.9652\n",
      "Epoch 17/50\n",
      "902/902 - 35s - loss: 7.7641e-04 - accuracy: 0.9997 - val_loss: 0.1824 - val_accuracy: 0.9668\n",
      "Epoch 18/50\n",
      "902/902 - 36s - loss: 7.5930e-04 - accuracy: 0.9997 - val_loss: 0.1987 - val_accuracy: 0.9656\n",
      "Epoch 19/50\n",
      "902/902 - 35s - loss: 7.5207e-04 - accuracy: 0.9997 - val_loss: 0.1934 - val_accuracy: 0.9655\n",
      "Epoch 20/50\n",
      "902/902 - 35s - loss: 7.4779e-04 - accuracy: 0.9997 - val_loss: 0.1951 - val_accuracy: 0.9653\n",
      "Epoch 21/50\n",
      "902/902 - 35s - loss: 7.4318e-04 - accuracy: 0.9997 - val_loss: 0.2014 - val_accuracy: 0.9649\n",
      "Epoch 22/50\n",
      "902/902 - 35s - loss: 7.4113e-04 - accuracy: 0.9997 - val_loss: 0.2064 - val_accuracy: 0.9650\n",
      "Epoch 23/50\n",
      "902/902 - 35s - loss: 7.3714e-04 - accuracy: 0.9997 - val_loss: 0.1949 - val_accuracy: 0.9659\n",
      "Epoch 24/50\n",
      "902/902 - 35s - loss: 7.3484e-04 - accuracy: 0.9997 - val_loss: 0.1952 - val_accuracy: 0.9662\n",
      "Epoch 25/50\n",
      "902/902 - 35s - loss: 7.3262e-04 - accuracy: 0.9997 - val_loss: 0.2003 - val_accuracy: 0.9664\n",
      "Epoch 26/50\n",
      "902/902 - 35s - loss: 7.4758e-04 - accuracy: 0.9997 - val_loss: 0.2044 - val_accuracy: 0.9652\n",
      "Epoch 27/50\n",
      "902/902 - 35s - loss: 7.5242e-04 - accuracy: 0.9997 - val_loss: 0.1887 - val_accuracy: 0.9657\n",
      "Epoch 28/50\n",
      "902/902 - 35s - loss: 7.2658e-04 - accuracy: 0.9997 - val_loss: 0.1900 - val_accuracy: 0.9662\n",
      "Epoch 29/50\n",
      "902/902 - 35s - loss: 7.2527e-04 - accuracy: 0.9997 - val_loss: 0.1937 - val_accuracy: 0.9662\n",
      "Epoch 30/50\n",
      "902/902 - 35s - loss: 7.2592e-04 - accuracy: 0.9997 - val_loss: 0.1959 - val_accuracy: 0.9660\n",
      "Epoch 31/50\n",
      "902/902 - 36s - loss: 7.2582e-04 - accuracy: 0.9997 - val_loss: 0.1997 - val_accuracy: 0.9657\n",
      "Epoch 32/50\n",
      "902/902 - 35s - loss: 7.2621e-04 - accuracy: 0.9997 - val_loss: 0.2009 - val_accuracy: 0.9658\n",
      "Epoch 33/50\n",
      "902/902 - 35s - loss: 7.2497e-04 - accuracy: 0.9997 - val_loss: 0.2031 - val_accuracy: 0.9654\n",
      "Epoch 34/50\n",
      "902/902 - 35s - loss: 7.2421e-04 - accuracy: 0.9997 - val_loss: 0.2058 - val_accuracy: 0.9653\n",
      "Epoch 35/50\n",
      "902/902 - 35s - loss: 7.2455e-04 - accuracy: 0.9997 - val_loss: 0.2085 - val_accuracy: 0.9646\n",
      "Epoch 36/50\n",
      "902/902 - 35s - loss: 7.2835e-04 - accuracy: 0.9997 - val_loss: 0.2070 - val_accuracy: 0.9648\n",
      "Epoch 37/50\n",
      "902/902 - 35s - loss: 7.2432e-04 - accuracy: 0.9997 - val_loss: 0.2114 - val_accuracy: 0.9647\n",
      "Epoch 38/50\n",
      "902/902 - 35s - loss: 7.2403e-04 - accuracy: 0.9997 - val_loss: 0.2163 - val_accuracy: 0.9642\n",
      "Epoch 39/50\n",
      "902/902 - 35s - loss: 7.2315e-04 - accuracy: 0.9997 - val_loss: 0.2200 - val_accuracy: 0.9644\n",
      "Epoch 40/50\n",
      "902/902 - 35s - loss: 7.2259e-04 - accuracy: 0.9997 - val_loss: 0.2207 - val_accuracy: 0.9645\n",
      "Epoch 41/50\n",
      "902/902 - 35s - loss: 7.2165e-04 - accuracy: 0.9997 - val_loss: 0.2266 - val_accuracy: 0.9646\n",
      "Epoch 42/50\n",
      "902/902 - 35s - loss: 7.2145e-04 - accuracy: 0.9997 - val_loss: 0.2254 - val_accuracy: 0.9650\n",
      "Epoch 43/50\n",
      "902/902 - 35s - loss: 7.2102e-04 - accuracy: 0.9997 - val_loss: 0.2218 - val_accuracy: 0.9651\n",
      "Epoch 44/50\n",
      "902/902 - 36s - loss: 7.2034e-04 - accuracy: 0.9997 - val_loss: 0.2272 - val_accuracy: 0.9650\n",
      "Epoch 45/50\n",
      "902/902 - 35s - loss: 7.3882e-04 - accuracy: 0.9997 - val_loss: 0.2342 - val_accuracy: 0.9647\n",
      "Epoch 46/50\n",
      "902/902 - 35s - loss: 7.2063e-04 - accuracy: 0.9997 - val_loss: 0.2319 - val_accuracy: 0.9644\n",
      "Epoch 47/50\n",
      "902/902 - 35s - loss: 7.1944e-04 - accuracy: 0.9997 - val_loss: 0.2324 - val_accuracy: 0.9646\n",
      "Epoch 48/50\n",
      "902/902 - 35s - loss: 7.1984e-04 - accuracy: 0.9997 - val_loss: 0.2394 - val_accuracy: 0.9647\n",
      "Epoch 49/50\n",
      "902/902 - 35s - loss: 7.1974e-04 - accuracy: 0.9997 - val_loss: 0.2425 - val_accuracy: 0.9647\n",
      "Epoch 50/50\n",
      "902/902 - 35s - loss: 7.1825e-04 - accuracy: 0.9997 - val_loss: 0.2457 - val_accuracy: 0.9648\n"
     ]
    }
   ],
   "source": [
    "lrs = LearningRateScheduler(lrfn)  \n",
    "mc = ModelCheckpoint('text-lstm.h5', save_best_only=True, save_weights_only=True)\n",
    "steps_per_epoch = len(y_train) // BATCH_SIZE\n",
    "\n",
    "hist = model.fit(train_dataset, epochs=EPOCHS, steps_per_epoch=steps_per_epoch, callbacks=[lrs, mc], \n",
    "                 validation_data=valid_dataset, verbose=2)"
   ]
  },
  {
   "cell_type": "code",
   "execution_count": 20,
   "id": "ccfb7795",
   "metadata": {
    "execution": {
     "iopub.execute_input": "2023-01-31T10:48:59.923194Z",
     "iopub.status.busy": "2023-01-31T10:48:59.922039Z",
     "iopub.status.idle": "2023-01-31T10:49:00.194067Z",
     "shell.execute_reply": "2023-01-31T10:49:00.193396Z",
     "shell.execute_reply.started": "2023-01-31T08:19:10.293168Z"
    },
    "papermill": {
     "duration": 0.463069,
     "end_time": "2023-01-31T10:49:00.194261",
     "exception": false,
     "start_time": "2023-01-31T10:48:59.731192",
     "status": "completed"
    },
    "tags": []
   },
   "outputs": [
    {
     "data": {
      "image/png": "[encoded data removed]",
      "text/plain": [
       "<Figure size 432x288 with 1 Axes>"
      ]
     },
     "metadata": {
      "needs_background": "light"
     },
     "output_type": "display_data"
    }
   ],
   "source": [
    "plot_hist(hist)"
   ]
  },
  {
   "cell_type": "code",
   "execution_count": 21,
   "id": "af11a7c1",
   "metadata": {
    "execution": {
     "iopub.execute_input": "2023-01-31T10:49:01.269055Z",
     "iopub.status.busy": "2023-01-31T10:49:00.568345Z",
     "iopub.status.idle": "2023-01-31T10:49:34.346816Z",
     "shell.execute_reply": "2023-01-31T10:49:34.347311Z",
     "shell.execute_reply.started": "2023-01-31T08:19:10.295011Z"
    },
    "papermill": {
     "duration": 33.959035,
     "end_time": "2023-01-31T10:49:34.347526",
     "exception": false,
     "start_time": "2023-01-31T10:49:00.388491",
     "status": "completed"
    },
    "tags": []
   },
   "outputs": [
    {
     "name": "stdout",
     "output_type": "stream",
     "text": [
      "301/301 [==============================] - 9s 13ms/step\n",
      "              precision    recall  f1-score   support\n",
      "\n",
      "           0     0.9650    0.9855    0.9752     11431\n",
      "           1     0.9781    0.9478    0.9627      7816\n",
      "\n",
      "    accuracy                         0.9702     19247\n",
      "   macro avg     0.9716    0.9666    0.9689     19247\n",
      "weighted avg     0.9703    0.9702    0.9701     19247\n",
      "\n",
      "[[11265   166]\n",
      " [  408  7408]]\n",
      "      TPR       FPR       FNR   ROC AUC\n",
      "   0.9478    0.0145    0.0522    0.9946\n"
     ]
    }
   ],
   "source": [
    "with strategy.scope():\n",
    "    model.load_weights('text-lstm.h5')\n",
    "\n",
    "y_prob_txt = model.predict(test_dataset, verbose=1)\n",
    "y_pred = np.argmax(y_prob_txt, axis=1)\n",
    "\n",
    "clf_report = metrics.classification_report(y_test, y_pred, digits=4)\n",
    "cnf_matrix = metrics.confusion_matrix(y_test, y_pred)\n",
    "TN, FP, FN, TP = cnf_matrix.ravel()\n",
    "TPR = TP / (TP + FN)\n",
    "FPR = FP / (FP + TN)\n",
    "FNR = FN / (FN + TP)\n",
    "fpr, tpr, _ = metrics.roc_curve(y_test, y_prob_txt[:, 1])\n",
    "auc = metrics.roc_auc_score(y_test, y_prob_txt[:, 1])\n",
    "other_metrics = pd.DataFrame({'TPR': '%.4f' % TPR, \n",
    "                              'FPR': '%.4f' % FPR, \n",
    "                              'FNR': '%.4f' % FNR, \n",
    "                              'ROC AUC': '%.4f' % auc}, index=[0]).to_string(col_space=9, index=False)\n",
    "print(clf_report)\n",
    "print(cnf_matrix)\n",
    "print(other_metrics)"
   ]
  },
  {
   "cell_type": "code",
   "execution_count": 22,
   "id": "2843b706",
   "metadata": {
    "execution": {
     "iopub.execute_input": "2023-01-31T10:49:34.734181Z",
     "iopub.status.busy": "2023-01-31T10:49:34.733401Z",
     "iopub.status.idle": "2023-01-31T10:49:34.738415Z",
     "shell.execute_reply": "2023-01-31T10:49:34.737740Z"
    },
    "papermill": {
     "duration": 0.199006,
     "end_time": "2023-01-31T10:49:34.738566",
     "exception": false,
     "start_time": "2023-01-31T10:49:34.539560",
     "status": "completed"
    },
    "tags": []
   },
   "outputs": [],
   "source": [
    "y_prob_txt_lstm = y_prob_txt"
   ]
  },
  {
   "cell_type": "markdown",
   "id": "742ee365",
   "metadata": {
    "papermill": {
     "duration": 0.188976,
     "end_time": "2023-01-31T10:49:35.113511",
     "exception": false,
     "start_time": "2023-01-31T10:49:34.924535",
     "status": "completed"
    },
    "tags": []
   },
   "source": [
    "# Fusion with Image-based Detection"
   ]
  },
  {
   "cell_type": "code",
   "execution_count": 23,
   "id": "f57dd8ca",
   "metadata": {
    "execution": {
     "iopub.execute_input": "2023-01-31T10:49:35.526587Z",
     "iopub.status.busy": "2023-01-31T10:49:35.521143Z",
     "iopub.status.idle": "2023-01-31T10:50:29.146396Z",
     "shell.execute_reply": "2023-01-31T10:50:29.145820Z",
     "shell.execute_reply.started": "2023-01-31T08:01:23.260692Z"
    },
    "papermill": {
     "duration": 53.837452,
     "end_time": "2023-01-31T10:50:29.146568",
     "exception": false,
     "start_time": "2023-01-31T10:49:35.309116",
     "status": "completed"
    },
    "tags": []
   },
   "outputs": [
    {
     "data": {
      "application/vnd.jupyter.widget-view+json": {
       "model_id": "996aeff54edd4404b381710af0284dc1",
       "version_major": 2,
       "version_minor": 0
      },
      "text/plain": [
       "  0%|          | 0/96234 [00:00<?, ?it/s]"
      ]
     },
     "metadata": {},
     "output_type": "display_data"
    },
    {
     "name": "stdout",
     "output_type": "stream",
     "text": [
      "57740 19247 19247\n",
      "True\n"
     ]
    }
   ],
   "source": [
    "def prepare_data(name):\n",
    "    if glob(dataset_path + f'image/defaced/{name}.png'):\n",
    "        return (f'{GCS_DS_PATH}/image/defaced/{name}.png', 1)\n",
    "    else:\n",
    "        return (f'{GCS_DS_PATH}/image/benign/{name}.png', 0)\n",
    "\n",
    "output = Parallel(n_jobs=N_JOBS)(delayed(prepare_data)(name) for name in tqdm(names))\n",
    "X, y = zip(*output)\n",
    "\n",
    "X_train, X_test, y_train, y_test_ = train_test_split(X, y, test_size=0.2, random_state=42)\n",
    "y_train = to_categorical(y_train, num_classes=2)\n",
    "X_train, X_valid, y_train, y_valid = train_test_split(X_train, y_train, test_size=0.25, \n",
    "                                                      random_state=42)\n",
    "\n",
    "print(len(X_train), len(X_valid), len(X_test))\n",
    "print((y_test == y_test_).all())"
   ]
  },
  {
   "cell_type": "code",
   "execution_count": 24,
   "id": "3970a27a",
   "metadata": {
    "execution": {
     "iopub.execute_input": "2023-01-31T10:50:29.533561Z",
     "iopub.status.busy": "2023-01-31T10:50:29.532760Z",
     "iopub.status.idle": "2023-01-31T10:50:29.742070Z",
     "shell.execute_reply": "2023-01-31T10:50:29.742740Z",
     "shell.execute_reply.started": "2023-01-31T08:01:23.262507Z"
    },
    "papermill": {
     "duration": 0.410672,
     "end_time": "2023-01-31T10:50:29.742972",
     "exception": false,
     "start_time": "2023-01-31T10:50:29.332300",
     "status": "completed"
    },
    "tags": []
   },
   "outputs": [],
   "source": [
    "def decode_image(filename, label=None):\n",
    "    bits = tf.io.read_file(filename)\n",
    "    image = tf.image.decode_png(bits, channels=3)\n",
    "    image = tf.cast(image, tf.float32) / 255.0\n",
    "    image = tf.image.resize(image, (IMG_SIZE, IMG_SIZE))\n",
    "    \n",
    "    if label is None:\n",
    "        return image\n",
    "    else:\n",
    "        return image, label\n",
    "\n",
    "test_dataset = (\n",
    "    tf.data.TFRecordDataset\n",
    "    .from_tensor_slices(X_test)\n",
    "    .map(decode_image, num_parallel_calls=AUTO)\n",
    "    .batch(BATCH_SIZE)\n",
    ")"
   ]
  },
  {
   "cell_type": "markdown",
   "id": "2bd96fd7",
   "metadata": {
    "papermill": {
     "duration": 0.183298,
     "end_time": "2023-01-31T10:50:30.112204",
     "exception": false,
     "start_time": "2023-01-31T10:50:29.928906",
     "status": "completed"
    },
    "tags": []
   },
   "source": [
    "## ViTB32\n"
   ]
  },
  {
   "cell_type": "code",
   "execution_count": 25,
   "id": "3c5009ff",
   "metadata": {
    "execution": {
     "iopub.execute_input": "2023-01-31T10:50:30.502797Z",
     "iopub.status.busy": "2023-01-31T10:50:30.501710Z",
     "iopub.status.idle": "2023-01-31T10:50:43.830149Z",
     "shell.execute_reply": "2023-01-31T10:50:43.830744Z",
     "shell.execute_reply.started": "2023-01-31T08:01:23.264092Z"
    },
    "papermill": {
     "duration": 13.535416,
     "end_time": "2023-01-31T10:50:43.830978",
     "exception": false,
     "start_time": "2023-01-31T10:50:30.295562",
     "status": "completed"
    },
    "tags": []
   },
   "outputs": [
    {
     "name": "stdout",
     "output_type": "stream",
     "text": [
      "\u001b[33mWARNING: Running pip as the 'root' user can result in broken permissions and conflicting behaviour with the system package manager. It is recommended to use a virtual environment instead: https://pip.pypa.io/warnings/venv\u001b[0m\r\n"
     ]
    }
   ],
   "source": [
    "!pip install --quiet vit-keras\n",
    "\n",
    "from vit_keras import vit"
   ]
  },
  {
   "cell_type": "code",
   "execution_count": 26,
   "id": "6786cc52",
   "metadata": {
    "execution": {
     "iopub.execute_input": "2023-01-31T10:50:44.206325Z",
     "iopub.status.busy": "2023-01-31T10:50:44.205566Z",
     "iopub.status.idle": "2023-01-31T10:51:28.383340Z",
     "shell.execute_reply": "2023-01-31T10:51:28.382225Z",
     "shell.execute_reply.started": "2023-01-31T08:01:23.265346Z"
    },
    "papermill": {
     "duration": 44.369091,
     "end_time": "2023-01-31T10:51:28.383515",
     "exception": false,
     "start_time": "2023-01-31T10:50:44.014424",
     "status": "completed"
    },
    "tags": []
   },
   "outputs": [
    {
     "name": "stdout",
     "output_type": "stream",
     "text": [
      "\u001b[33mWARNING: Running pip as the 'root' user can result in broken permissions and conflicting behaviour with the system package manager. It is recommended to use a virtual environment instead: https://pip.pypa.io/warnings/venv\u001b[0m\r\n",
      "Downloading data from https://github.com/faustomorales/vit-keras/releases/download/dl/ViT-B_32_imagenet21k+imagenet2012.npz\n",
      "353255424/353253686 [==============================] - 11s 0us/step\n"
     ]
    },
    {
     "name": "stderr",
     "output_type": "stream",
     "text": [
      "/opt/conda/lib/python3.7/site-packages/vit_keras/utils.py:83: UserWarning: Resizing position embeddings from 12, 12 to 7, 7\n",
      "  UserWarning,\n"
     ]
    }
   ],
   "source": [
    "!pip install -q efficientnet\n",
    "from efficientnet.tfkeras import EfficientNetB0\n",
    "\n",
    "with strategy.scope():\n",
    "    net = vit.vit_b32(\n",
    "        image_size = (IMG_SIZE, IMG_SIZE),\n",
    "        activation = 'softmax',\n",
    "        pretrained = True,\n",
    "        include_top = False,\n",
    "        pretrained_top = False\n",
    "    )\n",
    "    model = Sequential()\n",
    "    model.add(net)\n",
    "    model.add(L.BatchNormalization())\n",
    "    model.add(L.Dense(128, activation='softmax'))\n",
    "    model.add(L.BatchNormalization())\n",
    "    model.add(L.Dense(2, activation='softmax'))\n",
    "    model.compile(optimizer='adam', loss='categorical_crossentropy', metrics=['accuracy'])\n",
    "    model.load_weights('../input/deface-vitb32/weights.h5')"
   ]
  },
  {
   "cell_type": "code",
   "execution_count": 27,
   "id": "d0af3310",
   "metadata": {
    "execution": {
     "iopub.execute_input": "2023-01-31T10:51:28.856937Z",
     "iopub.status.busy": "2023-01-31T10:51:28.855992Z",
     "iopub.status.idle": "2023-01-31T11:02:40.610612Z",
     "shell.execute_reply": "2023-01-31T11:02:40.611262Z",
     "shell.execute_reply.started": "2023-01-31T08:01:23.267065Z"
    },
    "papermill": {
     "duration": 671.997613,
     "end_time": "2023-01-31T11:02:40.611522",
     "exception": false,
     "start_time": "2023-01-31T10:51:28.613909",
     "status": "completed"
    },
    "tags": []
   },
   "outputs": [
    {
     "name": "stdout",
     "output_type": "stream",
     "text": [
      "301/301 [==============================] - 672s 2s/step\n",
      "              precision    recall  f1-score   support\n",
      "\n",
      "           0     0.8941    0.9309    0.9121     11431\n",
      "           1     0.8925    0.8388    0.8648      7816\n",
      "\n",
      "    accuracy                         0.8935     19247\n",
      "   macro avg     0.8933    0.8848    0.8885     19247\n",
      "weighted avg     0.8934    0.8935    0.8929     19247\n",
      "\n",
      "[[10641   790]\n",
      " [ 1260  6556]]\n",
      "      TPR       FPR       FNR   ROC AUC\n",
      "   0.8388    0.0691    0.1612    0.9563\n"
     ]
    }
   ],
   "source": [
    "y_prob_img = model.predict(test_dataset, verbose=1)\n",
    "y_pred = np.argmax(y_prob_img, axis=1)\n",
    "\n",
    "clf_report = metrics.classification_report(y_test, y_pred, digits=4)\n",
    "cnf_matrix = metrics.confusion_matrix(y_test, y_pred)\n",
    "TN, FP, FN, TP = cnf_matrix.ravel()\n",
    "TPR = TP / (TP + FN)\n",
    "FPR = FP / (FP + TN)\n",
    "FNR = FN / (FN + TP)\n",
    "fpr, tpr, _ = metrics.roc_curve(y_test, y_prob_img[:, 1])\n",
    "auc = metrics.roc_auc_score(y_test, y_prob_img[:, 1])\n",
    "other_metrics = pd.DataFrame({'TPR': '%.4f' % TPR, \n",
    "                              'FPR': '%.4f' % FPR, \n",
    "                              'FNR': '%.4f' % FNR, \n",
    "                              'ROC AUC': '%.4f' % auc}, index=[0]).to_string(col_space=9, index=False)\n",
    "print(clf_report)\n",
    "print(cnf_matrix)\n",
    "print(other_metrics)"
   ]
  },
  {
   "cell_type": "markdown",
   "id": "e5d1a752",
   "metadata": {
    "papermill": {
     "duration": 0.318609,
     "end_time": "2023-01-31T11:02:41.254149",
     "exception": false,
     "start_time": "2023-01-31T11:02:40.935540",
     "status": "completed"
    },
    "tags": []
   },
   "source": [
    "### Fusion"
   ]
  },
  {
   "cell_type": "markdown",
   "id": "7919694d",
   "metadata": {
    "papermill": {
     "duration": 0.314796,
     "end_time": "2023-01-31T11:02:41.884551",
     "exception": false,
     "start_time": "2023-01-31T11:02:41.569755",
     "status": "completed"
    },
    "tags": []
   },
   "source": [
    "**Text_CNN**"
   ]
  },
  {
   "cell_type": "code",
   "execution_count": 28,
   "id": "3768080f",
   "metadata": {
    "execution": {
     "iopub.execute_input": "2023-01-31T11:02:42.524735Z",
     "iopub.status.busy": "2023-01-31T11:02:42.523950Z",
     "iopub.status.idle": "2023-01-31T11:02:42.593871Z",
     "shell.execute_reply": "2023-01-31T11:02:42.593316Z",
     "shell.execute_reply.started": "2023-01-31T08:01:23.268604Z"
    },
    "papermill": {
     "duration": 0.392475,
     "end_time": "2023-01-31T11:02:42.594029",
     "exception": false,
     "start_time": "2023-01-31T11:02:42.201554",
     "status": "completed"
    },
    "tags": []
   },
   "outputs": [
    {
     "name": "stdout",
     "output_type": "stream",
     "text": [
      "              precision    recall  f1-score   support\n",
      "\n",
      "           0     0.9693    0.9880    0.9786     11431\n",
      "           1     0.9820    0.9542    0.9679      7816\n",
      "\n",
      "    accuracy                         0.9743     19247\n",
      "   macro avg     0.9756    0.9711    0.9732     19247\n",
      "weighted avg     0.9744    0.9743    0.9742     19247\n",
      "\n",
      "[[11294   137]\n",
      " [  358  7458]]\n",
      "      TPR       FPR       FNR   ROC AUC\n",
      "   0.9542    0.0120    0.0458    0.9946\n"
     ]
    }
   ],
   "source": [
    "y_prob = (y_prob_img + y_prob_txt_cnn) / 2\n",
    "y_pred = np.argmax(y_prob, axis=1)\n",
    "\n",
    "clf_report = metrics.classification_report(y_test, y_pred, digits=4)\n",
    "cnf_matrix = metrics.confusion_matrix(y_test, y_pred)\n",
    "TN, FP, FN, TP = cnf_matrix.ravel()\n",
    "TPR = TP / (TP + FN)\n",
    "FPR = FP / (FP + TN)\n",
    "FNR = FN / (FN + TP)\n",
    "fpr, tpr, _ = metrics.roc_curve(y_test, y_prob[:, 1])\n",
    "auc = metrics.roc_auc_score(y_test, y_prob[:, 1])\n",
    "other_metrics = pd.DataFrame({'TPR': '%.4f' % TPR, \n",
    "                              'FPR': '%.4f' % FPR, \n",
    "                              'FNR': '%.4f' % FNR, \n",
    "                              'ROC AUC': '%.4f' % auc}, index=[0]).to_string(col_space=9, index=False)\n",
    "print(clf_report)\n",
    "print(cnf_matrix)\n",
    "print(other_metrics)"
   ]
  },
  {
   "cell_type": "markdown",
   "id": "3337b374",
   "metadata": {
    "papermill": {
     "duration": 0.319918,
     "end_time": "2023-01-31T11:02:43.232382",
     "exception": false,
     "start_time": "2023-01-31T11:02:42.912464",
     "status": "completed"
    },
    "tags": []
   },
   "source": [
    "**Text_GRU**"
   ]
  },
  {
   "cell_type": "code",
   "execution_count": 29,
   "id": "7e513427",
   "metadata": {
    "execution": {
     "iopub.execute_input": "2023-01-31T11:02:43.877598Z",
     "iopub.status.busy": "2023-01-31T11:02:43.872491Z",
     "iopub.status.idle": "2023-01-31T11:02:43.947398Z",
     "shell.execute_reply": "2023-01-31T11:02:43.946730Z"
    },
    "papermill": {
     "duration": 0.395246,
     "end_time": "2023-01-31T11:02:43.947556",
     "exception": false,
     "start_time": "2023-01-31T11:02:43.552310",
     "status": "completed"
    },
    "tags": []
   },
   "outputs": [
    {
     "name": "stdout",
     "output_type": "stream",
     "text": [
      "              precision    recall  f1-score   support\n",
      "\n",
      "           0     0.9727    0.9853    0.9790     11431\n",
      "           1     0.9781    0.9596    0.9687      7816\n",
      "\n",
      "    accuracy                         0.9749     19247\n",
      "   macro avg     0.9754    0.9724    0.9739     19247\n",
      "weighted avg     0.9749    0.9749    0.9748     19247\n",
      "\n",
      "[[11263   168]\n",
      " [  316  7500]]\n",
      "      TPR       FPR       FNR   ROC AUC\n",
      "   0.9596    0.0147    0.0404    0.9949\n"
     ]
    }
   ],
   "source": [
    "y_prob = (y_prob_img + y_prob_txt_gru) / 2\n",
    "y_pred = np.argmax(y_prob, axis=1)\n",
    "\n",
    "clf_report = metrics.classification_report(y_test, y_pred, digits=4)\n",
    "cnf_matrix = metrics.confusion_matrix(y_test, y_pred)\n",
    "TN, FP, FN, TP = cnf_matrix.ravel()\n",
    "TPR = TP / (TP + FN)\n",
    "FPR = FP / (FP + TN)\n",
    "FNR = FN / (FN + TP)\n",
    "fpr, tpr, _ = metrics.roc_curve(y_test, y_prob[:, 1])\n",
    "auc = metrics.roc_auc_score(y_test, y_prob[:, 1])\n",
    "other_metrics = pd.DataFrame({'TPR': '%.4f' % TPR, \n",
    "                              'FPR': '%.4f' % FPR, \n",
    "                              'FNR': '%.4f' % FNR, \n",
    "                              'ROC AUC': '%.4f' % auc}, index=[0]).to_string(col_space=9, index=False)\n",
    "print(clf_report)\n",
    "print(cnf_matrix)\n",
    "print(other_metrics)"
   ]
  },
  {
   "cell_type": "markdown",
   "id": "e9e20e3c",
   "metadata": {
    "papermill": {
     "duration": 0.320972,
     "end_time": "2023-01-31T11:02:44.585573",
     "exception": false,
     "start_time": "2023-01-31T11:02:44.264601",
     "status": "completed"
    },
    "tags": []
   },
   "source": [
    "**Text_LSTM**"
   ]
  },
  {
   "cell_type": "code",
   "execution_count": 30,
   "id": "32ffeb0e",
   "metadata": {
    "execution": {
     "iopub.execute_input": "2023-01-31T11:02:45.234257Z",
     "iopub.status.busy": "2023-01-31T11:02:45.233208Z",
     "iopub.status.idle": "2023-01-31T11:02:45.303588Z",
     "shell.execute_reply": "2023-01-31T11:02:45.303045Z"
    },
    "papermill": {
     "duration": 0.397747,
     "end_time": "2023-01-31T11:02:45.303763",
     "exception": false,
     "start_time": "2023-01-31T11:02:44.906016",
     "status": "completed"
    },
    "tags": []
   },
   "outputs": [
    {
     "name": "stdout",
     "output_type": "stream",
     "text": [
      "              precision    recall  f1-score   support\n",
      "\n",
      "           0     0.9714    0.9860    0.9786     11431\n",
      "           1     0.9791    0.9575    0.9682      7816\n",
      "\n",
      "    accuracy                         0.9744     19247\n",
      "   macro avg     0.9752    0.9718    0.9734     19247\n",
      "weighted avg     0.9745    0.9744    0.9744     19247\n",
      "\n",
      "[[11271   160]\n",
      " [  332  7484]]\n",
      "      TPR       FPR       FNR   ROC AUC\n",
      "   0.9575    0.0140    0.0425    0.9946\n"
     ]
    }
   ],
   "source": [
    "y_prob = (y_prob_img + y_prob_txt_lstm) / 2\n",
    "y_pred = np.argmax(y_prob, axis=1)\n",
    "\n",
    "clf_report = metrics.classification_report(y_test, y_pred, digits=4)\n",
    "cnf_matrix = metrics.confusion_matrix(y_test, y_pred)\n",
    "TN, FP, FN, TP = cnf_matrix.ravel()\n",
    "TPR = TP / (TP + FN)\n",
    "FPR = FP / (FP + TN)\n",
    "FNR = FN / (FN + TP)\n",
    "fpr, tpr, _ = metrics.roc_curve(y_test, y_prob[:, 1])\n",
    "auc = metrics.roc_auc_score(y_test, y_prob[:, 1])\n",
    "other_metrics = pd.DataFrame({'TPR': '%.4f' % TPR, \n",
    "                              'FPR': '%.4f' % FPR, \n",
    "                              'FNR': '%.4f' % FNR, \n",
    "                              'ROC AUC': '%.4f' % auc}, index=[0]).to_string(col_space=9, index=False)\n",
    "print(clf_report)\n",
    "print(cnf_matrix)\n",
    "print(other_metrics)"
   ]
  },
  {
   "cell_type": "markdown",
   "id": "75b5963a",
   "metadata": {
    "papermill": {
     "duration": 0.323189,
     "end_time": "2023-01-31T11:02:45.944372",
     "exception": false,
     "start_time": "2023-01-31T11:02:45.621183",
     "status": "completed"
    },
    "tags": []
   },
   "source": [
    "## VGG19"
   ]
  },
  {
   "cell_type": "code",
   "execution_count": 31,
   "id": "7110eb51",
   "metadata": {
    "execution": {
     "iopub.execute_input": "2023-01-31T11:02:46.667345Z",
     "iopub.status.busy": "2023-01-31T11:02:46.666572Z",
     "iopub.status.idle": "2023-01-31T11:02:51.969695Z",
     "shell.execute_reply": "2023-01-31T11:02:51.968954Z",
     "shell.execute_reply.started": "2023-01-31T08:01:23.270053Z"
    },
    "papermill": {
     "duration": 5.632655,
     "end_time": "2023-01-31T11:02:51.969879",
     "exception": false,
     "start_time": "2023-01-31T11:02:46.337224",
     "status": "completed"
    },
    "tags": []
   },
   "outputs": [
    {
     "name": "stdout",
     "output_type": "stream",
     "text": [
      "Downloading data from https://storage.googleapis.com/tensorflow/keras-applications/vgg19/vgg19_weights_tf_dim_ordering_tf_kernels_notop.h5\n",
      "80142336/80134624 [==============================] - 0s 0us/step\n"
     ]
    }
   ],
   "source": [
    "from tensorflow.keras.applications import VGG19\n",
    "\n",
    "with strategy.scope():\n",
    "    net = VGG19(\n",
    "        include_top=False, \n",
    "        weights='imagenet', \n",
    "        pooling='avg', \n",
    "        input_shape=(IMG_SIZE, IMG_SIZE, 3))\n",
    "\n",
    "    model = Sequential()\n",
    "    model.add(net)\n",
    "    model.add(L.BatchNormalization())\n",
    "    model.add(L.Dense(128, activation='softmax'))\n",
    "    model.add(L.BatchNormalization())\n",
    "    model.add(L.Dense(2, activation='softmax'))\n",
    "    model.compile(optimizer='adam', loss='categorical_crossentropy', metrics=['accuracy'])\n",
    "    model.load_weights('../input/deface-vgg19/weights.h5')"
   ]
  },
  {
   "cell_type": "code",
   "execution_count": 32,
   "id": "c0f5c1f2",
   "metadata": {
    "execution": {
     "iopub.execute_input": "2023-01-31T11:02:52.633410Z",
     "iopub.status.busy": "2023-01-31T11:02:52.632405Z",
     "iopub.status.idle": "2023-01-31T11:11:19.676489Z",
     "shell.execute_reply": "2023-01-31T11:11:19.675842Z",
     "shell.execute_reply.started": "2023-01-31T08:01:23.272082Z"
    },
    "papermill": {
     "duration": 507.381112,
     "end_time": "2023-01-31T11:11:19.676677",
     "exception": false,
     "start_time": "2023-01-31T11:02:52.295565",
     "status": "completed"
    },
    "tags": []
   },
   "outputs": [
    {
     "name": "stdout",
     "output_type": "stream",
     "text": [
      "301/301 [==============================] - 507s 2s/step\n",
      "              precision    recall  f1-score   support\n",
      "\n",
      "           0     0.7887    0.8359    0.8116     11431\n",
      "           1     0.7370    0.6725    0.7032      7816\n",
      "\n",
      "    accuracy                         0.7695     19247\n",
      "   macro avg     0.7628    0.7542    0.7574     19247\n",
      "weighted avg     0.7677    0.7695    0.7676     19247\n",
      "\n",
      "[[9555 1876]\n",
      " [2560 5256]]\n",
      "      TPR       FPR       FNR   ROC AUC\n",
      "   0.6725    0.1641    0.3275    0.8111\n"
     ]
    }
   ],
   "source": [
    "y_prob_img = model.predict(test_dataset, verbose=1)\n",
    "y_pred = np.argmax(y_prob_img, axis=1)\n",
    "\n",
    "clf_report = metrics.classification_report(y_test, y_pred, digits=4)\n",
    "cnf_matrix = metrics.confusion_matrix(y_test, y_pred)\n",
    "TN, FP, FN, TP = cnf_matrix.ravel()\n",
    "TPR = TP / (TP + FN)\n",
    "FPR = FP / (FP + TN)\n",
    "FNR = FN / (FN + TP)\n",
    "fpr, tpr, _ = metrics.roc_curve(y_test, y_prob_img[:, 1])\n",
    "auc = metrics.roc_auc_score(y_test, y_prob_img[:, 1])\n",
    "other_metrics = pd.DataFrame({'TPR': '%.4f' % TPR, \n",
    "                              'FPR': '%.4f' % FPR, \n",
    "                              'FNR': '%.4f' % FNR, \n",
    "                              'ROC AUC': '%.4f' % auc}, index=[0]).to_string(col_space=9, index=False)\n",
    "print(clf_report)\n",
    "print(cnf_matrix)\n",
    "print(other_metrics)"
   ]
  },
  {
   "cell_type": "markdown",
   "id": "e3b790d7",
   "metadata": {
    "papermill": {
     "duration": 0.430044,
     "end_time": "2023-01-31T11:11:20.525481",
     "exception": false,
     "start_time": "2023-01-31T11:11:20.095437",
     "status": "completed"
    },
    "tags": []
   },
   "source": [
    "### Fusion"
   ]
  },
  {
   "cell_type": "markdown",
   "id": "a568a705",
   "metadata": {
    "papermill": {
     "duration": 0.415357,
     "end_time": "2023-01-31T11:11:21.355611",
     "exception": false,
     "start_time": "2023-01-31T11:11:20.940254",
     "status": "completed"
    },
    "tags": []
   },
   "source": [
    "**Text_CNN**"
   ]
  },
  {
   "cell_type": "code",
   "execution_count": 33,
   "id": "d73f9f1f",
   "metadata": {
    "execution": {
     "iopub.execute_input": "2023-01-31T11:11:22.194801Z",
     "iopub.status.busy": "2023-01-31T11:11:22.193995Z",
     "iopub.status.idle": "2023-01-31T11:11:22.265053Z",
     "shell.execute_reply": "2023-01-31T11:11:22.265559Z",
     "shell.execute_reply.started": "2023-01-31T08:01:23.274050Z"
    },
    "papermill": {
     "duration": 0.498599,
     "end_time": "2023-01-31T11:11:22.265813",
     "exception": false,
     "start_time": "2023-01-31T11:11:21.767214",
     "status": "completed"
    },
    "tags": []
   },
   "outputs": [
    {
     "name": "stdout",
     "output_type": "stream",
     "text": [
      "              precision    recall  f1-score   support\n",
      "\n",
      "           0     0.9617    0.9911    0.9762     11431\n",
      "           1     0.9863    0.9423    0.9638      7816\n",
      "\n",
      "    accuracy                         0.9713     19247\n",
      "   macro avg     0.9740    0.9667    0.9700     19247\n",
      "weighted avg     0.9717    0.9713    0.9712     19247\n",
      "\n",
      "[[11329   102]\n",
      " [  451  7365]]\n",
      "      TPR       FPR       FNR   ROC AUC\n",
      "   0.9423    0.0089    0.0577    0.9888\n"
     ]
    }
   ],
   "source": [
    "y_prob = (y_prob_img + y_prob_txt_cnn) / 2\n",
    "y_pred = np.argmax(y_prob, axis=1)\n",
    "\n",
    "clf_report = metrics.classification_report(y_test, y_pred, digits=4)\n",
    "cnf_matrix = metrics.confusion_matrix(y_test, y_pred)\n",
    "TN, FP, FN, TP = cnf_matrix.ravel()\n",
    "TPR = TP / (TP + FN)\n",
    "FPR = FP / (FP + TN)\n",
    "FNR = FN / (FN + TP)\n",
    "fpr, tpr, _ = metrics.roc_curve(y_test, y_prob[:, 1])\n",
    "auc = metrics.roc_auc_score(y_test, y_prob[:, 1])\n",
    "other_metrics = pd.DataFrame({'TPR': '%.4f' % TPR, \n",
    "                              'FPR': '%.4f' % FPR, \n",
    "                              'FNR': '%.4f' % FNR, \n",
    "                              'ROC AUC': '%.4f' % auc}, index=[0]).to_string(col_space=9, index=False)\n",
    "print(clf_report)\n",
    "print(cnf_matrix)\n",
    "print(other_metrics)"
   ]
  },
  {
   "cell_type": "markdown",
   "id": "1c41f158",
   "metadata": {
    "papermill": {
     "duration": 0.410395,
     "end_time": "2023-01-31T11:11:23.083590",
     "exception": false,
     "start_time": "2023-01-31T11:11:22.673195",
     "status": "completed"
    },
    "tags": []
   },
   "source": [
    "**Text_GRU**"
   ]
  },
  {
   "cell_type": "code",
   "execution_count": 34,
   "id": "a013e60e",
   "metadata": {
    "execution": {
     "iopub.execute_input": "2023-01-31T11:11:23.929415Z",
     "iopub.status.busy": "2023-01-31T11:11:23.928600Z",
     "iopub.status.idle": "2023-01-31T11:11:24.001232Z",
     "shell.execute_reply": "2023-01-31T11:11:24.000391Z"
    },
    "papermill": {
     "duration": 0.499543,
     "end_time": "2023-01-31T11:11:24.001399",
     "exception": false,
     "start_time": "2023-01-31T11:11:23.501856",
     "status": "completed"
    },
    "tags": []
   },
   "outputs": [
    {
     "name": "stdout",
     "output_type": "stream",
     "text": [
      "              precision    recall  f1-score   support\n",
      "\n",
      "           0     0.9669    0.9899    0.9783     11431\n",
      "           1     0.9846    0.9505    0.9673      7816\n",
      "\n",
      "    accuracy                         0.9739     19247\n",
      "   macro avg     0.9758    0.9702    0.9728     19247\n",
      "weighted avg     0.9741    0.9739    0.9738     19247\n",
      "\n",
      "[[11315   116]\n",
      " [  387  7429]]\n",
      "      TPR       FPR       FNR   ROC AUC\n",
      "   0.9505    0.0101    0.0495    0.9896\n"
     ]
    }
   ],
   "source": [
    "y_prob = (y_prob_img + y_prob_txt_gru) / 2\n",
    "y_pred = np.argmax(y_prob, axis=1)\n",
    "\n",
    "clf_report = metrics.classification_report(y_test, y_pred, digits=4)\n",
    "cnf_matrix = metrics.confusion_matrix(y_test, y_pred)\n",
    "TN, FP, FN, TP = cnf_matrix.ravel()\n",
    "TPR = TP / (TP + FN)\n",
    "FPR = FP / (FP + TN)\n",
    "FNR = FN / (FN + TP)\n",
    "fpr, tpr, _ = metrics.roc_curve(y_test, y_prob[:, 1])\n",
    "auc = metrics.roc_auc_score(y_test, y_prob[:, 1])\n",
    "other_metrics = pd.DataFrame({'TPR': '%.4f' % TPR, \n",
    "                              'FPR': '%.4f' % FPR, \n",
    "                              'FNR': '%.4f' % FNR, \n",
    "                              'ROC AUC': '%.4f' % auc}, index=[0]).to_string(col_space=9, index=False)\n",
    "print(clf_report)\n",
    "print(cnf_matrix)\n",
    "print(other_metrics)"
   ]
  },
  {
   "cell_type": "markdown",
   "id": "3d465a4a",
   "metadata": {
    "papermill": {
     "duration": 0.430588,
     "end_time": "2023-01-31T11:11:24.869508",
     "exception": false,
     "start_time": "2023-01-31T11:11:24.438920",
     "status": "completed"
    },
    "tags": []
   },
   "source": [
    "**Text_LSTM**"
   ]
  },
  {
   "cell_type": "code",
   "execution_count": 35,
   "id": "08dafa97",
   "metadata": {
    "execution": {
     "iopub.execute_input": "2023-01-31T11:11:25.708334Z",
     "iopub.status.busy": "2023-01-31T11:11:25.707504Z",
     "iopub.status.idle": "2023-01-31T11:11:25.780647Z",
     "shell.execute_reply": "2023-01-31T11:11:25.779865Z"
    },
    "papermill": {
     "duration": 0.49567,
     "end_time": "2023-01-31T11:11:25.780861",
     "exception": false,
     "start_time": "2023-01-31T11:11:25.285191",
     "status": "completed"
    },
    "tags": []
   },
   "outputs": [
    {
     "name": "stdout",
     "output_type": "stream",
     "text": [
      "              precision    recall  f1-score   support\n",
      "\n",
      "           0     0.9653    0.9890    0.9770     11431\n",
      "           1     0.9833    0.9481    0.9653      7816\n",
      "\n",
      "    accuracy                         0.9724     19247\n",
      "   macro avg     0.9743    0.9685    0.9712     19247\n",
      "weighted avg     0.9726    0.9724    0.9723     19247\n",
      "\n",
      "[[11305   126]\n",
      " [  406  7410]]\n",
      "      TPR       FPR       FNR   ROC AUC\n",
      "   0.9481    0.0110    0.0519    0.9880\n"
     ]
    }
   ],
   "source": [
    "y_prob = (y_prob_img + y_prob_txt_lstm) / 2\n",
    "y_pred = np.argmax(y_prob, axis=1)\n",
    "\n",
    "clf_report = metrics.classification_report(y_test, y_pred, digits=4)\n",
    "cnf_matrix = metrics.confusion_matrix(y_test, y_pred)\n",
    "TN, FP, FN, TP = cnf_matrix.ravel()\n",
    "TPR = TP / (TP + FN)\n",
    "FPR = FP / (FP + TN)\n",
    "FNR = FN / (FN + TP)\n",
    "fpr, tpr, _ = metrics.roc_curve(y_test, y_prob[:, 1])\n",
    "auc = metrics.roc_auc_score(y_test, y_prob[:, 1])\n",
    "other_metrics = pd.DataFrame({'TPR': '%.4f' % TPR, \n",
    "                              'FPR': '%.4f' % FPR, \n",
    "                              'FNR': '%.4f' % FNR, \n",
    "                              'ROC AUC': '%.4f' % auc}, index=[0]).to_string(col_space=9, index=False)\n",
    "print(clf_report)\n",
    "print(cnf_matrix)\n",
    "print(other_metrics)"
   ]
  },
  {
   "cell_type": "markdown",
   "id": "c1415fec",
   "metadata": {
    "papermill": {
     "duration": 0.431119,
     "end_time": "2023-01-31T11:11:26.629022",
     "exception": false,
     "start_time": "2023-01-31T11:11:26.197903",
     "status": "completed"
    },
    "tags": []
   },
   "source": [
    "## DenseNet169"
   ]
  },
  {
   "cell_type": "code",
   "execution_count": 36,
   "id": "9afe16ac",
   "metadata": {
    "execution": {
     "iopub.execute_input": "2023-01-31T11:11:27.489213Z",
     "iopub.status.busy": "2023-01-31T11:11:27.488099Z",
     "iopub.status.idle": "2023-01-31T11:12:12.867325Z",
     "shell.execute_reply": "2023-01-31T11:12:12.866650Z",
     "shell.execute_reply.started": "2023-01-31T08:01:23.275678Z"
    },
    "papermill": {
     "duration": 45.81378,
     "end_time": "2023-01-31T11:12:12.867518",
     "exception": false,
     "start_time": "2023-01-31T11:11:27.053738",
     "status": "completed"
    },
    "tags": []
   },
   "outputs": [
    {
     "name": "stdout",
     "output_type": "stream",
     "text": [
      "Downloading data from https://storage.googleapis.com/tensorflow/keras-applications/densenet/densenet169_weights_tf_dim_ordering_tf_kernels_notop.h5\n",
      "51879936/51877672 [==============================] - 0s 0us/step\n"
     ]
    }
   ],
   "source": [
    "from tensorflow.keras.applications import DenseNet169\n",
    "\n",
    "with strategy.scope():\n",
    "    net = DenseNet169(\n",
    "        include_top=False, \n",
    "        weights='imagenet', \n",
    "        pooling='avg', \n",
    "        input_shape=(IMG_SIZE, IMG_SIZE, 3))\n",
    "\n",
    "    model = Sequential()\n",
    "    model.add(net)\n",
    "    model.add(L.BatchNormalization())\n",
    "    model.add(L.Dense(128, activation='softmax'))\n",
    "    model.add(L.BatchNormalization())\n",
    "    model.add(L.Dense(2, activation='softmax'))\n",
    "    model.compile(optimizer='adam', loss='categorical_crossentropy', metrics=['accuracy'])\n",
    "    model.load_weights('../input/deface-densenet169/weights.h5')"
   ]
  },
  {
   "cell_type": "code",
   "execution_count": 37,
   "id": "8650cf4e",
   "metadata": {
    "execution": {
     "iopub.execute_input": "2023-01-31T11:12:13.709352Z",
     "iopub.status.busy": "2023-01-31T11:12:13.708522Z",
     "iopub.status.idle": "2023-01-31T11:20:45.089834Z",
     "shell.execute_reply": "2023-01-31T11:20:45.089221Z",
     "shell.execute_reply.started": "2023-01-31T08:01:23.277180Z"
    },
    "papermill": {
     "duration": 511.808627,
     "end_time": "2023-01-31T11:20:45.090013",
     "exception": false,
     "start_time": "2023-01-31T11:12:13.281386",
     "status": "completed"
    },
    "tags": []
   },
   "outputs": [
    {
     "name": "stdout",
     "output_type": "stream",
     "text": [
      "301/301 [==============================] - 511s 2s/step\n",
      "              precision    recall  f1-score   support\n",
      "\n",
      "           0     0.8670    0.9640    0.9129     11431\n",
      "           1     0.9371    0.7836    0.8535      7816\n",
      "\n",
      "    accuracy                         0.8908     19247\n",
      "   macro avg     0.9020    0.8738    0.8832     19247\n",
      "weighted avg     0.8955    0.8908    0.8888     19247\n",
      "\n",
      "[[11020   411]\n",
      " [ 1691  6125]]\n",
      "      TPR       FPR       FNR   ROC AUC\n",
      "   0.7836    0.0360    0.2164    0.9615\n"
     ]
    }
   ],
   "source": [
    "y_prob_img = model.predict(test_dataset, verbose=1)\n",
    "y_pred = np.argmax(y_prob_img, axis=1)\n",
    "\n",
    "clf_report = metrics.classification_report(y_test, y_pred, digits=4)\n",
    "cnf_matrix = metrics.confusion_matrix(y_test, y_pred)\n",
    "TN, FP, FN, TP = cnf_matrix.ravel()\n",
    "TPR = TP / (TP + FN)\n",
    "FPR = FP / (FP + TN)\n",
    "FNR = FN / (FN + TP)\n",
    "fpr, tpr, _ = metrics.roc_curve(y_test, y_prob_img[:, 1])\n",
    "auc = metrics.roc_auc_score(y_test, y_prob_img[:, 1])\n",
    "other_metrics = pd.DataFrame({'TPR': '%.4f' % TPR, \n",
    "                              'FPR': '%.4f' % FPR, \n",
    "                              'FNR': '%.4f' % FNR, \n",
    "                              'ROC AUC': '%.4f' % auc}, index=[0]).to_string(col_space=9, index=False)\n",
    "print(clf_report)\n",
    "print(cnf_matrix)\n",
    "print(other_metrics)"
   ]
  },
  {
   "cell_type": "markdown",
   "id": "a624b967",
   "metadata": {
    "papermill": {
     "duration": 0.511534,
     "end_time": "2023-01-31T11:20:46.136532",
     "exception": false,
     "start_time": "2023-01-31T11:20:45.624998",
     "status": "completed"
    },
    "tags": []
   },
   "source": [
    "### Fusion"
   ]
  },
  {
   "cell_type": "markdown",
   "id": "d1964c67",
   "metadata": {
    "papermill": {
     "duration": 0.502737,
     "end_time": "2023-01-31T11:20:47.136739",
     "exception": false,
     "start_time": "2023-01-31T11:20:46.634002",
     "status": "completed"
    },
    "tags": []
   },
   "source": [
    "**Text_CNN**"
   ]
  },
  {
   "cell_type": "code",
   "execution_count": 38,
   "id": "237aa70c",
   "metadata": {
    "execution": {
     "iopub.execute_input": "2023-01-31T11:20:48.158374Z",
     "iopub.status.busy": "2023-01-31T11:20:48.157261Z",
     "iopub.status.idle": "2023-01-31T11:20:48.227015Z",
     "shell.execute_reply": "2023-01-31T11:20:48.226298Z",
     "shell.execute_reply.started": "2023-01-31T08:01:23.278633Z"
    },
    "papermill": {
     "duration": 0.585265,
     "end_time": "2023-01-31T11:20:48.227174",
     "exception": false,
     "start_time": "2023-01-31T11:20:47.641909",
     "status": "completed"
    },
    "tags": []
   },
   "outputs": [
    {
     "name": "stdout",
     "output_type": "stream",
     "text": [
      "              precision    recall  f1-score   support\n",
      "\n",
      "           0     0.9618    0.9936    0.9775     11431\n",
      "           1     0.9902    0.9423    0.9656      7816\n",
      "\n",
      "    accuracy                         0.9728     19247\n",
      "   macro avg     0.9760    0.9680    0.9716     19247\n",
      "weighted avg     0.9733    0.9728    0.9727     19247\n",
      "\n",
      "[[11358    73]\n",
      " [  451  7365]]\n"
     ]
    }
   ],
   "source": [
    "y_prob = (y_prob_img + y_prob_txt_cnn) / 2\n",
    "y_pred = np.argmax(y_prob, axis=1)\n",
    "\n",
    "clf_report = metrics.classification_report(y_test, y_pred, digits=4)\n",
    "cnf_matrix = metrics.confusion_matrix(y_test, y_pred)\n",
    "TN, FP, FN, TP = cnf_matrix.ravel()\n",
    "TPR = TP / (TP + FN)\n",
    "FPR = FP / (FP + TN)\n",
    "FNR = FN / (FN + TP)\n",
    "fpr, tpr, _ = metrics.roc_curve(y_test, y_prob[:, 1])\n",
    "auc = metrics.roc_auc_score(y_test, y_prob[:, 1])\n",
    "other_metrics = pd.DataFrame({'TPR': '%.4f' % TPR, \n",
    "                              'FPR': '%.4f' % FPR, \n",
    "                              'FNR': '%.4f' % FNR, \n",
    "                              'ROC AUC': '%.4f' % auc}, index=[0]).to_string(col_space=9, index=False)\n",
    "print(clf_report)\n",
    "print(cnf_matrix)"
   ]
  },
  {
   "cell_type": "markdown",
   "id": "8a8d31f7",
   "metadata": {
    "papermill": {
     "duration": 0.514455,
     "end_time": "2023-01-31T11:20:49.253040",
     "exception": false,
     "start_time": "2023-01-31T11:20:48.738585",
     "status": "completed"
    },
    "tags": []
   },
   "source": [
    "**Text_GRU**"
   ]
  },
  {
   "cell_type": "code",
   "execution_count": 39,
   "id": "35483364",
   "metadata": {
    "execution": {
     "iopub.execute_input": "2023-01-31T11:20:50.285787Z",
     "iopub.status.busy": "2023-01-31T11:20:50.285052Z",
     "iopub.status.idle": "2023-01-31T11:20:50.355143Z",
     "shell.execute_reply": "2023-01-31T11:20:50.354521Z"
    },
    "papermill": {
     "duration": 0.586652,
     "end_time": "2023-01-31T11:20:50.355298",
     "exception": false,
     "start_time": "2023-01-31T11:20:49.768646",
     "status": "completed"
    },
    "tags": []
   },
   "outputs": [
    {
     "name": "stdout",
     "output_type": "stream",
     "text": [
      "              precision    recall  f1-score   support\n",
      "\n",
      "           0     0.9652    0.9919    0.9783     11431\n",
      "           1     0.9876    0.9477    0.9672      7816\n",
      "\n",
      "    accuracy                         0.9739     19247\n",
      "   macro avg     0.9764    0.9698    0.9728     19247\n",
      "weighted avg     0.9743    0.9739    0.9738     19247\n",
      "\n",
      "[[11338    93]\n",
      " [  409  7407]]\n"
     ]
    }
   ],
   "source": [
    "y_prob = (y_prob_img + y_prob_txt_gru) / 2\n",
    "y_pred = np.argmax(y_prob, axis=1)\n",
    "\n",
    "clf_report = metrics.classification_report(y_test, y_pred, digits=4)\n",
    "cnf_matrix = metrics.confusion_matrix(y_test, y_pred)\n",
    "TN, FP, FN, TP = cnf_matrix.ravel()\n",
    "TPR = TP / (TP + FN)\n",
    "FPR = FP / (FP + TN)\n",
    "FNR = FN / (FN + TP)\n",
    "fpr, tpr, _ = metrics.roc_curve(y_test, y_prob[:, 1])\n",
    "auc = metrics.roc_auc_score(y_test, y_prob[:, 1])\n",
    "other_metrics = pd.DataFrame({'TPR': '%.4f' % TPR, \n",
    "                              'FPR': '%.4f' % FPR, \n",
    "                              'FNR': '%.4f' % FNR, \n",
    "                              'ROC AUC': '%.4f' % auc}, index=[0]).to_string(col_space=9, index=False)\n",
    "print(clf_report)\n",
    "print(cnf_matrix)"
   ]
  },
  {
   "cell_type": "markdown",
   "id": "d8cf39c4",
   "metadata": {
    "papermill": {
     "duration": 0.504795,
     "end_time": "2023-01-31T11:20:51.367188",
     "exception": false,
     "start_time": "2023-01-31T11:20:50.862393",
     "status": "completed"
    },
    "tags": []
   },
   "source": [
    "**Text_LSTM**"
   ]
  },
  {
   "cell_type": "code",
   "execution_count": 40,
   "id": "a5398086",
   "metadata": {
    "execution": {
     "iopub.execute_input": "2023-01-31T11:20:52.376004Z",
     "iopub.status.busy": "2023-01-31T11:20:52.374357Z",
     "iopub.status.idle": "2023-01-31T11:20:52.444678Z",
     "shell.execute_reply": "2023-01-31T11:20:52.445228Z"
    },
    "papermill": {
     "duration": 0.581383,
     "end_time": "2023-01-31T11:20:52.445428",
     "exception": false,
     "start_time": "2023-01-31T11:20:51.864045",
     "status": "completed"
    },
    "tags": []
   },
   "outputs": [
    {
     "name": "stdout",
     "output_type": "stream",
     "text": [
      "              precision    recall  f1-score   support\n",
      "\n",
      "           0     0.9649    0.9924    0.9784     11431\n",
      "           1     0.9884    0.9472    0.9673      7816\n",
      "\n",
      "    accuracy                         0.9740     19247\n",
      "   macro avg     0.9766    0.9698    0.9729     19247\n",
      "weighted avg     0.9744    0.9740    0.9739     19247\n",
      "\n",
      "[[11344    87]\n",
      " [  413  7403]]\n"
     ]
    }
   ],
   "source": [
    "y_prob = (y_prob_img + y_prob_txt_lstm) / 2\n",
    "y_pred = np.argmax(y_prob, axis=1)\n",
    "\n",
    "clf_report = metrics.classification_report(y_test, y_pred, digits=4)\n",
    "cnf_matrix = metrics.confusion_matrix(y_test, y_pred)\n",
    "TN, FP, FN, TP = cnf_matrix.ravel()\n",
    "TPR = TP / (TP + FN)\n",
    "FPR = FP / (FP + TN)\n",
    "FNR = FN / (FN + TP)\n",
    "fpr, tpr, _ = metrics.roc_curve(y_test, y_prob[:, 1])\n",
    "auc = metrics.roc_auc_score(y_test, y_prob[:, 1])\n",
    "other_metrics = pd.DataFrame({'TPR': '%.4f' % TPR, \n",
    "                              'FPR': '%.4f' % FPR, \n",
    "                              'FNR': '%.4f' % FNR, \n",
    "                              'ROC AUC': '%.4f' % auc}, index=[0]).to_string(col_space=9, index=False)\n",
    "print(clf_report)\n",
    "print(cnf_matrix)"
   ]
  },
  {
   "cell_type": "markdown",
   "id": "0d52e0d4",
   "metadata": {
    "papermill": {
     "duration": 0.494875,
     "end_time": "2023-01-31T11:20:53.444626",
     "exception": false,
     "start_time": "2023-01-31T11:20:52.949751",
     "status": "completed"
    },
    "tags": []
   },
   "source": [
    "## ViTl32"
   ]
  },
  {
   "cell_type": "code",
   "execution_count": 41,
   "id": "64dad510",
   "metadata": {
    "execution": {
     "iopub.execute_input": "2023-01-31T11:20:54.513031Z",
     "iopub.status.busy": "2023-01-31T11:20:54.512302Z",
     "iopub.status.idle": "2023-01-31T11:20:54.516592Z",
     "shell.execute_reply": "2023-01-31T11:20:54.517299Z",
     "shell.execute_reply.started": "2021-09-18T12:06:06.685343Z"
    },
    "papermill": {
     "duration": 0.570485,
     "end_time": "2023-01-31T11:20:54.517494",
     "exception": false,
     "start_time": "2023-01-31T11:20:53.947009",
     "status": "completed"
    },
    "tags": []
   },
   "outputs": [],
   "source": [
    "# def decode_image(filename, label=None):\n",
    "#     bits = tf.io.read_file(filename)\n",
    "#     image = tf.image.decode_png(bits, channels=1)\n",
    "#     image = tf.cast(image, tf.float32) / 255.0\n",
    "#     image = tf.image.resize(image, (IMG_SIZE, IMG_SIZE))\n",
    "#     image = tf.reshape(image, (IMG_SIZE, IMG_SIZE))\n",
    "    \n",
    "#     if label is None:\n",
    "#         return image\n",
    "#     else:\n",
    "#         return image, label\n",
    "\n",
    "# test_dataset = (\n",
    "#     tf.data.TFRecordDataset\n",
    "#     .from_tensor_slices(X_test)\n",
    "#     .map(decode_image, num_parallel_calls=AUTO)\n",
    "#     .batch(BATCH_SIZE)\n",
    "# )"
   ]
  },
  {
   "cell_type": "code",
   "execution_count": 42,
   "id": "65235419",
   "metadata": {
    "execution": {
     "iopub.execute_input": "2023-01-31T11:20:55.519835Z",
     "iopub.status.busy": "2023-01-31T11:20:55.517706Z",
     "iopub.status.idle": "2023-01-31T11:20:55.521866Z",
     "shell.execute_reply": "2023-01-31T11:20:55.522348Z",
     "shell.execute_reply.started": "2023-01-31T08:01:23.280317Z"
    },
    "papermill": {
     "duration": 0.504778,
     "end_time": "2023-01-31T11:20:55.522541",
     "exception": false,
     "start_time": "2023-01-31T11:20:55.017763",
     "status": "completed"
    },
    "tags": []
   },
   "outputs": [],
   "source": [
    "# with strategy.scope():\n",
    "#     model = Sequential()\n",
    "#     model.add(L.Bidirectional(L.LSTM(units=64, return_sequences=True, dropout=0.2, \n",
    "#                                      recurrent_dropout=0.2), input_shape=(IMG_SIZE, IMG_SIZE)))\n",
    "#     model.add(L.Bidirectional(L.LSTM(units=64, return_sequences=True, dropout=0.2, \n",
    "#                                      recurrent_dropout=0.2)))\n",
    "#     model.add(L.Bidirectional(L.LSTM(units=64, dropout=0.2, recurrent_dropout=0.2)))\n",
    "#     model.add(L.Dense(16, activation='softmax'))\n",
    "#     model.add(L.BatchNormalization())\n",
    "#     model.add(L.Dense(2, activation='softmax'))\n",
    "#     model.compile(optimizer='adam', loss='categorical_crossentropy', metrics=['accuracy'])\n",
    "#     model.load_weights('../input/deface-vitl32/weights.h5')"
   ]
  },
  {
   "cell_type": "code",
   "execution_count": 43,
   "id": "fbdb2deb",
   "metadata": {
    "execution": {
     "iopub.execute_input": "2023-01-31T11:20:56.562835Z",
     "iopub.status.busy": "2023-01-31T11:20:56.562110Z",
     "iopub.status.idle": "2023-01-31T11:20:56.565985Z",
     "shell.execute_reply": "2023-01-31T11:20:56.566479Z",
     "shell.execute_reply.started": "2021-09-18T12:06:08.451093Z"
    },
    "papermill": {
     "duration": 0.545429,
     "end_time": "2023-01-31T11:20:56.566698",
     "exception": false,
     "start_time": "2023-01-31T11:20:56.021269",
     "status": "completed"
    },
    "tags": []
   },
   "outputs": [],
   "source": [
    "# y_prob_img = model.predict(test_dataset, verbose=1)\n",
    "# y_pred = np.argmax(y_prob_img, axis=1)\n",
    "\n",
    "# clf_report = metrics.classification_report(y_test, y_pred, digits=4)\n",
    "# cnf_matrix = metrics.confusion_matrix(y_test, y_pred)\n",
    "# TN, FP, FN, TP = cnf_matrix.ravel()\n",
    "# TPR = TP / (TP + FN)\n",
    "# FPR = FP / (FP + TN)\n",
    "# FNR = FN / (FN + TP)\n",
    "# fpr, tpr, _ = metrics.roc_curve(y_test, y_prob_img[:, 1])\n",
    "# auc = metrics.roc_auc_score(y_test, y_prob_img[:, 1])\n",
    "# other_metrics = pd.DataFrame({'TPR': '%.4f' % TPR, \n",
    "#                               'FPR': '%.4f' % FPR, \n",
    "#                               'FNR': '%.4f' % FNR, \n",
    "#                               'ROC AUC': '%.4f' % auc}, index=[0]).to_string(col_space=9, index=False)\n",
    "# print(clf_report)\n",
    "# print(cnf_matrix)\n",
    "# print(other_metrics)"
   ]
  },
  {
   "cell_type": "markdown",
   "id": "df5306a8",
   "metadata": {
    "papermill": {
     "duration": 0.492351,
     "end_time": "2023-01-31T11:20:57.566382",
     "exception": false,
     "start_time": "2023-01-31T11:20:57.074031",
     "status": "completed"
    },
    "tags": []
   },
   "source": [
    "### Fusion"
   ]
  },
  {
   "cell_type": "code",
   "execution_count": 44,
   "id": "44590e98",
   "metadata": {
    "execution": {
     "iopub.execute_input": "2023-01-31T11:20:58.568782Z",
     "iopub.status.busy": "2023-01-31T11:20:58.568063Z",
     "iopub.status.idle": "2023-01-31T11:20:58.571683Z",
     "shell.execute_reply": "2023-01-31T11:20:58.572189Z",
     "shell.execute_reply.started": "2021-09-18T12:06:16.583036Z"
    },
    "papermill": {
     "duration": 0.506743,
     "end_time": "2023-01-31T11:20:58.572385",
     "exception": false,
     "start_time": "2023-01-31T11:20:58.065642",
     "status": "completed"
    },
    "tags": []
   },
   "outputs": [],
   "source": [
    "# y_prob = (y_prob_img + y_prob_txt) / 2\n",
    "# y_pred = np.argmax(y_prob, axis=1)\n",
    "\n",
    "# clf_report = metrics.classification_report(y_test, y_pred, digits=4)\n",
    "# cnf_matrix = metrics.confusion_matrix(y_test, y_pred)\n",
    "# TN, FP, FN, TP = cnf_matrix.ravel()\n",
    "# TPR = TP / (TP + FN)\n",
    "# FPR = FP / (FP + TN)\n",
    "# FNR = FN / (FN + TP)\n",
    "# fpr, tpr, _ = metrics.roc_curve(y_test, y_prob[:, 1])\n",
    "# auc = metrics.roc_auc_score(y_test, y_prob[:, 1])\n",
    "# other_metrics = pd.DataFrame({'TPR': '%.4f' % TPR, \n",
    "#                               'FPR': '%.4f' % FPR, \n",
    "#                               'FNR': '%.4f' % FNR, \n",
    "#                               'ROC AUC': '%.4f' % auc}, index=[0]).to_string(col_space=9, index=False)\n",
    "# print(clf_report)\n",
    "# print(cnf_matrix)"
   ]
  }
 ],
 "metadata": {
  "kernelspec": {
   "display_name": "Python 3",
   "language": "python",
   "name": "python3"
  },
  "language_info": {
   "codemirror_mode": {
    "name": "ipython",
    "version": 3
   },
   "file_extension": ".py",
   "mimetype": "text/x-python",
   "name": "python",
   "nbconvert_exporter": "python",
   "pygments_lexer": "ipython3",
   "version": "3.7.10"
  },
  "papermill": {
   "default_parameters": {},
   "duration": 7430.851969,
   "end_time": "2023-01-31T11:21:02.172746",
   "environment_variables": {},
   "exception": null,
   "input_path": "__notebook__.ipynb",
   "output_path": "__notebook__.ipynb",
   "parameters": {},
   "start_time": "2023-01-31T09:17:11.320777",
   "version": "2.3.3"
  },
  "widgets": {
   "application/vnd.jupyter.widget-state+json": {
    "state": {
     "02df67202ec14a8f83aa4980dc542a26": {
      "model_module": "@jupyter-widgets/base",
      "model_module_version": "1.2.0",
      "model_name": "LayoutModel",
      "state": {
       "_model_module": "@jupyter-widgets/base",
       "_model_module_version": "1.2.0",
       "_model_name": "LayoutModel",
       "_view_count": null,
       "_view_module": "@jupyter-widgets/base",
       "_view_module_version": "1.2.0",
       "_view_name": "LayoutView",
       "align_content": null,
       "align_items": null,
       "align_self": null,
       "border": null,
       "bottom": null,
       "display": null,
       "flex": null,
       "flex_flow": null,
       "grid_area": null,
       "grid_auto_columns": null,
       "grid_auto_flow": null,
       "grid_auto_rows": null,
       "grid_column": null,
       "grid_gap": null,
       "grid_row": null,
       "grid_template_areas": null,
       "grid_template_columns": null,
       "grid_template_rows": null,
       "height": null,
       "justify_content": null,
       "justify_items": null,
       "left": null,
       "margin": null,
       "max_height": null,
       "max_width": null,
       "min_height": null,
       "min_width": null,
       "object_fit": null,
       "object_position": null,
       "order": null,
       "overflow": null,
       "overflow_x": null,
       "overflow_y": null,
       "padding": null,
       "right": null,
       "top": null,
       "visibility": null,
       "width": null
      }
     },
     "0d5665a7d6924833b6f463ac1a6a44de": {
      "model_module": "@jupyter-widgets/controls",
      "model_module_version": "1.5.0",
      "model_name": "HBoxModel",
      "state": {
       "_dom_classes": [],
       "_model_module": "@jupyter-widgets/controls",
       "_model_module_version": "1.5.0",
       "_model_name": "HBoxModel",
       "_view_count": null,
       "_view_module": "@jupyter-widgets/controls",
       "_view_module_version": "1.5.0",
       "_view_name": "HBoxView",
       "box_style": "",
       "children": [
        "IPY_MODEL_b410ee72eb294487bdf78721b08d7b07",
        "IPY_MODEL_edcb57e7b40b465db94ed7a8e83791fb",
        "IPY_MODEL_f9e6e9976b2447b79caf86fe7f64e469"
       ],
       "layout": "IPY_MODEL_cb945900238d4a0681e33418724e837d"
      }
     },
     "3ebfe489eea14c89b21d91de170ad5d1": {
      "model_module": "@jupyter-widgets/controls",
      "model_module_version": "1.5.0",
      "model_name": "DescriptionStyleModel",
      "state": {
       "_model_module": "@jupyter-widgets/controls",
       "_model_module_version": "1.5.0",
       "_model_name": "DescriptionStyleModel",
       "_view_count": null,
       "_view_module": "@jupyter-widgets/base",
       "_view_module_version": "1.2.0",
       "_view_name": "StyleView",
       "description_width": ""
      }
     },
     "3f73ffe113ca42fe9700ee3ddd32ac23": {
      "model_module": "@jupyter-widgets/controls",
      "model_module_version": "1.5.0",
      "model_name": "HTMLModel",
      "state": {
       "_dom_classes": [],
       "_model_module": "@jupyter-widgets/controls",
       "_model_module_version": "1.5.0",
       "_model_name": "HTMLModel",
       "_view_count": null,
       "_view_module": "@jupyter-widgets/controls",
       "_view_module_version": "1.5.0",
       "_view_name": "HTMLView",
       "description": "",
       "description_tooltip": null,
       "layout": "IPY_MODEL_8961ffb5b7004b16b42e73ea38cd33af",
       "placeholder": "​",
       "style": "IPY_MODEL_61e8934a3af84f85bde61bb28f872fd0",
       "value": "100%"
      }
     },
     "4e56300c3280469da743c042ec6472d4": {
      "model_module": "@jupyter-widgets/base",
      "model_module_version": "1.2.0",
      "model_name": "LayoutModel",
      "state": {
       "_model_module": "@jupyter-widgets/base",
       "_model_module_version": "1.2.0",
       "_model_name": "LayoutModel",
       "_view_count": null,
       "_view_module": "@jupyter-widgets/base",
       "_view_module_version": "1.2.0",
       "_view_name": "LayoutView",
       "align_content": null,
       "align_items": null,
       "align_self": null,
       "border": null,
       "bottom": null,
       "display": null,
       "flex": null,
       "flex_flow": null,
       "grid_area": null,
       "grid_auto_columns": null,
       "grid_auto_flow": null,
       "grid_auto_rows": null,
       "grid_column": null,
       "grid_gap": null,
       "grid_row": null,
       "grid_template_areas": null,
       "grid_template_columns": null,
       "grid_template_rows": null,
       "height": null,
       "justify_content": null,
       "justify_items": null,
       "left": null,
       "margin": null,
       "max_height": null,
       "max_width": null,
       "min_height": null,
       "min_width": null,
       "object_fit": null,
       "object_position": null,
       "order": null,
       "overflow": null,
       "overflow_x": null,
       "overflow_y": null,
       "padding": null,
       "right": null,
       "top": null,
       "visibility": null,
       "width": null
      }
     },
     "61e8934a3af84f85bde61bb28f872fd0": {
      "model_module": "@jupyter-widgets/controls",
      "model_module_version": "1.5.0",
      "model_name": "DescriptionStyleModel",
      "state": {
       "_model_module": "@jupyter-widgets/controls",
       "_model_module_version": "1.5.0",
       "_model_name": "DescriptionStyleModel",
       "_view_count": null,
       "_view_module": "@jupyter-widgets/base",
       "_view_module_version": "1.2.0",
       "_view_name": "StyleView",
       "description_width": ""
      }
     },
     "7b9c4ddaf8ea4cd0b9806a7c3faf469e": {
      "model_module": "@jupyter-widgets/base",
      "model_module_version": "1.2.0",
      "model_name": "LayoutModel",
      "state": {
       "_model_module": "@jupyter-widgets/base",
       "_model_module_version": "1.2.0",
       "_model_name": "LayoutModel",
       "_view_count": null,
       "_view_module": "@jupyter-widgets/base",
       "_view_module_version": "1.2.0",
       "_view_name": "LayoutView",
       "align_content": null,
       "align_items": null,
       "align_self": null,
       "border": null,
       "bottom": null,
       "display": null,
       "flex": null,
       "flex_flow": null,
       "grid_area": null,
       "grid_auto_columns": null,
       "grid_auto_flow": null,
       "grid_auto_rows": null,
       "grid_column": null,
       "grid_gap": null,
       "grid_row": null,
       "grid_template_areas": null,
       "grid_template_columns": null,
       "grid_template_rows": null,
       "height": null,
       "justify_content": null,
       "justify_items": null,
       "left": null,
       "margin": null,
       "max_height": null,
       "max_width": null,
       "min_height": null,
       "min_width": null,
       "object_fit": null,
       "object_position": null,
       "order": null,
       "overflow": null,
       "overflow_x": null,
       "overflow_y": null,
       "padding": null,
       "right": null,
       "top": null,
       "visibility": null,
       "width": null
      }
     },
     "7f0f113fd79b42dab2c86334d55c4c96": {
      "model_module": "@jupyter-widgets/controls",
      "model_module_version": "1.5.0",
      "model_name": "HTMLModel",
      "state": {
       "_dom_classes": [],
       "_model_module": "@jupyter-widgets/controls",
       "_model_module_version": "1.5.0",
       "_model_name": "HTMLModel",
       "_view_count": null,
       "_view_module": "@jupyter-widgets/controls",
       "_view_module_version": "1.5.0",
       "_view_name": "HTMLView",
       "description": "",
       "description_tooltip": null,
       "layout": "IPY_MODEL_bafb4e4fa2be412e9b0e863750e38243",
       "placeholder": "​",
       "style": "IPY_MODEL_a9ba800b9b32427da9c44eaa77e5c59a",
       "value": " 96234/96234 [00:51&lt;00:00, 1964.76it/s]"
      }
     },
     "8191efdf352947958bd3e7893e35249a": {
      "model_module": "@jupyter-widgets/controls",
      "model_module_version": "1.5.0",
      "model_name": "DescriptionStyleModel",
      "state": {
       "_model_module": "@jupyter-widgets/controls",
       "_model_module_version": "1.5.0",
       "_model_name": "DescriptionStyleModel",
       "_view_count": null,
       "_view_module": "@jupyter-widgets/base",
       "_view_module_version": "1.2.0",
       "_view_name": "StyleView",
       "description_width": ""
      }
     },
     "86e6228438be423db32e55a649cc811b": {
      "model_module": "@jupyter-widgets/controls",
      "model_module_version": "1.5.0",
      "model_name": "ProgressStyleModel",
      "state": {
       "_model_module": "@jupyter-widgets/controls",
       "_model_module_version": "1.5.0",
       "_model_name": "ProgressStyleModel",
       "_view_count": null,
       "_view_module": "@jupyter-widgets/base",
       "_view_module_version": "1.2.0",
       "_view_name": "StyleView",
       "bar_color": null,
       "description_width": ""
      }
     },
     "8961ffb5b7004b16b42e73ea38cd33af": {
      "model_module": "@jupyter-widgets/base",
      "model_module_version": "1.2.0",
      "model_name": "LayoutModel",
      "state": {
       "_model_module": "@jupyter-widgets/base",
       "_model_module_version": "1.2.0",
       "_model_name": "LayoutModel",
       "_view_count": null,
       "_view_module": "@jupyter-widgets/base",
       "_view_module_version": "1.2.0",
       "_view_name": "LayoutView",
       "align_content": null,
       "align_items": null,
       "align_self": null,
       "border": null,
       "bottom": null,
       "display": null,
       "flex": null,
       "flex_flow": null,
       "grid_area": null,
       "grid_auto_columns": null,
       "grid_auto_flow": null,
       "grid_auto_rows": null,
       "grid_column": null,
       "grid_gap": null,
       "grid_row": null,
       "grid_template_areas": null,
       "grid_template_columns": null,
       "grid_template_rows": null,
       "height": null,
       "justify_content": null,
       "justify_items": null,
       "left": null,
       "margin": null,
       "max_height": null,
       "max_width": null,
       "min_height": null,
       "min_width": null,
       "object_fit": null,
       "object_position": null,
       "order": null,
       "overflow": null,
       "overflow_x": null,
       "overflow_y": null,
       "padding": null,
       "right": null,
       "top": null,
       "visibility": null,
       "width": null
      }
     },
     "8f16a4b99f76466586c4c51f5e8f8359": {
      "model_module": "@jupyter-widgets/controls",
      "model_module_version": "1.5.0",
      "model_name": "FloatProgressModel",
      "state": {
       "_dom_classes": [],
       "_model_module": "@jupyter-widgets/controls",
       "_model_module_version": "1.5.0",
       "_model_name": "FloatProgressModel",
       "_view_count": null,
       "_view_module": "@jupyter-widgets/controls",
       "_view_module_version": "1.5.0",
       "_view_name": "ProgressView",
       "bar_style": "success",
       "description": "",
       "description_tooltip": null,
       "layout": "IPY_MODEL_7b9c4ddaf8ea4cd0b9806a7c3faf469e",
       "max": 96234.0,
       "min": 0.0,
       "orientation": "horizontal",
       "style": "IPY_MODEL_86e6228438be423db32e55a649cc811b",
       "value": 96234.0
      }
     },
     "996aeff54edd4404b381710af0284dc1": {
      "model_module": "@jupyter-widgets/controls",
      "model_module_version": "1.5.0",
      "model_name": "HBoxModel",
      "state": {
       "_dom_classes": [],
       "_model_module": "@jupyter-widgets/controls",
       "_model_module_version": "1.5.0",
       "_model_name": "HBoxModel",
       "_view_count": null,
       "_view_module": "@jupyter-widgets/controls",
       "_view_module_version": "1.5.0",
       "_view_name": "HBoxView",
       "box_style": "",
       "children": [
        "IPY_MODEL_3f73ffe113ca42fe9700ee3ddd32ac23",
        "IPY_MODEL_8f16a4b99f76466586c4c51f5e8f8359",
        "IPY_MODEL_7f0f113fd79b42dab2c86334d55c4c96"
       ],
       "layout": "IPY_MODEL_02df67202ec14a8f83aa4980dc542a26"
      }
     },
     "a4183a220a0e4818837bcf5854f92b1d": {
      "model_module": "@jupyter-widgets/base",
      "model_module_version": "1.2.0",
      "model_name": "LayoutModel",
      "state": {
       "_model_module": "@jupyter-widgets/base",
       "_model_module_version": "1.2.0",
       "_model_name": "LayoutModel",
       "_view_count": null,
       "_view_module": "@jupyter-widgets/base",
       "_view_module_version": "1.2.0",
       "_view_name": "LayoutView",
       "align_content": null,
       "align_items": null,
       "align_self": null,
       "border": null,
       "bottom": null,
       "display": null,
       "flex": null,
       "flex_flow": null,
       "grid_area": null,
       "grid_auto_columns": null,
       "grid_auto_flow": null,
       "grid_auto_rows": null,
       "grid_column": null,
       "grid_gap": null,
       "grid_row": null,
       "grid_template_areas": null,
       "grid_template_columns": null,
       "grid_template_rows": null,
       "height": null,
       "justify_content": null,
       "justify_items": null,
       "left": null,
       "margin": null,
       "max_height": null,
       "max_width": null,
       "min_height": null,
       "min_width": null,
       "object_fit": null,
       "object_position": null,
       "order": null,
       "overflow": null,
       "overflow_x": null,
       "overflow_y": null,
       "padding": null,
       "right": null,
       "top": null,
       "visibility": null,
       "width": null
      }
     },
     "a9ba800b9b32427da9c44eaa77e5c59a": {
      "model_module": "@jupyter-widgets/controls",
      "model_module_version": "1.5.0",
      "model_name": "DescriptionStyleModel",
      "state": {
       "_model_module": "@jupyter-widgets/controls",
       "_model_module_version": "1.5.0",
       "_model_name": "DescriptionStyleModel",
       "_view_count": null,
       "_view_module": "@jupyter-widgets/base",
       "_view_module_version": "1.2.0",
       "_view_name": "StyleView",
       "description_width": ""
      }
     },
     "b410ee72eb294487bdf78721b08d7b07": {
      "model_module": "@jupyter-widgets/controls",
      "model_module_version": "1.5.0",
      "model_name": "HTMLModel",
      "state": {
       "_dom_classes": [],
       "_model_module": "@jupyter-widgets/controls",
       "_model_module_version": "1.5.0",
       "_model_name": "HTMLModel",
       "_view_count": null,
       "_view_module": "@jupyter-widgets/controls",
       "_view_module_version": "1.5.0",
       "_view_name": "HTMLView",
       "description": "",
       "description_tooltip": null,
       "layout": "IPY_MODEL_a4183a220a0e4818837bcf5854f92b1d",
       "placeholder": "​",
       "style": "IPY_MODEL_3ebfe489eea14c89b21d91de170ad5d1",
       "value": "100%"
      }
     },
     "bafb4e4fa2be412e9b0e863750e38243": {
      "model_module": "@jupyter-widgets/base",
      "model_module_version": "1.2.0",
      "model_name": "LayoutModel",
      "state": {
       "_model_module": "@jupyter-widgets/base",
       "_model_module_version": "1.2.0",
       "_model_name": "LayoutModel",
       "_view_count": null,
       "_view_module": "@jupyter-widgets/base",
       "_view_module_version": "1.2.0",
       "_view_name": "LayoutView",
       "align_content": null,
       "align_items": null,
       "align_self": null,
       "border": null,
       "bottom": null,
       "display": null,
       "flex": null,
       "flex_flow": null,
       "grid_area": null,
       "grid_auto_columns": null,
       "grid_auto_flow": null,
       "grid_auto_rows": null,
       "grid_column": null,
       "grid_gap": null,
       "grid_row": null,
       "grid_template_areas": null,
       "grid_template_columns": null,
       "grid_template_rows": null,
       "height": null,
       "justify_content": null,
       "justify_items": null,
       "left": null,
       "margin": null,
       "max_height": null,
       "max_width": null,
       "min_height": null,
       "min_width": null,
       "object_fit": null,
       "object_position": null,
       "order": null,
       "overflow": null,
       "overflow_x": null,
       "overflow_y": null,
       "padding": null,
       "right": null,
       "top": null,
       "visibility": null,
       "width": null
      }
     },
     "cb945900238d4a0681e33418724e837d": {
      "model_module": "@jupyter-widgets/base",
      "model_module_version": "1.2.0",
      "model_name": "LayoutModel",
      "state": {
       "_model_module": "@jupyter-widgets/base",
       "_model_module_version": "1.2.0",
       "_model_name": "LayoutModel",
       "_view_count": null,
       "_view_module": "@jupyter-widgets/base",
       "_view_module_version": "1.2.0",
       "_view_name": "LayoutView",
       "align_content": null,
       "align_items": null,
       "align_self": null,
       "border": null,
       "bottom": null,
       "display": null,
       "flex": null,
       "flex_flow": null,
       "grid_area": null,
       "grid_auto_columns": null,
       "grid_auto_flow": null,
       "grid_auto_rows": null,
       "grid_column": null,
       "grid_gap": null,
       "grid_row": null,
       "grid_template_areas": null,
       "grid_template_columns": null,
       "grid_template_rows": null,
       "height": null,
       "justify_content": null,
       "justify_items": null,
       "left": null,
       "margin": null,
       "max_height": null,
       "max_width": null,
       "min_height": null,
       "min_width": null,
       "object_fit": null,
       "object_position": null,
       "order": null,
       "overflow": null,
       "overflow_x": null,
       "overflow_y": null,
       "padding": null,
       "right": null,
       "top": null,
       "visibility": null,
       "width": null
      }
     },
     "e1f4dd478b07459ba19c8ebd601c07e3": {
      "model_module": "@jupyter-widgets/base",
      "model_module_version": "1.2.0",
      "model_name": "LayoutModel",
      "state": {
       "_model_module": "@jupyter-widgets/base",
       "_model_module_version": "1.2.0",
       "_model_name": "LayoutModel",
       "_view_count": null,
       "_view_module": "@jupyter-widgets/base",
       "_view_module_version": "1.2.0",
       "_view_name": "LayoutView",
       "align_content": null,
       "align_items": null,
       "align_self": null,
       "border": null,
       "bottom": null,
       "display": null,
       "flex": null,
       "flex_flow": null,
       "grid_area": null,
       "grid_auto_columns": null,
       "grid_auto_flow": null,
       "grid_auto_rows": null,
       "grid_column": null,
       "grid_gap": null,
       "grid_row": null,
       "grid_template_areas": null,
       "grid_template_columns": null,
       "grid_template_rows": null,
       "height": null,
       "justify_content": null,
       "justify_items": null,
       "left": null,
       "margin": null,
       "max_height": null,
       "max_width": null,
       "min_height": null,
       "min_width": null,
       "object_fit": null,
       "object_position": null,
       "order": null,
       "overflow": null,
       "overflow_x": null,
       "overflow_y": null,
       "padding": null,
       "right": null,
       "top": null,
       "visibility": null,
       "width": null
      }
     },
     "e474b5edd22c44ab89baa04990781cb0": {
      "model_module": "@jupyter-widgets/controls",
      "model_module_version": "1.5.0",
      "model_name": "ProgressStyleModel",
      "state": {
       "_model_module": "@jupyter-widgets/controls",
       "_model_module_version": "1.5.0",
       "_model_name": "ProgressStyleModel",
       "_view_count": null,
       "_view_module": "@jupyter-widgets/base",
       "_view_module_version": "1.2.0",
       "_view_name": "StyleView",
       "bar_color": null,
       "description_width": ""
      }
     },
     "edcb57e7b40b465db94ed7a8e83791fb": {
      "model_module": "@jupyter-widgets/controls",
      "model_module_version": "1.5.0",
      "model_name": "FloatProgressModel",
      "state": {
       "_dom_classes": [],
       "_model_module": "@jupyter-widgets/controls",
       "_model_module_version": "1.5.0",
       "_model_name": "FloatProgressModel",
       "_view_count": null,
       "_view_module": "@jupyter-widgets/controls",
       "_view_module_version": "1.5.0",
       "_view_name": "ProgressView",
       "bar_style": "success",
       "description": "",
       "description_tooltip": null,
       "layout": "IPY_MODEL_4e56300c3280469da743c042ec6472d4",
       "max": 96234.0,
       "min": 0.0,
       "orientation": "horizontal",
       "style": "IPY_MODEL_e474b5edd22c44ab89baa04990781cb0",
       "value": 96234.0
      }
     },
     "f9e6e9976b2447b79caf86fe7f64e469": {
      "model_module": "@jupyter-widgets/controls",
      "model_module_version": "1.5.0",
      "model_name": "HTMLModel",
      "state": {
       "_dom_classes": [],
       "_model_module": "@jupyter-widgets/controls",
       "_model_module_version": "1.5.0",
       "_model_name": "HTMLModel",
       "_view_count": null,
       "_view_module": "@jupyter-widgets/controls",
       "_view_module_version": "1.5.0",
       "_view_name": "HTMLView",
       "description": "",
       "description_tooltip": null,
       "layout": "IPY_MODEL_e1f4dd478b07459ba19c8ebd601c07e3",
       "placeholder": "​",
       "style": "IPY_MODEL_8191efdf352947958bd3e7893e35249a",
       "value": " 96234/96234 [03:32&lt;00:00, 493.44it/s]"
      }
     }
    },
    "version_major": 2,
    "version_minor": 0
   }
  }
 },
 "nbformat": 4,
 "nbformat_minor": 5
}

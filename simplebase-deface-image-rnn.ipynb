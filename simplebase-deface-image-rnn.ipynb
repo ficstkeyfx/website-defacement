{
 "cells": [
  {
   "cell_type": "code",
   "execution_count": 1,
   "id": "0a719e44",
   "metadata": {
    "_cell_guid": "b1076dfc-b9ad-4769-8c92-a6c4dae69d19",
    "_uuid": "8f2839f25d086af736a60e9eeb907d3b93b6e0e5",
    "execution": {
     "iopub.execute_input": "2023-02-11T00:48:10.192751Z",
     "iopub.status.busy": "2023-02-11T00:48:10.187397Z",
     "iopub.status.idle": "2023-02-11T00:48:17.186603Z",
     "shell.execute_reply": "2023-02-11T00:48:17.185820Z",
     "shell.execute_reply.started": "2023-02-11T00:45:59.189737Z"
    },
    "papermill": {
     "duration": 7.018506,
     "end_time": "2023-02-11T00:48:17.186782",
     "exception": false,
     "start_time": "2023-02-11T00:48:10.168276",
     "status": "completed"
    },
    "tags": []
   },
   "outputs": [
    {
     "name": "stderr",
     "output_type": "stream",
     "text": [
      "2023-02-11 00:48:10.916385: W tensorflow/stream_executor/platform/default/dso_loader.cc:60] Could not load dynamic library 'libcudart.so.11.0'; dlerror: libcudart.so.11.0: cannot open shared object file: No such file or directory; LD_LIBRARY_PATH: /opt/conda/lib\n",
      "2023-02-11 00:48:10.916517: I tensorflow/stream_executor/cuda/cudart_stub.cc:29] Ignore above cudart dlerror if you do not have a GPU set up on your machine.\n"
     ]
    }
   ],
   "source": [
    "import numpy as np\n",
    "import pandas as pd\n",
    "import tensorflow as tf\n",
    "from matplotlib import pyplot as plt\n",
    "from kaggle_datasets import KaggleDatasets\n",
    "from kaggle_secrets import UserSecretsClient\n",
    "from glob import glob\n",
    "from tqdm.notebook import tqdm\n",
    "from multiprocessing import cpu_count\n",
    "from joblib import Parallel, delayed\n",
    "from tensorflow.keras.models import Sequential\n",
    "from tensorflow.keras import layers as L\n",
    "from tensorflow.keras.utils import to_categorical\n",
    "from tensorflow.keras.callbacks import LearningRateScheduler, ModelCheckpoint\n",
    "from sklearn.model_selection import train_test_split\n",
    "from sklearn import metrics\n",
    "\n",
    "%matplotlib inline"
   ]
  },
  {
   "cell_type": "code",
   "execution_count": 2,
   "id": "aba99d87",
   "metadata": {
    "execution": {
     "iopub.execute_input": "2023-02-11T00:48:17.280054Z",
     "iopub.status.busy": "2023-02-11T00:48:17.277956Z",
     "iopub.status.idle": "2023-02-11T00:48:23.283199Z",
     "shell.execute_reply": "2023-02-11T00:48:23.283702Z",
     "shell.execute_reply.started": "2023-02-11T00:47:39.920272Z"
    },
    "papermill": {
     "duration": 6.087817,
     "end_time": "2023-02-11T00:48:23.283919",
     "exception": false,
     "start_time": "2023-02-11T00:48:17.196102",
     "status": "completed"
    },
    "tags": []
   },
   "outputs": [
    {
     "name": "stdout",
     "output_type": "stream",
     "text": [
      "Running on TPU: grpc://10.0.0.2:8470\n"
     ]
    },
    {
     "name": "stderr",
     "output_type": "stream",
     "text": [
      "2023-02-11 00:48:17.214619: I tensorflow/compiler/jit/xla_cpu_device.cc:41] Not creating XLA devices, tf_xla_enable_xla_devices not set\n",
      "2023-02-11 00:48:17.217202: W tensorflow/stream_executor/platform/default/dso_loader.cc:60] Could not load dynamic library 'libcuda.so.1'; dlerror: libcuda.so.1: cannot open shared object file: No such file or directory; LD_LIBRARY_PATH: /opt/conda/lib\n",
      "2023-02-11 00:48:17.217242: W tensorflow/stream_executor/cuda/cuda_driver.cc:326] failed call to cuInit: UNKNOWN ERROR (303)\n",
      "2023-02-11 00:48:17.217272: I tensorflow/stream_executor/cuda/cuda_diagnostics.cc:156] kernel driver does not appear to be running on this host (39bc44416e9b): /proc/driver/nvidia/version does not exist\n",
      "2023-02-11 00:48:17.220048: I tensorflow/core/platform/cpu_feature_guard.cc:142] This TensorFlow binary is optimized with oneAPI Deep Neural Network Library (oneDNN) to use the following CPU instructions in performance-critical operations:  AVX2 FMA\n",
      "To enable them in other operations, rebuild TensorFlow with the appropriate compiler flags.\n",
      "2023-02-11 00:48:17.221583: I tensorflow/compiler/jit/xla_gpu_device.cc:99] Not creating XLA devices, tf_xla_enable_xla_devices not set\n",
      "2023-02-11 00:48:17.250743: I tensorflow/core/distributed_runtime/rpc/grpc_channel.cc:301] Initialize GrpcChannelCache for job worker -> {0 -> 10.0.0.2:8470}\n",
      "2023-02-11 00:48:17.250838: I tensorflow/core/distributed_runtime/rpc/grpc_channel.cc:301] Initialize GrpcChannelCache for job localhost -> {0 -> localhost:30019}\n",
      "2023-02-11 00:48:17.274130: I tensorflow/core/distributed_runtime/rpc/grpc_channel.cc:301] Initialize GrpcChannelCache for job worker -> {0 -> 10.0.0.2:8470}\n",
      "2023-02-11 00:48:17.274190: I tensorflow/core/distributed_runtime/rpc/grpc_channel.cc:301] Initialize GrpcChannelCache for job localhost -> {0 -> localhost:30019}\n",
      "2023-02-11 00:48:17.276029: I tensorflow/core/distributed_runtime/rpc/grpc_server_lib.cc:411] Started server with target: grpc://localhost:30019\n"
     ]
    },
    {
     "name": "stdout",
     "output_type": "stream",
     "text": [
      "N_JOBS: 4\n",
      "Batch size: 64\n",
      "GCS_DS_PATH: gs://kds-bdc1a4e6ec4ae5d9f2813149cb499f1a9df02b5e068427f000f5bb8e\n"
     ]
    }
   ],
   "source": [
    "try:\n",
    "    tpu = tf.distribute.cluster_resolver.TPUClusterResolver()\n",
    "    print('Running on TPU:', tpu.master())\n",
    "except ValueError:\n",
    "    tpu = None\n",
    "\n",
    "if tpu:\n",
    "    tf.config.experimental_connect_to_cluster(tpu)\n",
    "    tf.tpu.experimental.initialize_tpu_system(tpu)\n",
    "    strategy = tf.distribute.experimental.TPUStrategy(tpu)\n",
    "else:\n",
    "    strategy = tf.distribute.get_strategy()\n",
    "\n",
    "user_secrets = UserSecretsClient()\n",
    "user_credential = user_secrets.get_gcloud_credential()\n",
    "user_secrets.set_tensorflow_credential(user_credential)\n",
    "GCS_DS_PATH = KaggleDatasets().get_gcs_path('website-defacement')\n",
    "\n",
    "AUTO = tf.data.experimental.AUTOTUNE\n",
    "BATCH_SIZE = 8 * strategy.num_replicas_in_sync\n",
    "N_JOBS = cpu_count()\n",
    "\n",
    "IMG_SIZE = 224\n",
    "EPOCHS = 50\n",
    "\n",
    "print('N_JOBS:', N_JOBS)\n",
    "print('Batch size:', BATCH_SIZE)\n",
    "print('GCS_DS_PATH:', GCS_DS_PATH)"
   ]
  },
  {
   "cell_type": "code",
   "execution_count": 3,
   "id": "7c580db8",
   "metadata": {
    "execution": {
     "iopub.execute_input": "2023-02-11T00:48:23.314461Z",
     "iopub.status.busy": "2023-02-11T00:48:23.313683Z",
     "iopub.status.idle": "2023-02-11T00:49:13.469231Z",
     "shell.execute_reply": "2023-02-11T00:49:13.470078Z",
     "shell.execute_reply.started": "2023-02-09T09:06:27.481892Z"
    },
    "papermill": {
     "duration": 50.176448,
     "end_time": "2023-02-11T00:49:13.470387",
     "exception": false,
     "start_time": "2023-02-11T00:48:23.293939",
     "status": "completed"
    },
    "tags": []
   },
   "outputs": [
    {
     "data": {
      "application/vnd.jupyter.widget-view+json": {
       "model_id": "4e155355346a461187e58512bb47c2a9",
       "version_major": 2,
       "version_minor": 0
      },
      "text/plain": [
       "  0%|          | 0/96234 [00:00<?, ?it/s]"
      ]
     },
     "metadata": {},
     "output_type": "display_data"
    },
    {
     "name": "stdout",
     "output_type": "stream",
     "text": [
      "57740 19247 19247\n"
     ]
    }
   ],
   "source": [
    "dataset_path = '../input/website-defacement/'\n",
    "img_paths = glob(dataset_path + 'image/*/*')\n",
    "txt_paths = glob(dataset_path + 'text/*/*')\n",
    "img_names = [path.split('/')[-1][:-4] for path in img_paths]\n",
    "txt_names = [path.split('/')[-1][:-4] for path in txt_paths]\n",
    "names = list(set(img_names).intersection(txt_names))\n",
    "\n",
    "def prepare_data(name):\n",
    "    if glob(dataset_path + f'image/defaced/{name}.png'):\n",
    "        return (f'{GCS_DS_PATH}/image/defaced/{name}.png', 1)\n",
    "    else:\n",
    "        return (f'{GCS_DS_PATH}/image/benign/{name}.png', 0)\n",
    "\n",
    "output = Parallel(n_jobs=N_JOBS)(delayed(prepare_data)(name) for name in tqdm(names))\n",
    "X, y = zip(*output)\n",
    "\n",
    "X_train, X_test, y_train, y_test = train_test_split(X, y, test_size=0.2, random_state=42)\n",
    "y_train = to_categorical(y_train, num_classes=2)\n",
    "X_train, X_valid, y_train, y_valid = train_test_split(X_train, y_train, test_size=0.25, \n",
    "                                                      random_state=42)\n",
    "\n",
    "print(len(X_train), len(X_valid), len(X_test))"
   ]
  },
  {
   "cell_type": "code",
   "execution_count": 4,
   "id": "32cab126",
   "metadata": {
    "execution": {
     "iopub.execute_input": "2023-02-11T00:49:13.525911Z",
     "iopub.status.busy": "2023-02-11T00:49:13.499467Z",
     "iopub.status.idle": "2023-02-11T00:49:14.127755Z",
     "shell.execute_reply": "2023-02-11T00:49:14.128915Z",
     "shell.execute_reply.started": "2023-02-09T09:07:28.818962Z"
    },
    "papermill": {
     "duration": 0.645296,
     "end_time": "2023-02-11T00:49:14.129160",
     "exception": false,
     "start_time": "2023-02-11T00:49:13.483864",
     "status": "completed"
    },
    "tags": []
   },
   "outputs": [],
   "source": [
    "def decode_image(filename, label=None):\n",
    "    bits = tf.io.read_file(filename)\n",
    "    image = tf.image.decode_png(bits, channels=1)\n",
    "    image = tf.cast(image, tf.float32) / 255.0\n",
    "    image = tf.image.resize(image, (IMG_SIZE, IMG_SIZE))\n",
    "    image = tf.reshape(image, (IMG_SIZE, IMG_SIZE))\n",
    "    \n",
    "    if label is None:\n",
    "        return image\n",
    "    else:\n",
    "        return image, label\n",
    "\n",
    "train_dataset = (\n",
    "    tf.data.TFRecordDataset\n",
    "    .from_tensor_slices((X_train, y_train))\n",
    "    .shuffle(100000)\n",
    "    .map(decode_image, num_parallel_calls=AUTO)\n",
    "    .cache()\n",
    "    .repeat()\n",
    "    .batch(BATCH_SIZE)\n",
    "    .prefetch(AUTO)\n",
    ")\n",
    "\n",
    "test_dataset = (\n",
    "    tf.data.TFRecordDataset\n",
    "    .from_tensor_slices(X_test)\n",
    "    .map(decode_image, num_parallel_calls=AUTO)\n",
    "    .batch(BATCH_SIZE)\n",
    ")\n",
    "\n",
    "valid_dataset = (\n",
    "    tf.data.TFRecordDataset\n",
    "    .from_tensor_slices((X_valid, y_valid))\n",
    "    .map(decode_image, num_parallel_calls=AUTO)\n",
    "    .cache()\n",
    "    .batch(BATCH_SIZE)\n",
    "    .prefetch(AUTO)\n",
    ")"
   ]
  },
  {
   "cell_type": "code",
   "execution_count": 5,
   "id": "927b1f47",
   "metadata": {
    "execution": {
     "iopub.execute_input": "2023-02-11T00:49:14.159481Z",
     "iopub.status.busy": "2023-02-11T00:49:14.158472Z",
     "iopub.status.idle": "2023-02-11T00:49:14.425960Z",
     "shell.execute_reply": "2023-02-11T00:49:14.425373Z",
     "shell.execute_reply.started": "2023-02-09T09:07:29.512649Z"
    },
    "papermill": {
     "duration": 0.282026,
     "end_time": "2023-02-11T00:49:14.426123",
     "exception": false,
     "start_time": "2023-02-11T00:49:14.144097",
     "status": "completed"
    },
    "tags": []
   },
   "outputs": [
    {
     "data": {
      "text/plain": [
       "[<matplotlib.lines.Line2D at 0x7fea70cf4210>]"
      ]
     },
     "execution_count": 5,
     "metadata": {},
     "output_type": "execute_result"
    },
    {
     "data": {
      "image/png": "[encoded data removed]",
      "text/plain": [
       "<Figure size 432x288 with 1 Axes>"
      ]
     },
     "metadata": {
      "needs_background": "light"
     },
     "output_type": "display_data"
    }
   ],
   "source": [
    "def lrfn(epoch=EPOCHS,\n",
    "         lr_start=1e-4,\n",
    "         lr_max=5e-5 * 8, \n",
    "         lr_min=1e-4,\n",
    "         lr_rampup_epochs=5,\n",
    "         lr_sustain_epochs=5,\n",
    "         lr_exp_decay=0.8):\n",
    "    if epoch < lr_rampup_epochs:\n",
    "        lr = (lr_max-lr_start)/lr_rampup_epochs*epoch + lr_start\n",
    "    elif epoch < lr_rampup_epochs + lr_sustain_epochs:\n",
    "        lr = lr_max\n",
    "    else:\n",
    "        lr = (lr_max-lr_min)*lr_exp_decay**(epoch-lr_rampup_epochs-lr_sustain_epochs) + lr_min\n",
    "    return lr\n",
    "\n",
    "def plot_hist(hist):\n",
    "    plt.plot(hist.history[\"accuracy\"])\n",
    "    plt.plot(hist.history[\"val_accuracy\"])\n",
    "    plt.title(\"model accuracy\")\n",
    "    plt.ylabel(\"accuracy\")\n",
    "    plt.xlabel(\"epoch\")\n",
    "    plt.legend([\"train\", \"validation\"], loc=\"upper left\")\n",
    "    plt.show()\n",
    "\n",
    "y = [lrfn(x) for x in range(EPOCHS)]\n",
    "plt.plot(y)"
   ]
  },
  {
   "cell_type": "code",
   "execution_count": 6,
   "id": "8c89ede4",
   "metadata": {
    "execution": {
     "iopub.execute_input": "2023-02-11T00:49:14.459512Z",
     "iopub.status.busy": "2023-02-11T00:49:14.458369Z",
     "iopub.status.idle": "2023-02-11T00:49:20.382591Z",
     "shell.execute_reply": "2023-02-11T00:49:20.383114Z",
     "shell.execute_reply.started": "2023-02-09T09:13:39.436570Z"
    },
    "papermill": {
     "duration": 5.945482,
     "end_time": "2023-02-11T00:49:20.383310",
     "exception": false,
     "start_time": "2023-02-11T00:49:14.437828",
     "status": "completed"
    },
    "tags": []
   },
   "outputs": [
    {
     "name": "stdout",
     "output_type": "stream",
     "text": [
      "Model: \"sequential\"\n",
      "_________________________________________________________________\n",
      "Layer (type)                 Output Shape              Param #   \n",
      "=================================================================\n",
      "simple_rnn (SimpleRNN)       (None, 224, 128)          45184     \n",
      "_________________________________________________________________\n",
      "simple_rnn_1 (SimpleRNN)     (None, 224, 128)          32896     \n",
      "_________________________________________________________________\n",
      "simple_rnn_2 (SimpleRNN)     (None, 128)               32896     \n",
      "_________________________________________________________________\n",
      "dense (Dense)                (None, 16)                2064      \n",
      "_________________________________________________________________\n",
      "batch_normalization (BatchNo (None, 16)                64        \n",
      "_________________________________________________________________\n",
      "dense_1 (Dense)              (None, 2)                 34        \n",
      "=================================================================\n",
      "Total params: 113,138\n",
      "Trainable params: 113,106\n",
      "Non-trainable params: 32\n",
      "_________________________________________________________________\n",
      "None\n"
     ]
    }
   ],
   "source": [
    "with strategy.scope():\n",
    "    model = Sequential()\n",
    "    model.add(L.InputLayer(input_shape=(IMG_SIZE, IMG_SIZE)))\n",
    "    model.add(L.SimpleRNN(units=128, return_sequences=True,unroll=True))\n",
    "    model.add((L.SimpleRNN(units=128, return_sequences=True,unroll=True)))\n",
    "    model.add((L.SimpleRNN(units=128,unroll=True)))\n",
    "    model.add(L.Dense(16, activation='softmax'))\n",
    "    model.add(L.BatchNormalization())\n",
    "    model.add(L.Dense(2, activation='softmax'))\n",
    "    model.compile(optimizer='adam', loss='categorical_crossentropy', metrics=['accuracy'])\n",
    "    \n",
    "print(model.summary())"
   ]
  },
  {
   "cell_type": "code",
   "execution_count": 7,
   "id": "8ba0adc3",
   "metadata": {
    "execution": {
     "iopub.execute_input": "2023-02-11T00:49:20.414954Z",
     "iopub.status.busy": "2023-02-11T00:49:20.413974Z",
     "iopub.status.idle": "2023-02-11T01:46:31.812206Z",
     "shell.execute_reply": "2023-02-11T01:46:31.811130Z",
     "shell.execute_reply.started": "2022-08-07T04:12:47.949048Z"
    },
    "papermill": {
     "duration": 3431.417193,
     "end_time": "2023-02-11T01:46:31.812407",
     "exception": false,
     "start_time": "2023-02-11T00:49:20.395214",
     "status": "completed"
    },
    "tags": []
   },
   "outputs": [
    {
     "name": "stdout",
     "output_type": "stream",
     "text": [
      "Epoch 1/50\n",
      "902/902 - 2802s - loss: 0.5480 - accuracy: 0.7511 - val_loss: 0.7495 - val_accuracy: 0.4021\n",
      "Epoch 2/50\n",
      "902/902 - 12s - loss: 0.5500 - accuracy: 0.7484 - val_loss: 1.1723 - val_accuracy: 0.4021\n",
      "Epoch 3/50\n",
      "902/902 - 12s - loss: 0.5478 - accuracy: 0.7505 - val_loss: 0.5402 - val_accuracy: 0.7577\n",
      "Epoch 4/50\n",
      "902/902 - 12s - loss: 0.5478 - accuracy: 0.7454 - val_loss: 0.5268 - val_accuracy: 0.7559\n",
      "Epoch 5/50\n",
      "902/902 - 12s - loss: 0.5462 - accuracy: 0.7508 - val_loss: 3.1327 - val_accuracy: 0.4021\n",
      "Epoch 6/50\n",
      "902/902 - 13s - loss: 0.5467 - accuracy: 0.7488 - val_loss: 0.5545 - val_accuracy: 0.7575\n",
      "Epoch 7/50\n",
      "902/902 - 14s - loss: 0.5447 - accuracy: 0.7494 - val_loss: 0.5273 - val_accuracy: 0.7550\n",
      "Epoch 8/50\n",
      "902/902 - 13s - loss: 0.5414 - accuracy: 0.7535 - val_loss: 0.8712 - val_accuracy: 0.4021\n",
      "Epoch 9/50\n",
      "902/902 - 13s - loss: 0.5382 - accuracy: 0.7580 - val_loss: 0.8210 - val_accuracy: 0.7726\n",
      "Epoch 10/50\n",
      "902/902 - 13s - loss: 0.5294 - accuracy: 0.7680 - val_loss: 0.5449 - val_accuracy: 0.7680\n",
      "Epoch 11/50\n",
      "902/902 - 12s - loss: 0.5275 - accuracy: 0.7662 - val_loss: 0.5078 - val_accuracy: 0.7777\n",
      "Epoch 12/50\n",
      "902/902 - 12s - loss: 0.5230 - accuracy: 0.7621 - val_loss: 0.5030 - val_accuracy: 0.7757\n",
      "Epoch 13/50\n",
      "902/902 - 13s - loss: 0.5225 - accuracy: 0.7599 - val_loss: 0.5976 - val_accuracy: 0.7748\n",
      "Epoch 14/50\n",
      "902/902 - 13s - loss: 0.5186 - accuracy: 0.7603 - val_loss: 0.4894 - val_accuracy: 0.7780\n",
      "Epoch 15/50\n",
      "902/902 - 13s - loss: 0.5152 - accuracy: 0.7602 - val_loss: 0.5582 - val_accuracy: 0.7740\n",
      "Epoch 16/50\n",
      "902/902 - 13s - loss: 0.5208 - accuracy: 0.7599 - val_loss: 0.4904 - val_accuracy: 0.7787\n",
      "Epoch 17/50\n",
      "902/902 - 13s - loss: 0.5174 - accuracy: 0.7590 - val_loss: 0.5491 - val_accuracy: 0.7768\n",
      "Epoch 18/50\n",
      "902/902 - 13s - loss: 0.5123 - accuracy: 0.7610 - val_loss: 0.4892 - val_accuracy: 0.7778\n",
      "Epoch 19/50\n",
      "902/902 - 14s - loss: 0.5123 - accuracy: 0.7595 - val_loss: 0.4939 - val_accuracy: 0.7771\n",
      "Epoch 20/50\n",
      "902/902 - 13s - loss: 0.5120 - accuracy: 0.7625 - val_loss: 0.4739 - val_accuracy: 0.7796\n",
      "Epoch 21/50\n",
      "902/902 - 13s - loss: 0.5141 - accuracy: 0.7584 - val_loss: 0.4739 - val_accuracy: 0.7796\n",
      "Epoch 22/50\n",
      "902/902 - 13s - loss: 0.5074 - accuracy: 0.7611 - val_loss: 0.5301 - val_accuracy: 0.7740\n",
      "Epoch 23/50\n",
      "902/902 - 13s - loss: 0.5083 - accuracy: 0.7615 - val_loss: 0.4699 - val_accuracy: 0.7802\n",
      "Epoch 24/50\n",
      "902/902 - 13s - loss: 0.5054 - accuracy: 0.7652 - val_loss: 0.4834 - val_accuracy: 0.7794\n",
      "Epoch 25/50\n",
      "902/902 - 13s - loss: 0.5187 - accuracy: 0.7589 - val_loss: 0.5025 - val_accuracy: 0.7759\n",
      "Epoch 26/50\n",
      "902/902 - 13s - loss: 0.5072 - accuracy: 0.7610 - val_loss: 0.4720 - val_accuracy: 0.7775\n",
      "Epoch 27/50\n",
      "902/902 - 12s - loss: 0.5065 - accuracy: 0.7607 - val_loss: 0.4669 - val_accuracy: 0.7804\n",
      "Epoch 28/50\n",
      "902/902 - 13s - loss: 0.5078 - accuracy: 0.7644 - val_loss: 0.4860 - val_accuracy: 0.7761\n",
      "Epoch 29/50\n",
      "902/902 - 13s - loss: 0.5134 - accuracy: 0.7565 - val_loss: 0.4801 - val_accuracy: 0.7755\n",
      "Epoch 30/50\n",
      "902/902 - 13s - loss: 0.5099 - accuracy: 0.7596 - val_loss: 0.4712 - val_accuracy: 0.7793\n",
      "Epoch 31/50\n",
      "902/902 - 13s - loss: 0.5099 - accuracy: 0.7616 - val_loss: 0.4721 - val_accuracy: 0.7779\n",
      "Epoch 32/50\n",
      "902/902 - 13s - loss: 0.5065 - accuracy: 0.7630 - val_loss: 0.4749 - val_accuracy: 0.7792\n",
      "Epoch 33/50\n",
      "902/902 - 12s - loss: 0.5111 - accuracy: 0.7641 - val_loss: 0.4736 - val_accuracy: 0.7784\n",
      "Epoch 34/50\n",
      "902/902 - 12s - loss: 0.5118 - accuracy: 0.7634 - val_loss: 0.5025 - val_accuracy: 0.7730\n",
      "Epoch 35/50\n",
      "902/902 - 13s - loss: 0.5236 - accuracy: 0.7631 - val_loss: 0.4992 - val_accuracy: 0.7779\n",
      "Epoch 36/50\n",
      "902/902 - 13s - loss: 0.5141 - accuracy: 0.7590 - val_loss: 0.4889 - val_accuracy: 0.7780\n",
      "Epoch 37/50\n",
      "902/902 - 13s - loss: 0.5150 - accuracy: 0.7593 - val_loss: 0.4827 - val_accuracy: 0.7770\n",
      "Epoch 38/50\n",
      "902/902 - 13s - loss: 0.5126 - accuracy: 0.7597 - val_loss: 0.4823 - val_accuracy: 0.7767\n",
      "Epoch 39/50\n",
      "902/902 - 13s - loss: 0.5129 - accuracy: 0.7613 - val_loss: 0.4868 - val_accuracy: 0.7767\n",
      "Epoch 40/50\n",
      "902/902 - 13s - loss: 0.5102 - accuracy: 0.7597 - val_loss: 0.4875 - val_accuracy: 0.7776\n",
      "Epoch 41/50\n",
      "902/902 - 13s - loss: 0.5140 - accuracy: 0.7585 - val_loss: 0.4795 - val_accuracy: 0.7761\n",
      "Epoch 42/50\n",
      "902/902 - 14s - loss: 0.5143 - accuracy: 0.7602 - val_loss: 0.4758 - val_accuracy: 0.7774\n",
      "Epoch 43/50\n",
      "902/902 - 13s - loss: 0.5118 - accuracy: 0.7605 - val_loss: 0.4768 - val_accuracy: 0.7754\n",
      "Epoch 44/50\n",
      "902/902 - 13s - loss: 0.5152 - accuracy: 0.7574 - val_loss: 0.4894 - val_accuracy: 0.7765\n",
      "Epoch 45/50\n",
      "902/902 - 12s - loss: 0.5209 - accuracy: 0.7576 - val_loss: 0.8362 - val_accuracy: 0.7579\n",
      "Epoch 46/50\n",
      "902/902 - 13s - loss: 0.5167 - accuracy: 0.7593 - val_loss: 0.4894 - val_accuracy: 0.7777\n",
      "Epoch 47/50\n",
      "902/902 - 13s - loss: 0.5176 - accuracy: 0.7588 - val_loss: 0.5034 - val_accuracy: 0.7736\n",
      "Epoch 48/50\n",
      "902/902 - 12s - loss: 0.5144 - accuracy: 0.7614 - val_loss: 0.5119 - val_accuracy: 0.7748\n",
      "Epoch 49/50\n",
      "902/902 - 12s - loss: 0.5186 - accuracy: 0.7621 - val_loss: 0.4979 - val_accuracy: 0.7736\n",
      "Epoch 50/50\n",
      "902/902 - 13s - loss: 0.5116 - accuracy: 0.7584 - val_loss: 0.4792 - val_accuracy: 0.7755\n"
     ]
    }
   ],
   "source": [
    "lrs = LearningRateScheduler(lrfn)  \n",
    "mc = ModelCheckpoint('weights.h5', save_best_only=True, save_weights_only=True)\n",
    "steps_per_epoch = len(y_train) // BATCH_SIZE\n",
    "\n",
    "hist = model.fit(train_dataset, epochs=EPOCHS, steps_per_epoch=steps_per_epoch, callbacks=[lrs, mc], \n",
    "                 validation_data=valid_dataset, verbose=2)"
   ]
  },
  {
   "cell_type": "code",
   "execution_count": 8,
   "id": "9cd72c81",
   "metadata": {
    "execution": {
     "iopub.execute_input": "2023-02-11T01:46:31.906988Z",
     "iopub.status.busy": "2023-02-11T01:46:31.906263Z",
     "iopub.status.idle": "2023-02-11T01:46:32.141388Z",
     "shell.execute_reply": "2023-02-11T01:46:32.141969Z",
     "shell.execute_reply.started": "2022-08-07T05:31:46.463556Z"
    },
    "papermill": {
     "duration": 0.289727,
     "end_time": "2023-02-11T01:46:32.142158",
     "exception": false,
     "start_time": "2023-02-11T01:46:31.852431",
     "status": "completed"
    },
    "tags": []
   },
   "outputs": [
    {
     "data": {
      "image/png": "[encoded data removed]",
      "text/plain": [
       "<Figure size 432x288 with 1 Axes>"
      ]
     },
     "metadata": {
      "needs_background": "light"
     },
     "output_type": "display_data"
    }
   ],
   "source": [
    "plot_hist(hist)"
   ]
  },
  {
   "cell_type": "code",
   "execution_count": 9,
   "id": "31c611be",
   "metadata": {
    "execution": {
     "iopub.execute_input": "2023-02-11T01:46:32.243783Z",
     "iopub.status.busy": "2023-02-11T01:46:32.243007Z",
     "iopub.status.idle": "2023-02-11T01:57:24.108962Z",
     "shell.execute_reply": "2023-02-11T01:57:24.109507Z",
     "shell.execute_reply.started": "2022-08-07T05:31:46.659622Z"
    },
    "papermill": {
     "duration": 651.926569,
     "end_time": "2023-02-11T01:57:24.109698",
     "exception": false,
     "start_time": "2023-02-11T01:46:32.183129",
     "status": "completed"
    },
    "tags": []
   },
   "outputs": [
    {
     "name": "stdout",
     "output_type": "stream",
     "text": [
      "              precision    recall  f1-score   support\n",
      "\n",
      "           0     0.7319    0.9792    0.8377     11426\n",
      "           1     0.9399    0.4760    0.6320      7821\n",
      "\n",
      "    accuracy                         0.7747     19247\n",
      "   macro avg     0.8359    0.7276    0.7348     19247\n",
      "weighted avg     0.8164    0.7747    0.7541     19247\n",
      "\n",
      "[[11188   238]\n",
      " [ 4098  3723]]\n",
      "      TPR       FPR       FNR   ROC AUC\n",
      "   0.4760    0.0208    0.5240    0.8069\n"
     ]
    }
   ],
   "source": [
    "with strategy.scope():\n",
    "    model.load_weights('weights.h5')\n",
    "\n",
    "y_prob = model.predict(test_dataset)\n",
    "y_pred = np.argmax(y_prob, axis=1)\n",
    "\n",
    "clf_report = metrics.classification_report(y_test, y_pred, digits=4)\n",
    "cnf_matrix = metrics.confusion_matrix(y_test, y_pred)\n",
    "TN, FP, FN, TP = cnf_matrix.ravel()\n",
    "TPR = TP / (TP + FN)\n",
    "FPR = FP / (FP + TN)\n",
    "FNR = FN / (FN + TP)\n",
    "fpr, tpr, _ = metrics.roc_curve(y_test, y_prob[:, 1])\n",
    "auc = metrics.roc_auc_score(y_test, y_prob[:, 1])\n",
    "other_metrics = pd.DataFrame({'TPR': '%.4f' % TPR, \n",
    "                              'FPR': '%.4f' % FPR, \n",
    "                              'FNR': '%.4f' % FNR, \n",
    "                              'ROC AUC': '%.4f' % auc}, index=[0]).to_string(col_space=9, index=False)\n",
    "print(clf_report)\n",
    "print(cnf_matrix)\n",
    "print(other_metrics)"
   ]
  }
 ],
 "metadata": {
  "kernelspec": {
   "display_name": "Python 3",
   "language": "python",
   "name": "python3"
  },
  "language_info": {
   "codemirror_mode": {
    "name": "ipython",
    "version": 3
   },
   "file_extension": ".py",
   "mimetype": "text/x-python",
   "name": "python",
   "nbconvert_exporter": "python",
   "pygments_lexer": "ipython3",
   "version": "3.7.10"
  },
  "papermill": {
   "default_parameters": {},
   "duration": 4165.054364,
   "end_time": "2023-02-11T01:57:27.139515",
   "environment_variables": {},
   "exception": null,
   "input_path": "__notebook__.ipynb",
   "output_path": "__notebook__.ipynb",
   "parameters": {},
   "start_time": "2023-02-11T00:48:02.085151",
   "version": "2.3.3"
  },
  "widgets": {
   "application/vnd.jupyter.widget-state+json": {
    "state": {
     "082a8d4cd0ba4ccebfebe248d3f6f568": {
      "model_module": "@jupyter-widgets/base",
      "model_module_version": "1.2.0",
      "model_name": "LayoutModel",
      "state": {
       "_model_module": "@jupyter-widgets/base",
       "_model_module_version": "1.2.0",
       "_model_name": "LayoutModel",
       "_view_count": null,
       "_view_module": "@jupyter-widgets/base",
       "_view_module_version": "1.2.0",
       "_view_name": "LayoutView",
       "align_content": null,
       "align_items": null,
       "align_self": null,
       "border": null,
       "bottom": null,
       "display": null,
       "flex": null,
       "flex_flow": null,
       "grid_area": null,
       "grid_auto_columns": null,
       "grid_auto_flow": null,
       "grid_auto_rows": null,
       "grid_column": null,
       "grid_gap": null,
       "grid_row": null,
       "grid_template_areas": null,
       "grid_template_columns": null,
       "grid_template_rows": null,
       "height": null,
       "justify_content": null,
       "justify_items": null,
       "left": null,
       "margin": null,
       "max_height": null,
       "max_width": null,
       "min_height": null,
       "min_width": null,
       "object_fit": null,
       "object_position": null,
       "order": null,
       "overflow": null,
       "overflow_x": null,
       "overflow_y": null,
       "padding": null,
       "right": null,
       "top": null,
       "visibility": null,
       "width": null
      }
     },
     "20353e9f400142fcb9a4395c5ce4e7c9": {
      "model_module": "@jupyter-widgets/controls",
      "model_module_version": "1.5.0",
      "model_name": "HTMLModel",
      "state": {
       "_dom_classes": [],
       "_model_module": "@jupyter-widgets/controls",
       "_model_module_version": "1.5.0",
       "_model_name": "HTMLModel",
       "_view_count": null,
       "_view_module": "@jupyter-widgets/controls",
       "_view_module_version": "1.5.0",
       "_view_name": "HTMLView",
       "description": "",
       "description_tooltip": null,
       "layout": "IPY_MODEL_3f9bfcf4380342698bc5f070d58952b8",
       "placeholder": "​",
       "style": "IPY_MODEL_a2f7bb360a20438a9b397f56dfd7d40e",
       "value": " 96234/96234 [00:44&lt;00:00, 2135.02it/s]"
      }
     },
     "3f9bfcf4380342698bc5f070d58952b8": {
      "model_module": "@jupyter-widgets/base",
      "model_module_version": "1.2.0",
      "model_name": "LayoutModel",
      "state": {
       "_model_module": "@jupyter-widgets/base",
       "_model_module_version": "1.2.0",
       "_model_name": "LayoutModel",
       "_view_count": null,
       "_view_module": "@jupyter-widgets/base",
       "_view_module_version": "1.2.0",
       "_view_name": "LayoutView",
       "align_content": null,
       "align_items": null,
       "align_self": null,
       "border": null,
       "bottom": null,
       "display": null,
       "flex": null,
       "flex_flow": null,
       "grid_area": null,
       "grid_auto_columns": null,
       "grid_auto_flow": null,
       "grid_auto_rows": null,
       "grid_column": null,
       "grid_gap": null,
       "grid_row": null,
       "grid_template_areas": null,
       "grid_template_columns": null,
       "grid_template_rows": null,
       "height": null,
       "justify_content": null,
       "justify_items": null,
       "left": null,
       "margin": null,
       "max_height": null,
       "max_width": null,
       "min_height": null,
       "min_width": null,
       "object_fit": null,
       "object_position": null,
       "order": null,
       "overflow": null,
       "overflow_x": null,
       "overflow_y": null,
       "padding": null,
       "right": null,
       "top": null,
       "visibility": null,
       "width": null
      }
     },
     "4037e306a18a460f97d57c85d8d48cba": {
      "model_module": "@jupyter-widgets/controls",
      "model_module_version": "1.5.0",
      "model_name": "FloatProgressModel",
      "state": {
       "_dom_classes": [],
       "_model_module": "@jupyter-widgets/controls",
       "_model_module_version": "1.5.0",
       "_model_name": "FloatProgressModel",
       "_view_count": null,
       "_view_module": "@jupyter-widgets/controls",
       "_view_module_version": "1.5.0",
       "_view_name": "ProgressView",
       "bar_style": "success",
       "description": "",
       "description_tooltip": null,
       "layout": "IPY_MODEL_f105cd3754dc4dd6a5fbcf448dfc00e8",
       "max": 96234.0,
       "min": 0.0,
       "orientation": "horizontal",
       "style": "IPY_MODEL_8f66c1aae08241d3b32ae714052e2367",
       "value": 96234.0
      }
     },
     "4e155355346a461187e58512bb47c2a9": {
      "model_module": "@jupyter-widgets/controls",
      "model_module_version": "1.5.0",
      "model_name": "HBoxModel",
      "state": {
       "_dom_classes": [],
       "_model_module": "@jupyter-widgets/controls",
       "_model_module_version": "1.5.0",
       "_model_name": "HBoxModel",
       "_view_count": null,
       "_view_module": "@jupyter-widgets/controls",
       "_view_module_version": "1.5.0",
       "_view_name": "HBoxView",
       "box_style": "",
       "children": [
        "IPY_MODEL_90d49d1c3f0f424ab474dc6238aa36d6",
        "IPY_MODEL_4037e306a18a460f97d57c85d8d48cba",
        "IPY_MODEL_20353e9f400142fcb9a4395c5ce4e7c9"
       ],
       "layout": "IPY_MODEL_675193bce2614ce0a9f7406461ba0d5b"
      }
     },
     "675193bce2614ce0a9f7406461ba0d5b": {
      "model_module": "@jupyter-widgets/base",
      "model_module_version": "1.2.0",
      "model_name": "LayoutModel",
      "state": {
       "_model_module": "@jupyter-widgets/base",
       "_model_module_version": "1.2.0",
       "_model_name": "LayoutModel",
       "_view_count": null,
       "_view_module": "@jupyter-widgets/base",
       "_view_module_version": "1.2.0",
       "_view_name": "LayoutView",
       "align_content": null,
       "align_items": null,
       "align_self": null,
       "border": null,
       "bottom": null,
       "display": null,
       "flex": null,
       "flex_flow": null,
       "grid_area": null,
       "grid_auto_columns": null,
       "grid_auto_flow": null,
       "grid_auto_rows": null,
       "grid_column": null,
       "grid_gap": null,
       "grid_row": null,
       "grid_template_areas": null,
       "grid_template_columns": null,
       "grid_template_rows": null,
       "height": null,
       "justify_content": null,
       "justify_items": null,
       "left": null,
       "margin": null,
       "max_height": null,
       "max_width": null,
       "min_height": null,
       "min_width": null,
       "object_fit": null,
       "object_position": null,
       "order": null,
       "overflow": null,
       "overflow_x": null,
       "overflow_y": null,
       "padding": null,
       "right": null,
       "top": null,
       "visibility": null,
       "width": null
      }
     },
     "8f66c1aae08241d3b32ae714052e2367": {
      "model_module": "@jupyter-widgets/controls",
      "model_module_version": "1.5.0",
      "model_name": "ProgressStyleModel",
      "state": {
       "_model_module": "@jupyter-widgets/controls",
       "_model_module_version": "1.5.0",
       "_model_name": "ProgressStyleModel",
       "_view_count": null,
       "_view_module": "@jupyter-widgets/base",
       "_view_module_version": "1.2.0",
       "_view_name": "StyleView",
       "bar_color": null,
       "description_width": ""
      }
     },
     "90d49d1c3f0f424ab474dc6238aa36d6": {
      "model_module": "@jupyter-widgets/controls",
      "model_module_version": "1.5.0",
      "model_name": "HTMLModel",
      "state": {
       "_dom_classes": [],
       "_model_module": "@jupyter-widgets/controls",
       "_model_module_version": "1.5.0",
       "_model_name": "HTMLModel",
       "_view_count": null,
       "_view_module": "@jupyter-widgets/controls",
       "_view_module_version": "1.5.0",
       "_view_name": "HTMLView",
       "description": "",
       "description_tooltip": null,
       "layout": "IPY_MODEL_082a8d4cd0ba4ccebfebe248d3f6f568",
       "placeholder": "​",
       "style": "IPY_MODEL_f05b1cf6c4b943be9ace12a564a26984",
       "value": "100%"
      }
     },
     "a2f7bb360a20438a9b397f56dfd7d40e": {
      "model_module": "@jupyter-widgets/controls",
      "model_module_version": "1.5.0",
      "model_name": "DescriptionStyleModel",
      "state": {
       "_model_module": "@jupyter-widgets/controls",
       "_model_module_version": "1.5.0",
       "_model_name": "DescriptionStyleModel",
       "_view_count": null,
       "_view_module": "@jupyter-widgets/base",
       "_view_module_version": "1.2.0",
       "_view_name": "StyleView",
       "description_width": ""
      }
     },
     "f05b1cf6c4b943be9ace12a564a26984": {
      "model_module": "@jupyter-widgets/controls",
      "model_module_version": "1.5.0",
      "model_name": "DescriptionStyleModel",
      "state": {
       "_model_module": "@jupyter-widgets/controls",
       "_model_module_version": "1.5.0",
       "_model_name": "DescriptionStyleModel",
       "_view_count": null,
       "_view_module": "@jupyter-widgets/base",
       "_view_module_version": "1.2.0",
       "_view_name": "StyleView",
       "description_width": ""
      }
     },
     "f105cd3754dc4dd6a5fbcf448dfc00e8": {
      "model_module": "@jupyter-widgets/base",
      "model_module_version": "1.2.0",
      "model_name": "LayoutModel",
      "state": {
       "_model_module": "@jupyter-widgets/base",
       "_model_module_version": "1.2.0",
       "_model_name": "LayoutModel",
       "_view_count": null,
       "_view_module": "@jupyter-widgets/base",
       "_view_module_version": "1.2.0",
       "_view_name": "LayoutView",
       "align_content": null,
       "align_items": null,
       "align_self": null,
       "border": null,
       "bottom": null,
       "display": null,
       "flex": null,
       "flex_flow": null,
       "grid_area": null,
       "grid_auto_columns": null,
       "grid_auto_flow": null,
       "grid_auto_rows": null,
       "grid_column": null,
       "grid_gap": null,
       "grid_row": null,
       "grid_template_areas": null,
       "grid_template_columns": null,
       "grid_template_rows": null,
       "height": null,
       "justify_content": null,
       "justify_items": null,
       "left": null,
       "margin": null,
       "max_height": null,
       "max_width": null,
       "min_height": null,
       "min_width": null,
       "object_fit": null,
       "object_position": null,
       "order": null,
       "overflow": null,
       "overflow_x": null,
       "overflow_y": null,
       "padding": null,
       "right": null,
       "top": null,
       "visibility": null,
       "width": null
      }
     }
    },
    "version_major": 2,
    "version_minor": 0
   }
  }
 },
 "nbformat": 4,
 "nbformat_minor": 5
}
